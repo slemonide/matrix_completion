{
 "cells": [
  {
   "cell_type": "code",
   "execution_count": 1,
   "metadata": {},
   "outputs": [],
   "source": [
    "import numpy as np\n",
    "import matplotlib.pyplot as plt"
   ]
  },
  {
   "cell_type": "code",
   "execution_count": 5,
   "metadata": {},
   "outputs": [],
   "source": [
    "def obj_func(m):\n",
    "    svd = np.linalg.svd(m, compute_uv=False)\n",
    "\n",
    "    return np.sum(svd[2:]) "
   ]
  },
  {
   "cell_type": "code",
   "execution_count": 44,
   "metadata": {},
   "outputs": [],
   "source": [
    "\n",
    "def get_min_knowns(n,prev_knowns=1):\n",
    "    \n",
    "    rank = 2\n",
    "\n",
    "    U = np.random.randn(n, rank)\n",
    "    V = np.random.randn(n, rank)\n",
    "    original = np.dot(U, V.T)\n",
    "\n",
    "    for knowns in range(np.max([prev_knowns - 20, 1]), n*n):\n",
    "        max_steps = 100000\n",
    "        threshold = 1 # distance between solution and answer when they are considered the same\n",
    "\n",
    "        unknowns = n*n - knowns\n",
    "\n",
    "        #print('>',n*n, unknowns)\n",
    "        \n",
    "        mask = np.array([0] * unknowns + [1] * (n*n - unknowns))\n",
    "        np.random.shuffle(mask)\n",
    "        mask = np.reshape(mask, [n,n])\n",
    "        mask = np.ma.make_mask(mask)\n",
    "\n",
    "\n",
    "        \n",
    "        # First try Newton's method:\n",
    "\n",
    "        def comp_grad(m, boolMask, obj_func):\n",
    "            \"\"\" Computes gradient that maximizes the objective function \"\"\"\n",
    "            epsilon = 1e-3\n",
    "\n",
    "            # Yes, grad is a vector now\n",
    "            grad = []\n",
    "\n",
    "            for i in range(n):\n",
    "                for j in range(n):\n",
    "                    if boolMask[i,j] and np.random.random() > 1 - portion:\n",
    "                        diff = np.zeros([n,n])\n",
    "                        diff[i,j] = epsilon\n",
    "                        grad.append((obj_func(m + diff) - obj_func(m - diff))/(2*epsilon))\n",
    "\n",
    "            return grad\n",
    "\n",
    "        def comp_hessian(m, boolMask, of):\n",
    "            \"\"\" Computes hessian (only diagonal) \"\"\"\n",
    "            epsilon = 1e-3\n",
    "\n",
    "            hessian = []\n",
    "\n",
    "            for i in range(n):\n",
    "                for j in range(n):\n",
    "                    if boolMask[i,j]:\n",
    "                        row = []\n",
    "\n",
    "                        diff = np.zeros([n,n])\n",
    "                        diff[i,j] = epsilon\n",
    "                        hessian.append((of(m + diff) + of(m - diff) - 2*of(m))/epsilon**2)\n",
    "\n",
    "            return hessian\n",
    "\n",
    "\n",
    "        starting_point = np.copy(original)\n",
    "\n",
    "        boolMask = np.ma.make_mask(np.where(np.array(mask) < 0.5, 1, 0))\n",
    "        starting_point[boolMask] = 0\n",
    "\n",
    "        prev_norm = np.linalg.norm(starting_point,'nuc')\n",
    "\n",
    "        norms = []\n",
    "        distances = []\n",
    "        sing_vals = []\n",
    "\n",
    "        current_point = starting_point\n",
    "\n",
    "        #pl.imshow(np.abs((current_point-original)/original), cmap=plt.get_cmap('hot'),\n",
    "        #          interpolation='nearest', vmin=0, vmax=1)\n",
    "        #pl.colorbar()\n",
    "\n",
    "\n",
    "        initial_s = 4\n",
    "        s = 4\n",
    "        portion = 1.1\n",
    "        for i in range(max_steps):\n",
    "            cur_norm = np.linalg.norm(current_point,'nuc')\n",
    "            norms.append(cur_norm)\n",
    "            sing_vals.append(np.linalg.svd(current_point, compute_uv=False))\n",
    "            distances.append(np.linalg.norm(current_point-original,'fro'))\n",
    "            diff = cur_norm - prev_norm\n",
    "\n",
    "            # portion really should depend on s since smaller s implies the need of a more accurate gradient estimate\n",
    "            #portion = 1 - np.exp(-1/(20*s))\n",
    "            #if i % 1000 == 0:\n",
    "            #print(i, cur_norm, diff, np.linalg.norm(current_point-original,'fro'), initial_s, s, portion)\n",
    "            prev_norm = cur_norm\n",
    "            \n",
    "            if np.linalg.norm(current_point-original,'fro') < threshold:\n",
    "                return knowns\n",
    "            \n",
    "            if diff >= 0 and i > 1:\n",
    "                break\n",
    "\n",
    "            ### slowest part of the code ###\n",
    "            descent = np.linalg.lstsq(np.diag(comp_hessian(current_point,boolMask,obj_func)),\n",
    "               comp_grad(current_point,boolMask,obj_func), rcond=None)[0]\n",
    "\n",
    "            descent_matrix = np.zeros([n,n])\n",
    "            count = 0\n",
    "            for i in range(n):\n",
    "                for j in range(n):\n",
    "                    if boolMask[i,j]:\n",
    "                        descent_matrix[i,j] = descent[count]\n",
    "                        count = count + 1\n",
    "\n",
    "            reg = 0.39\n",
    "            next_point = current_point - reg*descent_matrix\n",
    "\n",
    "            current_point = next_point\n",
    "\n",
    "        # Next try gradient descent:\n",
    "        \n",
    "        def comp_grad(m,boolMask):\n",
    "            \"\"\" Computes gradient that maximizes the objective function \"\"\"\n",
    "            epsilon = 1e-3\n",
    "\n",
    "            grad = np.zeros([n,n])\n",
    "\n",
    "            for i in range(n):\n",
    "                for j in range(n):\n",
    "                    if boolMask[i,j]:\n",
    "                        diff = np.zeros([n,n])\n",
    "                        diff[i,j] = epsilon\n",
    "                        grad[i,j] = (obj_func(m + diff) - obj_func(m - diff))/(2*epsilon)\n",
    "\n",
    "            return grad\n",
    "        \n",
    "        def line_search(point, grad, obj_func, s = 4, threshold = 1e-10):\n",
    "            \"\"\" Finds a maximum step size that maximizes the descent (since computing gradient is hard) \"\"\"\n",
    "\n",
    "            choice = point - grad * s\n",
    "            while obj_func(choice) > obj_func(point):\n",
    "                s = s / 2\n",
    "                choice = point - grad * s\n",
    "\n",
    "            initial_s = s\n",
    "\n",
    "            while True:\n",
    "                left = choice + grad * s/2\n",
    "                right = point - grad * s/2\n",
    "\n",
    "                s = s / 2\n",
    "                if obj_func(left) < obj_func(right):\n",
    "                    choice = left\n",
    "                else:\n",
    "                    choice = right\n",
    "\n",
    "                if np.abs(obj_func(left) - obj_func(right)) < threshold:\n",
    "                    break\n",
    "\n",
    "            return (choice, initial_s, s)\n",
    "\n",
    "        starting_point = np.copy(original)\n",
    "\n",
    "        boolMask = np.ma.make_mask(np.where(np.array(mask) < 0.5, 1, 0))\n",
    "        starting_point[boolMask] = 0\n",
    "\n",
    "        prev_norm = np.linalg.norm(starting_point,'nuc')\n",
    "\n",
    "        norms = []\n",
    "        distances = []\n",
    "        sing_vals = []\n",
    "\n",
    "        current_point = starting_point\n",
    "\n",
    "        initial_s = 4\n",
    "        s = 4\n",
    "        portion = 1.1\n",
    "        for i in range(threshold):\n",
    "            cur_norm = np.linalg.norm(current_point,'nuc')\n",
    "            norms.append(cur_norm)\n",
    "            sing_vals.append(np.linalg.svd(current_point, compute_uv=False))\n",
    "            distances.append(np.linalg.norm(current_point-original,'fro'))\n",
    "            diff = cur_norm - prev_norm\n",
    "\n",
    "            #print(i, cur_norm, diff, np.linalg.norm(current_point-original,'fro'))\n",
    "            prev_norm = cur_norm\n",
    "            \n",
    "            if np.linalg.norm(current_point-original,'fro') < threshold:\n",
    "                return knowns\n",
    "            \n",
    "            if diff >= 0 and i > 1:\n",
    "                break\n",
    "\n",
    "            ### slowest part of the code ###\n",
    "            grad = comp_grad(current_point,boolMask)\n",
    "            current_point, initial_s, s = line_search(current_point, grad, obj_func, s = initial_s)\n",
    "\n",
    "    return False"
   ]
  },
  {
   "cell_type": "code",
   "execution_count": 45,
   "metadata": {},
   "outputs": [
    {
     "data": {
      "text/plain": [
       "15"
      ]
     },
     "execution_count": 45,
     "metadata": {},
     "output_type": "execute_result"
    }
   ],
   "source": [
    "get_min_knowns(4)"
   ]
  },
  {
   "cell_type": "code",
   "execution_count": 40,
   "metadata": {
    "scrolled": false
   },
   "outputs": [
    {
     "name": "stdout",
     "output_type": "stream",
     "text": [
      "4 15\n",
      "5 23\n",
      "7 48\n",
      "8 62\n",
      "9 77\n",
      "10 98\n",
      "11 119\n",
      "12 142\n",
      "13 166\n",
      "14 195\n",
      "15 224\n",
      "16 252\n",
      "17 285\n",
      "18 321\n",
      "19 355\n",
      "20 399\n",
      "21 437\n",
      "22 482\n",
      "23 525\n",
      "24 575\n",
      "25 624\n",
      "26 674\n",
      "27 727\n",
      "29 836\n",
      "30 898\n",
      "31 958\n",
      "32 1023\n",
      "33 1087\n",
      "34 1154\n",
      "35 1224\n"
     ]
    },
    {
     "ename": "KeyboardInterrupt",
     "evalue": "",
     "output_type": "error",
     "traceback": [
      "\u001b[0;31m---------------------------------------------------------------------------\u001b[0m",
      "\u001b[0;31mKeyboardInterrupt\u001b[0m                         Traceback (most recent call last)",
      "\u001b[0;32m<ipython-input-40-672bb2aeb48b>\u001b[0m in \u001b[0;36m<module>\u001b[0;34m\u001b[0m\n\u001b[1;32m      4\u001b[0m \u001b[0mprev\u001b[0m \u001b[0;34m=\u001b[0m \u001b[0;36m1\u001b[0m\u001b[0;34m\u001b[0m\u001b[0;34m\u001b[0m\u001b[0m\n\u001b[1;32m      5\u001b[0m \u001b[0;32mfor\u001b[0m \u001b[0mn\u001b[0m \u001b[0;32min\u001b[0m \u001b[0mrange\u001b[0m\u001b[0;34m(\u001b[0m\u001b[0;36m4\u001b[0m\u001b[0;34m,\u001b[0m\u001b[0;36m10000\u001b[0m\u001b[0;34m)\u001b[0m\u001b[0;34m:\u001b[0m\u001b[0;34m\u001b[0m\u001b[0;34m\u001b[0m\u001b[0m\n\u001b[0;32m----> 6\u001b[0;31m     \u001b[0mmin_knowns\u001b[0m \u001b[0;34m=\u001b[0m \u001b[0mget_min_knowns\u001b[0m\u001b[0;34m(\u001b[0m\u001b[0mn\u001b[0m\u001b[0;34m,\u001b[0m \u001b[0mprev\u001b[0m\u001b[0;34m)\u001b[0m\u001b[0;34m\u001b[0m\u001b[0;34m\u001b[0m\u001b[0m\n\u001b[0m\u001b[1;32m      7\u001b[0m     \u001b[0;32mif\u001b[0m \u001b[0mmin_knowns\u001b[0m\u001b[0;34m:\u001b[0m\u001b[0;34m\u001b[0m\u001b[0;34m\u001b[0m\u001b[0m\n\u001b[1;32m      8\u001b[0m         \u001b[0mprev\u001b[0m \u001b[0;34m=\u001b[0m \u001b[0mmin_knowns\u001b[0m\u001b[0;34m\u001b[0m\u001b[0;34m\u001b[0m\u001b[0m\n",
      "\u001b[0;32m<ipython-input-38-290ad401ca1b>\u001b[0m in \u001b[0;36mget_min_knowns\u001b[0;34m(n, prev_knowns)\u001b[0m\n\u001b[1;32m    191\u001b[0m \u001b[0;34m\u001b[0m\u001b[0m\n\u001b[1;32m    192\u001b[0m             \u001b[0;31m### slowest part of the code ###\u001b[0m\u001b[0;34m\u001b[0m\u001b[0;34m\u001b[0m\u001b[0;34m\u001b[0m\u001b[0m\n\u001b[0;32m--> 193\u001b[0;31m             \u001b[0mgrad\u001b[0m \u001b[0;34m=\u001b[0m \u001b[0mcomp_grad\u001b[0m\u001b[0;34m(\u001b[0m\u001b[0mcurrent_point\u001b[0m\u001b[0;34m,\u001b[0m\u001b[0mboolMask\u001b[0m\u001b[0;34m)\u001b[0m\u001b[0;34m\u001b[0m\u001b[0;34m\u001b[0m\u001b[0m\n\u001b[0m\u001b[1;32m    194\u001b[0m             \u001b[0mcurrent_point\u001b[0m\u001b[0;34m,\u001b[0m \u001b[0minitial_s\u001b[0m\u001b[0;34m,\u001b[0m \u001b[0ms\u001b[0m \u001b[0;34m=\u001b[0m \u001b[0mline_search\u001b[0m\u001b[0;34m(\u001b[0m\u001b[0mcurrent_point\u001b[0m\u001b[0;34m,\u001b[0m \u001b[0mgrad\u001b[0m\u001b[0;34m,\u001b[0m \u001b[0mobj_func\u001b[0m\u001b[0;34m,\u001b[0m \u001b[0ms\u001b[0m \u001b[0;34m=\u001b[0m \u001b[0minitial_s\u001b[0m\u001b[0;34m)\u001b[0m\u001b[0;34m\u001b[0m\u001b[0;34m\u001b[0m\u001b[0m\n\u001b[1;32m    195\u001b[0m \u001b[0;34m\u001b[0m\u001b[0m\n",
      "\u001b[0;32m<ipython-input-38-290ad401ca1b>\u001b[0m in \u001b[0;36mcomp_grad\u001b[0;34m(m, boolMask)\u001b[0m\n\u001b[1;32m    129\u001b[0m                         \u001b[0mdiff\u001b[0m \u001b[0;34m=\u001b[0m \u001b[0mnp\u001b[0m\u001b[0;34m.\u001b[0m\u001b[0mzeros\u001b[0m\u001b[0;34m(\u001b[0m\u001b[0;34m[\u001b[0m\u001b[0mn\u001b[0m\u001b[0;34m,\u001b[0m\u001b[0mn\u001b[0m\u001b[0;34m]\u001b[0m\u001b[0;34m)\u001b[0m\u001b[0;34m\u001b[0m\u001b[0;34m\u001b[0m\u001b[0m\n\u001b[1;32m    130\u001b[0m                         \u001b[0mdiff\u001b[0m\u001b[0;34m[\u001b[0m\u001b[0mi\u001b[0m\u001b[0;34m,\u001b[0m\u001b[0mj\u001b[0m\u001b[0;34m]\u001b[0m \u001b[0;34m=\u001b[0m \u001b[0mepsilon\u001b[0m\u001b[0;34m\u001b[0m\u001b[0;34m\u001b[0m\u001b[0m\n\u001b[0;32m--> 131\u001b[0;31m                         \u001b[0mgrad\u001b[0m\u001b[0;34m[\u001b[0m\u001b[0mi\u001b[0m\u001b[0;34m,\u001b[0m\u001b[0mj\u001b[0m\u001b[0;34m]\u001b[0m \u001b[0;34m=\u001b[0m \u001b[0;34m(\u001b[0m\u001b[0mobj_func\u001b[0m\u001b[0;34m(\u001b[0m\u001b[0mm\u001b[0m \u001b[0;34m+\u001b[0m \u001b[0mdiff\u001b[0m\u001b[0;34m)\u001b[0m \u001b[0;34m-\u001b[0m \u001b[0mobj_func\u001b[0m\u001b[0;34m(\u001b[0m\u001b[0mm\u001b[0m \u001b[0;34m-\u001b[0m \u001b[0mdiff\u001b[0m\u001b[0;34m)\u001b[0m\u001b[0;34m)\u001b[0m\u001b[0;34m/\u001b[0m\u001b[0;34m(\u001b[0m\u001b[0;36m2\u001b[0m\u001b[0;34m*\u001b[0m\u001b[0mepsilon\u001b[0m\u001b[0;34m)\u001b[0m\u001b[0;34m\u001b[0m\u001b[0;34m\u001b[0m\u001b[0m\n\u001b[0m\u001b[1;32m    132\u001b[0m \u001b[0;34m\u001b[0m\u001b[0m\n\u001b[1;32m    133\u001b[0m             \u001b[0;32mreturn\u001b[0m \u001b[0mgrad\u001b[0m\u001b[0;34m\u001b[0m\u001b[0;34m\u001b[0m\u001b[0m\n",
      "\u001b[0;32m<ipython-input-5-6df0ce2dfc22>\u001b[0m in \u001b[0;36mobj_func\u001b[0;34m(m)\u001b[0m\n\u001b[1;32m      1\u001b[0m \u001b[0;32mdef\u001b[0m \u001b[0mobj_func\u001b[0m\u001b[0;34m(\u001b[0m\u001b[0mm\u001b[0m\u001b[0;34m)\u001b[0m\u001b[0;34m:\u001b[0m\u001b[0;34m\u001b[0m\u001b[0;34m\u001b[0m\u001b[0m\n\u001b[0;32m----> 2\u001b[0;31m     \u001b[0msvd\u001b[0m \u001b[0;34m=\u001b[0m \u001b[0mnp\u001b[0m\u001b[0;34m.\u001b[0m\u001b[0mlinalg\u001b[0m\u001b[0;34m.\u001b[0m\u001b[0msvd\u001b[0m\u001b[0;34m(\u001b[0m\u001b[0mm\u001b[0m\u001b[0;34m,\u001b[0m \u001b[0mcompute_uv\u001b[0m\u001b[0;34m=\u001b[0m\u001b[0;32mFalse\u001b[0m\u001b[0;34m)\u001b[0m\u001b[0;34m\u001b[0m\u001b[0;34m\u001b[0m\u001b[0m\n\u001b[0m\u001b[1;32m      3\u001b[0m \u001b[0;34m\u001b[0m\u001b[0m\n\u001b[1;32m      4\u001b[0m     \u001b[0;32mreturn\u001b[0m \u001b[0mnp\u001b[0m\u001b[0;34m.\u001b[0m\u001b[0msum\u001b[0m\u001b[0;34m(\u001b[0m\u001b[0msvd\u001b[0m\u001b[0;34m[\u001b[0m\u001b[0;36m2\u001b[0m\u001b[0;34m:\u001b[0m\u001b[0;34m]\u001b[0m\u001b[0;34m)\u001b[0m\u001b[0;34m\u001b[0m\u001b[0;34m\u001b[0m\u001b[0m\n",
      "\u001b[0;32m/opt/anaconda/lib/python3.7/site-packages/numpy/linalg/linalg.py\u001b[0m in \u001b[0;36msvd\u001b[0;34m(a, full_matrices, compute_uv)\u001b[0m\n\u001b[1;32m   1572\u001b[0m \u001b[0;34m\u001b[0m\u001b[0m\n\u001b[1;32m   1573\u001b[0m         \u001b[0msignature\u001b[0m \u001b[0;34m=\u001b[0m \u001b[0;34m'D->d'\u001b[0m \u001b[0;32mif\u001b[0m \u001b[0misComplexType\u001b[0m\u001b[0;34m(\u001b[0m\u001b[0mt\u001b[0m\u001b[0;34m)\u001b[0m \u001b[0;32melse\u001b[0m \u001b[0;34m'd->d'\u001b[0m\u001b[0;34m\u001b[0m\u001b[0;34m\u001b[0m\u001b[0m\n\u001b[0;32m-> 1574\u001b[0;31m         \u001b[0ms\u001b[0m \u001b[0;34m=\u001b[0m \u001b[0mgufunc\u001b[0m\u001b[0;34m(\u001b[0m\u001b[0ma\u001b[0m\u001b[0;34m,\u001b[0m \u001b[0msignature\u001b[0m\u001b[0;34m=\u001b[0m\u001b[0msignature\u001b[0m\u001b[0;34m,\u001b[0m \u001b[0mextobj\u001b[0m\u001b[0;34m=\u001b[0m\u001b[0mextobj\u001b[0m\u001b[0;34m)\u001b[0m\u001b[0;34m\u001b[0m\u001b[0;34m\u001b[0m\u001b[0m\n\u001b[0m\u001b[1;32m   1575\u001b[0m         \u001b[0ms\u001b[0m \u001b[0;34m=\u001b[0m \u001b[0ms\u001b[0m\u001b[0;34m.\u001b[0m\u001b[0mastype\u001b[0m\u001b[0;34m(\u001b[0m\u001b[0m_realType\u001b[0m\u001b[0;34m(\u001b[0m\u001b[0mresult_t\u001b[0m\u001b[0;34m)\u001b[0m\u001b[0;34m,\u001b[0m \u001b[0mcopy\u001b[0m\u001b[0;34m=\u001b[0m\u001b[0;32mFalse\u001b[0m\u001b[0;34m)\u001b[0m\u001b[0;34m\u001b[0m\u001b[0;34m\u001b[0m\u001b[0m\n\u001b[1;32m   1576\u001b[0m         \u001b[0;32mreturn\u001b[0m \u001b[0ms\u001b[0m\u001b[0;34m\u001b[0m\u001b[0;34m\u001b[0m\u001b[0m\n",
      "\u001b[0;31mKeyboardInterrupt\u001b[0m: "
     ]
    }
   ],
   "source": [
    "n_vals = []\n",
    "min_knowns_vals = []\n",
    "\n",
    "prev = 1\n",
    "for n in range(4,10000):\n",
    "    min_knowns = get_min_knowns(n, prev)\n",
    "    if min_knowns:\n",
    "        prev = min_knowns\n",
    "        n_vals.append(n)\n",
    "        min_knowns_vals.append(min_knowns)\n",
    "        print(n, min_knowns)"
   ]
  },
  {
   "cell_type": "code",
   "execution_count": 41,
   "metadata": {},
   "outputs": [
    {
     "data": {
      "text/plain": [
       "[<matplotlib.lines.Line2D at 0x7f2ed91eb8d0>]"
      ]
     },
     "execution_count": 41,
     "metadata": {},
     "output_type": "execute_result"
    },
    {
     "data": {
      "image/png": "[encoded data removed]",
      "text/plain": [
       "<Figure size 432x288 with 1 Axes>"
      ]
     },
     "metadata": {
      "needs_background": "light"
     },
     "output_type": "display_data"
    }
   ],
   "source": [
    "plt.plot(n_vals, min_knowns_vals)"
   ]
  },
  {
   "cell_type": "code",
   "execution_count": 46,
   "metadata": {},
   "outputs": [
    {
     "name": "stdout",
     "output_type": "stream",
     "text": [
      "4 15\n",
      "5 23\n",
      "6 35\n",
      "7 45\n",
      "8 59\n",
      "9 78\n",
      "10 99\n",
      "11 118\n",
      "13 167\n",
      "15 157\n",
      "16 192\n",
      "17 188\n",
      "18 229\n",
      "19 222\n",
      "20 268\n",
      "21 253\n",
      "22 296\n",
      "23 303\n",
      "24 326\n",
      "25 334\n",
      "26 343\n",
      "27 359\n",
      "28 414\n",
      "29 399\n",
      "30 455\n",
      "31 466\n",
      "32 537\n",
      "33 545\n",
      "34 533\n",
      "35 569\n"
     ]
    },
    {
     "ename": "KeyboardInterrupt",
     "evalue": "",
     "output_type": "error",
     "traceback": [
      "\u001b[0;31m---------------------------------------------------------------------------\u001b[0m",
      "\u001b[0;31mKeyboardInterrupt\u001b[0m                         Traceback (most recent call last)",
      "\u001b[0;32m<ipython-input-46-672bb2aeb48b>\u001b[0m in \u001b[0;36m<module>\u001b[0;34m\u001b[0m\n\u001b[1;32m      4\u001b[0m \u001b[0mprev\u001b[0m \u001b[0;34m=\u001b[0m \u001b[0;36m1\u001b[0m\u001b[0;34m\u001b[0m\u001b[0;34m\u001b[0m\u001b[0m\n\u001b[1;32m      5\u001b[0m \u001b[0;32mfor\u001b[0m \u001b[0mn\u001b[0m \u001b[0;32min\u001b[0m \u001b[0mrange\u001b[0m\u001b[0;34m(\u001b[0m\u001b[0;36m4\u001b[0m\u001b[0;34m,\u001b[0m\u001b[0;36m10000\u001b[0m\u001b[0;34m)\u001b[0m\u001b[0;34m:\u001b[0m\u001b[0;34m\u001b[0m\u001b[0;34m\u001b[0m\u001b[0m\n\u001b[0;32m----> 6\u001b[0;31m     \u001b[0mmin_knowns\u001b[0m \u001b[0;34m=\u001b[0m \u001b[0mget_min_knowns\u001b[0m\u001b[0;34m(\u001b[0m\u001b[0mn\u001b[0m\u001b[0;34m,\u001b[0m \u001b[0mprev\u001b[0m\u001b[0;34m)\u001b[0m\u001b[0;34m\u001b[0m\u001b[0;34m\u001b[0m\u001b[0m\n\u001b[0m\u001b[1;32m      7\u001b[0m     \u001b[0;32mif\u001b[0m \u001b[0mmin_knowns\u001b[0m\u001b[0;34m:\u001b[0m\u001b[0;34m\u001b[0m\u001b[0;34m\u001b[0m\u001b[0m\n\u001b[1;32m      8\u001b[0m         \u001b[0mprev\u001b[0m \u001b[0;34m=\u001b[0m \u001b[0mmin_knowns\u001b[0m\u001b[0;34m\u001b[0m\u001b[0;34m\u001b[0m\u001b[0m\n",
      "\u001b[0;32m<ipython-input-44-28ba0c8f1d5f>\u001b[0m in \u001b[0;36mget_min_knowns\u001b[0;34m(n, prev_knowns)\u001b[0m\n\u001b[1;32m    101\u001b[0m             \u001b[0;31m### slowest part of the code ###\u001b[0m\u001b[0;34m\u001b[0m\u001b[0;34m\u001b[0m\u001b[0;34m\u001b[0m\u001b[0m\n\u001b[1;32m    102\u001b[0m             descent = np.linalg.lstsq(np.diag(comp_hessian(current_point,boolMask,obj_func)),\n\u001b[0;32m--> 103\u001b[0;31m                comp_grad(current_point,boolMask,obj_func), rcond=None)[0]\n\u001b[0m\u001b[1;32m    104\u001b[0m \u001b[0;34m\u001b[0m\u001b[0m\n\u001b[1;32m    105\u001b[0m             \u001b[0mdescent_matrix\u001b[0m \u001b[0;34m=\u001b[0m \u001b[0mnp\u001b[0m\u001b[0;34m.\u001b[0m\u001b[0mzeros\u001b[0m\u001b[0;34m(\u001b[0m\u001b[0;34m[\u001b[0m\u001b[0mn\u001b[0m\u001b[0;34m,\u001b[0m\u001b[0mn\u001b[0m\u001b[0;34m]\u001b[0m\u001b[0;34m)\u001b[0m\u001b[0;34m\u001b[0m\u001b[0;34m\u001b[0m\u001b[0m\n",
      "\u001b[0;32m/opt/anaconda/lib/python3.7/site-packages/numpy/linalg/linalg.py\u001b[0m in \u001b[0;36mlstsq\u001b[0;34m(a, b, rcond)\u001b[0m\n\u001b[1;32m   2154\u001b[0m     \u001b[0msignature\u001b[0m \u001b[0;34m=\u001b[0m \u001b[0;34m'DDd->Ddid'\u001b[0m \u001b[0;32mif\u001b[0m \u001b[0misComplexType\u001b[0m\u001b[0;34m(\u001b[0m\u001b[0mt\u001b[0m\u001b[0;34m)\u001b[0m \u001b[0;32melse\u001b[0m \u001b[0;34m'ddd->ddid'\u001b[0m\u001b[0;34m\u001b[0m\u001b[0;34m\u001b[0m\u001b[0m\n\u001b[1;32m   2155\u001b[0m     \u001b[0mextobj\u001b[0m \u001b[0;34m=\u001b[0m \u001b[0mget_linalg_error_extobj\u001b[0m\u001b[0;34m(\u001b[0m\u001b[0m_raise_linalgerror_lstsq\u001b[0m\u001b[0;34m)\u001b[0m\u001b[0;34m\u001b[0m\u001b[0;34m\u001b[0m\u001b[0m\n\u001b[0;32m-> 2156\u001b[0;31m     \u001b[0mx\u001b[0m\u001b[0;34m,\u001b[0m \u001b[0mresids\u001b[0m\u001b[0;34m,\u001b[0m \u001b[0mrank\u001b[0m\u001b[0;34m,\u001b[0m \u001b[0ms\u001b[0m \u001b[0;34m=\u001b[0m \u001b[0mgufunc\u001b[0m\u001b[0;34m(\u001b[0m\u001b[0ma\u001b[0m\u001b[0;34m,\u001b[0m \u001b[0mb\u001b[0m\u001b[0;34m,\u001b[0m \u001b[0mrcond\u001b[0m\u001b[0;34m,\u001b[0m \u001b[0msignature\u001b[0m\u001b[0;34m=\u001b[0m\u001b[0msignature\u001b[0m\u001b[0;34m,\u001b[0m \u001b[0mextobj\u001b[0m\u001b[0;34m=\u001b[0m\u001b[0mextobj\u001b[0m\u001b[0;34m)\u001b[0m\u001b[0;34m\u001b[0m\u001b[0;34m\u001b[0m\u001b[0m\n\u001b[0m\u001b[1;32m   2157\u001b[0m \u001b[0;34m\u001b[0m\u001b[0m\n\u001b[1;32m   2158\u001b[0m     \u001b[0;31m# remove the axis we added\u001b[0m\u001b[0;34m\u001b[0m\u001b[0;34m\u001b[0m\u001b[0;34m\u001b[0m\u001b[0m\n",
      "\u001b[0;31mKeyboardInterrupt\u001b[0m: "
     ]
    }
   ],
   "source": [
    "n_vals = []\n",
    "min_knowns_vals = []\n",
    "\n",
    "prev = 1\n",
    "for n in range(4,10000):\n",
    "    min_knowns = get_min_knowns(n, prev)\n",
    "    if min_knowns:\n",
    "        prev = min_knowns\n",
    "        n_vals.append(n)\n",
    "        min_knowns_vals.append(min_knowns)\n",
    "        print(n, min_knowns)"
   ]
  },
  {
   "cell_type": "code",
   "execution_count": 47,
   "metadata": {},
   "outputs": [
    {
     "data": {
      "text/plain": [
       "[<matplotlib.lines.Line2D at 0x7f2ed94762b0>]"
      ]
     },
     "execution_count": 47,
     "metadata": {},
     "output_type": "execute_result"
    },
    {
     "data": {
      "image/png": "[encoded data removed]",
      "text/plain": [
       "<Figure size 432x288 with 1 Axes>"
      ]
     },
     "metadata": {
      "needs_background": "light"
     },
     "output_type": "display_data"
    }
   ],
   "source": [
    "plt.plot(n_vals, min_knowns_vals)"
   ]
  },
  {
   "cell_type": "code",
   "execution_count": 48,
   "metadata": {},
   "outputs": [],
   "source": [
    "np.save('convergence-reuse_results_n_vals', n_vals)\n",
    "np.save('convergence-reuse_results_min_known_vals', min_knowns_vals)"
   ]
  },
  {
   "cell_type": "code",
   "execution_count": 57,
   "metadata": {},
   "outputs": [
    {
     "name": "stdout",
     "output_type": "stream",
     "text": [
      "Displaying plot 1\n"
     ]
    },
    {
     "data": {
      "image/png": "[encoded data removed]",
      "text/plain": [
       "<Figure size 432x288 with 1 Axes>"
      ]
     },
     "metadata": {
      "needs_background": "light"
     },
     "output_type": "display_data"
    },
    {
     "name": "stdout",
     "output_type": "stream",
     "text": [
      "\n",
      "Goodness of fit - chi square measure:\n",
      "Chi2 = 55.285625096638285, Chi2/dof = 1.9744866105942245\n",
      "\n",
      "Fit parameters:\n",
      "C = 3.059e+00 +/- 2.941e-01\n",
      "b = 1.469e+00 +/- 2.885e-02\n",
      "Displaying plot 2\n"
     ]
    },
    {
     "data": {
      "image/png": "[encoded data removed]",
      "text/plain": [
       "<Figure size 432x288 with 1 Axes>"
      ]
     },
     "metadata": {
      "needs_background": "light"
     },
     "output_type": "display_data"
    },
    {
     "name": "stdout",
     "output_type": "stream",
     "text": [
      "\n",
      "Residual information:\n",
      "63.3% of data points agree with fit\n",
      "\n",
      "Displaying plot 3\n"
     ]
    },
    {
     "data": {
      "image/png": "[encoded data removed]",
      "text/plain": [
       "<Figure size 504x720 with 2 Axes>"
      ]
     },
     "metadata": {
      "needs_background": "light"
     },
     "output_type": "display_data"
    }
   ],
   "source": [
    "from scipy.optimize import curve_fit\n",
    "\n",
    "x_name = 'n'\n",
    "x_units = ''\n",
    "y_name = 'm'\n",
    "y_units = '' \n",
    "guesses = (0.35,1.2)\n",
    "\n",
    "def fit_function(x, a, b):\n",
    "    return a * x**b\n",
    "\n",
    "x = n_vals#np.arange(np.size(dims)) \n",
    "y = min_knowns_vals#dims\n",
    "\n",
    "#x = x[1:]\n",
    "#y = y[1:]\n",
    "\n",
    "y_sigma = np.ones(np.size(x))\n",
    "y_sigma=y_sigma*12\n",
    "\n",
    "x_fitfunc=np.linspace(min(x),max(x),500)\n",
    "    \n",
    "#compares the guessed curve to the data for visual reference\n",
    "y_guess = fit_function(x_fitfunc,*guesses)\n",
    "plt.errorbar(x,y,yerr=y_sigma,marker='.',linestyle='',label=\"measured data\")\n",
    "plt.plot(x_fitfunc,y_guess,marker=\"\",linestyle=\"-\",linewidth=1,color=\"g\",\n",
    "         label=\"initial guess\")\n",
    "plt.xlabel('{} [{}]'.format(x_name,x_units))\n",
    "plt.ylabel('{} [{}]'.format(y_name,y_units))\n",
    "plt.title('Comparison between the data and the intial guess')\n",
    "plt.legend(loc='best',numpoints=1)\n",
    "print ('Displaying plot 1')\n",
    "plt.show()\n",
    "\n",
    "\n",
    "    \n",
    "    \n",
    "# fit the data to fit_function. fit_params is the resultant parameters, fit_cov\n",
    "# is the covariance matrix between all the parameters. maxfev=10**5 means the\n",
    "# fitting procedure is iterated at maximum 10^5 times before giving up.\n",
    "fit_params,fit_cov = curve_fit(fit_function,x,y,sigma=y_sigma,p0=guesses,\n",
    "                               maxfev=10**5)\n",
    "                               \n",
    "###############################################################################\n",
    "# prints the chi2 \n",
    "###############################################################################\n",
    "\n",
    "# function that  calculates the chi square value of a fit\n",
    "def chi_square (fit_parameters, x, y, sigma):\n",
    "#\n",
    "    return np.sum((y-fit_function(x, *fit_parameters))**2/sigma**2)\n",
    "    \n",
    "# calculate and print chi square as well as the per degree-of-freedom value\n",
    "chi2 = chi_square(fit_params,x,y,y_sigma)\n",
    "dof = len(x) - len(fit_params)\n",
    "print (\"\\nGoodness of fit - chi square measure:\")\n",
    "print (\"Chi2 = {}, Chi2/dof = {}\\n\".format(chi2, chi2/dof))\n",
    "\n",
    "###############################################################################\n",
    "# prints the fit parameters (with uncertainty)\n",
    "###############################################################################\n",
    "\n",
    "# the covariance matrix is rescaled to cancel the inverse scaling that is \n",
    "# performed for numerical reasons during execution of curve_fit -- do not \n",
    "# change this line!\n",
    "fit_cov = fit_cov*dof/chi2\n",
    "# calculate the standard deviation as uncertainty of the fit parameters\n",
    "fit_params_error = np.sqrt(np.diag(fit_cov))\n",
    "\n",
    "# read out parameter results\n",
    "param_names = ['C','b']\n",
    "print (\"Fit parameters:\")\n",
    "for i in range(len(fit_params)):\n",
    "    print ('{} = {:.3e} +/- {:.3e}'.format(param_names[i],\n",
    "                                          fit_params[i],\n",
    "                                          fit_params_error[i]))\n",
    "\n",
    "\n",
    "# prints out the covariance between all variables. Uncomment this code to see\n",
    "# the results of this more sophisticated statistical measure.\n",
    "#print \"\\nCovariance between fit parameters:\"\n",
    "#for i,fit_covariance in enumerate(fit_cov):\n",
    "#    for j in xrange(i+1,len(fit_covariance)) :\n",
    "#        print \"{} and {} : {:.3e}\".format(param_names[i],\n",
    "#                                          param_names[j],\n",
    "#                                          fit_cov[i,j])\n",
    "                                                                        \n",
    "###############################################################################\n",
    "# plots the data and the fit curve\n",
    "###############################################################################\n",
    "    \n",
    "# y_fitfunc is the curve using the parameters calculated from the fit\n",
    "#x_fit = np.linspace(min(f),max(f),len(f))\n",
    "y_fitfunc = fit_function(x_fitfunc,*fit_params)\n",
    "# plots y, and y_fit on the same plot.\n",
    "# marker='.' : data points are not indicated by markers\n",
    "# linestyle= '-' : a continuous line is drawn\n",
    "# linewidth=2 : the line thickness is set to 2\n",
    "# color='r' : the color of the line is set to red\n",
    "# label=string : the string is shown in the legend\n",
    "plt.errorbar(x,y,yerr=y_sigma,marker='.',linestyle='',label=\"measured data\")\n",
    "plt.plot(x_fitfunc,y_fitfunc,marker=\"\",linestyle=\"-\",linewidth=2,color=\"r\",\n",
    "         label=\" fit\")\n",
    "# add axis labels and title\n",
    "plt.xlabel('{} [{}]'.format(x_name,x_units))\n",
    "plt.ylabel('{} [{}]'.format(y_name,y_units))\n",
    "plt.title(r'This is a title with latex $V(t)=???$')\n",
    "# set the x and y boundaries of your plot\n",
    "#plt.xlim(lower_x,upper_x)\n",
    "#plt.ylim(lower_y,upper_y)\n",
    "# show a legend. loc='best' places legend where least amount of data is \n",
    "# obstructed. \n",
    "plt.legend(loc='best',numpoints=1)\n",
    "print ('Displaying plot 2')\n",
    "# plt.show() may or may not need to be commented out depending on your python\n",
    "# editor (spyder) settings.\n",
    "plt.show()\n",
    "\n",
    "\n",
    "###############################################################################\n",
    "# plots residual and histogram of residual. Don't touch this par tof the code\n",
    "###############################################################################\n",
    "\n",
    "# residual is the difference between the data and theory\n",
    "y_fit=fit_function(x,*fit_params)\n",
    "residual = y-y_fit\n",
    "#calculate normalized residuals\n",
    "normresidual=residual/y_sigma\n",
    "# creates a histogram of the normalized residuals\n",
    "hist,bins = np.histogram(normresidual,bins=30)\n",
    "\n",
    "# this complicated code produces a figure with a plot of the residuals as well\n",
    "# as a histogram of the residuals. You do not need to understand this code.\n",
    "fig = plt.figure(figsize=(7,10))\n",
    "ax1 = fig.add_subplot(211)\n",
    "ax1.errorbar(x,residual,yerr=y_sigma,marker='.',linestyle='',\n",
    "             label=\"residual (y-y_fit)\")\n",
    "ax1.hlines(0,np.min(x),np.max(x),lw=2,alpha=0.8)\n",
    "ax1.set_xlabel('{} [{}]'.format(x_name,x_units))\n",
    "ax1.set_ylabel('y-y_fit [{}]'.format(y_units))\n",
    "ax1.legend(loc='best',numpoints=1)\n",
    "ax2 = fig.add_subplot(212)\n",
    "ax2.bar(bins[:-1],hist,width=bins[1]-bins[0])\n",
    "\n",
    "ax2.set_ylim(0,1.2*np.max(hist))\n",
    "ax2.set_xlabel('(y-y_fit)/y_sigma')\n",
    "ax2.set_ylabel('Number of occurences')\n",
    "plt.title('Histogram  of normalized residuals')\n",
    "#if y_sigma != None:\n",
    "# within_err is the percentage of data points whose error bars overlap with \n",
    "# the fit. If chi2/dof = 1, within_error ~ 66% (one standard deviation)\n",
    "within_err=100.*np.sum((residual<=y_sigma)&(residual>=-y_sigma))/len(residual)\n",
    "print (\"\\nResidual information:\")\n",
    "print ('{:.1f}% of data points agree with fit'.format(within_err))\n",
    "ax2.vlines(-1.0,0,np.max(hist)*1.3,lw=3,color='r',linestyles='--')\n",
    "ax2.vlines(+1.0,0,np.max(hist)*1.3,lw=3,color='r',linestyles='--',label='+/- error')\n",
    "ax2.text(0.0,np.max(hist)*1.1,'{:.1f}% of data within one sigma of fit'.format(within_err),\n",
    "         horizontalalignment='center',verticalalignment='center')\n",
    "ax2.legend(loc=(0.35,0.05))\n",
    "\n",
    "print ('\\nDisplaying plot 3')\n",
    "plt.show()"
   ]
  },
  {
   "cell_type": "code",
   "execution_count": 55,
   "metadata": {},
   "outputs": [
    {
     "name": "stdout",
     "output_type": "stream",
     "text": [
      "Displaying plot 1\n"
     ]
    },
    {
     "data": {
      "image/png": "[encoded data removed]",
      "text/plain": [
       "<Figure size 432x288 with 1 Axes>"
      ]
     },
     "metadata": {
      "needs_background": "light"
     },
     "output_type": "display_data"
    },
    {
     "name": "stdout",
     "output_type": "stream",
     "text": [
      "\n",
      "Goodness of fit - chi square measure:\n",
      "Chi2 = 48.858506069951545, Chi2/dof = 1.7449466453554123\n",
      "\n",
      "Fit parameters:\n",
      "C = 2.761e+00 +/- 2.919e-01\n",
      "b = 1.139e+00 +/- 3.172e-02\n",
      "Displaying plot 2\n"
     ]
    },
    {
     "data": {
      "image/png": "[encoded data removed]",
      "text/plain": [
       "<Figure size 432x288 with 1 Axes>"
      ]
     },
     "metadata": {
      "needs_background": "light"
     },
     "output_type": "display_data"
    },
    {
     "name": "stdout",
     "output_type": "stream",
     "text": [
      "\n",
      "Residual information:\n",
      "63.3% of data points agree with fit\n",
      "\n",
      "Displaying plot 3\n"
     ]
    },
    {
     "data": {
      "image/png": "[encoded data removed]",
      "text/plain": [
       "<Figure size 504x720 with 2 Axes>"
      ]
     },
     "metadata": {
      "needs_background": "light"
     },
     "output_type": "display_data"
    }
   ],
   "source": [
    "from scipy.optimize import curve_fit\n",
    "\n",
    "x_name = 'n'\n",
    "x_units = ''\n",
    "y_name = 'm'\n",
    "y_units = '' \n",
    "guesses = (0.35,1.2)\n",
    "\n",
    "def fit_function(x, a, b):\n",
    "    return a * x**b * np.log(x)\n",
    "\n",
    "x = n_vals#np.arange(np.size(dims)) \n",
    "y = min_knowns_vals#dims\n",
    "\n",
    "#x = x[1:]\n",
    "#y = y[1:]\n",
    "\n",
    "y_sigma = np.ones(np.size(x))\n",
    "y_sigma=y_sigma*13\n",
    "\n",
    "x_fitfunc=np.linspace(min(x),max(x),500)\n",
    "    \n",
    "#compares the guessed curve to the data for visual reference\n",
    "y_guess = fit_function(x_fitfunc,*guesses)\n",
    "plt.errorbar(x,y,yerr=y_sigma,marker='.',linestyle='',label=\"measured data\")\n",
    "plt.plot(x_fitfunc,y_guess,marker=\"\",linestyle=\"-\",linewidth=1,color=\"g\",\n",
    "         label=\"initial guess\")\n",
    "plt.xlabel('{} [{}]'.format(x_name,x_units))\n",
    "plt.ylabel('{} [{}]'.format(y_name,y_units))\n",
    "plt.title('Comparison between the data and the intial guess')\n",
    "plt.legend(loc='best',numpoints=1)\n",
    "print ('Displaying plot 1')\n",
    "plt.show()\n",
    "\n",
    "\n",
    "    \n",
    "    \n",
    "# fit the data to fit_function. fit_params is the resultant parameters, fit_cov\n",
    "# is the covariance matrix between all the parameters. maxfev=10**5 means the\n",
    "# fitting procedure is iterated at maximum 10^5 times before giving up.\n",
    "fit_params,fit_cov = curve_fit(fit_function,x,y,sigma=y_sigma,p0=guesses,\n",
    "                               maxfev=10**5)\n",
    "                               \n",
    "###############################################################################\n",
    "# prints the chi2 \n",
    "###############################################################################\n",
    "\n",
    "# function that  calculates the chi square value of a fit\n",
    "def chi_square (fit_parameters, x, y, sigma):\n",
    "#\n",
    "    return np.sum((y-fit_function(x, *fit_parameters))**2/sigma**2)\n",
    "    \n",
    "# calculate and print chi square as well as the per degree-of-freedom value\n",
    "chi2 = chi_square(fit_params,x,y,y_sigma)\n",
    "dof = len(x) - len(fit_params)\n",
    "print (\"\\nGoodness of fit - chi square measure:\")\n",
    "print (\"Chi2 = {}, Chi2/dof = {}\\n\".format(chi2, chi2/dof))\n",
    "\n",
    "###############################################################################\n",
    "# prints the fit parameters (with uncertainty)\n",
    "###############################################################################\n",
    "\n",
    "# the covariance matrix is rescaled to cancel the inverse scaling that is \n",
    "# performed for numerical reasons during execution of curve_fit -- do not \n",
    "# change this line!\n",
    "fit_cov = fit_cov*dof/chi2\n",
    "# calculate the standard deviation as uncertainty of the fit parameters\n",
    "fit_params_error = np.sqrt(np.diag(fit_cov))\n",
    "\n",
    "# read out parameter results\n",
    "param_names = ['C','b']\n",
    "print (\"Fit parameters:\")\n",
    "for i in range(len(fit_params)):\n",
    "    print ('{} = {:.3e} +/- {:.3e}'.format(param_names[i],\n",
    "                                          fit_params[i],\n",
    "                                          fit_params_error[i]))\n",
    "\n",
    "\n",
    "# prints out the covariance between all variables. Uncomment this code to see\n",
    "# the results of this more sophisticated statistical measure.\n",
    "#print \"\\nCovariance between fit parameters:\"\n",
    "#for i,fit_covariance in enumerate(fit_cov):\n",
    "#    for j in xrange(i+1,len(fit_covariance)) :\n",
    "#        print \"{} and {} : {:.3e}\".format(param_names[i],\n",
    "#                                          param_names[j],\n",
    "#                                          fit_cov[i,j])\n",
    "                                                                        \n",
    "###############################################################################\n",
    "# plots the data and the fit curve\n",
    "###############################################################################\n",
    "    \n",
    "# y_fitfunc is the curve using the parameters calculated from the fit\n",
    "#x_fit = np.linspace(min(f),max(f),len(f))\n",
    "y_fitfunc = fit_function(x_fitfunc,*fit_params)\n",
    "# plots y, and y_fit on the same plot.\n",
    "# marker='.' : data points are not indicated by markers\n",
    "# linestyle= '-' : a continuous line is drawn\n",
    "# linewidth=2 : the line thickness is set to 2\n",
    "# color='r' : the color of the line is set to red\n",
    "# label=string : the string is shown in the legend\n",
    "plt.errorbar(x,y,yerr=y_sigma,marker='.',linestyle='',label=\"measured data\")\n",
    "plt.plot(x_fitfunc,y_fitfunc,marker=\"\",linestyle=\"-\",linewidth=2,color=\"r\",\n",
    "         label=\" fit\")\n",
    "# add axis labels and title\n",
    "plt.xlabel('{} [{}]'.format(x_name,x_units))\n",
    "plt.ylabel('{} [{}]'.format(y_name,y_units))\n",
    "plt.title(r'This is a title with latex $V(t)=???$')\n",
    "# set the x and y boundaries of your plot\n",
    "#plt.xlim(lower_x,upper_x)\n",
    "#plt.ylim(lower_y,upper_y)\n",
    "# show a legend. loc='best' places legend where least amount of data is \n",
    "# obstructed. \n",
    "plt.legend(loc='best',numpoints=1)\n",
    "print ('Displaying plot 2')\n",
    "# plt.show() may or may not need to be commented out depending on your python\n",
    "# editor (spyder) settings.\n",
    "plt.show()\n",
    "\n",
    "\n",
    "###############################################################################\n",
    "# plots residual and histogram of residual. Don't touch this par tof the code\n",
    "###############################################################################\n",
    "\n",
    "# residual is the difference between the data and theory\n",
    "y_fit=fit_function(x,*fit_params)\n",
    "residual = y-y_fit\n",
    "#calculate normalized residuals\n",
    "normresidual=residual/y_sigma\n",
    "# creates a histogram of the normalized residuals\n",
    "hist,bins = np.histogram(normresidual,bins=30)\n",
    "\n",
    "# this complicated code produces a figure with a plot of the residuals as well\n",
    "# as a histogram of the residuals. You do not need to understand this code.\n",
    "fig = plt.figure(figsize=(7,10))\n",
    "ax1 = fig.add_subplot(211)\n",
    "ax1.errorbar(x,residual,yerr=y_sigma,marker='.',linestyle='',\n",
    "             label=\"residual (y-y_fit)\")\n",
    "ax1.hlines(0,np.min(x),np.max(x),lw=2,alpha=0.8)\n",
    "ax1.set_xlabel('{} [{}]'.format(x_name,x_units))\n",
    "ax1.set_ylabel('y-y_fit [{}]'.format(y_units))\n",
    "ax1.legend(loc='best',numpoints=1)\n",
    "ax2 = fig.add_subplot(212)\n",
    "ax2.bar(bins[:-1],hist,width=bins[1]-bins[0])\n",
    "\n",
    "ax2.set_ylim(0,1.2*np.max(hist))\n",
    "ax2.set_xlabel('(y-y_fit)/y_sigma')\n",
    "ax2.set_ylabel('Number of occurences')\n",
    "plt.title('Histogram  of normalized residuals')\n",
    "#if y_sigma != None:\n",
    "# within_err is the percentage of data points whose error bars overlap with \n",
    "# the fit. If chi2/dof = 1, within_error ~ 66% (one standard deviation)\n",
    "within_err=100.*np.sum((residual<=y_sigma)&(residual>=-y_sigma))/len(residual)\n",
    "print (\"\\nResidual information:\")\n",
    "print ('{:.1f}% of data points agree with fit'.format(within_err))\n",
    "ax2.vlines(-1.0,0,np.max(hist)*1.3,lw=3,color='r',linestyles='--')\n",
    "ax2.vlines(+1.0,0,np.max(hist)*1.3,lw=3,color='r',linestyles='--',label='+/- error')\n",
    "ax2.text(0.0,np.max(hist)*1.1,'{:.1f}% of data within one sigma of fit'.format(within_err),\n",
    "         horizontalalignment='center',verticalalignment='center')\n",
    "ax2.legend(loc=(0.35,0.05))\n",
    "\n",
    "print ('\\nDisplaying plot 3')\n",
    "plt.show()"
   ]
  },
  {
   "cell_type": "code",
   "execution_count": null,
   "metadata": {},
   "outputs": [],
   "source": []
  }
 ],
 "metadata": {
  "kernelspec": {
   "display_name": "Python 3",
   "language": "python",
   "name": "python3"
  },
  "language_info": {
   "codemirror_mode": {
    "name": "ipython",
    "version": 3
   },
   "file_extension": ".py",
   "mimetype": "text/x-python",
   "name": "python",
   "nbconvert_exporter": "python",
   "pygments_lexer": "ipython3",
   "version": "3.7.1"
  }
 },
 "nbformat": 4,
 "nbformat_minor": 2
}
