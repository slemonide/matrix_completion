{
 "cells": [
  {
   "cell_type": "markdown",
   "metadata": {},
   "source": [
    "### Newton/Gradient descent\n",
    "\n",
    "#### Ignoring first 2 singular values for rank 1 matrix\n",
    "\n",
    "If matrix is rank 1, optimization that ignores first two largest singular values fails in most cases for any number of missing entries. But, sometimes from about **1 entry up to about 4 entries** could be missing and the matrix will be recovered successfully. I have been sampling matrices randomly, so this is probably not a tight bound. This shows that perhaps there are a class of matrices and a class of missing entries for which exact recovery is possible even if we ignore second largest singular value. The number of entries m required for exact recovery of nxn matrix is:\n",
    "\n",
    "$$ m = C n^b$$\n",
    "\n",
    "where\n",
    "\n",
    "$$C = 0.9842 \\pm 0.002051$$\n",
    "$$b = 2.0040 \\pm 0.0004884$$\n",
    "\n",
    "Thus, m is about $m = 0.98 * n^2$. In total, there are $n^2$ entries, so roughly for many randomly sampled matrices, only 98% of entries are required to recover the original matrix even if we don't minimize second singular values explicitly.\n",
    "\n",
    "#### Ignoring first 2 singular values for rank 2 matrix\n",
    "\n",
    "In this case it seems that the number of required entries m is given by one of the two formulas:\n",
    "\n",
    "$$m = C n^b \\log(n) $$\n",
    "\n",
    "where\n",
    "\n",
    "$$C = 2.761 \\pm 0.29190$$\n",
    "$$b = 1.139 \\pm 0.03172$$\n",
    "\n",
    "#### Ignoring one singular value for rank 2 matrix\n",
    "\n",
    "In progress...\n",
    "\n",
    "#### Ignoring one singular value for rank 1 matrix\n",
    "\n",
    "The number of entries m required to recover nxn matrix is given by the formula\n",
    "\n",
    "$$m = C n^b \\log(n) $$\n",
    "\n",
    "where\n",
    "\n",
    "$$C = 1.719 \\pm 0.25960$$\n",
    "$$b = 1.279 \\pm 0.04521$$\n",
    "\n",
    "#### Canonical nuclear norm minimization for rank 2 matrices\n",
    "\n",
    "$$m = C n^b \\log(n) $$\n",
    "\n",
    "where\n",
    "\n",
    "$$C = 3.893 \\pm 0.4991$$\n",
    "$$b = 1.065 \\pm 0.03835$$\n",
    "\n",
    "#### Canonical nuclear norm minimization for rank 1 matrices\n",
    "\n",
    "$$m = C n^b \\log(n) $$\n",
    "\n",
    "where\n",
    "\n",
    "$$C = 3.414 \\pm 0.4640$$\n",
    "$$b = 1.069 \\pm 0.04098$$"
   ]
  },
  {
   "cell_type": "code",
   "execution_count": 1,
   "metadata": {},
   "outputs": [],
   "source": [
    "import matplotlib.pyplot as plt"
   ]
  },
  {
   "cell_type": "code",
   "execution_count": 20,
   "metadata": {},
   "outputs": [
    {
     "data": {
      "image/png": "[encoded data removed]",
      "text/plain": [
       "<Figure size 432x288 with 1 Axes>"
      ]
     },
     "metadata": {
      "needs_background": "light"
     },
     "output_type": "display_data"
    }
   ],
   "source": [
    "fig, ax = plt.subplots()\n",
    "\n",
    "C  = [2.761, 1.719, 3.893, 3.414]\n",
    "b  = [1.139, 1.279, 1.065, 1.069]\n",
    "Ce = [0.29190, 0.25960, 0.4991, 0.4640]\n",
    "be = [0.03172, 0.04521, 0.03835, 0.04098]\n",
    "\n",
    "labels=['s2, r2', 's1, r1', 'nuc, r2', 'nuc, r1']\n",
    "\n",
    "ax.errorbar(C, b, xerr=Ce, yerr=be, fmt='o')\n",
    "ax.set_xlabel('C')\n",
    "ax.set_ylabel('b')\n",
    "\n",
    "for label, x, y in zip(labels, C, b):\n",
    "    ax.annotate(\n",
    "        label,\n",
    "        xy=(x, y), xytext=(50, 30),\n",
    "        textcoords='offset points', ha='right', va='bottom',\n",
    "        bbox=dict(boxstyle='round,pad=0.5', fc='yellow', alpha=0.5),\n",
    "        arrowprops=dict(arrowstyle = '->', connectionstyle='arc3,rad=0'))"
   ]
  },
  {
   "cell_type": "code",
   "execution_count": null,
   "metadata": {},
   "outputs": [],
   "source": []
  }
 ],
 "metadata": {
  "kernelspec": {
   "display_name": "Python 3",
   "language": "python",
   "name": "python3"
  },
  "language_info": {
   "codemirror_mode": {
    "name": "ipython",
    "version": 3
   },
   "file_extension": ".py",
   "mimetype": "text/x-python",
   "name": "python",
   "nbconvert_exporter": "python",
   "pygments_lexer": "ipython3",
   "version": "3.7.1"
  }
 },
 "nbformat": 4,
 "nbformat_minor": 2
}
