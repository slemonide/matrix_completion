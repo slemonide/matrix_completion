{
 "cells": [
  {
   "cell_type": "markdown",
   "metadata": {},
   "source": [
    "### Newton/Gradient descent\n",
    "\n",
    "#### Ignoring first 2 singular values for rank 1 matrix\n",
    "\n",
    "If matrix is rank 1, optimization that ignores first two largest singular values fails in most cases for any number of missing entries. But, sometimes from about **1 entry up to about 4 entries** could be missing and the matrix will be recovered successfully. I have been sampling matrices randomly, so this is probably not a tight bound. This shows that perhaps there are a class of matrices and a class of missing entries for which exact recovery is possible even if we ignore second largest singular value. The number of entries m required for exact recovery of nxn matrix is:\n",
    "\n",
    "$$ m = C n^b$$\n",
    "\n",
    "where\n",
    "\n",
    "$$C = 0.9842 \\pm 0.002051$$\n",
    "$$b = 2.0040 \\pm 0.0004884$$\n",
    "\n",
    "Thus, m is about $m = 0.98 * n^2$. In total, there are $n^2$ entries, so roughly for many randomly sampled matrices, only 2% of entries are required to recover the original matrix even if we don't minimize second singular values explicitly.\n",
    "\n",
    "#### Ignoring first 2 singular values for rank 2 matrix\n",
    "\n",
    "In this case it seems that the number of required entries m is given by one of the two formulas:\n",
    "\n",
    "$$m = C n^b \\log(n) $$\n",
    "\n",
    "$$m = C n^b $$\n",
    "\n",
    "In the first case,\n",
    "\n",
    "$$C = 2.761 \\pm 0.29190$$\n",
    "$$b = 1.139 \\pm 0.03172$$\n",
    "\n",
    "And in the second case,\n",
    "\n",
    "$$C = 3.059 \\pm 0.2941$$\n",
    "$$b = 1.469 \\pm 0.02885$$\n",
    "\n",
    "The residulas for the formula with log are:\n",
    "\n",
    "![](summary_rank2_ignore2_log.png)\n",
    "\n",
    "And for the one without log are:\n",
    "\n",
    "![](summary_rank2_ignore2_nolog.png)\n",
    "\n",
    "Overall, it seems that the log version is more accurate since residuals are more gaussian for it."
   ]
  },
  {
   "cell_type": "code",
   "execution_count": null,
   "metadata": {},
   "outputs": [],
   "source": []
  }
 ],
 "metadata": {
  "kernelspec": {
   "display_name": "Python 3",
   "language": "python",
   "name": "python3"
  },
  "language_info": {
   "codemirror_mode": {
    "name": "ipython",
    "version": 3
   },
   "file_extension": ".py",
   "mimetype": "text/x-python",
   "name": "python",
   "nbconvert_exporter": "python",
   "pygments_lexer": "ipython3",
   "version": "3.7.1"
  }
 },
 "nbformat": 4,
 "nbformat_minor": 2
}
