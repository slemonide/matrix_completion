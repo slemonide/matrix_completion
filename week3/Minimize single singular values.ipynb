{
 "cells": [
  {
   "cell_type": "code",
   "execution_count": 1,
   "metadata": {},
   "outputs": [],
   "source": [
    "import numpy as np\n",
    "import matplotlib.pyplot as plt"
   ]
  },
  {
   "cell_type": "code",
   "execution_count": 2,
   "metadata": {},
   "outputs": [
    {
     "ename": "NameError",
     "evalue": "name 'original' is not defined",
     "output_type": "error",
     "traceback": [
      "\u001b[0;31m---------------------------------------------------------------------------\u001b[0m",
      "\u001b[0;31mNameError\u001b[0m                                 Traceback (most recent call last)",
      "\u001b[0;32m<ipython-input-2-1265c63b1e1e>\u001b[0m in \u001b[0;36m<module>\u001b[0;34m\u001b[0m\n\u001b[0;32m----> 1\u001b[0;31m \u001b[0mp\u001b[0m \u001b[0;34m=\u001b[0m \u001b[0moriginal\u001b[0m \u001b[0;34m+\u001b[0m \u001b[0;36m0.001\u001b[0m\u001b[0;34m*\u001b[0m\u001b[0moriginal2\u001b[0m\u001b[0;34m\u001b[0m\u001b[0;34m\u001b[0m\u001b[0m\n\u001b[0m\u001b[1;32m      2\u001b[0m \u001b[0mu2\u001b[0m\u001b[0;34m,\u001b[0m \u001b[0ms2\u001b[0m\u001b[0;34m,\u001b[0m \u001b[0mvh2\u001b[0m \u001b[0;34m=\u001b[0m \u001b[0mnp\u001b[0m\u001b[0;34m.\u001b[0m\u001b[0mlinalg\u001b[0m\u001b[0;34m.\u001b[0m\u001b[0msvd\u001b[0m\u001b[0;34m(\u001b[0m\u001b[0mp\u001b[0m\u001b[0;34m)\u001b[0m\u001b[0;34m\u001b[0m\u001b[0;34m\u001b[0m\u001b[0m\n",
      "\u001b[0;31mNameError\u001b[0m: name 'original' is not defined"
     ]
    }
   ],
   "source": [
    "p = original + 0.001*original2\n",
    "u2, s2, vh2 = np.linalg.svd(p)"
   ]
  },
  {
   "cell_type": "code",
   "execution_count": null,
   "metadata": {},
   "outputs": [],
   "source": [
    "np.argmax(np.dot(u[:,3], u2))"
   ]
  },
  {
   "cell_type": "code",
   "execution_count": null,
   "metadata": {},
   "outputs": [],
   "source": [
    "# Define a matrix, mask and noise\n",
    "p = 0.75\n",
    "rank = 1\n",
    "\n",
    "n = 4\n",
    "\n",
    "U = np.random.randn(n, rank)\n",
    "V = np.random.randn(n, rank)\n",
    "original = np.dot(U, V.T)\n",
    "mask = np.random.choice([0, 1], size=(n,n), p=[1-p, p])"
   ]
  },
  {
   "cell_type": "code",
   "execution_count": null,
   "metadata": {},
   "outputs": [],
   "source": [
    "def minimize_singular_value(sing_val_index):\n",
    "\n",
    "    starting_point = np.copy(original)\n",
    "\n",
    "    boolMask = np.ma.make_mask(np.where(np.array(mask) < 0.5, 1, 0))\n",
    "    starting_point[boolMask] = 0\n",
    "\n",
    "    prev_norm = np.linalg.norm(starting_point,'nuc')\n",
    "\n",
    "    current_point = starting_point\n",
    "\n",
    "    def obj_func(m, vec):\n",
    "        u, s, vh = np.linalg.svd(m)\n",
    "        index = np.argmax(np.dot(vec, u))\n",
    "\n",
    "        return s[index]\n",
    "\n",
    "    def comp_grad(of, m, vec):\n",
    "        \"\"\" Computes gradient that maximizes the objective function \"\"\"\n",
    "        epsilon = 1e-3\n",
    "\n",
    "        grad = np.zeros([n,n])\n",
    "\n",
    "        for i in range(n):\n",
    "            for j in range(n):\n",
    "                if boolMask[i,j]:\n",
    "                    diff = np.zeros([n,n])\n",
    "                    diff[i,j] = epsilon\n",
    "                    grad[i,j] = (of(m + diff, vec) - of(m - diff, vec))/(2*epsilon)\n",
    "\n",
    "        return grad\n",
    "\n",
    "\n",
    "    u, s, vh = np.linalg.svd(current_point)\n",
    "    vec = u[:,sing_val_index]\n",
    "\n",
    "    sing_val_log = []\n",
    "    distances_log = []\n",
    "    \n",
    "    for i in range(2000):\n",
    "        u, s, vh = np.linalg.svd(current_point)\n",
    "        index = np.argmax(np.dot(vec, u))\n",
    "        vec = u[:,index]\n",
    "\n",
    "        print(i, index, s[index], np.linalg.norm(current_point-original,'fro'))\n",
    "        sing_val_log.append(s[index])\n",
    "        distances_log.append(np.linalg.norm(current_point-original,'fro'))\n",
    "        current_point = current_point - 0.1*comp_grad(obj_func, current_point, vec)\n",
    "    \n",
    "    return current_point, sing_val_log, distances_log"
   ]
  },
  {
   "cell_type": "code",
   "execution_count": null,
   "metadata": {},
   "outputs": [],
   "source": [
    "result, sing_val_log, distances_log = minimize_singular_value(2)"
   ]
  },
  {
   "cell_type": "markdown",
   "metadata": {},
   "source": [
    "### A bit of mess"
   ]
  },
  {
   "cell_type": "code",
   "execution_count": null,
   "metadata": {},
   "outputs": [],
   "source": [
    "starting_point = np.copy(original)\n",
    "\n",
    "boolMask = np.ma.make_mask(np.where(np.array(mask) < 0.5, 1, 0))\n",
    "starting_point[boolMask] = 0\n",
    "\n",
    "prev_norm = np.linalg.norm(starting_point,'nuc')\n",
    "\n",
    "current_point = starting_point\n",
    "\n",
    "def obj_func(m, vec):\n",
    "    u, s, vh = np.linalg.svd(m)\n",
    "    index = np.argmax(np.dot(vec, u))\n",
    "\n",
    "    return s[index]\n",
    "\n",
    "def comp_grad(of, m, vec):\n",
    "    \"\"\" Computes gradient that maximizes the objective function \"\"\"\n",
    "    epsilon = 1e-3\n",
    "\n",
    "    grad = np.zeros([n,n])\n",
    "\n",
    "    for i in range(n):\n",
    "        for j in range(n):\n",
    "            if boolMask[i,j]:\n",
    "                diff = np.zeros([n,n])\n",
    "                diff[i,j] = epsilon\n",
    "                grad[i,j] = (of(m + diff, vec) - of(m - diff, vec))/(2*epsilon)\n",
    "\n",
    "    return grad\n",
    "\n",
    "def line_search(point, grad, obj_func, vec, s = 0.01, threshold = 1e-10):\n",
    "    \"\"\" Finds a maximum step size that maximizes the descent (since computing gradient is hard) \"\"\"\n",
    "\n",
    "    choice = point - grad * s\n",
    "    while obj_func(choice, vec) > obj_func(point, vec):\n",
    "        s = s / 2\n",
    "        choice = point - grad * s\n",
    "\n",
    "    initial_s = s\n",
    "\n",
    "    while True:\n",
    "        left = choice + grad * s/2\n",
    "        right = point - grad * s/2\n",
    "\n",
    "        s = s / 2\n",
    "        if obj_func(left, vec) < obj_func(right, vec):\n",
    "            choice = left\n",
    "        else:\n",
    "            choice = right\n",
    "\n",
    "        if np.abs(obj_func(left,vec) - obj_func(right, vec)) < threshold:\n",
    "            break\n",
    "\n",
    "    return choice\n",
    "\n",
    "sing_val_log = []\n",
    "distances_log = []\n",
    "\n",
    "for sing_val_index in range(3,0,-1):\n",
    "\n",
    "    print(\"\\n\")\n",
    "    print(\"##################\")\n",
    "    print(\"Optimizing\", sing_val_index)\n",
    "    print(\"##################\")\n",
    "    print(\"\\n\")\n",
    "    \n",
    "    u, s, vh = np.linalg.svd(current_point)\n",
    "    vec = u[:,sing_val_index]\n",
    "\n",
    "    i = 0\n",
    "    while obj_func(current_point, vec) > 0.08:\n",
    "        i = i + 1\n",
    "        u, s, vh = np.linalg.svd(current_point)\n",
    "        index = np.argmax(np.dot(vec, u))\n",
    "        vec = u[:,index]\n",
    "\n",
    "        print(i, index, s[index], np.linalg.norm(current_point-original,'fro'))\n",
    "        sing_val_log.append(s[index])\n",
    "        distances_log.append(np.linalg.norm(current_point-original,'fro'))\n",
    "        #current_point = current_point - 0.0001*comp_grad(obj_func, current_point, vec)\n",
    "        grad = comp_grad(obj_func, current_point, vec)\n",
    "        current_point = line_search(current_point, grad, obj_func, vec)\n",
    "    "
   ]
  },
  {
   "cell_type": "code",
   "execution_count": null,
   "metadata": {},
   "outputs": [],
   "source": [
    "plt.plot(sing_val_log)"
   ]
  },
  {
   "cell_type": "code",
   "execution_count": null,
   "metadata": {},
   "outputs": [],
   "source": [
    "plt.plot(distances_log)"
   ]
  },
  {
   "cell_type": "markdown",
   "metadata": {},
   "source": [
    "TODO:\n",
    "\n",
    "* use projected gradient descent"
   ]
  },
  {
   "cell_type": "code",
   "execution_count": null,
   "metadata": {},
   "outputs": [],
   "source": []
  }
 ],
 "metadata": {
  "kernelspec": {
   "display_name": "Python 3",
   "language": "python",
   "name": "python3"
  },
  "language_info": {
   "codemirror_mode": {
    "name": "ipython",
    "version": 3
   },
   "file_extension": ".py",
   "mimetype": "text/x-python",
   "name": "python",
   "nbconvert_exporter": "python",
   "pygments_lexer": "ipython3",
   "version": "3.7.1"
  }
 },
 "nbformat": 4,
 "nbformat_minor": 2
}
