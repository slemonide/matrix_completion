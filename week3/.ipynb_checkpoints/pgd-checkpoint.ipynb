{
 "cells": [
  {
   "cell_type": "code",
   "execution_count": 1,
   "metadata": {},
   "outputs": [],
   "source": [
    "import numpy as np\n",
    "import matplotlib.pyplot as plt"
   ]
  },
  {
   "cell_type": "code",
   "execution_count": 120,
   "metadata": {},
   "outputs": [],
   "source": [
    "# Define a matrix, mask and noise\n",
    "p = 0.75\n",
    "rank = 1\n",
    "\n",
    "n = 4\n",
    "\n",
    "U = np.random.randn(n, rank)\n",
    "V = np.random.randn(n, rank)\n",
    "original = np.dot(U, V.T)\n",
    "mask = np.random.choice([0, 1], size=(n,n), p=[1-p, p])"
   ]
  },
  {
   "cell_type": "code",
   "execution_count": 121,
   "metadata": {},
   "outputs": [],
   "source": [
    "starting_point = np.copy(original)\n",
    "\n",
    "boolMask = np.ma.make_mask(np.where(np.array(mask) < 0.5, 1, 0))\n",
    "starting_point[boolMask] = 0\n",
    "\n",
    "prev_norm = np.linalg.norm(starting_point,'nuc')\n",
    "\n",
    "current_point = starting_point"
   ]
  },
  {
   "cell_type": "code",
   "execution_count": 9,
   "metadata": {},
   "outputs": [],
   "source": [
    "u, s, vh = np.linalg.svd(current_point)"
   ]
  },
  {
   "cell_type": "code",
   "execution_count": 3,
   "metadata": {},
   "outputs": [],
   "source": [
    "s_vec_prev, s_val_prev, vh = np.linalg.svd(current_point)\n",
    "\n",
    "num_s_val = len(s_val_prev)\n",
    "\n",
    "sing_val_log = []\n",
    "distances_log = []\n",
    "\n",
    "for i in range(2000):\n",
    "    # arrange singular values and vectors consistently with the previous step\n",
    "    s_vec, s_val, vh = np.linalg.svd(current_point)\n",
    "    index = np.argmax(np.dot(vec, u))\n",
    "    vec = u[:,index]\n",
    "\n",
    "    print(i, index, s[index], np.linalg.norm(current_point-original,'fro'))\n",
    "    sing_val_log.append(s[index])\n",
    "    distances_log.append(np.linalg.norm(current_point-original,'fro'))\n",
    "    current_point = current_point - 0.1*comp_grad(obj_func, current_point, vec)\n"
   ]
  },
  {
   "cell_type": "code",
   "execution_count": 13,
   "metadata": {},
   "outputs": [],
   "source": [
    "s_vec_prev, s_val_prev, vh = np.linalg.svd(current_point)"
   ]
  },
  {
   "cell_type": "markdown",
   "metadata": {},
   "source": [
    "## A dummy version"
   ]
  },
  {
   "cell_type": "code",
   "execution_count": 17,
   "metadata": {},
   "outputs": [],
   "source": [
    "def obj_func(m, vec):\n",
    "    u, s, vh = np.linalg.svd(m)\n",
    "    index = np.argmax(np.dot(vec, u))\n",
    "\n",
    "    return s[index]\n",
    "\n",
    "def comp_grad(of, m, vec):\n",
    "    \"\"\" Computes gradient that maximizes the objective function \"\"\"\n",
    "    epsilon = 1e-3\n",
    "\n",
    "    grad = np.zeros([n,n])\n",
    "\n",
    "    for i in range(n):\n",
    "        for j in range(n):\n",
    "            if boolMask[i,j]:\n",
    "                diff = np.zeros([n,n])\n",
    "                diff[i,j] = epsilon\n",
    "                grad[i,j] = (of(m + diff, vec) - of(m - diff, vec))/(2*epsilon)\n",
    "\n",
    "    return grad"
   ]
  },
  {
   "cell_type": "code",
   "execution_count": 185,
   "metadata": {},
   "outputs": [
    {
     "name": "stdout",
     "output_type": "stream",
     "text": [
      "0 1 1.16676694269677 1.1771150812643032\n",
      "1000 1 1.1437949799126217 0.9465210602604038\n",
      "2000 1 1.1437951105107562 0.9465403725045495\n",
      "3000 1 1.143795244372063 0.9465406175755506\n",
      "4000 1 1.1437953782572388 0.9465406206855046\n",
      "5000 1 1.143795512127294 0.9465406207249736\n",
      "6000 1 1.1437956459819816 0.9465406207255342\n",
      "7000 1 1.1437957798212486 0.946540620725614\n",
      "8000 1 1.1437959136449902 0.9465406207256846\n",
      "9000 1 1.1437960474532038 0.9465406207258149\n",
      "10000 1 1.1437961812458488 0.946540620725956\n",
      "11000 1 1.1437963150229977 0.9465406207261391\n",
      "12000 1 1.1437964487846346 0.9465406207262882\n",
      "13000 1 1.143796582530831 0.9465406207264928\n",
      "14000 1 1.1437967162614782 0.9465406207267472\n",
      "15000 1 1.1437968499766296 0.9465406207269662\n",
      "16000 1 1.1437969836762563 0.9465406207271796\n",
      "17000 1 1.1437971173604413 0.9465406207274517\n",
      "18000 1 1.1437972510290757 0.9465406207277459\n",
      "19000 1 1.1437973846821907 0.9465406207280695\n",
      "20000 1 1.1437975183198652 0.9465406207283987\n",
      "21000 1 1.14379765194216 0.9465406207287519\n",
      "22000 1 1.1437977855487644 0.9465406207290291\n",
      "23000 1 1.1437979191400547 0.946540620729438\n",
      "24000 1 1.143798052715918 0.9465406207298702\n",
      "25000 1 1.143798186276183 0.9465406207303076\n",
      "26000 1 1.143798319821032 0.9465406207307735\n",
      "27000 1 1.1437984533503611 0.9465406207311642\n",
      "28000 1 1.1437985868641671 0.9465406207315735\n",
      "29000 1 1.1437987203624111 0.9465406207320435\n",
      "30000 1 1.143798853845188 0.9465406207325391\n",
      "31000 1 1.1437989873125387 0.9465406207330942\n",
      "32000 1 1.1437991207643952 0.9465406207336758\n",
      "33000 1 1.1437992542008792 0.9465406207342828\n",
      "34000 1 1.1437993876217984 0.9465406207348916\n",
      "35000 1 1.1437995210271923 0.946540620735486\n",
      "36000 1 1.1437996544170814 0.9465406207360543\n",
      "37000 1 1.1437997877916568 0.9465406207366661\n",
      "38000 1 1.1437999211508127 0.9465406207373583\n",
      "39000 1 1.1438000544945084 0.9465406207380587\n",
      "40000 1 1.1438001878226935 0.9465406207387641\n",
      "41000 1 1.1438003211355066 0.9465406207394018\n",
      "42000 1 1.1438004544328702 0.9465406207401451\n",
      "43000 1 1.143800587714662 0.9465406207409168\n",
      "44000 1 1.1438007209811838 0.9465406207417054\n",
      "45000 1 1.1438008542321485 0.9465406207425353\n",
      "46000 1 1.1438009874676902 0.9465406207433613\n",
      "47000 1 1.1438011206877132 0.9465406207442184\n",
      "48000 1 1.1438012538923155 0.946540620744985\n",
      "49000 1 1.1438013870814263 0.9465406207458027\n",
      "50000 1 1.1438015202551026 0.9465406207466871\n",
      "51000 1 1.1438016534134328 0.9465406207476021\n",
      "52000 1 1.1438017865563688 0.9465406207485063\n",
      "53000 1 1.1438019196839997 0.9465406207494327\n",
      "54000 1 1.1438020527963852 0.9465406207504101\n",
      "55000 1 1.1438021858929568 0.9465406207513343\n",
      "56000 1 1.1438023189741082 0.946540620752328\n",
      "57000 1 1.1438024520400276 0.9465406207533373\n",
      "58000 1 1.1438025850904558 0.9465406207544217\n",
      "59000 1 1.1438027181256447 0.9465406207554906\n",
      "60000 1 1.143802851145242 0.9465406207565873\n",
      "61000 1 1.1438029841494002 0.9465406207576319\n",
      "62000 1 1.1438031171382266 0.9465406207587079\n",
      "63000 1 1.1438032501115722 0.9465406207598406\n",
      "64000 1 1.1438033830697514 0.9465406207610068\n",
      "65000 1 1.1438035160124822 0.946540620762172\n",
      "66000 1 1.1438036489397119 0.9465406207633716\n",
      "67000 1 1.1438037818515776 0.9465406207645386\n",
      "68000 1 1.14380391474786 0.9465406207657107\n",
      "69000 1 1.1438040476287 0.9465406207669718\n",
      "70000 1 1.1438041804942116 0.946540620768194\n",
      "71000 1 1.1438043133443545 0.9465406207694886\n",
      "72000 1 1.1438044461792023 0.9465406207708033\n",
      "73000 1 1.1438045789987252 0.9465406207720942\n",
      "74000 1 1.1438047118028427 0.9465406207734217\n",
      "75000 1 1.1438048445916122 0.9465406207748029\n",
      "76000 1 1.143804977364937 0.9465406207761295\n",
      "77000 1 1.1438051101229547 0.9465406207775148\n",
      "78000 1 1.1438052428655845 0.9465406207789471\n",
      "79000 1 1.1438053755926312 0.9465406207803552\n",
      "80000 1 1.1438055083043397 0.9465406207817367\n",
      "81000 1 1.143805641000788 0.9465406207831963\n",
      "82000 1 1.1438057736818046 0.946540620784692\n",
      "83000 1 1.1438059063473243 0.9465406207861771\n",
      "84000 1 1.14380603899756 0.9465406207877117\n",
      "85000 1 1.1438061716324297 0.9465406207892515\n",
      "86000 1 1.143806304252046 0.9465406207908202\n",
      "87000 1 1.1438064368561855 0.9465406207923648\n",
      "88000 1 1.1438065694451551 0.9465406207939587\n",
      "89000 1 1.1438067020186231 0.9465406207955677\n",
      "90000 1 1.1438068345768881 0.9465406207971743\n",
      "91000 1 1.1438069671194888 0.9465406207988398\n",
      "92000 1 1.1438070996466985 0.9465406208005256\n",
      "93000 1 1.143807232158615 0.9465406208022233\n",
      "94000 1 1.1438073646552722 0.946540620803909\n",
      "95000 1 1.143807497136555 0.9465406208056275\n",
      "96000 1 1.1438076296025628 0.9465406208073075\n",
      "97000 1 1.1438077620531109 0.9465406208090367\n",
      "98000 1 1.1438078944882497 0.9465406208108148\n",
      "99000 1 1.143808026908186 0.9465406208126046\n"
     ]
    }
   ],
   "source": [
    "starting_point = np.copy(original)\n",
    "\n",
    "boolMask = np.ma.make_mask(np.where(np.array(mask) < 0.5, 1, 0))\n",
    "starting_point[boolMask] = 0\n",
    "\n",
    "prev_norm = np.linalg.norm(starting_point,'nuc')\n",
    "\n",
    "current_point = starting_point\n",
    "\n",
    "sing_val_log = []\n",
    "distances_log = []\n",
    "\n",
    "for i in range(100000):\n",
    "    s_vec, s_val, vh = np.linalg.svd(current_point)\n",
    "    num_s_val = len(s_val)\n",
    "\n",
    "    grads = []\n",
    "    grads_norms = []\n",
    "    for s_val_index in range(num_s_val):\n",
    "        grad = comp_grad(obj_func, current_point, s_vec[:,s_val_index])\n",
    "\n",
    "        grads.append(grad)\n",
    "        grads_norms.append(np.linalg.norm(grad))\n",
    "\n",
    "    max_grad = np.argmax(grads_norms)\n",
    "    grad = grads[max_grad]\n",
    "\n",
    "    if i % 1000 == 0:\n",
    "        print(i, index, np.sum(s_val), np.linalg.norm(current_point-original,'fro'))\n",
    "    sing_val_log.append(np.sum(s_val))\n",
    "    distances_log.append(np.linalg.norm(current_point-original,'fro'))\n",
    "    current_point = current_point - 0.01*grad"
   ]
  },
  {
   "cell_type": "code",
   "execution_count": 188,
   "metadata": {},
   "outputs": [
    {
     "data": {
      "text/plain": [
       "[<matplotlib.lines.Line2D at 0x7fb3f00a96a0>]"
      ]
     },
     "execution_count": 188,
     "metadata": {},
     "output_type": "execute_result"
    },
    {
     "data": {
      "image/png": "[encoded data removed]",
      "text/plain": [
       "<Figure size 432x288 with 1 Axes>"
      ]
     },
     "metadata": {
      "needs_background": "light"
     },
     "output_type": "display_data"
    }
   ],
   "source": [
    "plt.plot(sing_val_log[100:])"
   ]
  },
  {
   "cell_type": "code",
   "execution_count": 190,
   "metadata": {},
   "outputs": [
    {
     "data": {
      "text/plain": [
       "[<matplotlib.lines.Line2D at 0x7fb3effdc5c0>]"
      ]
     },
     "execution_count": 190,
     "metadata": {},
     "output_type": "execute_result"
    },
    {
     "data": {
      "image/png": "[encoded data removed]",
      "text/plain": [
       "<Figure size 432x288 with 1 Axes>"
      ]
     },
     "metadata": {
      "needs_background": "light"
     },
     "output_type": "display_data"
    }
   ],
   "source": [
    "plt.plot(distances_log[100:])"
   ]
  },
  {
   "cell_type": "markdown",
   "metadata": {},
   "source": [
    "## Less naive version"
   ]
  },
  {
   "cell_type": "code",
   "execution_count": null,
   "metadata": {},
   "outputs": [],
   "source": [
    "starting_point = np.copy(original)\n",
    "\n",
    "boolMask = np.ma.make_mask(np.where(np.array(mask) < 0.5, 1, 0))\n",
    "starting_point[boolMask] = 0\n",
    "\n",
    "prev_norm = np.linalg.norm(starting_point,'nuc')\n",
    "\n",
    "current_point = starting_point\n",
    "\n",
    "sing_val_log = []\n",
    "distances_log = []\n",
    "\n",
    "for i in range(2000):\n",
    "    s_vec, s_val, vh = np.linalg.svd(current_point)\n",
    "    num_s_val = len(s_val)\n",
    "\n",
    "    grads = []\n",
    "    grads_norms = []\n",
    "    for s_val_index in range(num_s_val):\n",
    "        grad = comp_grad(obj_func, current_point, s_vec[:,s_val_index])\n",
    "\n",
    "        grads.append(grad)\n",
    "        grads_norms.append(np.linalg.norm(grad))\n",
    "\n",
    "    max_grad = np.argmax(grads_norms)\n",
    "    grad = grads[max_grad]\n",
    "\n",
    "    print(i, index, np.sum(s_val), np.linalg.norm(current_point-original,'fro'))\n",
    "    sing_val_log.append(np.sum(s_val))\n",
    "    distances_log.append(np.linalg.norm(current_point-original,'fro'))\n",
    "    current_point = current_point - 0.1*grad"
   ]
  },
  {
   "cell_type": "code",
   "execution_count": 95,
   "metadata": {},
   "outputs": [],
   "source": [
    "s_vec, s_val, vh = np.linalg.svd(current_point)\n",
    "num_s_val = len(s_val)\n",
    "\n",
    "# compute gradients\n",
    "grads = []\n",
    "grads_norms = []\n",
    "for s_val_index in range(num_s_val):\n",
    "    grad = comp_grad(obj_func, current_point, s_vec[:,s_val_index])\n",
    "\n",
    "    grads.append(grad)\n",
    "    grads_norms.append(np.linalg.norm(grad))\n",
    "    \n",
    "# convert them to vectors\n",
    "vector_grads = []\n",
    "for s_val_index in range(num_s_val):\n",
    "    grad = grads[s_val_index]\n",
    "    vector_grads.append(np.asarray(grad).reshape(-1))\n",
    "    \n",
    "# compute cosine matrix (can be converted to angle matrix)\n",
    "cosine_matrix = np.zeros([num_s_val, num_s_val])\n",
    "\n",
    "for i in range(num_s_val):\n",
    "    for j in range(num_s_val):\n",
    "        a = vector_grads[i]\n",
    "        b = vector_grads[j]\n",
    "        cosine_matrix[i,j] = np.dot(a, b) / (np.linalg.norm(a) * np.linalg.norm(b))"
   ]
  },
  {
   "cell_type": "code",
   "execution_count": 96,
   "metadata": {},
   "outputs": [
    {
     "data": {
      "text/plain": [
       "array([[ 1.00000000e+00, -2.98490973e-04,  2.91115435e-05,\n",
       "         1.98392693e-01],\n",
       "       [-2.98490973e-04,  1.00000000e+00, -9.45635400e-01,\n",
       "         6.95765962e-01],\n",
       "       [ 2.91115435e-05, -9.45635400e-01,  1.00000000e+00,\n",
       "        -5.39720101e-01],\n",
       "       [ 1.98392693e-01,  6.95765962e-01, -5.39720101e-01,\n",
       "         1.00000000e+00]])"
      ]
     },
     "execution_count": 96,
     "metadata": {},
     "output_type": "execute_result"
    }
   ],
   "source": [
    "cosine_matrix"
   ]
  },
  {
   "cell_type": "markdown",
   "metadata": {},
   "source": [
    "Vectors are not completely perpendicular, hence things are coupled to each other. To decouple them, project each gradient onto space that is orthogonal to all other gradients."
   ]
  },
  {
   "cell_type": "code",
   "execution_count": 76,
   "metadata": {},
   "outputs": [
    {
     "data": {
      "text/plain": [
       "Text(0.5, 1.0, 'Angles between gradients (in degrees)')"
      ]
     },
     "execution_count": 76,
     "metadata": {},
     "output_type": "execute_result"
    },
    {
     "data": {
      "image/png": "[encoded data removed]",
      "text/plain": [
       "<Figure size 432x288 with 2 Axes>"
      ]
     },
     "metadata": {
      "needs_background": "light"
     },
     "output_type": "display_data"
    }
   ],
   "source": [
    "plt.imshow(np.arccos(cosine_matrix * (1 - 1e-10))/np.pi*180) # 0.9999 is a hack to make arccos function well-behaved\n",
    "plt.colorbar()\n",
    "plt.title(\"Angles between gradients (in degrees)\")"
   ]
  },
  {
   "cell_type": "markdown",
   "metadata": {},
   "source": [
    "Decouple things"
   ]
  },
  {
   "cell_type": "code",
   "execution_count": 84,
   "metadata": {},
   "outputs": [],
   "source": [
    "decoupled_grads = []\n",
    "\n",
    "for i in range(num_s_val):\n",
    "    grad = vector_grads[i]\n",
    "    \n",
    "    for j in range(num_s_val):\n",
    "        other_grad = vector_grads[j]\n",
    "        grad = grad - other_grad/np.dot(other_grad, other_grad) * np.dot(grad, other_grad)\n",
    "        \n",
    "    decoupled_grads.append(grad)"
   ]
  },
  {
   "cell_type": "code",
   "execution_count": 85,
   "metadata": {},
   "outputs": [
    {
     "data": {
      "text/plain": [
       "[array([0., 0., 0., 0., 0., 0., 0., 0., 0., 0., 0., 0., 0., 0., 0., 0.]),\n",
       " array([ 0.00000000e+00,  6.89811391e-05,  0.00000000e+00,  0.00000000e+00,\n",
       "         0.00000000e+00,  0.00000000e+00,  7.05703386e-06,  0.00000000e+00,\n",
       "         0.00000000e+00,  0.00000000e+00,  0.00000000e+00,  0.00000000e+00,\n",
       "         0.00000000e+00,  8.40012883e-06, -8.37914979e-06,  0.00000000e+00]),\n",
       " array([ 0.        , -0.006751  ,  0.        ,  0.        ,  0.        ,\n",
       "         0.        ,  0.02153398,  0.        ,  0.        ,  0.        ,\n",
       "         0.        ,  0.        ,  0.        ,  0.0185346 ,  0.03951338,\n",
       "         0.        ]),\n",
       " array([ 0.00000000e+00, -9.05181286e-16,  0.00000000e+00,  0.00000000e+00,\n",
       "         0.00000000e+00,  0.00000000e+00,  2.45435868e-15,  0.00000000e+00,\n",
       "         0.00000000e+00,  0.00000000e+00,  0.00000000e+00,  0.00000000e+00,\n",
       "         0.00000000e+00, -2.26660402e-15,  2.62572715e-17,  0.00000000e+00])]"
      ]
     },
     "execution_count": 85,
     "metadata": {},
     "output_type": "execute_result"
    }
   ],
   "source": [
    "decoupled_grads"
   ]
  },
  {
   "cell_type": "code",
   "execution_count": 89,
   "metadata": {},
   "outputs": [
    {
     "name": "stderr",
     "output_type": "stream",
     "text": [
      "/opt/anaconda/lib/python3.7/site-packages/ipykernel_launcher.py:8: RuntimeWarning: invalid value encountered in double_scalars\n",
      "  \n"
     ]
    }
   ],
   "source": [
    "# compute cosine matrix (can be converted to angle matrix)\n",
    "cosine_matrix = np.zeros([num_s_val, num_s_val])\n",
    "\n",
    "for i in range(num_s_val):\n",
    "    for j in range(num_s_val):\n",
    "        a = decoupled_grads[i]\n",
    "        b = decoupled_grads[j]\n",
    "        cosine_matrix[i,j] = np.dot(a, b) / (np.linalg.norm(a) * np.linalg.norm(b))"
   ]
  },
  {
   "cell_type": "code",
   "execution_count": 90,
   "metadata": {},
   "outputs": [
    {
     "data": {
      "text/plain": [
       "array([[        nan,         nan,         nan,         nan],\n",
       "       [        nan,  1.        , -0.14150742, -0.26438548],\n",
       "       [        nan, -0.14150742,  1.        ,  0.10577781],\n",
       "       [        nan, -0.26438548,  0.10577781,  1.        ]])"
      ]
     },
     "execution_count": 90,
     "metadata": {},
     "output_type": "execute_result"
    }
   ],
   "source": [
    "cosine_matrix"
   ]
  },
  {
   "cell_type": "code",
   "execution_count": 91,
   "metadata": {},
   "outputs": [
    {
     "data": {
      "text/plain": [
       "Text(0.5, 1.0, 'Angles between gradients (in degrees)')"
      ]
     },
     "execution_count": 91,
     "metadata": {},
     "output_type": "execute_result"
    },
    {
     "data": {
      "image/png": "[encoded data removed]",
      "text/plain": [
       "<Figure size 432x288 with 2 Axes>"
      ]
     },
     "metadata": {
      "needs_background": "light"
     },
     "output_type": "display_data"
    }
   ],
   "source": [
    "plt.imshow(np.arccos(cosine_matrix * (1 - 1e-10))/np.pi*180) # 0.9999 is a hack to make arccos function well-behaved\n",
    "plt.colorbar()\n",
    "plt.title(\"Angles between gradients (in degrees)\")"
   ]
  },
  {
   "cell_type": "code",
   "execution_count": 92,
   "metadata": {},
   "outputs": [
    {
     "data": {
      "text/plain": [
       "Text(0.5, 1.0, 'Angles between gradients (in degrees)')"
      ]
     },
     "execution_count": 92,
     "metadata": {},
     "output_type": "execute_result"
    },
    {
     "data": {
      "image/png": "[encoded data removed]",
      "text/plain": [
       "<Figure size 432x288 with 2 Axes>"
      ]
     },
     "metadata": {
      "needs_background": "light"
     },
     "output_type": "display_data"
    }
   ],
   "source": [
    "plt.imshow(np.arccos(cosine_matrix[1:,1:] * (1 - 1e-10))/np.pi*180) # 0.9999 is a hack to make arccos function well-behaved\n",
    "plt.colorbar()\n",
    "plt.title(\"Angles between gradients (in degrees)\")"
   ]
  },
  {
   "cell_type": "code",
   "execution_count": 94,
   "metadata": {},
   "outputs": [
    {
     "data": {
      "text/plain": [
       "Text(0.5, 1.0, 'Relative difference from 90 degrees after the procedure')"
      ]
     },
     "execution_count": 94,
     "metadata": {},
     "output_type": "execute_result"
    },
    {
     "data": {
      "image/png": "[encoded data removed]",
      "text/plain": [
       "<Figure size 432x288 with 2 Axes>"
      ]
     },
     "metadata": {
      "needs_background": "light"
     },
     "output_type": "display_data"
    }
   ],
   "source": [
    "plt.imshow((np.arccos(cosine_matrix[1:,1:] * (1 - 1e-10))/np.pi*180 - 90)/90) # 0.9999 is a hack to make arccos function well-behaved\n",
    "plt.colorbar()\n",
    "plt.title(\"Relative difference from 90 degrees after the procedure\")"
   ]
  },
  {
   "cell_type": "code",
   "execution_count": 97,
   "metadata": {},
   "outputs": [
    {
     "data": {
      "text/plain": [
       "Text(0.5, 1.0, 'Relative difference from 90 degrees before the procedure')"
      ]
     },
     "execution_count": 97,
     "metadata": {},
     "output_type": "execute_result"
    },
    {
     "data": {
      "image/png": "[encoded data removed]",
      "text/plain": [
       "<Figure size 432x288 with 2 Axes>"
      ]
     },
     "metadata": {
      "needs_background": "light"
     },
     "output_type": "display_data"
    }
   ],
   "source": [
    "plt.imshow((np.arccos(cosine_matrix[1:,1:] * (1 - 1e-10))/np.pi*180 - 90)/90) # 0.9999 is a hack to make arccos function well-behaved\n",
    "plt.colorbar()\n",
    "plt.title(\"Relative difference from 90 degrees before the procedure\")"
   ]
  },
  {
   "cell_type": "markdown",
   "metadata": {},
   "source": [
    "So, things seem to be working more or less. Now convert vectors back to matrices and glue everything together."
   ]
  },
  {
   "cell_type": "code",
   "execution_count": 102,
   "metadata": {},
   "outputs": [
    {
     "data": {
      "text/plain": [
       "array([[0., 0., 0., 0.],\n",
       "       [0., 0., 0., 0.],\n",
       "       [0., 0., 0., 0.],\n",
       "       [0., 0., 0., 0.]])"
      ]
     },
     "execution_count": 102,
     "metadata": {},
     "output_type": "execute_result"
    }
   ],
   "source": [
    "np.asarray(grads[0]).reshape(-1).reshape([n,n]) - grads[0]"
   ]
  },
  {
   "cell_type": "code",
   "execution_count": 103,
   "metadata": {},
   "outputs": [],
   "source": [
    "# convert them to vectors\n",
    "new_grads = []\n",
    "for s_val_index in range(num_s_val):\n",
    "    grad = decoupled_grads[s_val_index]\n",
    "    new_grads.append(np.asarray(grad).reshape([n,n]))"
   ]
  },
  {
   "cell_type": "code",
   "execution_count": 104,
   "metadata": {},
   "outputs": [
    {
     "data": {
      "text/plain": [
       "[array([[0., 0., 0., 0.],\n",
       "        [0., 0., 0., 0.],\n",
       "        [0., 0., 0., 0.],\n",
       "        [0., 0., 0., 0.]]),\n",
       " array([[ 0.00000000e+00,  6.89811391e-05,  0.00000000e+00,\n",
       "          0.00000000e+00],\n",
       "        [ 0.00000000e+00,  0.00000000e+00,  7.05703386e-06,\n",
       "          0.00000000e+00],\n",
       "        [ 0.00000000e+00,  0.00000000e+00,  0.00000000e+00,\n",
       "          0.00000000e+00],\n",
       "        [ 0.00000000e+00,  8.40012883e-06, -8.37914979e-06,\n",
       "          0.00000000e+00]]),\n",
       " array([[ 0.        , -0.006751  ,  0.        ,  0.        ],\n",
       "        [ 0.        ,  0.        ,  0.02153398,  0.        ],\n",
       "        [ 0.        ,  0.        ,  0.        ,  0.        ],\n",
       "        [ 0.        ,  0.0185346 ,  0.03951338,  0.        ]]),\n",
       " array([[ 0.00000000e+00, -9.05181286e-16,  0.00000000e+00,\n",
       "          0.00000000e+00],\n",
       "        [ 0.00000000e+00,  0.00000000e+00,  2.45435868e-15,\n",
       "          0.00000000e+00],\n",
       "        [ 0.00000000e+00,  0.00000000e+00,  0.00000000e+00,\n",
       "          0.00000000e+00],\n",
       "        [ 0.00000000e+00, -2.26660402e-15,  2.62572715e-17,\n",
       "          0.00000000e+00]])]"
      ]
     },
     "execution_count": 104,
     "metadata": {},
     "output_type": "execute_result"
    }
   ],
   "source": [
    "new_grads"
   ]
  },
  {
   "cell_type": "markdown",
   "metadata": {},
   "source": [
    "Now glue it"
   ]
  },
  {
   "cell_type": "code",
   "execution_count": 191,
   "metadata": {},
   "outputs": [
    {
     "name": "stdout",
     "output_type": "stream",
     "text": [
      "0 2 1.16676694269677 1.1771150812643032\n",
      "1000 2 1.8651192177966476 1.8838016553923123\n",
      "2000 2 4.04992539392905 2.7176782870912355\n",
      "3000 2 4.151760778037336 2.8004263337610733\n",
      "4000 2 4.237613850856277 2.8718586159217905\n",
      "5000 2 4.316691799462572 2.9381324266465407\n",
      "6000 2 4.394446770998884 3.003935599707099\n",
      "7000 2 4.468815487356171 3.067749206791842\n",
      "8000 2 4.541233519235113 3.1300681253446982\n",
      "9000 2 4.609801069621799 3.1892399941836143\n",
      "10000 2 4.67607607410283 3.2465546821862223\n",
      "11000 2 4.741968544406255 3.3037653417322086\n",
      "12000 2 4.803181603965422 3.3571629728604897\n",
      "13000 2 4.8634169332232995 3.4099524972063002\n",
      "14000 2 4.921515583538028 3.4610842833240723\n",
      "15000 2 4.979579784946852 3.5122869127218945\n",
      "16000 2 5.035528786435545 3.561837372867309\n",
      "17000 2 5.090091320825202 3.6101608057407883\n",
      "18000 2 5.141554136083438 3.6560291659021966\n",
      "19000 2 5.192779224343675 3.701666459971674\n",
      "20000 2 5.243812455237549 3.7472011945473715\n",
      "21000 2 5.292393211832809 3.7905733778174877\n",
      "22000 2 5.340422462430896 3.83374766496999\n",
      "23000 2 5.38896766347327 3.8773031352566054\n",
      "24000 2 5.434649560867085 3.918471385129989\n",
      "25000 2 5.48008668919708 3.9593540431095393\n",
      "26000 2 5.525090166525557 4.000232664226302\n",
      "27000 2 5.571871552397071 4.004578213844227\n",
      "28000 2 5.563048677761587 4.019882645896014\n",
      "29000 2 5.590272318615211 4.05246679416926\n",
      "30000 2 4.707610021494517 3.190222108295367\n",
      "31000 2 4.146530549366337 2.7012412434199593\n",
      "32000 2 4.022290147137055 2.602004953707011\n",
      "33000 2 4.091256503861998 2.6630773243466104\n",
      "34000 2 4.198071297891236 2.7557488060325213\n",
      "35000 2 8.68371501701425 7.346278890687931\n",
      "36000 2 8.673224626259389 7.336195106799474\n",
      "37000 2 8.661847087906207 7.325907443385156\n",
      "38000 2 8.649893929218617 7.314152603841483\n",
      "39000 2 8.638225194152858 7.302995777109128\n",
      "40000 2 8.622060213592226 7.287174277609074\n",
      "41000 2 8.60731470813671 7.272671613401592\n",
      "42000 2 8.58994364562575 7.254336153317835\n",
      "43000 2 8.571457482847135 7.235606724200179\n",
      "44000 2 8.552611800498259 7.216372188626303\n",
      "45000 2 8.529992124019422 7.194031328755054\n",
      "46000 2 8.511510591265615 7.172374500699499\n",
      "47000 2 8.491471408857452 7.150385698647017\n",
      "48000 2 8.469811281265256 7.123834584743348\n",
      "49000 2 8.442628789908015 7.0923857234751235\n",
      "50000 2 8.41442153628103 7.058557310283451\n",
      "51000 2 8.383468788545628 7.022008579308768\n",
      "52000 2 8.350882773077124 6.982052002736432\n",
      "53000 2 8.31360780148539 6.934915512837504\n",
      "54000 2 8.271807674448116 6.882692231324037\n",
      "55000 2 8.234357887780915 6.8325746294337\n",
      "56000 2 8.189149814272092 6.7716271701596344\n",
      "57000 2 8.134047153455304 6.698811975758087\n",
      "58000 2 8.076588871696973 6.621794388617545\n",
      "59000 2 7.995793206892581 6.519625268572226\n",
      "60000 2 7.9025388237343845 6.408048496733552\n",
      "61000 2 7.73714660004708 6.246238234588579\n",
      "62000 2 7.3622106634984466 5.922275430159109\n",
      "63000 2 6.895519650775009 5.454889500195927\n",
      "64000 2 6.805773514755795 5.362434429640977\n",
      "65000 2 6.705861512390268 5.2625448793686855\n",
      "66000 2 6.625263331178723 5.181974753898946\n",
      "67000 2 6.565303429787625 5.121231238010157\n",
      "68000 2 6.51889774515512 5.074932894185544\n",
      "69000 2 6.48137726699856 5.037872506613641\n",
      "70000 2 6.447095524222461 5.003446790279749\n",
      "71000 2 6.4203523694758 4.976627837189328\n",
      "72000 2 6.39643953436002 4.952532065330948\n",
      "73000 1 6.378869213492312 4.934711900788583\n",
      "74000 2 6.366412112764352 4.92230532644334\n",
      "75000 2 6.355038989610165 4.910890988509688\n",
      "76000 2 6.347030239698306 4.902925971287969\n",
      "77000 2 6.33843782420375 4.894355362435489\n",
      "78000 2 6.3316472881501165 4.8875490124070735\n",
      "79000 2 6.324395513061565 4.88038189275129\n",
      "80000 2 6.31853416347685 4.874568700223306\n",
      "81000 1 6.316346943142701 4.872357364672603\n",
      "82000 1 6.315636580498902 4.87165470567284\n",
      "83000 1 6.315399510736357 4.871399829358269\n",
      "84000 1 6.315495959570809 4.8714995898904006\n",
      "85000 1 6.315633426994993 4.871643668649521\n",
      "86000 1 6.315875046209083 4.871867455548755\n",
      "87000 1 6.315998558046569 4.871998235457066\n",
      "88000 1 6.316120009972844 4.872140663678561\n",
      "89000 1 6.316250474841661 4.872263638363458\n",
      "90000 1 6.316325612763147 4.87233251811886\n",
      "91000 1 6.316404080935004 4.872403161173089\n",
      "92000 1 6.31645993555132 4.872450228149445\n",
      "93000 1 6.316459971723815 4.872480818088233\n",
      "94000 1 6.316501455816113 4.872522220899967\n",
      "95000 1 6.31650129988854 4.872538018581061\n",
      "96000 1 6.316499491776436 4.872552154687075\n",
      "97000 1 6.31651257186505 4.872558735807749\n",
      "98000 1 6.316524100049375 4.872570769297258\n",
      "99000 1 6.316534033163761 4.872581080436962\n"
     ]
    }
   ],
   "source": [
    "starting_point = np.copy(original)\n",
    "\n",
    "boolMask = np.ma.make_mask(np.where(np.array(mask) < 0.5, 1, 0))\n",
    "starting_point[boolMask] = 0\n",
    "\n",
    "prev_norm = np.linalg.norm(starting_point,'nuc')\n",
    "\n",
    "current_point = starting_point\n",
    "\n",
    "max_grad_log = []\n",
    "sing_val_log = []\n",
    "distances_log = []\n",
    "\n",
    "for i in range(100000):\n",
    "    s_vec, s_val, vh = np.linalg.svd(current_point)\n",
    "    num_s_val = len(s_val)\n",
    "\n",
    "    grads = []\n",
    "    for s_val_index in range(num_s_val):\n",
    "        grad = comp_grad(obj_func, current_point, s_vec[:,s_val_index])\n",
    "\n",
    "        grads.append(grad)\n",
    "        \n",
    "    # convert grads into vectors\n",
    "    vector_grads = []\n",
    "    for s_val_index in range(num_s_val):\n",
    "        grad = grads[s_val_index]\n",
    "        vector_grads.append(np.asarray(grad).reshape(-1))\n",
    "        \n",
    "    # decouple grads\n",
    "    decoupled_grads = []\n",
    "\n",
    "    for grad_i in range(num_s_val):\n",
    "        grad = vector_grads[grad_i]\n",
    "\n",
    "        for j in range(num_s_val):\n",
    "            other_grad = vector_grads[j]\n",
    "            grad = grad - other_grad/np.dot(other_grad, other_grad) * np.dot(grad, other_grad)\n",
    "\n",
    "        decoupled_grads.append(grad)\n",
    "        \n",
    "    # convert grads back into matrices\n",
    "    new_grads = []\n",
    "    for s_val_index in range(num_s_val):\n",
    "        grad = decoupled_grads[s_val_index]\n",
    "        new_grads.append(np.asarray(grad).reshape([n,n]))\n",
    "    \n",
    "    # compute grad norms\n",
    "    grads_norms = []\n",
    "    for s_val_index in range(num_s_val):\n",
    "        grad = decoupled_grads[s_val_index]\n",
    "        grads_norms.append(np.linalg.norm(grad))\n",
    "    \n",
    "    max_grad = np.argmax(grads_norms) # np.random.randint(num_s_val)\n",
    "    grad = new_grads[max_grad]\n",
    "\n",
    "    if i % 1000 == 0:\n",
    "        print(i, max_grad, np.sum(s_val), np.linalg.norm(current_point-original,'fro'))\n",
    "    max_grad_log.append(max_grad)\n",
    "    sing_val_log.append(np.sum(s_val))\n",
    "    distances_log.append(np.linalg.norm(current_point-original,'fro'))\n",
    "    current_point = current_point - 0.01*grad"
   ]
  },
  {
   "cell_type": "code",
   "execution_count": 192,
   "metadata": {},
   "outputs": [
    {
     "data": {
      "text/plain": [
       "[<matplotlib.lines.Line2D at 0x7fb3ee424ef0>]"
      ]
     },
     "execution_count": 192,
     "metadata": {},
     "output_type": "execute_result"
    },
    {
     "data": {
      "image/png": "[encoded data removed]",
      "text/plain": [
       "<Figure size 432x288 with 1 Axes>"
      ]
     },
     "metadata": {
      "needs_background": "light"
     },
     "output_type": "display_data"
    }
   ],
   "source": [
    "plt.plot(sing_val_log)"
   ]
  },
  {
   "cell_type": "code",
   "execution_count": 193,
   "metadata": {},
   "outputs": [
    {
     "data": {
      "text/plain": [
       "[<matplotlib.lines.Line2D at 0x7fb3ee40a9b0>]"
      ]
     },
     "execution_count": 193,
     "metadata": {},
     "output_type": "execute_result"
    },
    {
     "data": {
      "image/png": "[encoded data removed]",
      "text/plain": [
       "<Figure size 432x288 with 1 Axes>"
      ]
     },
     "metadata": {
      "needs_background": "light"
     },
     "output_type": "display_data"
    }
   ],
   "source": [
    "plt.plot(distances_log)"
   ]
  },
  {
   "cell_type": "code",
   "execution_count": 195,
   "metadata": {},
   "outputs": [
    {
     "data": {
      "text/plain": [
       "array([[ 0.        ,  0.        ,  0.        ,  0.        ],\n",
       "       [ 0.        ,  0.        , -0.06366409, -4.1913638 ],\n",
       "       [ 0.        ,  0.        ,  0.05947291,  2.48333972],\n",
       "       [ 0.        ,  0.        ,  0.        ,  0.        ]])"
      ]
     },
     "execution_count": 195,
     "metadata": {},
     "output_type": "execute_result"
    }
   ],
   "source": [
    "current_point-original"
   ]
  },
  {
   "cell_type": "code",
   "execution_count": 175,
   "metadata": {},
   "outputs": [
    {
     "data": {
      "text/plain": [
       "5"
      ]
     },
     "execution_count": 175,
     "metadata": {},
     "output_type": "execute_result"
    }
   ],
   "source": [
    "np.random.randint(10)"
   ]
  },
  {
   "cell_type": "markdown",
   "metadata": {},
   "source": [
    "So, this approach doesn't seem to work."
   ]
  },
  {
   "cell_type": "code",
   "execution_count": null,
   "metadata": {},
   "outputs": [],
   "source": []
  }
 ],
 "metadata": {
  "kernelspec": {
   "display_name": "Python 3",
   "language": "python",
   "name": "python3"
  },
  "language_info": {
   "codemirror_mode": {
    "name": "ipython",
    "version": 3
   },
   "file_extension": ".py",
   "mimetype": "text/x-python",
   "name": "python",
   "nbconvert_exporter": "python",
   "pygments_lexer": "ipython3",
   "version": "3.7.1"
  }
 },
 "nbformat": 4,
 "nbformat_minor": 2
}
