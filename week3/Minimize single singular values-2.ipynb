{
 "cells": [
  {
   "cell_type": "code",
   "execution_count": 8,
   "metadata": {},
   "outputs": [],
   "source": [
    "import numpy as np\n",
    "import matplotlib.pyplot as plt"
   ]
  },
  {
   "cell_type": "code",
   "execution_count": 31,
   "metadata": {},
   "outputs": [],
   "source": [
    "# Define a matrix, mask and noise\n",
    "p = 0.75\n",
    "rank = 1\n",
    "\n",
    "n = 40\n",
    "\n",
    "U = np.random.randn(n, rank)\n",
    "V = np.random.randn(n, rank)\n",
    "original = np.dot(U, V.T)\n",
    "mask = np.random.choice([0, 1], size=(n,n), p=[1-p, p])"
   ]
  },
  {
   "cell_type": "code",
   "execution_count": 32,
   "metadata": {},
   "outputs": [],
   "source": [
    "def minimize_singular_value(sing_val_index):\n",
    "\n",
    "    starting_point = np.copy(original)\n",
    "\n",
    "    boolMask = np.ma.make_mask(np.where(np.array(mask) < 0.5, 1, 0))\n",
    "    starting_point[boolMask] = 0\n",
    "\n",
    "    prev_norm = np.linalg.norm(starting_point,'nuc')\n",
    "\n",
    "    current_point = starting_point\n",
    "\n",
    "    def obj_func(m, vec):\n",
    "        u, s, vh = np.linalg.svd(m)\n",
    "        index = np.argmax(np.dot(vec, u))\n",
    "\n",
    "        return s[index]\n",
    "\n",
    "    def comp_grad(of, m, vec):\n",
    "        \"\"\" Computes gradient that maximizes the objective function \"\"\"\n",
    "        epsilon = 1e-3\n",
    "\n",
    "        grad = np.zeros([n,n])\n",
    "\n",
    "        for i in range(n):\n",
    "            for j in range(n):\n",
    "                if boolMask[i,j]:\n",
    "                    diff = np.zeros([n,n])\n",
    "                    diff[i,j] = epsilon\n",
    "                    grad[i,j] = (of(m + diff, vec) - of(m - diff, vec))/(2*epsilon)\n",
    "\n",
    "        return grad\n",
    "\n",
    "\n",
    "    u, s, vh = np.linalg.svd(current_point)\n",
    "    vec = u[:,sing_val_index]\n",
    "\n",
    "    sing_val_log = []\n",
    "    distances_log = []\n",
    "    \n",
    "    for i in range(2000):\n",
    "        u, s, vh = np.linalg.svd(current_point)\n",
    "        index = np.argmax(np.dot(vec, u))\n",
    "        vec = u[:,index]\n",
    "\n",
    "        print(i, index, s[index], np.linalg.norm(current_point-original,'fro'))\n",
    "        sing_val_log.append(s[index])\n",
    "        distances_log.append(np.linalg.norm(current_point-original,'fro'))\n",
    "        current_point = current_point - 0.1*comp_grad(obj_func, current_point, vec)\n",
    "    \n",
    "    return current_point, sing_val_log, distances_log"
   ]
  },
  {
   "cell_type": "markdown",
   "metadata": {},
   "source": [
    "### A bit of mess"
   ]
  },
  {
   "cell_type": "code",
   "execution_count": 33,
   "metadata": {},
   "outputs": [
    {
     "name": "stdout",
     "output_type": "stream",
     "text": [
      "\n",
      "\n",
      "##################\n",
      "Optimizing 3\n",
      "##################\n",
      "\n",
      "\n",
      "1 3 5.401658357089332 17.1560386997971\n",
      "2 3 5.399540368309205 17.154458641411093\n",
      "3 3 5.397422991690538 17.152879078118467\n",
      "4 3 5.395306229154046 17.15130000979111\n",
      "5 3 5.393190082610833 17.149721436300553\n",
      "6 3 5.391074553962549 17.148143357518133\n",
      "7 3 5.3889596451013375 17.146565773314823\n",
      "8 3 5.386845357910008 17.14498868356142\n",
      "9 3 5.3847316942621015 17.143412088128446\n",
      "10 3 5.382618656021921 17.141835986886086\n",
      "11 3 5.380506245044711 17.140260379704365\n",
      "12 3 5.378394463176574 17.138685266452914\n",
      "13 3 5.376283312254666 17.13711064700113\n",
      "14 3 5.374172794107257 17.13553652121821\n",
      "15 3 5.372062910553737 17.133962888973024\n",
      "16 3 5.369953663404755 17.13238975013417\n",
      "17 3 5.367845054462264 17.130817104569978\n",
      "18 3 5.365737085519596 17.129244952148554\n",
      "19 3 5.363629758361513 17.127673292737644\n",
      "20 3 5.361523074764325 17.126102126204838\n",
      "21 3 5.359417036495862 17.124531452417354\n",
      "22 3 5.357311645315662 17.122961271242186\n",
      "23 3 5.355206902974965 17.121391582546067\n",
      "24 3 5.3531028112167505 17.11982238619542\n",
      "25 3 5.350999371775891 17.118253682056448\n",
      "26 3 5.348896586379162 17.11668546999503\n",
      "27 3 5.346794456745275 17.115117749876806\n",
      "28 3 5.344692984585036 17.113550521567127\n",
      "29 3 5.342592171601292 17.111983784931063\n",
      "30 3 5.340492019489103 17.110417539833456\n",
      "31 3 5.338392529935721 17.108851786138835\n",
      "32 3 5.3362937046206875 17.107286523711455\n",
      "33 3 5.3341955452159 17.105721752415402\n",
      "34 3 5.332098053385648 17.104157472114355\n",
      "35 3 5.330001230786706 17.102593682671774\n",
      "36 3 5.327905079068318 17.101030383950835\n",
      "37 3 5.325809599872352 17.099467575814447\n",
      "38 3 5.323714794833308 17.09790525812529\n",
      "39 3 5.32162066557836 17.096343430745698\n",
      "40 3 5.319527213727434 17.09478209353776\n",
      "41 3 5.3174344408932415 17.093221246363292\n",
      "42 3 5.315342348681394 17.091660889083922\n",
      "43 3 5.313250938690417 17.09010102156088\n",
      "44 3 5.311160212511735 17.088541643655116\n",
      "45 3 5.30907017172988 17.086982755227442\n",
      "46 3 5.306980817922406 17.0854243561383\n",
      "47 3 5.304892152659999 17.083866446247885\n",
      "48 3 5.302804177506521 17.082309025416098\n",
      "49 3 5.300716894019089 17.080752093502593\n",
      "50 3 5.2986303037480695 17.079195650366696\n",
      "51 3 5.29654440823717 17.077639695867582\n",
      "52 3 5.2944592090235 17.076084229864037\n",
      "53 3 5.29237470763756 17.074529252214628\n",
      "54 3 5.290290905603329 17.072974762777612\n",
      "55 3 5.288207804438345 17.071420761411016\n",
      "56 3 5.286125405653732 17.06986724797256\n",
      "57 3 5.284043710754192 17.06831422231974\n",
      "58 3 5.281962721238106 17.066761684309693\n",
      "59 3 5.2798824385975935 17.065209633799373\n",
      "60 3 5.277802864318529 17.0636580706454\n",
      "61 3 5.275723999880568 17.062106994704166\n",
      "62 3 5.273645846757269 17.060556405831782\n",
      "63 3 5.271568406416059 17.05900630388405\n",
      "64 3 5.269491680318331 17.057456688716567\n",
      "65 3 5.267415669919407 17.055907560184572\n",
      "66 3 5.265340376668723 17.054358918143077\n",
      "67 3 5.263265802009722 17.052810762446814\n",
      "68 3 5.261191947380028 17.051263092950258\n",
      "69 3 5.259118814211334 17.049715909507608\n",
      "70 3 5.257046403929611 17.048169211972716\n",
      "71 3 5.254974717955101 17.046623000199318\n",
      "72 3 5.252903757702232 17.045077274040732\n",
      "73 3 5.250833524579837 17.043532033350083\n",
      "74 3 5.248764019991101 17.04198727798018\n",
      "75 3 5.246695245333592 17.040443007783583\n",
      "76 3 5.244627201999351 17.03889922261258\n",
      "77 3 5.24255989137488 17.037355922319183\n",
      "78 3 5.240493314841287 17.035813106755143\n",
      "79 3 5.2384274737741094 17.034270775771905\n",
      "80 3 5.236362369543599 17.03272892922065\n",
      "81 3 5.234298003514603 17.031187566952333\n",
      "82 3 5.23223437704669 17.02964668881756\n",
      "83 3 5.230171491494101 17.028106294666753\n",
      "84 3 5.228109348205848 17.026566384349984\n",
      "85 3 5.226047948525747 17.025026957717092\n",
      "86 3 5.223987293792397 17.02348801461764\n",
      "87 3 5.221927385339346 17.021949554900953\n",
      "88 3 5.219868224494953 17.020411578416038\n",
      "89 3 5.217809812582569 17.018874085011603\n",
      "90 3 5.215752150920507 17.017337074536126\n",
      "91 3 5.213695240822077 17.01580054683783\n",
      "92 3 5.211639083595617 17.01426450176463\n",
      "93 3 5.209583680544575 17.01272893916419\n",
      "94 3 5.207529032967509 17.01119385888394\n",
      "95 3 5.205475142158086 17.00965926077092\n",
      "96 3 5.2034220094051715 17.00812514467205\n",
      "97 3 5.201369635992852 17.006591510433832\n",
      "98 3 5.199318023200416 17.00505835790266\n",
      "99 3 5.197267172302504 17.00352568692449\n",
      "100 3 5.195217084568983 17.001993497345115\n",
      "101 3 5.193167761265087 17.000461789010018\n",
      "102 3 5.19111920365148 16.99893056176438\n",
      "103 3 5.18907141298412 16.99739981545317\n",
      "104 3 5.187024390514535 16.995869549921128\n",
      "105 3 5.184978137489623 16.994339765012583\n",
      "106 3 5.182932655151803 16.9928104605717\n",
      "107 3 5.18088794473903 16.99128163644236\n",
      "108 3 5.178844007484795 16.989753292468126\n",
      "109 3 5.17680084461824 16.988225428492306\n",
      "110 3 5.174758457364053 16.986698044357997\n",
      "111 3 5.172716846942612 16.98517113990799\n",
      "112 3 5.170676014569961 16.98364471498476\n",
      "113 3 5.168635961457847 16.98211876943056\n",
      "114 3 5.166596688813804 16.980593303087396\n",
      "115 3 5.164558197841036 16.97906831579691\n",
      "116 3 5.162520489738624 16.97754380740058\n",
      "117 3 5.160483565701417 16.976019777739594\n",
      "118 3 5.158447426920171 16.974496226654797\n",
      "119 3 5.156412074581457 16.972973153986835\n",
      "120 3 5.154377509867783 16.971450559576063\n",
      "121 3 5.152343733957615 16.969928443262592\n",
      "122 3 5.150310748025285 16.968406804886165\n",
      "123 3 5.148278553241222 16.966885644286382\n",
      "124 3 5.1462471507718055 16.965364961302498\n",
      "125 3 5.144216541779495 16.96384475577358\n",
      "126 3 5.142186727422815 16.962325027538338\n",
      "127 3 5.140157708856309 16.960805776435212\n",
      "128 3 5.138129487230729 16.959287002302432\n",
      "129 3 5.136102063692932 16.95776870497792\n",
      "130 3 5.134075439385933 16.956250884299365\n",
      "131 3 5.132049615448977 16.954733540104126\n",
      "132 3 5.130024593017478 16.953216672229342\n",
      "133 3 5.12800037322317 16.95170028051189\n",
      "134 3 5.125976957194029 16.950184364788356\n",
      "135 3 5.123954346054286 16.94866892489509\n",
      "136 3 5.121932540924515 16.947153960668103\n",
      "137 3 5.119911542921655 16.945639471943228\n",
      "138 3 5.1178913531590124 16.944125458555966\n",
      "139 3 5.115871972746253 16.942611920341538\n",
      "140 3 5.1138534027894815 16.94109885713497\n",
      "141 3 5.111835644391232 16.939586268770974\n",
      "142 3 5.109818698650506 16.938074155083992\n",
      "143 3 5.107802566662808 16.936562515908236\n",
      "144 3 5.105787249520143 16.93505135107758\n",
      "145 3 5.103772748310979 16.933540660425642\n",
      "146 3 5.1017590641205075 16.932030443785884\n",
      "147 3 5.099746198030313 16.93052070099137\n",
      "148 3 5.097734151118722 16.929011431874983\n",
      "149 3 5.095722924460588 16.927502636269274\n",
      "150 3 5.09371251912745 16.925994314006594\n",
      "151 3 5.091702936187489 16.924486464918914\n",
      "152 3 5.089694176705624 16.92297908883807\n",
      "153 3 5.087686241743435 16.921472185595604\n",
      "154 3 5.085679132359297 16.91996575502271\n",
      "155 3 5.083672849608222 16.918459796950376\n",
      "156 3 5.081667394542149 16.916954311209363\n",
      "157 3 5.079662768209682 16.915449297630072\n",
      "158 3 5.0776589716563185 16.913944756042728\n",
      "159 3 5.075656005924363 16.912440686277222\n",
      "160 3 5.073653872053007 16.910937088163177\n",
      "161 3 5.071652571078292 16.909433961530038\n",
      "162 3 5.069652104033177 16.90793130620689\n",
      "163 3 5.067652471947496 16.906429122022594\n",
      "164 3 5.065653675848114 16.904927408805758\n",
      "165 3 5.063655716758798 16.903426166384715\n",
      "166 3 5.061658595700291 16.901925394587515\n",
      "167 3 5.059662313690357 16.900425093241935\n",
      "168 3 5.057666871743763 16.89892526217553\n",
      "169 3 5.055672270872337 16.897425901215517\n",
      "170 3 5.053678512084958 16.895927010188977\n",
      "171 3 5.051685596387561 16.894428588922565\n",
      "172 3 5.04969352478322 16.89293063724282\n",
      "173 3 5.0477022982721245 16.89143315497595\n",
      "174 3 5.0457119178515555 16.889936141947835\n",
      "175 3 5.043722384515998 16.88843959798419\n",
      "176 3 5.04173369925708 16.886943522910432\n",
      "177 3 5.039745863063643 16.885447916551687\n",
      "178 3 5.037758876921705 16.88395277873288\n",
      "179 3 5.035772741814583 16.882458109278602\n",
      "180 3 5.033787458722772 16.88096390801322\n",
      "181 3 5.0318030286240845 16.87947017476087\n",
      "182 3 5.029819452493581 16.877976909345335\n",
      "183 3 5.027836731303642 16.876484111590166\n",
      "184 3 5.025854866023976 16.874991781318716\n",
      "185 3 5.023873857621609 16.873499918353975\n",
      "186 3 5.021893707060952 16.872008522518744\n",
      "187 3 5.019914415303828 16.870517593635586\n",
      "188 3 5.017935983309335 16.86902713152672\n",
      "189 3 5.015958412034085 16.867537136014086\n",
      "190 3 5.013981702432048 16.866047606919462\n",
      "191 3 5.012005855454715 16.864558544064298\n",
      "192 3 5.010030872050979 16.863069947269793\n",
      "193 3 5.008056753167236 16.8615818163569\n",
      "194 3 5.006083499747361 16.86009415114628\n"
     ]
    },
    {
     "name": "stdout",
     "output_type": "stream",
     "text": [
      "195 3 5.004111112732776 16.858606951458356\n",
      "196 3 5.002139593062412 16.857120217113263\n",
      "197 3 5.000168941672737 16.855633947930894\n"
     ]
    },
    {
     "ename": "KeyboardInterrupt",
     "evalue": "",
     "output_type": "error",
     "traceback": [
      "\u001b[0;31m---------------------------------------------------------------------------\u001b[0m",
      "\u001b[0;31mKeyboardInterrupt\u001b[0m                         Traceback (most recent call last)",
      "\u001b[0;32m<ipython-input-33-3b1559dcf039>\u001b[0m in \u001b[0;36m<module>\u001b[0;34m\u001b[0m\n\u001b[1;32m     79\u001b[0m         \u001b[0mdistances_log\u001b[0m\u001b[0;34m.\u001b[0m\u001b[0mappend\u001b[0m\u001b[0;34m(\u001b[0m\u001b[0mnp\u001b[0m\u001b[0;34m.\u001b[0m\u001b[0mlinalg\u001b[0m\u001b[0;34m.\u001b[0m\u001b[0mnorm\u001b[0m\u001b[0;34m(\u001b[0m\u001b[0mcurrent_point\u001b[0m\u001b[0;34m-\u001b[0m\u001b[0moriginal\u001b[0m\u001b[0;34m,\u001b[0m\u001b[0;34m'fro'\u001b[0m\u001b[0;34m)\u001b[0m\u001b[0;34m)\u001b[0m\u001b[0;34m\u001b[0m\u001b[0;34m\u001b[0m\u001b[0m\n\u001b[1;32m     80\u001b[0m         \u001b[0;31m#current_point = current_point - 0.0001*comp_grad(obj_func, current_point, vec)\u001b[0m\u001b[0;34m\u001b[0m\u001b[0;34m\u001b[0m\u001b[0;34m\u001b[0m\u001b[0m\n\u001b[0;32m---> 81\u001b[0;31m         \u001b[0mgrad\u001b[0m \u001b[0;34m=\u001b[0m \u001b[0mcomp_grad\u001b[0m\u001b[0;34m(\u001b[0m\u001b[0mobj_func\u001b[0m\u001b[0;34m,\u001b[0m \u001b[0mcurrent_point\u001b[0m\u001b[0;34m,\u001b[0m \u001b[0mvec\u001b[0m\u001b[0;34m)\u001b[0m\u001b[0;34m\u001b[0m\u001b[0;34m\u001b[0m\u001b[0m\n\u001b[0m\u001b[1;32m     82\u001b[0m         \u001b[0mcurrent_point\u001b[0m \u001b[0;34m=\u001b[0m \u001b[0mline_search\u001b[0m\u001b[0;34m(\u001b[0m\u001b[0mcurrent_point\u001b[0m\u001b[0;34m,\u001b[0m \u001b[0mgrad\u001b[0m\u001b[0;34m,\u001b[0m \u001b[0mobj_func\u001b[0m\u001b[0;34m,\u001b[0m \u001b[0mvec\u001b[0m\u001b[0;34m)\u001b[0m\u001b[0;34m\u001b[0m\u001b[0;34m\u001b[0m\u001b[0m\n\u001b[1;32m     83\u001b[0m \u001b[0;34m\u001b[0m\u001b[0m\n",
      "\u001b[0;32m<ipython-input-33-3b1559dcf039>\u001b[0m in \u001b[0;36mcomp_grad\u001b[0;34m(of, m, vec)\u001b[0m\n\u001b[1;32m     25\u001b[0m                 \u001b[0mdiff\u001b[0m \u001b[0;34m=\u001b[0m \u001b[0mnp\u001b[0m\u001b[0;34m.\u001b[0m\u001b[0mzeros\u001b[0m\u001b[0;34m(\u001b[0m\u001b[0;34m[\u001b[0m\u001b[0mn\u001b[0m\u001b[0;34m,\u001b[0m\u001b[0mn\u001b[0m\u001b[0;34m]\u001b[0m\u001b[0;34m)\u001b[0m\u001b[0;34m\u001b[0m\u001b[0;34m\u001b[0m\u001b[0m\n\u001b[1;32m     26\u001b[0m                 \u001b[0mdiff\u001b[0m\u001b[0;34m[\u001b[0m\u001b[0mi\u001b[0m\u001b[0;34m,\u001b[0m\u001b[0mj\u001b[0m\u001b[0;34m]\u001b[0m \u001b[0;34m=\u001b[0m \u001b[0mepsilon\u001b[0m\u001b[0;34m\u001b[0m\u001b[0;34m\u001b[0m\u001b[0m\n\u001b[0;32m---> 27\u001b[0;31m                 \u001b[0mgrad\u001b[0m\u001b[0;34m[\u001b[0m\u001b[0mi\u001b[0m\u001b[0;34m,\u001b[0m\u001b[0mj\u001b[0m\u001b[0;34m]\u001b[0m \u001b[0;34m=\u001b[0m \u001b[0;34m(\u001b[0m\u001b[0mof\u001b[0m\u001b[0;34m(\u001b[0m\u001b[0mm\u001b[0m \u001b[0;34m+\u001b[0m \u001b[0mdiff\u001b[0m\u001b[0;34m,\u001b[0m \u001b[0mvec\u001b[0m\u001b[0;34m)\u001b[0m \u001b[0;34m-\u001b[0m \u001b[0mof\u001b[0m\u001b[0;34m(\u001b[0m\u001b[0mm\u001b[0m \u001b[0;34m-\u001b[0m \u001b[0mdiff\u001b[0m\u001b[0;34m,\u001b[0m \u001b[0mvec\u001b[0m\u001b[0;34m)\u001b[0m\u001b[0;34m)\u001b[0m\u001b[0;34m/\u001b[0m\u001b[0;34m(\u001b[0m\u001b[0;36m2\u001b[0m\u001b[0;34m*\u001b[0m\u001b[0mepsilon\u001b[0m\u001b[0;34m)\u001b[0m\u001b[0;34m\u001b[0m\u001b[0;34m\u001b[0m\u001b[0m\n\u001b[0m\u001b[1;32m     28\u001b[0m \u001b[0;34m\u001b[0m\u001b[0m\n\u001b[1;32m     29\u001b[0m     \u001b[0;32mreturn\u001b[0m \u001b[0mgrad\u001b[0m\u001b[0;34m\u001b[0m\u001b[0;34m\u001b[0m\u001b[0m\n",
      "\u001b[0;32m<ipython-input-33-3b1559dcf039>\u001b[0m in \u001b[0;36mobj_func\u001b[0;34m(m, vec)\u001b[0m\n\u001b[1;32m      9\u001b[0m \u001b[0;34m\u001b[0m\u001b[0m\n\u001b[1;32m     10\u001b[0m \u001b[0;32mdef\u001b[0m \u001b[0mobj_func\u001b[0m\u001b[0;34m(\u001b[0m\u001b[0mm\u001b[0m\u001b[0;34m,\u001b[0m \u001b[0mvec\u001b[0m\u001b[0;34m)\u001b[0m\u001b[0;34m:\u001b[0m\u001b[0;34m\u001b[0m\u001b[0;34m\u001b[0m\u001b[0m\n\u001b[0;32m---> 11\u001b[0;31m     \u001b[0mu\u001b[0m\u001b[0;34m,\u001b[0m \u001b[0ms\u001b[0m\u001b[0;34m,\u001b[0m \u001b[0mvh\u001b[0m \u001b[0;34m=\u001b[0m \u001b[0mnp\u001b[0m\u001b[0;34m.\u001b[0m\u001b[0mlinalg\u001b[0m\u001b[0;34m.\u001b[0m\u001b[0msvd\u001b[0m\u001b[0;34m(\u001b[0m\u001b[0mm\u001b[0m\u001b[0;34m)\u001b[0m\u001b[0;34m\u001b[0m\u001b[0;34m\u001b[0m\u001b[0m\n\u001b[0m\u001b[1;32m     12\u001b[0m     \u001b[0mindex\u001b[0m \u001b[0;34m=\u001b[0m \u001b[0mnp\u001b[0m\u001b[0;34m.\u001b[0m\u001b[0margmax\u001b[0m\u001b[0;34m(\u001b[0m\u001b[0mnp\u001b[0m\u001b[0;34m.\u001b[0m\u001b[0mdot\u001b[0m\u001b[0;34m(\u001b[0m\u001b[0mvec\u001b[0m\u001b[0;34m,\u001b[0m \u001b[0mu\u001b[0m\u001b[0;34m)\u001b[0m\u001b[0;34m)\u001b[0m\u001b[0;34m\u001b[0m\u001b[0;34m\u001b[0m\u001b[0m\n\u001b[1;32m     13\u001b[0m \u001b[0;34m\u001b[0m\u001b[0m\n",
      "\u001b[0;32m/opt/anaconda/lib/python3.7/site-packages/numpy/linalg/linalg.py\u001b[0m in \u001b[0;36msvd\u001b[0;34m(a, full_matrices, compute_uv)\u001b[0m\n\u001b[1;32m   1560\u001b[0m \u001b[0;34m\u001b[0m\u001b[0m\n\u001b[1;32m   1561\u001b[0m         \u001b[0msignature\u001b[0m \u001b[0;34m=\u001b[0m \u001b[0;34m'D->DdD'\u001b[0m \u001b[0;32mif\u001b[0m \u001b[0misComplexType\u001b[0m\u001b[0;34m(\u001b[0m\u001b[0mt\u001b[0m\u001b[0;34m)\u001b[0m \u001b[0;32melse\u001b[0m \u001b[0;34m'd->ddd'\u001b[0m\u001b[0;34m\u001b[0m\u001b[0;34m\u001b[0m\u001b[0m\n\u001b[0;32m-> 1562\u001b[0;31m         \u001b[0mu\u001b[0m\u001b[0;34m,\u001b[0m \u001b[0ms\u001b[0m\u001b[0;34m,\u001b[0m \u001b[0mvh\u001b[0m \u001b[0;34m=\u001b[0m \u001b[0mgufunc\u001b[0m\u001b[0;34m(\u001b[0m\u001b[0ma\u001b[0m\u001b[0;34m,\u001b[0m \u001b[0msignature\u001b[0m\u001b[0;34m=\u001b[0m\u001b[0msignature\u001b[0m\u001b[0;34m,\u001b[0m \u001b[0mextobj\u001b[0m\u001b[0;34m=\u001b[0m\u001b[0mextobj\u001b[0m\u001b[0;34m)\u001b[0m\u001b[0;34m\u001b[0m\u001b[0;34m\u001b[0m\u001b[0m\n\u001b[0m\u001b[1;32m   1563\u001b[0m         \u001b[0mu\u001b[0m \u001b[0;34m=\u001b[0m \u001b[0mu\u001b[0m\u001b[0;34m.\u001b[0m\u001b[0mastype\u001b[0m\u001b[0;34m(\u001b[0m\u001b[0mresult_t\u001b[0m\u001b[0;34m,\u001b[0m \u001b[0mcopy\u001b[0m\u001b[0;34m=\u001b[0m\u001b[0;32mFalse\u001b[0m\u001b[0;34m)\u001b[0m\u001b[0;34m\u001b[0m\u001b[0;34m\u001b[0m\u001b[0m\n\u001b[1;32m   1564\u001b[0m         \u001b[0ms\u001b[0m \u001b[0;34m=\u001b[0m \u001b[0ms\u001b[0m\u001b[0;34m.\u001b[0m\u001b[0mastype\u001b[0m\u001b[0;34m(\u001b[0m\u001b[0m_realType\u001b[0m\u001b[0;34m(\u001b[0m\u001b[0mresult_t\u001b[0m\u001b[0;34m)\u001b[0m\u001b[0;34m,\u001b[0m \u001b[0mcopy\u001b[0m\u001b[0;34m=\u001b[0m\u001b[0;32mFalse\u001b[0m\u001b[0;34m)\u001b[0m\u001b[0;34m\u001b[0m\u001b[0;34m\u001b[0m\u001b[0m\n",
      "\u001b[0;31mKeyboardInterrupt\u001b[0m: "
     ]
    }
   ],
   "source": [
    "starting_point = np.copy(original)\n",
    "\n",
    "boolMask = np.ma.make_mask(np.where(np.array(mask) < 0.5, 1, 0))\n",
    "starting_point[boolMask] = 0\n",
    "\n",
    "prev_norm = np.linalg.norm(starting_point,'nuc')\n",
    "\n",
    "current_point = starting_point\n",
    "\n",
    "def obj_func(m, vec):\n",
    "    u, s, vh = np.linalg.svd(m)\n",
    "    index = np.argmax(np.dot(vec, u))\n",
    "\n",
    "    return s[index]\n",
    "\n",
    "def comp_grad(of, m, vec):\n",
    "    \"\"\" Computes gradient that maximizes the objective function \"\"\"\n",
    "    epsilon = 1e-3\n",
    "\n",
    "    grad = np.zeros([n,n])\n",
    "\n",
    "    for i in range(n):\n",
    "        for j in range(n):\n",
    "            if boolMask[i,j]:\n",
    "                diff = np.zeros([n,n])\n",
    "                diff[i,j] = epsilon\n",
    "                grad[i,j] = (of(m + diff, vec) - of(m - diff, vec))/(2*epsilon)\n",
    "\n",
    "    return grad\n",
    "\n",
    "def line_search(point, grad, obj_func, vec, s = 0.01, threshold = 1e-10):\n",
    "    \"\"\" Finds a maximum step size that maximizes the descent (since computing gradient is hard) \"\"\"\n",
    "\n",
    "    choice = point - grad * s\n",
    "    while obj_func(choice, vec) > obj_func(point, vec):\n",
    "        s = s / 2\n",
    "        choice = point - grad * s\n",
    "\n",
    "    initial_s = s\n",
    "\n",
    "    while True:\n",
    "        left = choice + grad * s/2\n",
    "        right = point - grad * s/2\n",
    "\n",
    "        s = s / 2\n",
    "        if obj_func(left, vec) < obj_func(right, vec):\n",
    "            choice = left\n",
    "        else:\n",
    "            choice = right\n",
    "\n",
    "        if np.abs(obj_func(left,vec) - obj_func(right, vec)) < threshold:\n",
    "            break\n",
    "\n",
    "    return choice\n",
    "\n",
    "sing_val_log = []\n",
    "distances_log = []\n",
    "\n",
    "for sing_val_index in range(3,0,-1):\n",
    "\n",
    "    print(\"\\n\")\n",
    "    print(\"##################\")\n",
    "    print(\"Optimizing\", sing_val_index)\n",
    "    print(\"##################\")\n",
    "    print(\"\\n\")\n",
    "    \n",
    "    u, s, vh = np.linalg.svd(current_point)\n",
    "    vec = u[:,sing_val_index]\n",
    "\n",
    "    i = 0\n",
    "    while obj_func(current_point, vec) > 0.00001:\n",
    "        i = i + 1\n",
    "        u, s, vh = np.linalg.svd(current_point)\n",
    "        index = np.argmax(np.dot(vec, u))\n",
    "        vec = u[:,index]\n",
    "\n",
    "        print(i, index, s[index], np.linalg.norm(current_point-original,'fro'))\n",
    "        sing_val_log.append(s[index])\n",
    "        distances_log.append(np.linalg.norm(current_point-original,'fro'))\n",
    "        #current_point = current_point - 0.0001*comp_grad(obj_func, current_point, vec)\n",
    "        grad = comp_grad(obj_func, current_point, vec)\n",
    "        current_point = line_search(current_point, grad, obj_func, vec)\n",
    "    "
   ]
  },
  {
   "cell_type": "code",
   "execution_count": 34,
   "metadata": {},
   "outputs": [
    {
     "data": {
      "text/plain": [
       "[<matplotlib.lines.Line2D at 0x7f30370aacf8>]"
      ]
     },
     "execution_count": 34,
     "metadata": {},
     "output_type": "execute_result"
    },
    {
     "data": {
      "image/png": "[encoded data removed]",
      "text/plain": [
       "<Figure size 432x288 with 1 Axes>"
      ]
     },
     "metadata": {
      "needs_background": "light"
     },
     "output_type": "display_data"
    }
   ],
   "source": [
    "plt.plot(sing_val_log)"
   ]
  },
  {
   "cell_type": "code",
   "execution_count": 35,
   "metadata": {},
   "outputs": [
    {
     "data": {
      "text/plain": [
       "[<matplotlib.lines.Line2D at 0x7f30373ee748>]"
      ]
     },
     "execution_count": 35,
     "metadata": {},
     "output_type": "execute_result"
    },
    {
     "data": {
      "image/png": "[encoded data removed]",
      "text/plain": [
       "<Figure size 432x288 with 1 Axes>"
      ]
     },
     "metadata": {
      "needs_background": "light"
     },
     "output_type": "display_data"
    }
   ],
   "source": [
    "plt.plot(distances_log)"
   ]
  },
  {
   "cell_type": "code",
   "execution_count": 36,
   "metadata": {},
   "outputs": [
    {
     "data": {
      "text/plain": [
       "<matplotlib.colorbar.Colorbar at 0x7f3036bde6a0>"
      ]
     },
     "execution_count": 36,
     "metadata": {},
     "output_type": "execute_result"
    },
    {
     "data": {
      "image/png": "[encoded data removed]",
      "text/plain": [
       "<Figure size 432x288 with 2 Axes>"
      ]
     },
     "metadata": {
      "needs_background": "light"
     },
     "output_type": "display_data"
    }
   ],
   "source": [
    "plt.imshow((original-current_point)/original)\n",
    "plt.colorbar()"
   ]
  },
  {
   "cell_type": "code",
   "execution_count": 38,
   "metadata": {},
   "outputs": [
    {
     "data": {
      "text/plain": [
       "<matplotlib.image.AxesImage at 0x7f3036b17978>"
      ]
     },
     "execution_count": 38,
     "metadata": {},
     "output_type": "execute_result"
    },
    {
     "data": {
      "image/png": "[encoded data removed]",
      "text/plain": [
       "<Figure size 432x288 with 1 Axes>"
      ]
     },
     "metadata": {
      "needs_background": "light"
     },
     "output_type": "display_data"
    }
   ],
   "source": [
    "plt.imshow(~mask)"
   ]
  },
  {
   "cell_type": "code",
   "execution_count": null,
   "metadata": {},
   "outputs": [],
   "source": []
  }
 ],
 "metadata": {
  "kernelspec": {
   "display_name": "Python 3",
   "language": "python",
   "name": "python3"
  },
  "language_info": {
   "codemirror_mode": {
    "name": "ipython",
    "version": 3
   },
   "file_extension": ".py",
   "mimetype": "text/x-python",
   "name": "python",
   "nbconvert_exporter": "python",
   "pygments_lexer": "ipython3",
   "version": "3.7.1"
  }
 },
 "nbformat": 4,
 "nbformat_minor": 2
}
