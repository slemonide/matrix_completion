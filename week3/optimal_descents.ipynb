{
 "cells": [
  {
   "cell_type": "markdown",
   "metadata": {},
   "source": [
    "Computes optimal descent vectors using Newton method for minimizing different singular values."
   ]
  },
  {
   "cell_type": "code",
   "execution_count": 1,
   "metadata": {},
   "outputs": [],
   "source": [
    "import numpy as np\n",
    "import matplotlib.pyplot as plt"
   ]
  },
  {
   "cell_type": "code",
   "execution_count": 2,
   "metadata": {},
   "outputs": [],
   "source": [
    "# Define a matrix, mask and noise\n",
    "p = 0.75\n",
    "rank = 1\n",
    "\n",
    "n = 4\n",
    "\n",
    "U = np.random.randn(n, rank)\n",
    "V = np.random.randn(n, rank)\n",
    "original = np.dot(U, V.T)\n",
    "mask = np.random.choice([0, 1], size=(n,n), p=[1-p, p])"
   ]
  },
  {
   "cell_type": "code",
   "execution_count": 15,
   "metadata": {},
   "outputs": [],
   "source": [
    "def obj_func(m, index):\n",
    "    u, s, vh = np.linalg.svd(m)\n",
    "\n",
    "    return s[index]\n",
    "\n",
    "def comp_grad(m, boolMask, obj_func, index):\n",
    "    \"\"\" Computes gradient that maximizes the objective function \"\"\"\n",
    "    epsilon = 1e-3\n",
    "\n",
    "    # Yes, grad is a vector now\n",
    "    grad = []\n",
    "\n",
    "    for i in range(n):\n",
    "        for j in range(n):\n",
    "            if boolMask[i,j]:\n",
    "                diff = np.zeros([n,n])\n",
    "                diff[i,j] = epsilon\n",
    "                grad.append((obj_func(m + diff, index) - obj_func(m - diff, index))/(2*epsilon))\n",
    "\n",
    "    return grad\n",
    "\n",
    "def comp_hessian(m, boolMask, of, index):\n",
    "    \"\"\" Computes hessian (only diagonal) \"\"\"\n",
    "    epsilon = 1e-3\n",
    "\n",
    "    hessian = np.zeros([4, 4])\n",
    "\n",
    "    for i1 in range(n):\n",
    "        for j1 in range(n):\n",
    "            if boolMask[i,j]:\n",
    "                row = []\n",
    "\n",
    "                diff = np.zeros([n,n])\n",
    "                diff[i,j] = epsilon\n",
    "                hessian[i,j] = (of(m + diff, index) + of(m - diff, index) - 2*of(m, index))/epsilon**2\n",
    "\n",
    "    return hessian"
   ]
  },
  {
   "cell_type": "code",
   "execution_count": 23,
   "metadata": {},
   "outputs": [],
   "source": [
    "boolMask = np.ma.make_mask(np.where(np.array(mask) < 0.5, 1, 0))"
   ]
  },
  {
   "cell_type": "code",
   "execution_count": 24,
   "metadata": {},
   "outputs": [
    {
     "data": {
      "text/plain": [
       "[1.3329046095425946e-05,\n",
       " -3.286829245731891e-05,\n",
       " 1.6972020638764216e-05,\n",
       " -1.4451020099526604e-06]"
      ]
     },
     "execution_count": 24,
     "metadata": {},
     "output_type": "execute_result"
    }
   ],
   "source": [
    "index = 1\n",
    "comp_grad(original, boolMask, obj_func, index)"
   ]
  },
  {
   "cell_type": "code",
   "execution_count": 25,
   "metadata": {},
   "outputs": [
    {
     "data": {
      "text/plain": [
       "array([[   0.        ,  861.69199345,    0.        ,    0.        ],\n",
       "       [   0.        ,    0.        , 1153.42619968,    0.        ],\n",
       "       [1609.53695793,    0.        ,    0.        , 1979.636402  ],\n",
       "       [   0.        ,    0.        ,    0.        ,    0.        ]])"
      ]
     },
     "execution_count": 25,
     "metadata": {},
     "output_type": "execute_result"
    }
   ],
   "source": [
    "comp_hessian(original, boolMask, obj_func, index)"
   ]
  },
  {
   "cell_type": "code",
   "execution_count": 22,
   "metadata": {},
   "outputs": [
    {
     "data": {
      "text/plain": [
       "array([[1, 0, 1, 1],\n",
       "       [1, 1, 0, 1],\n",
       "       [0, 1, 1, 0],\n",
       "       [1, 1, 1, 1]])"
      ]
     },
     "execution_count": 22,
     "metadata": {},
     "output_type": "execute_result"
    }
   ],
   "source": [
    "mask"
   ]
  },
  {
   "cell_type": "code",
   "execution_count": 36,
   "metadata": {},
   "outputs": [],
   "source": [
    "vector = []\n",
    "\n",
    "for i in range(n):\n",
    "    for j in range(n):\n",
    "        if boolMask[i,j]:\n",
    "            vector.append(original[i,j])\n",
    "            \n",
    "q = len(vector)\n",
    "\n",
    "epsilon = 1e-3\n",
    "hessian = np.zeros([q, q])\n",
    "\n",
    "# fill in the diagonal first\n",
    "count = 0\n",
    "for i in range(n):\n",
    "    for j in range(n):\n",
    "        if boolMask[i,j]:\n",
    "            \n",
    "            diff = np.zeros([n,n])\n",
    "            diff[i,j] = epsilon\n",
    "            hessian[count,count] = (of(m + diff, index) + of(m - diff, index) - 2*of(m, index))/epsilon**2\n",
    "            \n",
    "            count = count + 1"
   ]
  },
  {
   "cell_type": "code",
   "execution_count": 39,
   "metadata": {},
   "outputs": [],
   "source": [
    "# now fill in off-diagonals\n",
    "count1 = 0\n",
    "for i1 in range(n):\n",
    "    for j1 in range(n):\n",
    "        if boolMask[i1,j1]: # found one\n",
    "            diff1 = np.zeros([n,n])\n",
    "            diff1[i1,j1] = epsilon\n",
    "            \n",
    "            count2 = 0\n",
    "            for i2 in range(n):\n",
    "                for j2 in range(n):\n",
    "                    if boolMask[i2,j2]: # found another one\n",
    "                        diff2 = np.zeros([n,n])\n",
    "                        diff2[i2,j2] = epsilon\n",
    "                        \n",
    "                        if count1 != count2: # doing only off-diagonal ones\n",
    "                            hessian[count1,count2] = (of(m + diff1 + diff2, index) + of(m - diff1 - diff2, index)\n",
    "                                                     - of(m + diff1 - diff2, index) - of(m - diff1 + diff2, index))/(2*epsilon)**2\n",
    "                            \n",
    "                        count2 = count2 + 1\n",
    "\n",
    "            count1 = count1 + 1"
   ]
  },
  {
   "cell_type": "code",
   "execution_count": 44,
   "metadata": {},
   "outputs": [],
   "source": [
    "def comp_hessian(m, boolMask, of, index):\n",
    "    \"\"\" Computes hessian (only diagonal) \"\"\"\n",
    "    vector = []\n",
    "\n",
    "    for i in range(n):\n",
    "        for j in range(n):\n",
    "            if boolMask[i,j]:\n",
    "                vector.append(original[i,j])\n",
    "\n",
    "    q = len(vector)\n",
    "\n",
    "    epsilon = 1e-3\n",
    "    hessian = np.zeros([q, q])\n",
    "\n",
    "    # fill in the diagonal first\n",
    "    count = 0\n",
    "    for i in range(n):\n",
    "        for j in range(n):\n",
    "            if boolMask[i,j]:\n",
    "\n",
    "                diff = np.zeros([n,n])\n",
    "                diff[i,j] = epsilon\n",
    "                hessian[count,count] = (of(m + diff, index) + of(m - diff, index) - 2*of(m, index))/epsilon**2\n",
    "\n",
    "                count = count + 1\n",
    "                \n",
    "    # now fill in off-diagonals\n",
    "    count1 = 0\n",
    "    for i1 in range(n):\n",
    "        for j1 in range(n):\n",
    "            if boolMask[i1,j1]: # found one\n",
    "                diff1 = np.zeros([n,n])\n",
    "                diff1[i1,j1] = epsilon\n",
    "\n",
    "                count2 = 0\n",
    "                for i2 in range(n):\n",
    "                    for j2 in range(n):\n",
    "                        if boolMask[i2,j2]: # found another one\n",
    "                            diff2 = np.zeros([n,n])\n",
    "                            diff2[i2,j2] = epsilon\n",
    "\n",
    "                            if count1 != count2: # doing only off-diagonal ones\n",
    "                                hessian[count1,count2] = (of(m + diff1 + diff2, index) + of(m - diff1 - diff2, index)\n",
    "                                                         - of(m + diff1 - diff2, index) - of(m - diff1 + diff2, index))/(2*epsilon)**2\n",
    "\n",
    "                            count2 = count2 + 1\n",
    "\n",
    "                count1 = count1 + 1\n",
    "\n",
    "    return hessian"
   ]
  },
  {
   "cell_type": "code",
   "execution_count": 49,
   "metadata": {},
   "outputs": [
    {
     "data": {
      "text/plain": [
       "array([ 1.36662512e-08, -2.77408661e-08,  1.01189254e-08, -7.91902989e-10])"
      ]
     },
     "execution_count": 49,
     "metadata": {},
     "output_type": "execute_result"
    }
   ],
   "source": [
    "np.dot(np.linalg.inv(comp_hessian(m, boolMask, of, index)), comp_grad(m, boolMask, obj_func, index))"
   ]
  },
  {
   "cell_type": "code",
   "execution_count": null,
   "metadata": {},
   "outputs": [],
   "source": []
  }
 ],
 "metadata": {
  "kernelspec": {
   "display_name": "Python 3",
   "language": "python",
   "name": "python3"
  },
  "language_info": {
   "codemirror_mode": {
    "name": "ipython",
    "version": 3
   },
   "file_extension": ".py",
   "mimetype": "text/x-python",
   "name": "python",
   "nbconvert_exporter": "python",
   "pygments_lexer": "ipython3",
   "version": "3.7.1"
  }
 },
 "nbformat": 4,
 "nbformat_minor": 2
}
