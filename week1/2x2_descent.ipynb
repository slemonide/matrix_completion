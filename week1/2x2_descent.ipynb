{
 "cells": [
  {
   "cell_type": "code",
   "execution_count": 1,
   "metadata": {},
   "outputs": [],
   "source": [
    "from sympy import *\n",
    "from sympy.plotting import plot3d\n",
    "init_printing(use_unicode=True)\n",
    "from mpmath import mp\n",
    "import numpy as np\n",
    "import matplotlib.pyplot as plt"
   ]
  },
  {
   "cell_type": "markdown",
   "metadata": {},
   "source": [
    "Set up matrix"
   ]
  },
  {
   "cell_type": "code",
   "execution_count": 7,
   "metadata": {},
   "outputs": [
    {
     "data": {
      "image/png": "[encoded data removed]",
      "text/latex": [
       "$$\\left[\\begin{matrix}1 & y\\\\x & 0\\end{matrix}\\right]$$"
      ],
      "text/plain": [
       "⎡1  y⎤\n",
       "⎢    ⎥\n",
       "⎣x  0⎦"
      ]
     },
     "execution_count": 7,
     "metadata": {},
     "output_type": "execute_result"
    }
   ],
   "source": [
    "x, y = symbols('x y')\n",
    "M = Matrix([[1, y], [x, 0]])\n",
    "M"
   ]
  },
  {
   "cell_type": "markdown",
   "metadata": {},
   "source": [
    "Pick a starting point"
   ]
  },
  {
   "cell_type": "code",
   "execution_count": 103,
   "metadata": {},
   "outputs": [],
   "source": [
    "starting_point = Matrix([1, 2])\n",
    "constant_step_size = 0.05\n",
    "num_angles = 4"
   ]
  },
  {
   "cell_type": "code",
   "execution_count": 23,
   "metadata": {},
   "outputs": [],
   "source": [
    "def get_direction(length, theta):\n",
    "    return length*Matrix([sin(theta), cos(theta)])"
   ]
  },
  {
   "cell_type": "code",
   "execution_count": 21,
   "metadata": {},
   "outputs": [
    {
     "data": {
      "image/png": "[encoded data removed]",
      "text/latex": [
       "$$\\left[\\begin{matrix}1 & 2\\\\1 & 0\\end{matrix}\\right]$$"
      ],
      "text/plain": [
       "⎡1  2⎤\n",
       "⎢    ⎥\n",
       "⎣1  0⎦"
      ]
     },
     "execution_count": 21,
     "metadata": {},
     "output_type": "execute_result"
    }
   ],
   "source": [
    "current_point = starting_point\n",
    "\n",
    "Mp = M.subs([(x, current_point[0]), (y, current_point[1])])\n",
    "\n",
    "Mp"
   ]
  },
  {
   "cell_type": "code",
   "execution_count": 69,
   "metadata": {},
   "outputs": [],
   "source": [
    "def find_minimum_angle(current_point):\n",
    "    angles = []\n",
    "    norms = []\n",
    "\n",
    "    for angle_i in range(num_angles):\n",
    "        angle = 2*pi*angle_i/num_angles\n",
    "        nearby = current_point + get_direction(step_size, angle)\n",
    "        Mp = M.subs([(x, nearby[0]), (y, nearby[1])]).evalf()\n",
    "        S = mp.svd_r(Mp, compute_uv = False)\n",
    "        angles.append(angle.evalf())\n",
    "        norms.append(mp.norm(S,1))\n",
    "        \n",
    "    norms = np.array(norms)\n",
    "        \n",
    "    return angles[norms.argmin()]"
   ]
  },
  {
   "cell_type": "code",
   "execution_count": 64,
   "metadata": {},
   "outputs": [
    {
     "data": {
      "text/plain": [
       "[<matplotlib.lines.Line2D at 0x1ea86d1e780>]"
      ]
     },
     "execution_count": 64,
     "metadata": {},
     "output_type": "execute_result"
    },
    {
     "data": {
      "image/png": "[encoded data removed]",
      "text/plain": [
       "<Figure size 432x288 with 1 Axes>"
      ]
     },
     "metadata": {},
     "output_type": "display_data"
    }
   ],
   "source": [
    "find_minimum_angle(current_point)\n",
    "plt.plot(angles,norms)"
   ]
  },
  {
   "cell_type": "code",
   "execution_count": 62,
   "metadata": {},
   "outputs": [
    {
     "data": {
      "image/png": "[encoded data removed]",
      "text/latex": [
       "$$3.95840674352314$$"
      ],
      "text/plain": [
       "3.95840674352314"
      ]
     },
     "execution_count": 62,
     "metadata": {},
     "output_type": "execute_result"
    }
   ],
   "source": [
    "norms = np.array(norms)\n",
    "norms.argmin()\n",
    "min_angle = angles[norms.argmin()] # yeah, there's probably a faster way to find minimizing direction"
   ]
  },
  {
   "cell_type": "code",
   "execution_count": 130,
   "metadata": {},
   "outputs": [
    {
     "name": "stdout",
     "output_type": "stream",
     "text": [
      "0 4.12310562561766 0.0\n",
      "1 4.05538613976817 -0.0677194858494925\n",
      "2 3.98773980693689 -0.0676463328312824\n",
      "3 3.92017041410392 -0.0675693928329619\n",
      "4 3.85268200945574 -0.0674884046481803\n",
      "5 3.78527892485265 -0.0674030846030966\n",
      "6 3.71796580060451 -0.0673131242481326\n",
      "7 3.6507476128291 -0.0672181877754117\n",
      "8 3.58362970370426 -0.0671179091248417\n",
      "9 3.51661781496754 -0.0670118887367237\n",
      "10 3.44971812506531 -0.0668996899022272\n",
      "11 3.38293729040942 -0.0667808346558867\n",
      "12 3.31628249126377 -0.0666547991456508\n",
      "13 3.24976148285749 -0.0665210084062813\n",
      "14 3.1833826524072 -0.0663788304502932\n",
      "15 3.11715508282978 -0.0662275695774213\n",
      "16 3.05108862404182 -0.0660664587879549\n",
      "17 2.98519397287426 -0.0658946511675604\n",
      "18 2.91948276278413 -0.0657112100901309\n",
      "19 2.85396766472292 -0.065515098061212\n",
      "20 2.78866250072608 -0.0653051639968432\n",
      "21 2.72358237202569 -0.0650801287003824\n",
      "22 2.65874380376219 -0.0648385682634984\n",
      "23 2.59416490868643 -0.064578895075762\n",
      "24 2.52986557260614 -0.0642993360802917\n",
      "25 2.46586766474541 -0.0639979078607293\n",
      "26 2.40219527665793 -0.0636723880874839\n",
      "27 2.33887499386773 -0.0633202827901931\n",
      "28 2.27593620500738 -0.0629387888603534\n",
      "29 2.2134114538803 -0.062524751127083\n",
      "30 2.15133684058426 -0.0620746132960392\n",
      "31 2.08975247857805 -0.061584362006208\n",
      "32 2.02870301532103 -0.0610494632570253\n",
      "33 1.9682382248101 -0.0604647905109257\n",
      "34 1.90841368089209 -0.0598245439180123\n",
      "35 1.86601156463446 -0.0424021162576276\n",
      "36 1.82399439179045 -0.0420171728440115\n",
      "37 1.78238938596943 -0.041605005821022\n",
      "38 1.74122609248481 -0.041163293484614\n",
      "39 1.70053658798727 -0.0406895044975419\n",
      "40 1.6603557055694 -0.0401808824178731\n",
      "41 1.62072127491136 -0.039634430658035\n",
      "42 1.5816743763758 -0.0390468985355636\n",
      "43 1.5432596070711 -0.0384147693047032\n",
      "44 1.50552535573158 -0.0377342513395178\n",
      "45 1.46852408175152 -0.0370012739800538\n",
      "46 1.43231259179609 -0.0362114899554389\n",
      "47 1.39695230503803 -0.0353602867580503\n",
      "48 1.3625094951906 -0.0344428098474359\n",
      "49 1.32905549410775 -0.033454001082847\n",
      "50 1.29666683783903 -0.0323886562687248\n",
      "51 1.26542533176988 -0.0312415060691422\n",
      "52 1.23541800708035 -0.0300073246895345\n",
      "53 1.2067369365988 -0.0286810704815548\n",
      "54 1.17947887479399 -0.0272580618048013\n",
      "55 1.1537446849363 -0.0257341898576917\n",
      "56 1.12963851738166 -0.0241061675546455\n",
      "57 1.10726670765705 -0.0223718097246037\n",
      "58 1.08673637273221 -0.0205303349248478\n",
      "59 1.06815369949863 -0.0185826732335741\n",
      "60 1.0516219414248 -0.0165317580738273\n",
      "61 1.03723916702925 -0.0143827743955527\n",
      "62 1.02509583530175 -0.0121433317274995\n",
      "63 1.01527230509182 -0.00982353020993187\n",
      "64 1.00783641302541 -0.0074358920664126\n",
      "65 1.00284127226266 -0.00499514076275243\n",
      "66 1.00032344733433 -0.00251782492832331\n"
     ]
    }
   ],
   "source": [
    "starting_point = Matrix([1, 3])\n",
    "constant_step_size = 0.05\n",
    "num_angles = 10\n",
    "\n",
    "current_point = starting_point\n",
    "Mp = M.subs([(x, current_point[0]), (y, current_point[1])])\n",
    "prev_norm = mp.norm(mp.svd_r(Mp, compute_uv = False), 1)\n",
    "\n",
    "X = []\n",
    "Y = []\n",
    "\n",
    "for i in range(100):\n",
    "    X.append(current_point[0])\n",
    "    Y.append(current_point[1])\n",
    "    \n",
    "    Mp = M.subs([(x, current_point[0]), (y, current_point[1])])\n",
    "    cur_norm = mp.norm(mp.svd_r(Mp, compute_uv = False), 1)\n",
    "    diff = cur_norm - prev_norm\n",
    "    if diff > 0:\n",
    "        break\n",
    "    \n",
    "    print(i, cur_norm, diff)\n",
    "    prev_norm = cur_norm\n",
    "    \n",
    "    step_size = constant_step_size\n",
    "    \n",
    "    angle = find_minimum_angle(current_point)\n",
    "    direction = get_direction(step_size, angle)\n",
    "    current_point = current_point + direction\n"
   ]
  },
  {
   "cell_type": "code",
   "execution_count": 131,
   "metadata": {},
   "outputs": [
    {
     "data": {
      "text/plain": [
       "[<matplotlib.lines.Line2D at 0x1ea86f53eb8>]"
      ]
     },
     "execution_count": 131,
     "metadata": {},
     "output_type": "execute_result"
    },
    {
     "data": {
      "image/png": "[encoded data removed]",
      "text/plain": [
       "<Figure size 432x288 with 1 Axes>"
      ]
     },
     "metadata": {},
     "output_type": "display_data"
    }
   ],
   "source": [
    "plt.plot(X,Y,'*')"
   ]
  },
  {
   "cell_type": "code",
   "execution_count": 129,
   "metadata": {},
   "outputs": [
    {
     "data": {
      "text/plain": [
       "[<matplotlib.lines.Line2D at 0x1ea87066550>]"
      ]
     },
     "execution_count": 129,
     "metadata": {},
     "output_type": "execute_result"
    },
    {
     "data": {
      "image/png": "[encoded data removed]",
      "text/plain": [
       "<Figure size 432x288 with 1 Axes>"
      ]
     },
     "metadata": {},
     "output_type": "display_data"
    }
   ],
   "source": [
    "plt.plot(X,Y,'*')"
   ]
  },
  {
   "cell_type": "code",
   "execution_count": 127,
   "metadata": {},
   "outputs": [
    {
     "data": {
      "text/plain": [
       "[<matplotlib.lines.Line2D at 0x1ea87013828>]"
      ]
     },
     "execution_count": 127,
     "metadata": {},
     "output_type": "execute_result"
    },
    {
     "data": {
      "image/png": "[encoded data removed]",
      "text/plain": [
       "<Figure size 432x288 with 1 Axes>"
      ]
     },
     "metadata": {},
     "output_type": "display_data"
    }
   ],
   "source": [
    "plt.plot(X,Y,'*')"
   ]
  },
  {
   "cell_type": "code",
   "execution_count": 124,
   "metadata": {},
   "outputs": [
    {
     "data": {
      "image/png": "[encoded data removed]",
      "text/latex": [
       "$$\\left[\\begin{matrix}1 & 0.0499999999999995\\\\-3.19189119579733 \\cdot 10^{-16} & 0\\end{matrix}\\right]$$"
      ],
      "text/plain": [
       "⎡          1            0.0499999999999995⎤\n",
       "⎢                                         ⎥\n",
       "⎣-3.19189119579733e-16          0         ⎦"
      ]
     },
     "execution_count": 124,
     "metadata": {},
     "output_type": "execute_result"
    }
   ],
   "source": [
    "M.subs([(x, current_point[0]), (y, current_point[1])])"
   ]
  },
  {
   "cell_type": "code",
   "execution_count": 114,
   "metadata": {},
   "outputs": [],
   "source": [
    "Mnp = np.array(M.subs([(x, current_point[0]), (y, current_point[1])]))"
   ]
  },
  {
   "cell_type": "code",
   "execution_count": 109,
   "metadata": {},
   "outputs": [
    {
     "data": {
      "text/plain": [
       "matrix(\n",
       "[['1.00124921972504'],\n",
       " ['1.59395439862305e-17']])"
      ]
     },
     "execution_count": 109,
     "metadata": {},
     "output_type": "execute_result"
    }
   ],
   "source": [
    "mp.svd(M.subs([(x, current_point[0]), (y, current_point[1])]), compute_uv = False)"
   ]
  },
  {
   "cell_type": "code",
   "execution_count": 110,
   "metadata": {},
   "outputs": [
    {
     "data": {
      "text/plain": [
       "matrix(\n",
       "[['1.0'],\n",
       " ['0.0']])"
      ]
     },
     "execution_count": 110,
     "metadata": {},
     "output_type": "execute_result"
    }
   ],
   "source": [
    "mp.svd(M.subs([(x, 0), (y, 0)]), compute_uv = False)"
   ]
  },
  {
   "cell_type": "code",
   "execution_count": 121,
   "metadata": {},
   "outputs": [
    {
     "ename": "AttributeError",
     "evalue": "'One' object has no attribute 'rint'",
     "output_type": "error",
     "traceback": [
      "\u001b[1;31m---------------------------------------------------------------------------\u001b[0m",
      "\u001b[1;31mAttributeError\u001b[0m                            Traceback (most recent call last)",
      "\u001b[1;32m<ipython-input-121-a9419c7f9c44>\u001b[0m in \u001b[0;36m<module>\u001b[1;34m()\u001b[0m\n\u001b[1;32m----> 1\u001b[1;33m \u001b[0mnp\u001b[0m\u001b[1;33m.\u001b[0m\u001b[0mmatrix\u001b[0m\u001b[1;33m.\u001b[0m\u001b[0mround\u001b[0m\u001b[1;33m(\u001b[0m\u001b[0mMnp\u001b[0m\u001b[1;33m)\u001b[0m\u001b[1;33m\u001b[0m\u001b[0m\n\u001b[0m",
      "\u001b[1;31mAttributeError\u001b[0m: 'One' object has no attribute 'rint'"
     ]
    }
   ],
   "source": [
    "np.matrix.round(Mnp)"
   ]
  },
  {
   "cell_type": "code",
   "execution_count": 122,
   "metadata": {},
   "outputs": [
    {
     "data": {
      "text/plain": [
       "array([[1, 0.0499999999999987],\n",
       "       [-3.19189119579733e-16, 0]], dtype=object)"
      ]
     },
     "execution_count": 122,
     "metadata": {},
     "output_type": "execute_result"
    }
   ],
   "source": [
    "Mnp"
   ]
  },
  {
   "cell_type": "code",
   "execution_count": null,
   "metadata": {},
   "outputs": [],
   "source": []
  }
 ],
 "metadata": {
  "kernelspec": {
   "display_name": "Python 3",
   "language": "python",
   "name": "python3"
  },
  "language_info": {
   "codemirror_mode": {
    "name": "ipython",
    "version": 3
   },
   "file_extension": ".py",
   "mimetype": "text/x-python",
   "name": "python",
   "nbconvert_exporter": "python",
   "pygments_lexer": "ipython3",
   "version": "3.6.5"
  }
 },
 "nbformat": 4,
 "nbformat_minor": 2
}
