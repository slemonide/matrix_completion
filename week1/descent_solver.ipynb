{
 "cells": [
  {
   "cell_type": "code",
   "execution_count": 1,
   "metadata": {},
   "outputs": [],
   "source": [
    "import numpy as np\n",
    "import matplotlib.pyplot as plt"
   ]
  },
  {
   "cell_type": "code",
   "execution_count": 2,
   "metadata": {},
   "outputs": [],
   "source": [
    "def calc_unobserved_rmse(U, V, A_hat, mask):\n",
    "  pred = np.multiply(A_hat, (1 - mask))\n",
    "  truth = np.multiply(np.dot(U, V.T), (1 - mask))\n",
    "  cnt = np.sum(1 - mask)\n",
    "  return (np.linalg.norm(pred - truth, \"fro\") ** 2 / cnt) ** 0.5"
   ]
  },
  {
   "cell_type": "code",
   "execution_count": 3,
   "metadata": {},
   "outputs": [],
   "source": [
    "def make_plots(original,R_hat,mask,noise):\n",
    "    fig, ((ax1, on1, vi1, ax2),\n",
    "          (ax3, no1, ax4, er2)) = plt.subplots(2, 4, sharex='col', sharey='row', figsize=(18, 6))\n",
    "\n",
    "    p = ax1.imshow(original, cmap=plt.get_cmap('winter'), interpolation='nearest')\n",
    "    ax1.set_title('Original')\n",
    "    fig.colorbar(p, ax=ax1)\n",
    "    \n",
    "    p = on1.imshow(original + noise, cmap=plt.get_cmap('winter'), interpolation='nearest')\n",
    "    on1.set_title('Original with noise')\n",
    "    fig.colorbar(p, ax=on1)\n",
    "    \n",
    "    p = vi1.imshow(original + noise, cmap=plt.get_cmap('winter'), interpolation='nearest')\n",
    "    vi1.set_title('Input data')\n",
    "    fig.colorbar(p, ax=vi1)\n",
    "    p = vi1.imshow(1-mask, 'jet', interpolation='none', alpha=0.8)\n",
    "    \n",
    "    p = ax2.imshow(R_hat, cmap=plt.get_cmap('winter'), interpolation='nearest')\n",
    "    ax2.set_title('Recovered')\n",
    "    fig.colorbar(p, ax=ax2)\n",
    "    \n",
    "    p = ax3.imshow(mask, cmap=plt.get_cmap('summer'), interpolation='nearest')\n",
    "    fig.colorbar(p, ax=ax3)\n",
    "    ax3.set_title('Mask')\n",
    "    \n",
    "    p = no1.imshow(noise, cmap=plt.get_cmap('winter'), interpolation='nearest')\n",
    "    no1.set_title('Noise')\n",
    "    fig.colorbar(p, ax=no1)\n",
    "    \n",
    "    R = original\n",
    "    p = ax4.imshow(np.abs(R-R_hat)/R, cmap=plt.get_cmap('hot'), interpolation='nearest', vmin=0, vmax=1)\n",
    "    ax4.set_title('% error wrt clean data')\n",
    "    fig.colorbar(p, ax=ax4)\n",
    "    \n",
    "    R = original + noise\n",
    "    p = er2.imshow(np.abs(R-R_hat)/R, cmap=plt.get_cmap('hot'), interpolation='nearest', vmin=0, vmax=1)\n",
    "    er2.set_title('% error wrt noisy observation')\n",
    "    fig.colorbar(p, ax=er2)\n",
    "\n",
    "    print(\"RMSE:\", calc_unobserved_rmse(U, V, R_hat, mask))"
   ]
  },
  {
   "cell_type": "code",
   "execution_count": 4,
   "metadata": {},
   "outputs": [],
   "source": [
    "#### VERSION THAT PREFERS SMALLER STEP SIZE #####\n",
    "\n",
    "max_stepsize_searches = 10\n",
    "max_direction_searches = 1000\n",
    "\n",
    "def find_next_point(current_point, step_size):\n",
    "    norm = np.linalg.norm(current_point,'nuc')\n",
    "    \n",
    "    for j in range(max_stepsize_searches):\n",
    "        step_size = step_size / 2\n",
    "        for i in range(max_direction_searches):\n",
    "            direction = np.random.randn(n, n)\n",
    "            shift = direction * step_size\n",
    "            shift[1 - mask] = 0\n",
    "            next_point = current_point + shift\n",
    "\n",
    "            if np.linalg.norm(next_point,'nuc') < norm:\n",
    "                break\n",
    "        if np.linalg.norm(next_point,'nuc') < norm:\n",
    "                break\n",
    "            \n",
    "    if i == max_direction_searches - 1:\n",
    "        print('fail')\n",
    "    \n",
    "    nex_step_size = step_size\n",
    "    \n",
    "    return next_point, nex_step_size\n",
    "    "
   ]
  },
  {
   "cell_type": "code",
   "execution_count": 5,
   "metadata": {},
   "outputs": [],
   "source": [
    "#### VERSION THAT PREFERS LARGER STEP SIZE #####\n",
    "\n",
    "max_stepsize_searches = 100\n",
    "max_direction_searches = 1000\n",
    "\n",
    "def find_next_point(current_point, step_size):\n",
    "    norm = np.linalg.norm(current_point,'nuc')\n",
    "    \n",
    "    for i in range(max_direction_searches):\n",
    "        direction = np.random.randn(n, n)\n",
    "        for j in range(max_stepsize_searches):\n",
    "            shift = direction * step_size\n",
    "            shift[1 - mask] = 0\n",
    "            next_point = current_point + shift\n",
    "            step_size = step_size / 2\n",
    "\n",
    "            if np.linalg.norm(next_point,'nuc') < norm:\n",
    "                break\n",
    "        if np.linalg.norm(next_point,'nuc') < norm:\n",
    "                break\n",
    "            \n",
    "    if i == max_direction_searches - 1:\n",
    "        print('fail')\n",
    "    \n",
    "    nex_step_size = step_size\n",
    "    \n",
    "    return next_point, nex_step_size\n",
    "    "
   ]
  },
  {
   "cell_type": "code",
   "execution_count": 6,
   "metadata": {},
   "outputs": [],
   "source": [
    "# Define a matrix, mask and noise\n",
    "p = 0.5\n",
    "rank = 1\n",
    "sigma = 0#1e-3\n",
    "\n",
    "n = 7\n",
    "constant_step_size = 0.05\n",
    "\n",
    "U = np.random.randn(n, rank)\n",
    "V = np.random.randn(n, rank)\n",
    "original = np.dot(U, V.T)\n",
    "noise = sigma * np.random.randn(n, n)\n",
    "R = noise + original\n",
    "\n",
    "lam = 5*sigma*np.sqrt(n*p)        \n",
    "mask = np.random.choice([0, 1], size=(n,n), p=[1-p, p])"
   ]
  },
  {
   "cell_type": "code",
   "execution_count": 10,
   "metadata": {
    "scrolled": false
   },
   "outputs": [
    {
     "name": "stdout",
     "output_type": "stream",
     "text": [
      "0 7.882116986352521 0.0 0.001\n"
     ]
    },
    {
     "ename": "KeyboardInterrupt",
     "evalue": "",
     "output_type": "error",
     "traceback": [
      "\u001b[1;31m---------------------------------------------------------------------------\u001b[0m",
      "\u001b[1;31mKeyboardInterrupt\u001b[0m                         Traceback (most recent call last)",
      "\u001b[1;32m<ipython-input-10-6dee067c2cbf>\u001b[0m in \u001b[0;36m<module>\u001b[1;34m()\u001b[0m\n\u001b[0;32m     27\u001b[0m     \u001b[0mstep_size\u001b[0m \u001b[1;33m=\u001b[0m \u001b[0mconstant_step_size\u001b[0m\u001b[1;33m\u001b[0m\u001b[0m\n\u001b[0;32m     28\u001b[0m \u001b[1;33m\u001b[0m\u001b[0m\n\u001b[1;32m---> 29\u001b[1;33m     \u001b[0mcurrent_point\u001b[0m\u001b[1;33m,\u001b[0m \u001b[0mstep_size\u001b[0m \u001b[1;33m=\u001b[0m \u001b[0mfind_next_point\u001b[0m\u001b[1;33m(\u001b[0m\u001b[0mcurrent_point\u001b[0m\u001b[1;33m,\u001b[0m \u001b[0mstep_size\u001b[0m\u001b[1;33m)\u001b[0m\u001b[1;33m\u001b[0m\u001b[0m\n\u001b[0m\u001b[0;32m     30\u001b[0m \u001b[1;33m\u001b[0m\u001b[0m\n\u001b[0;32m     31\u001b[0m \u001b[0mplt\u001b[0m\u001b[1;33m.\u001b[0m\u001b[0mplot\u001b[0m\u001b[1;33m(\u001b[0m\u001b[0mnorms\u001b[0m\u001b[1;33m)\u001b[0m\u001b[1;33m\u001b[0m\u001b[0m\n",
      "\u001b[1;32m<ipython-input-5-9cfbe7d08359>\u001b[0m in \u001b[0;36mfind_next_point\u001b[1;34m(current_point, step_size)\u001b[0m\n\u001b[0;32m     11\u001b[0m         \u001b[1;32mfor\u001b[0m \u001b[0mj\u001b[0m \u001b[1;32min\u001b[0m \u001b[0mrange\u001b[0m\u001b[1;33m(\u001b[0m\u001b[0mmax_stepsize_searches\u001b[0m\u001b[1;33m)\u001b[0m\u001b[1;33m:\u001b[0m\u001b[1;33m\u001b[0m\u001b[0m\n\u001b[0;32m     12\u001b[0m             \u001b[0mshift\u001b[0m \u001b[1;33m=\u001b[0m \u001b[0mdirection\u001b[0m \u001b[1;33m*\u001b[0m \u001b[0mstep_size\u001b[0m\u001b[1;33m\u001b[0m\u001b[0m\n\u001b[1;32m---> 13\u001b[1;33m             \u001b[0mshift\u001b[0m\u001b[1;33m[\u001b[0m\u001b[1;36m1\u001b[0m \u001b[1;33m-\u001b[0m \u001b[0mmask\u001b[0m\u001b[1;33m]\u001b[0m \u001b[1;33m=\u001b[0m \u001b[1;36m0\u001b[0m\u001b[1;33m\u001b[0m\u001b[0m\n\u001b[0m\u001b[0;32m     14\u001b[0m             \u001b[0mnext_point\u001b[0m \u001b[1;33m=\u001b[0m \u001b[0mcurrent_point\u001b[0m \u001b[1;33m+\u001b[0m \u001b[0mshift\u001b[0m\u001b[1;33m\u001b[0m\u001b[0m\n\u001b[0;32m     15\u001b[0m             \u001b[0mstep_size\u001b[0m \u001b[1;33m=\u001b[0m \u001b[0mstep_size\u001b[0m \u001b[1;33m/\u001b[0m \u001b[1;36m2\u001b[0m\u001b[1;33m\u001b[0m\u001b[0m\n",
      "\u001b[1;31mKeyboardInterrupt\u001b[0m: "
     ]
    }
   ],
   "source": [
    "step_size = 1e-3\n",
    "\n",
    "##########################\n",
    "\n",
    "corrupted_matrix = R\n",
    "corrupted_matrix[mask] = 0\n",
    "\n",
    "starting_point = corrupted_matrix\n",
    "starting_point[mask] = np.random.randn(n, n)\n",
    "\n",
    "current_point = starting_point\n",
    "\n",
    "prev_norm = np.linalg.norm(starting_point,'nuc')\n",
    "\n",
    "norms = []\n",
    "\n",
    "for i in range(300):\n",
    "    cur_norm = np.linalg.norm(current_point,'nuc')\n",
    "    norms.append(cur_norm)\n",
    "    diff = cur_norm - prev_norm\n",
    "    if diff > 0.1:\n",
    "        break\n",
    "    \n",
    "    print(i, cur_norm, diff, step_size)\n",
    "    prev_norm = cur_norm\n",
    "    \n",
    "    step_size = constant_step_size\n",
    "    \n",
    "    current_point, step_size = find_next_point(current_point, step_size)\n",
    "\n",
    "plt.plot(norms)"
   ]
  },
  {
   "cell_type": "code",
   "execution_count": null,
   "metadata": {},
   "outputs": [],
   "source": [
    "make_plots(original,current_point,mask,noise)"
   ]
  },
  {
   "cell_type": "markdown",
   "metadata": {},
   "source": [
    "Note: above error is computed with respect to the original with noise"
   ]
  }
 ],
 "metadata": {
  "kernelspec": {
   "display_name": "Python 3",
   "language": "python",
   "name": "python3"
  },
  "language_info": {
   "codemirror_mode": {
    "name": "ipython",
    "version": 3
   },
   "file_extension": ".py",
   "mimetype": "text/x-python",
   "name": "python",
   "nbconvert_exporter": "python",
   "pygments_lexer": "ipython3",
   "version": "3.7.1"
  }
 },
 "nbformat": 4,
 "nbformat_minor": 2
}
