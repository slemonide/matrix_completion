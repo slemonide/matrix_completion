{
 "cells": [
  {
   "cell_type": "code",
   "execution_count": 7,
   "metadata": {},
   "outputs": [],
   "source": [
    "import numpy as np\n",
    "import matplotlib.pyplot as plt"
   ]
  },
  {
   "cell_type": "code",
   "execution_count": 1,
   "metadata": {},
   "outputs": [],
   "source": [
    "from cvxopt import matrix, solvers"
   ]
  },
  {
   "cell_type": "markdown",
   "metadata": {},
   "source": [
    "Solving problem:\n",
    "\n",
    "![](https://cvxopt.org/userguide/_images/math/e7b0acebcd74fc3b4ec4b01f916c596976722c78.png)\n",
    "\n",
    "Reference: https://cvxopt.org/userguide/coneprog.html#semidefinite-programming"
   ]
  },
  {
   "cell_type": "code",
   "execution_count": 2,
   "metadata": {},
   "outputs": [
    {
     "name": "stdout",
     "output_type": "stream",
     "text": [
      "     pcost       dcost       gap    pres   dres   k/t\n",
      " 0: -1.2037e+00 -1.8539e+02  2e+02  2e-16  8e+00  1e+00\n",
      " 1: -1.2937e+00 -6.8551e+00  5e+00  5e-16  3e-01  3e-02\n",
      " 2: -2.8964e+00 -3.7331e+00  7e-01  9e-16  4e-02  5e-02\n",
      " 3: -3.0150e+00 -3.2556e+00  2e-01  7e-16  1e-02  2e-02\n",
      " 4: -3.1389e+00 -3.1932e+00  5e-02  4e-16  3e-03  5e-03\n",
      " 5: -3.1533e+00 -3.1547e+00  1e-03  2e-15  7e-05  1e-04\n",
      " 6: -3.1535e+00 -3.1536e+00  5e-05  8e-16  3e-06  6e-06\n",
      " 7: -3.1535e+00 -3.1535e+00  1e-06  6e-16  7e-08  2e-07\n",
      "Optimal solution found.\n",
      "[-3.68e-01]\n",
      "[ 1.90e+00]\n",
      "[-8.88e-01]\n",
      "\n",
      "[ 3.96e-03 -4.34e-03]\n",
      "[-4.34e-03  4.75e-03]\n",
      "\n",
      "[ 5.58e-02 -2.41e-03  2.42e-02]\n",
      "[-2.41e-03  1.04e-04 -1.05e-03]\n",
      "[ 2.42e-02 -1.05e-03  1.05e-02]\n",
      "\n"
     ]
    }
   ],
   "source": [
    "c = matrix([1.,-1.,1.])\n",
    "\n",
    "G = [ matrix([[-7., -11., -11., 3.],\n",
    "              [ 7., -18., -18., 8.],\n",
    "              [-2.,  -8.,  -8., 1.]]) ]\n",
    "\n",
    "G += [ matrix([[-21., -11.,   0., -11.,  10.,   8.,   0.,   8., 5.],\n",
    "               [  0.,  10.,  16.,  10., -10., -10.,  16., -10., 3.],\n",
    "               [ -5.,   2., -17.,   2.,  -6.,   8., -17.,  8., 6.]]) ]\n",
    "\n",
    "h = [ matrix([[33., -9.], [-9., 26.]]) ]\n",
    "h += [ matrix([[14., 9., 40.], [9., 91., 10.], [40., 10., 15.]]) ]\n",
    "\n",
    "sol = solvers.sdp(c, Gs=G, hs=h)\n",
    "\n",
    "print(sol['x'])\n",
    "print(sol['zs'][0])\n",
    "print(sol['zs'][1])"
   ]
  },
  {
   "cell_type": "markdown",
   "metadata": {},
   "source": [
    "Now, nuclear norm $||A||_*$ can be computed from the following semidefinite program:\n",
    "\n",
    "$$\n",
    "\\begin{equation*}\n",
    "\\begin{aligned}\n",
    "& \\underset{Y}{\\text{maximize}}\n",
    "& & TrA^TY \\\\\n",
    "& \\text{subject to}\n",
    "& &  \\begin{bmatrix}I_{n1} & Y \\\\Y^T & I_{n2} \\end{bmatrix}  \\succcurlyeq 0\n",
    "\\end{aligned}\n",
    "\\end{equation*}\n",
    "$$\n",
    "\n",
    "or its dual:\n",
    "\n",
    "$$\n",
    "\\begin{equation*}\n",
    "\\begin{aligned}\n",
    "& \\underset{W_1, W_1}{\\text{minimize}}\n",
    "& & \\frac{1}{2}(TrW_1 + TrW_2) \\\\\n",
    "& \\text{subject to}\n",
    "& &  \\begin{bmatrix}W_1 & A \\\\A^T & W_2 \\end{bmatrix}  \\succcurlyeq 0\n",
    "\\end{aligned}\n",
    "\\end{equation*}\n",
    "$$"
   ]
  },
  {
   "cell_type": "markdown",
   "metadata": {},
   "source": [
    "Letting $A = \\begin{bmatrix}1 & 0 \\\\0 & 0 \\end{bmatrix}$:\n",
    "\n",
    "$$\n",
    "\\begin{equation*}\n",
    "\\begin{aligned}\n",
    "& \\underset{}{\\text{minimize}}\n",
    "& & \\frac{1}{2}(w_{11}^1 + w_{22}^1 + w_{11}^2 + w_{22}^2) \\\\\n",
    "& \\text{subject to}\n",
    "& &  \\begin{bmatrix}\n",
    "    w_{11}^1 & w_{12}^1 & 1 & 0 \\\\\n",
    "    w_{21}^1 & w_{22}^1 & 0 & 0 \\\\\n",
    "    1 & 0 & w_{11}^2 & w_{12}^2 \\\\\n",
    "    0 & 0 & w_{21}^2 & w_{22}^2\n",
    "\\end{bmatrix}  \\succcurlyeq 0\n",
    "\\end{aligned}\n",
    "\\end{equation*}\n",
    "$$\n",
    "\n",
    "It is evident that $w_{21}^1 = w_{12}^1$ and $w_{21}^2 = w_{12}^2$ for constraint matrix to be symmetric."
   ]
  },
  {
   "cell_type": "code",
   "execution_count": null,
   "metadata": {},
   "outputs": [],
   "source": []
  }
 ],
 "metadata": {
  "kernelspec": {
   "display_name": "Python 3",
   "language": "python",
   "name": "python3"
  },
  "language_info": {
   "codemirror_mode": {
    "name": "ipython",
    "version": 3
   },
   "file_extension": ".py",
   "mimetype": "text/x-python",
   "name": "python",
   "nbconvert_exporter": "python",
   "pygments_lexer": "ipython3",
   "version": "3.7.1"
  }
 },
 "nbformat": 4,
 "nbformat_minor": 2
}
