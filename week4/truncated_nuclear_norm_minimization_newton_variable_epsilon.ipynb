{
 "cells": [
  {
   "cell_type": "code",
   "execution_count": 4,
   "metadata": {},
   "outputs": [],
   "source": [
    "import numpy as np\n",
    "import matplotlib.pyplot as plt"
   ]
  },
  {
   "cell_type": "code",
   "execution_count": 5,
   "metadata": {},
   "outputs": [],
   "source": [
    "def obj_func(m):\n",
    "    u, s, vh = np.linalg.svd(m)\n",
    "\n",
    "    return np.sum(s[1:])\n",
    "\n",
    "def comp_grad(m, boolMask, obj_func, n, epsilon):\n",
    "    \"\"\" Computes gradient that maximizes the objective function \"\"\"\n",
    "\n",
    "    # Yes, grad is a vector now\n",
    "    grad = []\n",
    "\n",
    "    for i in range(n):\n",
    "        for j in range(n):\n",
    "            if boolMask[i,j]:\n",
    "                diff = np.zeros([n,n])\n",
    "                diff[i,j] = epsilon\n",
    "                grad.append((obj_func(m + diff) - obj_func(m - diff))/(2*epsilon))\n",
    "\n",
    "    return grad\n",
    "\n",
    "def comp_hessian(m, boolMask, of, n, epsilon):\n",
    "    \"\"\" Computes hessian (only diagonal) \"\"\"\n",
    "    vector = []\n",
    "\n",
    "    for i in range(n):\n",
    "        for j in range(n):\n",
    "            if boolMask[i,j]:\n",
    "                vector.append(m[i,j])\n",
    "\n",
    "    q = len(vector)\n",
    "    hessian = np.zeros([q, q])\n",
    "\n",
    "    # fill in the diagonal first\n",
    "    count = 0\n",
    "    for i in range(n):\n",
    "        for j in range(n):\n",
    "            if boolMask[i,j]:\n",
    "\n",
    "                diff = np.zeros([n,n])\n",
    "                diff[i,j] = epsilon\n",
    "                hessian[count,count] = (of(m + diff) + of(m - diff) - 2*of(m))/epsilon**2\n",
    "\n",
    "                count = count + 1\n",
    "                \n",
    "    # now fill in off-diagonals\n",
    "    count1 = 0\n",
    "    for i1 in range(n):\n",
    "        for j1 in range(n):\n",
    "            if boolMask[i1,j1]: # found one\n",
    "                diff1 = np.zeros([n,n])\n",
    "                diff1[i1,j1] = epsilon\n",
    "\n",
    "                count2 = 0\n",
    "                for i2 in range(n):\n",
    "                    for j2 in range(n):\n",
    "                        if boolMask[i2,j2]: # found another one\n",
    "                            diff2 = np.zeros([n,n])\n",
    "                            diff2[i2,j2] = epsilon\n",
    "\n",
    "                            if count1 != count2: # doing only off-diagonal ones\n",
    "                                hessian[count1,count2] = (of(m + diff1 + diff2) + of(m - diff1 - diff2)\n",
    "                                                         - of(m + diff1 - diff2) - of(m - diff1 + diff2))/(2*epsilon)**2\n",
    "\n",
    "                            count2 = count2 + 1\n",
    "\n",
    "                count1 = count1 + 1\n",
    "\n",
    "    return hessian"
   ]
  },
  {
   "cell_type": "code",
   "execution_count": 6,
   "metadata": {},
   "outputs": [],
   "source": [
    "n = 10\n",
    "p = 0.5\n",
    "rank = 1\n",
    "\n",
    "U = np.random.randn(n, rank)\n",
    "V = np.random.randn(n, rank)\n",
    "original = np.dot(U, V.T)\n",
    "mask = np.random.choice([0, 1], size=(n,n), p=[1-p, p])\n",
    "\n",
    "boolMask = np.ma.make_mask(np.where(np.array(mask) < 0.5, 1, 0))"
   ]
  },
  {
   "cell_type": "code",
   "execution_count": 10,
   "metadata": {},
   "outputs": [
    {
     "name": "stdout",
     "output_type": "stream",
     "text": [
      "step, nuc norm, frob distance, hessian cond\n"
     ]
    },
    {
     "name": "stderr",
     "output_type": "stream",
     "text": [
      "/home/dplatonov/anaconda3/lib/python3.7/site-packages/ipykernel_launcher.py:41: RuntimeWarning: invalid value encountered in double_scalars\n",
      "/home/dplatonov/anaconda3/lib/python3.7/site-packages/ipykernel_launcher.py:62: RuntimeWarning: invalid value encountered in double_scalars\n"
     ]
    },
    {
     "name": "stdout",
     "output_type": "stream",
     "text": [
      "0 13.739552705183227 5.920798650552207 4.608210547302094 10\n",
      "1 13.410205761228479 5.613458274214489 4.235971869340462 10\n",
      "2 13.09617108685143 5.309383543608359 3.9253153446880242 10\n",
      "3 12.79808803132038 5.008499847699801 3.66354576045605 10\n",
      "4 12.51642692585097 4.710570034650747 3.4411968137540976 10\n",
      "5 12.251756074515786 4.415437150573404 3.2507684100073275 10\n",
      "6 12.005664868419053 4.123292253148603 3.086343424104514 10\n",
      "7 11.782686251522966 3.834775152565889 2.943278292652943 10\n",
      "8 11.60344039265771 3.5509924761247165 2.818151223913629 10\n",
      "9 11.480306808152818 3.272830122313718 2.7055096456044643 10\n",
      "10 11.402494765920798 3.0025101881255156 2.607766774864319 10\n",
      "11 11.365054024014016 2.7431327826230287 2.5243483502140185 10\n",
      "12 11.366482650604205 2.4977663019124114 2.4515125570261445 10\n",
      "13 11.412981645635572 2.2697029758571876 2.385123584866491 10\n",
      "14 11.529108708558002 2.0619566234924065 2.323677826027051 10\n",
      "15 11.509073419361794 1.9913321627911695 2.293564220810683 4\n",
      "16 11.493370394226407 1.9225394044283106 2.274704477471831 4\n",
      "17 11.481608170528261 1.8554795464334815 2.258140062184186 4\n",
      "18 11.473654804391964 1.7900775456142737 2.242902631138169 4\n",
      "19 11.47079217065925 1.7262730104666832 2.228849797270561 4\n",
      "20 11.475188770075967 1.6639780941279123 2.216533825290134 4\n",
      "21 11.483402604873016 1.6030465404889478 2.2087120507868194 4\n",
      "22 11.493620703365677 1.543444894723377 2.203146230424046 4\n",
      "23 11.505307551729873 1.4851835805833171 2.1982383357327056 4\n",
      "24 11.518172117833899 1.4282898289093033 2.193607231923368 4\n",
      "25 11.53200543272135 1.3728053436435879 2.1890536774489893 4\n",
      "26 11.546637448860231 1.318781948329916 2.1844557383180856 4\n",
      "27 11.561928027387907 1.2662803209363118 2.179696484726587 4\n",
      "28 11.577756854061196 1.2153701649739193 2.1747475512391565 4\n",
      "29 11.594024034729815 1.1661318569524979 2.1696223346972117 4\n",
      "30 11.61064821686635 1.1186576069842966 2.164349357422719 4\n",
      "31 11.627563213122029 1.0730534948388233 2.1589625757654636 4\n",
      "32 11.644715048118766 1.029441422710271 2.1534944060384262 4\n",
      "33 11.662060926831263 0.9879588143101972 2.14797850203583 4\n",
      "34 11.679569117109482 0.9487578197073214 2.142447954946444 4\n",
      "35 11.697218797319415 0.912004682537739 2.1369353154754105 4\n",
      "36 11.715000298855028 0.8778784124020067 2.1314728972139916 4\n",
      "37 11.732916831537912 0.8465681988250593 2.1260954821175178 4\n",
      "38 11.750989419587391 0.8182693943689525 2.1208412839113024 4\n"
     ]
    },
    {
     "ename": "KeyboardInterrupt",
     "evalue": "",
     "output_type": "error",
     "traceback": [
      "\u001b[0;31m---------------------------------------------------------------------------\u001b[0m",
      "\u001b[0;31mKeyboardInterrupt\u001b[0m                         Traceback (most recent call last)",
      "\u001b[0;32m<ipython-input-10-0f23db857a13>\u001b[0m in \u001b[0;36m<module>\u001b[0;34m\u001b[0m\n\u001b[1;32m     16\u001b[0m     \u001b[0;32mfor\u001b[0m \u001b[0mp\u001b[0m \u001b[0;32min\u001b[0m \u001b[0mrange\u001b[0m\u001b[0;34m(\u001b[0m\u001b[0;36m9\u001b[0m\u001b[0;34m)\u001b[0m\u001b[0;34m:\u001b[0m\u001b[0;34m\u001b[0m\u001b[0;34m\u001b[0m\u001b[0m\n\u001b[1;32m     17\u001b[0m         \u001b[0mepsilon\u001b[0m \u001b[0;34m=\u001b[0m \u001b[0mp\u001b[0m\u001b[0;31m#10**(-p)\u001b[0m\u001b[0;34m\u001b[0m\u001b[0;34m\u001b[0m\u001b[0m\n\u001b[0;32m---> 18\u001b[0;31m         \u001b[0mhessian\u001b[0m \u001b[0;34m=\u001b[0m \u001b[0mcomp_hessian\u001b[0m\u001b[0;34m(\u001b[0m\u001b[0mcurrent_point\u001b[0m\u001b[0;34m,\u001b[0m \u001b[0mboolMask\u001b[0m\u001b[0;34m,\u001b[0m \u001b[0mobj_func\u001b[0m\u001b[0;34m,\u001b[0m \u001b[0mn\u001b[0m\u001b[0;34m,\u001b[0m \u001b[0mepsilon\u001b[0m\u001b[0;34m)\u001b[0m\u001b[0;34m\u001b[0m\u001b[0;34m\u001b[0m\u001b[0m\n\u001b[0m\u001b[1;32m     19\u001b[0m         \u001b[0mcond\u001b[0m \u001b[0;34m=\u001b[0m \u001b[0mnp\u001b[0m\u001b[0;34m.\u001b[0m\u001b[0mlinalg\u001b[0m\u001b[0;34m.\u001b[0m\u001b[0mcond\u001b[0m\u001b[0;34m(\u001b[0m\u001b[0mhessian\u001b[0m\u001b[0;34m)\u001b[0m\u001b[0;34m\u001b[0m\u001b[0;34m\u001b[0m\u001b[0m\n\u001b[1;32m     20\u001b[0m         \u001b[0;32mif\u001b[0m \u001b[0mcond\u001b[0m \u001b[0;34m<\u001b[0m \u001b[0mbest_cond\u001b[0m\u001b[0;34m:\u001b[0m\u001b[0;34m\u001b[0m\u001b[0;34m\u001b[0m\u001b[0m\n",
      "\u001b[0;32m<ipython-input-5-20d60e86c99c>\u001b[0m in \u001b[0;36mcomp_hessian\u001b[0;34m(m, boolMask, of, n, epsilon)\u001b[0m\n\u001b[1;32m     60\u001b[0m                             \u001b[0;32mif\u001b[0m \u001b[0mcount1\u001b[0m \u001b[0;34m!=\u001b[0m \u001b[0mcount2\u001b[0m\u001b[0;34m:\u001b[0m \u001b[0;31m# doing only off-diagonal ones\u001b[0m\u001b[0;34m\u001b[0m\u001b[0;34m\u001b[0m\u001b[0m\n\u001b[1;32m     61\u001b[0m                                 hessian[count1,count2] = (of(m + diff1 + diff2) + of(m - diff1 - diff2)\n\u001b[0;32m---> 62\u001b[0;31m                                                          - of(m + diff1 - diff2) - of(m - diff1 + diff2))/(2*epsilon)**2\n\u001b[0m\u001b[1;32m     63\u001b[0m \u001b[0;34m\u001b[0m\u001b[0m\n\u001b[1;32m     64\u001b[0m                             \u001b[0mcount2\u001b[0m \u001b[0;34m=\u001b[0m \u001b[0mcount2\u001b[0m \u001b[0;34m+\u001b[0m \u001b[0;36m1\u001b[0m\u001b[0;34m\u001b[0m\u001b[0;34m\u001b[0m\u001b[0m\n",
      "\u001b[0;32m<ipython-input-5-20d60e86c99c>\u001b[0m in \u001b[0;36mobj_func\u001b[0;34m(m)\u001b[0m\n\u001b[1;32m      1\u001b[0m \u001b[0;32mdef\u001b[0m \u001b[0mobj_func\u001b[0m\u001b[0;34m(\u001b[0m\u001b[0mm\u001b[0m\u001b[0;34m)\u001b[0m\u001b[0;34m:\u001b[0m\u001b[0;34m\u001b[0m\u001b[0;34m\u001b[0m\u001b[0m\n\u001b[0;32m----> 2\u001b[0;31m     \u001b[0mu\u001b[0m\u001b[0;34m,\u001b[0m \u001b[0ms\u001b[0m\u001b[0;34m,\u001b[0m \u001b[0mvh\u001b[0m \u001b[0;34m=\u001b[0m \u001b[0mnp\u001b[0m\u001b[0;34m.\u001b[0m\u001b[0mlinalg\u001b[0m\u001b[0;34m.\u001b[0m\u001b[0msvd\u001b[0m\u001b[0;34m(\u001b[0m\u001b[0mm\u001b[0m\u001b[0;34m)\u001b[0m\u001b[0;34m\u001b[0m\u001b[0;34m\u001b[0m\u001b[0m\n\u001b[0m\u001b[1;32m      3\u001b[0m \u001b[0;34m\u001b[0m\u001b[0m\n\u001b[1;32m      4\u001b[0m     \u001b[0;32mreturn\u001b[0m \u001b[0mnp\u001b[0m\u001b[0;34m.\u001b[0m\u001b[0msum\u001b[0m\u001b[0;34m(\u001b[0m\u001b[0ms\u001b[0m\u001b[0;34m[\u001b[0m\u001b[0;36m1\u001b[0m\u001b[0;34m:\u001b[0m\u001b[0;34m]\u001b[0m\u001b[0;34m)\u001b[0m\u001b[0;34m\u001b[0m\u001b[0;34m\u001b[0m\u001b[0m\n\u001b[1;32m      5\u001b[0m \u001b[0;34m\u001b[0m\u001b[0m\n",
      "\u001b[0;32m~/anaconda3/lib/python3.7/site-packages/numpy/linalg/linalg.py\u001b[0m in \u001b[0;36msvd\u001b[0;34m(a, full_matrices, compute_uv)\u001b[0m\n\u001b[1;32m   1610\u001b[0m \u001b[0;34m\u001b[0m\u001b[0m\n\u001b[1;32m   1611\u001b[0m         \u001b[0msignature\u001b[0m \u001b[0;34m=\u001b[0m \u001b[0;34m'D->DdD'\u001b[0m \u001b[0;32mif\u001b[0m \u001b[0misComplexType\u001b[0m\u001b[0;34m(\u001b[0m\u001b[0mt\u001b[0m\u001b[0;34m)\u001b[0m \u001b[0;32melse\u001b[0m \u001b[0;34m'd->ddd'\u001b[0m\u001b[0;34m\u001b[0m\u001b[0;34m\u001b[0m\u001b[0m\n\u001b[0;32m-> 1612\u001b[0;31m         \u001b[0mu\u001b[0m\u001b[0;34m,\u001b[0m \u001b[0ms\u001b[0m\u001b[0;34m,\u001b[0m \u001b[0mvh\u001b[0m \u001b[0;34m=\u001b[0m \u001b[0mgufunc\u001b[0m\u001b[0;34m(\u001b[0m\u001b[0ma\u001b[0m\u001b[0;34m,\u001b[0m \u001b[0msignature\u001b[0m\u001b[0;34m=\u001b[0m\u001b[0msignature\u001b[0m\u001b[0;34m,\u001b[0m \u001b[0mextobj\u001b[0m\u001b[0;34m=\u001b[0m\u001b[0mextobj\u001b[0m\u001b[0;34m)\u001b[0m\u001b[0;34m\u001b[0m\u001b[0;34m\u001b[0m\u001b[0m\n\u001b[0m\u001b[1;32m   1613\u001b[0m         \u001b[0mu\u001b[0m \u001b[0;34m=\u001b[0m \u001b[0mu\u001b[0m\u001b[0;34m.\u001b[0m\u001b[0mastype\u001b[0m\u001b[0;34m(\u001b[0m\u001b[0mresult_t\u001b[0m\u001b[0;34m,\u001b[0m \u001b[0mcopy\u001b[0m\u001b[0;34m=\u001b[0m\u001b[0;32mFalse\u001b[0m\u001b[0;34m)\u001b[0m\u001b[0;34m\u001b[0m\u001b[0;34m\u001b[0m\u001b[0m\n\u001b[1;32m   1614\u001b[0m         \u001b[0ms\u001b[0m \u001b[0;34m=\u001b[0m \u001b[0ms\u001b[0m\u001b[0;34m.\u001b[0m\u001b[0mastype\u001b[0m\u001b[0;34m(\u001b[0m\u001b[0m_realType\u001b[0m\u001b[0;34m(\u001b[0m\u001b[0mresult_t\u001b[0m\u001b[0;34m)\u001b[0m\u001b[0;34m,\u001b[0m \u001b[0mcopy\u001b[0m\u001b[0;34m=\u001b[0m\u001b[0;32mFalse\u001b[0m\u001b[0;34m)\u001b[0m\u001b[0;34m\u001b[0m\u001b[0;34m\u001b[0m\u001b[0m\n",
      "\u001b[0;31mKeyboardInterrupt\u001b[0m: "
     ]
    }
   ],
   "source": [
    "current_point = np.copy(original)\n",
    "\n",
    "zeros = np.zeros([n,n])\n",
    "current_point[boolMask] = zeros[boolMask]\n",
    "\n",
    "print(\"step, nuc norm, frob distance, hessian cond\")#, grad mean, grad std, grad min, grad max\")\n",
    "nuc_norms = []\n",
    "frob_norms = []\n",
    "conds = []\n",
    "\n",
    "for step in range(10000):\n",
    "\n",
    "    best_epsilon = 10\n",
    "    best_hessian = comp_hessian(current_point, boolMask, obj_func, n, best_epsilon)\n",
    "    best_cond = np.linalg.cond(best_hessian)\n",
    "    for p in range(9):\n",
    "        epsilon = p#10**(-p)\n",
    "        hessian = comp_hessian(current_point, boolMask, obj_func, n, epsilon)\n",
    "        cond = np.linalg.cond(hessian)\n",
    "        if cond < best_cond:\n",
    "            best_epsilon = epsilon\n",
    "            best_hessian = hessian\n",
    "            best_cond = cond\n",
    "    \n",
    "    hessian = best_hessian\n",
    "    grad = comp_grad(current_point, boolMask, obj_func, n, best_epsilon)\n",
    "\n",
    "    descent = -np.dot(np.linalg.inv(hessian), grad)\n",
    "    #descent = -np.array(grad)\n",
    "    \n",
    "    descent_matrix = np.zeros([n,n])\n",
    "    count = 0\n",
    "    for i in range(n):\n",
    "        for j in range(n):\n",
    "            if boolMask[i,j]:\n",
    "                descent_matrix[i,j] = descent[count]\n",
    "                count = count + 1\n",
    "    \n",
    "    current_point = current_point + 0.1*descent_matrix\n",
    "    \n",
    "    nuc_norms.append(np.linalg.norm(current_point,'nuc'))\n",
    "    frob_norms.append(np.linalg.norm(current_point-original,'fro'))\n",
    "    conds.append(np.linalg.cond(hessian))\n",
    "    \n",
    "    #if step % 20 == 0:\n",
    "    print(step, np.linalg.norm(current_point,'nuc'), np.linalg.norm(current_point-original,'fro'),\n",
    "              best_cond, best_epsilon)#, np.mean(np.abs(grad)),\n",
    "             # np.std(np.abs(grad)), np.min(np.abs(grad)), np.max(np.abs(grad)))\n",
    "    "
   ]
  },
  {
   "cell_type": "code",
   "execution_count": 11,
   "metadata": {},
   "outputs": [
    {
     "data": {
      "text/plain": [
       "[<matplotlib.lines.Line2D at 0x7fe1ba75bc88>]"
      ]
     },
     "execution_count": 11,
     "metadata": {},
     "output_type": "execute_result"
    },
    {
     "data": {
      "image/png": "[encoded data removed]",
      "text/plain": [
       "<Figure size 432x288 with 1 Axes>"
      ]
     },
     "metadata": {
      "needs_background": "light"
     },
     "output_type": "display_data"
    }
   ],
   "source": [
    "plt.plot(nuc_norms)"
   ]
  },
  {
   "cell_type": "code",
   "execution_count": 12,
   "metadata": {},
   "outputs": [
    {
     "data": {
      "text/plain": [
       "[<matplotlib.lines.Line2D at 0x7fe1ba6f85f8>]"
      ]
     },
     "execution_count": 12,
     "metadata": {},
     "output_type": "execute_result"
    },
    {
     "data": {
      "image/png": "[encoded data removed]",
      "text/plain": [
       "<Figure size 432x288 with 1 Axes>"
      ]
     },
     "metadata": {
      "needs_background": "light"
     },
     "output_type": "display_data"
    }
   ],
   "source": [
    "plt.plot(frob_norms)"
   ]
  },
  {
   "cell_type": "code",
   "execution_count": 13,
   "metadata": {},
   "outputs": [
    {
     "data": {
      "text/plain": [
       "[<matplotlib.lines.Line2D at 0x7fe1ba665128>]"
      ]
     },
     "execution_count": 13,
     "metadata": {},
     "output_type": "execute_result"
    },
    {
     "data": {
      "image/png": "[encoded data removed]",
      "text/plain": [
       "<Figure size 432x288 with 1 Axes>"
      ]
     },
     "metadata": {
      "needs_background": "light"
     },
     "output_type": "display_data"
    }
   ],
   "source": [
    "plt.plot(conds)"
   ]
  },
  {
   "cell_type": "code",
   "execution_count": 14,
   "metadata": {},
   "outputs": [
    {
     "data": {
      "text/plain": [
       "(array([5., 5., 5., 4., 2., 1., 2., 0., 1., 0., 1., 0., 0., 1., 0., 0., 1.,\n",
       "        0., 0., 1., 0., 0., 0., 1., 0., 0., 0., 0., 1., 0., 0., 0., 0., 1.,\n",
       "        0., 0., 0., 0., 1., 0., 0., 0., 0., 0., 0., 1., 0., 0., 0., 0., 0.,\n",
       "        0., 0., 1., 0., 0., 0., 0., 0., 0., 0., 0., 1., 0., 0., 0., 0., 0.,\n",
       "        0., 0., 0., 0., 1., 0., 0., 0., 0., 0., 0., 0., 0., 0., 0., 0., 0.,\n",
       "        1., 0., 0., 0., 0., 0., 0., 0., 0., 0., 0., 0., 0., 0., 1.]),\n",
       " array([2.12084128, 2.14571498, 2.17058867, 2.19546236, 2.22033605,\n",
       "        2.24520975, 2.27008344, 2.29495713, 2.31983082, 2.34470452,\n",
       "        2.36957821, 2.3944519 , 2.4193256 , 2.44419929, 2.46907298,\n",
       "        2.49394667, 2.51882037, 2.54369406, 2.56856775, 2.59344144,\n",
       "        2.61831514, 2.64318883, 2.66806252, 2.69293621, 2.71780991,\n",
       "        2.7426836 , 2.76755729, 2.79243099, 2.81730468, 2.84217837,\n",
       "        2.86705206, 2.89192576, 2.91679945, 2.94167314, 2.96654683,\n",
       "        2.99142053, 3.01629422, 3.04116791, 3.0660416 , 3.0909153 ,\n",
       "        3.11578899, 3.14066268, 3.16553637, 3.19041007, 3.21528376,\n",
       "        3.24015745, 3.26503115, 3.28990484, 3.31477853, 3.33965222,\n",
       "        3.36452592, 3.38939961, 3.4142733 , 3.43914699, 3.46402069,\n",
       "        3.48889438, 3.51376807, 3.53864176, 3.56351546, 3.58838915,\n",
       "        3.61326284, 3.63813653, 3.66301023, 3.68788392, 3.71275761,\n",
       "        3.73763131, 3.762505  , 3.78737869, 3.81225238, 3.83712608,\n",
       "        3.86199977, 3.88687346, 3.91174715, 3.93662085, 3.96149454,\n",
       "        3.98636823, 4.01124192, 4.03611562, 4.06098931, 4.085863  ,\n",
       "        4.11073669, 4.13561039, 4.16048408, 4.18535777, 4.21023147,\n",
       "        4.23510516, 4.25997885, 4.28485254, 4.30972624, 4.33459993,\n",
       "        4.35947362, 4.38434731, 4.40922101, 4.4340947 , 4.45896839,\n",
       "        4.48384208, 4.50871578, 4.53358947, 4.55846316, 4.58333685,\n",
       "        4.60821055]),\n",
       " <a list of 100 Patch objects>)"
      ]
     },
     "execution_count": 14,
     "metadata": {},
     "output_type": "execute_result"
    },
    {
     "data": {
      "image/png": "[encoded data removed]",
      "text/plain": [
       "<Figure size 432x288 with 1 Axes>"
      ]
     },
     "metadata": {
      "needs_background": "light"
     },
     "output_type": "display_data"
    }
   ],
   "source": [
    "plt.hist(conds,100)"
   ]
  },
  {
   "cell_type": "markdown",
   "metadata": {},
   "source": [
    "This seems to be working"
   ]
  },
  {
   "cell_type": "code",
   "execution_count": null,
   "metadata": {},
   "outputs": [],
   "source": []
  }
 ],
 "metadata": {
  "kernelspec": {
   "display_name": "Python 3",
   "language": "python",
   "name": "python3"
  },
  "language_info": {
   "codemirror_mode": {
    "name": "ipython",
    "version": 3
   },
   "file_extension": ".py",
   "mimetype": "text/x-python",
   "name": "python",
   "nbconvert_exporter": "python",
   "pygments_lexer": "ipython3",
   "version": "3.7.3"
  }
 },
 "nbformat": 4,
 "nbformat_minor": 2
}
