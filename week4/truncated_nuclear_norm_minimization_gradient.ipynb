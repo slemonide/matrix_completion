{
 "cells": [
  {
   "cell_type": "code",
   "execution_count": 1,
   "metadata": {},
   "outputs": [],
   "source": [
    "import numpy as np\n",
    "import matplotlib.pyplot as plt"
   ]
  },
  {
   "cell_type": "code",
   "execution_count": 2,
   "metadata": {},
   "outputs": [],
   "source": [
    "def obj_func(m):\n",
    "    u, s, vh = np.linalg.svd(m)\n",
    "\n",
    "    return np.sum(s[1:])\n",
    "\n",
    "def comp_grad(m, boolMask, obj_func, n):\n",
    "    \"\"\" Computes gradient that maximizes the objective function \"\"\"\n",
    "    epsilon = 1e-3\n",
    "\n",
    "    # Yes, grad is a vector now\n",
    "    grad = []\n",
    "\n",
    "    for i in range(n):\n",
    "        for j in range(n):\n",
    "            if boolMask[i,j]:\n",
    "                diff = np.zeros([n,n])\n",
    "                diff[i,j] = epsilon\n",
    "                grad.append((obj_func(m + diff) - obj_func(m - diff))/(2*epsilon))\n",
    "\n",
    "    return grad\n",
    "\n",
    "def comp_hessian(m, boolMask, of, n):\n",
    "    \"\"\" Computes hessian (only diagonal) \"\"\"\n",
    "    vector = []\n",
    "\n",
    "    for i in range(n):\n",
    "        for j in range(n):\n",
    "            if boolMask[i,j]:\n",
    "                vector.append(m[i,j])\n",
    "\n",
    "    q = len(vector)\n",
    "\n",
    "    epsilon = 1e-3\n",
    "    hessian = np.zeros([q, q])\n",
    "\n",
    "    # fill in the diagonal first\n",
    "    count = 0\n",
    "    for i in range(n):\n",
    "        for j in range(n):\n",
    "            if boolMask[i,j]:\n",
    "\n",
    "                diff = np.zeros([n,n])\n",
    "                diff[i,j] = epsilon\n",
    "                hessian[count,count] = (of(m + diff) + of(m - diff) - 2*of(m))/epsilon**2\n",
    "\n",
    "                count = count + 1\n",
    "                \n",
    "    # now fill in off-diagonals\n",
    "    count1 = 0\n",
    "    for i1 in range(n):\n",
    "        for j1 in range(n):\n",
    "            if boolMask[i1,j1]: # found one\n",
    "                diff1 = np.zeros([n,n])\n",
    "                diff1[i1,j1] = epsilon\n",
    "\n",
    "                count2 = 0\n",
    "                for i2 in range(n):\n",
    "                    for j2 in range(n):\n",
    "                        if boolMask[i2,j2]: # found another one\n",
    "                            diff2 = np.zeros([n,n])\n",
    "                            diff2[i2,j2] = epsilon\n",
    "\n",
    "                            if count1 != count2: # doing only off-diagonal ones\n",
    "                                hessian[count1,count2] = (of(m + diff1 + diff2) + of(m - diff1 - diff2)\n",
    "                                                         - of(m + diff1 - diff2) - of(m - diff1 + diff2))/(2*epsilon)**2\n",
    "\n",
    "                            count2 = count2 + 1\n",
    "\n",
    "                count1 = count1 + 1\n",
    "\n",
    "    return hessian"
   ]
  },
  {
   "cell_type": "code",
   "execution_count": 3,
   "metadata": {},
   "outputs": [],
   "source": [
    "n = 10\n",
    "p = 0.5\n",
    "rank = 1\n",
    "\n",
    "U = np.random.randn(n, rank)\n",
    "V = np.random.randn(n, rank)\n",
    "original = np.dot(U, V.T)\n",
    "mask = np.random.choice([0, 1], size=(n,n), p=[1-p, p])\n",
    "\n",
    "boolMask = np.ma.make_mask(np.where(np.array(mask) < 0.5, 1, 0))"
   ]
  },
  {
   "cell_type": "code",
   "execution_count": 4,
   "metadata": {},
   "outputs": [
    {
     "name": "stdout",
     "output_type": "stream",
     "text": [
      "step, nuc norm, frob distance, hessian cond\n",
      "0 11.606523832430977 7.956168757179823 458088.60985252215\n",
      "20 10.591191726527711 6.41480634947951 49057.871227826785\n",
      "40 10.268705963114783 4.923451240117212 281043.6693446261\n",
      "60 10.10827653832663 3.5283855096965406 12454.369631870259\n",
      "80 10.087351538159062 2.3362670919244533 983706.329662635\n",
      "100 10.190603180677552 1.5065201996400857 79608.27516630582\n",
      "120 10.273424630120878 0.8934613957174469 211764.41181592533\n",
      "140 10.327239348900632 0.3873045631093339 201605.63130449702\n",
      "160 10.35249314087542 0.14671364463225683 404207.45682036923\n",
      "180 10.422878212260773 0.14074396345553838 4255918.057300827\n",
      "200 10.427708346693226 0.13908594715695374 9225999.578998396\n",
      "220 10.429845603085532 0.13804714855355188 4805829.638050376\n",
      "240 10.43098316176404 0.13753923622546865 4607755.6981719555\n",
      "260 10.431632180853073 0.13732652148349472 4820931.524419619\n",
      "280 10.432103898392262 0.13721824475575034 4856408.169283259\n",
      "300 10.432502339534642 0.13715486134957933 4691668.054439557\n",
      "320 10.432861319115124 0.1371167470266359 4457151.666528551\n",
      "340 10.433193914524773 0.13709527790818068 4230429.990050734\n",
      "360 10.433506748066884 0.13708572424712206 4041131.8492231504\n",
      "380 10.433804063476678 0.13708514854940645 3893172.463913658\n",
      "400 10.434088969869668 0.1370915984069752 3786487.558786194\n",
      "420 10.434363878024598 0.13710372093623188 3719248.7613103786\n",
      "440 10.434630692726937 0.13712055056551564 3693526.1031862423\n",
      "460 10.434890924949295 0.13714138192836 3713806.906123445\n",
      "480 10.4351457726789 0.13716568954934208 3791600.21768927\n",
      "500 10.435396185013998 0.13719307514017456 3946586.369483396\n",
      "520 10.435642914207705 0.13722323199232841 4214365.117590285\n",
      "540 10.435886557724164 0.13725592034627906 4652186.299037674\n",
      "560 10.436127591821366 0.13729095001994757 5362748.20002205\n",
      "580 10.436366398062388 0.1373281679559543 6538618.551137652\n",
      "600 10.436603284057913 0.13736744917147806 8560105.181623412\n",
      "620 10.43683849960252 0.13740869010430884 12309883.970791526\n",
      "640 10.43707224918588 0.13745180367236975 20400902.287081633\n",
      "660 10.43730470167518 0.1374967155727008 44956829.55494648\n",
      "680 10.43753599781255 0.13754336148923324 516110987.6823628\n",
      "700 10.43776625602352 0.1375916849714774 83696600.4319794\n",
      "720 10.43799557692753 0.1376416358137321 50053737.103910126\n",
      "740 10.438224046846894 0.13769316880960394 43404583.48260259\n",
      "760 10.438451740546379 0.13774624279026218 44849748.24138734\n",
      "780 10.438678723378562 0.13780081987856557 53412273.04071281\n",
      "800 10.438905052970831 0.13785686490733481 75679854.93146165\n",
      "820 10.439130780556672 0.13791434496409075 152798556.65612823\n",
      "840 10.439355952030148 0.13797322903233328 1246737298.5242321\n",
      "860 10.439580608788772 0.13803348770871032 118672441.46884854\n",
      "880 10.439804788408034 0.13809509297826095 62641856.29606471\n",
      "900 10.440028525185161 0.13815801803444194 42909582.93677918\n",
      "920 10.440251850578575 0.13822223713461698 33052902.233779028\n",
      "940 10.440474793569082 0.13828772548346072 27163486.973498207\n",
      "960 10.440697380957783 0.13835445913845643 23318715.319889072\n",
      "980 10.440919637609216 0.13842241493146074 20611887.054215185\n",
      "1000 10.441141586657379 0.1384915704044335 18640128.028103974\n",
      "1020 10.441363249679908 0.13856190375627797 17142185.131586738\n",
      "1040 10.44158464684157 0.1386333937968232 15971858.192899626\n",
      "1060 10.441805797022374 0.13870601990917109 15039904.619781034\n",
      "1080 10.442026717924282 0.13877976201635886 14293682.543736588\n",
      "1100 10.442247426165116 0.13885460055275217 13682752.002591357\n",
      "1120 10.442467937361254 0.13893051643916035 13172335.493098397\n",
      "1140 10.44268826619884 0.13900749106027385 12756060.345133256\n",
      "1160 10.442908426499613 0.13908550624511573 12404002.262333369\n",
      "1180 10.443128431276719 0.1391645442487909 12111178.698378567\n",
      "1200 10.443348292786832 0.13924458773617976 11862184.897185113\n",
      "1220 10.44356802257701 0.13932561976694469 11654991.66007815\n",
      "1240 10.443787631524856 0.1394076237810601 11485449.649522997\n",
      "1260 10.444007129879633 0.13949058358648528 11340553.140125915\n",
      "1280 10.444226527295763 0.1395744833465376 11224027.299475998\n",
      "1300 10.444445832865336 0.1396593075683864 11129783.980898015\n"
     ]
    },
    {
     "ename": "KeyboardInterrupt",
     "evalue": "",
     "output_type": "error",
     "traceback": [
      "\u001b[0;31m---------------------------------------------------------------------------\u001b[0m",
      "\u001b[0;31mKeyboardInterrupt\u001b[0m                         Traceback (most recent call last)",
      "\u001b[0;32m<ipython-input-4-98e0ef6f39d8>\u001b[0m in \u001b[0;36m<module>\u001b[0;34m\u001b[0m\n\u001b[1;32m     11\u001b[0m \u001b[0;32mfor\u001b[0m \u001b[0mstep\u001b[0m \u001b[0;32min\u001b[0m \u001b[0mrange\u001b[0m\u001b[0;34m(\u001b[0m\u001b[0;36m10000\u001b[0m\u001b[0;34m)\u001b[0m\u001b[0;34m:\u001b[0m\u001b[0;34m\u001b[0m\u001b[0;34m\u001b[0m\u001b[0m\n\u001b[1;32m     12\u001b[0m \u001b[0;34m\u001b[0m\u001b[0m\n\u001b[0;32m---> 13\u001b[0;31m     \u001b[0mhessian\u001b[0m \u001b[0;34m=\u001b[0m \u001b[0mcomp_hessian\u001b[0m\u001b[0;34m(\u001b[0m\u001b[0mcurrent_point\u001b[0m\u001b[0;34m,\u001b[0m \u001b[0mboolMask\u001b[0m\u001b[0;34m,\u001b[0m \u001b[0mobj_func\u001b[0m\u001b[0;34m,\u001b[0m \u001b[0mn\u001b[0m\u001b[0;34m)\u001b[0m\u001b[0;34m\u001b[0m\u001b[0;34m\u001b[0m\u001b[0m\n\u001b[0m\u001b[1;32m     14\u001b[0m     \u001b[0mgrad\u001b[0m \u001b[0;34m=\u001b[0m \u001b[0mcomp_grad\u001b[0m\u001b[0;34m(\u001b[0m\u001b[0mcurrent_point\u001b[0m\u001b[0;34m,\u001b[0m \u001b[0mboolMask\u001b[0m\u001b[0;34m,\u001b[0m \u001b[0mobj_func\u001b[0m\u001b[0;34m,\u001b[0m \u001b[0mn\u001b[0m\u001b[0;34m)\u001b[0m\u001b[0;34m\u001b[0m\u001b[0;34m\u001b[0m\u001b[0m\n\u001b[1;32m     15\u001b[0m \u001b[0;34m\u001b[0m\u001b[0m\n",
      "\u001b[0;32m<ipython-input-2-84f47dbba863>\u001b[0m in \u001b[0;36mcomp_hessian\u001b[0;34m(m, boolMask, of, n)\u001b[0m\n\u001b[1;32m     63\u001b[0m                             \u001b[0;32mif\u001b[0m \u001b[0mcount1\u001b[0m \u001b[0;34m!=\u001b[0m \u001b[0mcount2\u001b[0m\u001b[0;34m:\u001b[0m \u001b[0;31m# doing only off-diagonal ones\u001b[0m\u001b[0;34m\u001b[0m\u001b[0;34m\u001b[0m\u001b[0m\n\u001b[1;32m     64\u001b[0m                                 hessian[count1,count2] = (of(m + diff1 + diff2) + of(m - diff1 - diff2)\n\u001b[0;32m---> 65\u001b[0;31m                                                          - of(m + diff1 - diff2) - of(m - diff1 + diff2))/(2*epsilon)**2\n\u001b[0m\u001b[1;32m     66\u001b[0m \u001b[0;34m\u001b[0m\u001b[0m\n\u001b[1;32m     67\u001b[0m                             \u001b[0mcount2\u001b[0m \u001b[0;34m=\u001b[0m \u001b[0mcount2\u001b[0m \u001b[0;34m+\u001b[0m \u001b[0;36m1\u001b[0m\u001b[0;34m\u001b[0m\u001b[0;34m\u001b[0m\u001b[0m\n",
      "\u001b[0;32m<ipython-input-2-84f47dbba863>\u001b[0m in \u001b[0;36mobj_func\u001b[0;34m(m)\u001b[0m\n\u001b[1;32m      1\u001b[0m \u001b[0;32mdef\u001b[0m \u001b[0mobj_func\u001b[0m\u001b[0;34m(\u001b[0m\u001b[0mm\u001b[0m\u001b[0;34m)\u001b[0m\u001b[0;34m:\u001b[0m\u001b[0;34m\u001b[0m\u001b[0;34m\u001b[0m\u001b[0m\n\u001b[0;32m----> 2\u001b[0;31m     \u001b[0mu\u001b[0m\u001b[0;34m,\u001b[0m \u001b[0ms\u001b[0m\u001b[0;34m,\u001b[0m \u001b[0mvh\u001b[0m \u001b[0;34m=\u001b[0m \u001b[0mnp\u001b[0m\u001b[0;34m.\u001b[0m\u001b[0mlinalg\u001b[0m\u001b[0;34m.\u001b[0m\u001b[0msvd\u001b[0m\u001b[0;34m(\u001b[0m\u001b[0mm\u001b[0m\u001b[0;34m)\u001b[0m\u001b[0;34m\u001b[0m\u001b[0;34m\u001b[0m\u001b[0m\n\u001b[0m\u001b[1;32m      3\u001b[0m \u001b[0;34m\u001b[0m\u001b[0m\n\u001b[1;32m      4\u001b[0m     \u001b[0;32mreturn\u001b[0m \u001b[0mnp\u001b[0m\u001b[0;34m.\u001b[0m\u001b[0msum\u001b[0m\u001b[0;34m(\u001b[0m\u001b[0ms\u001b[0m\u001b[0;34m[\u001b[0m\u001b[0;36m1\u001b[0m\u001b[0;34m:\u001b[0m\u001b[0;34m]\u001b[0m\u001b[0;34m)\u001b[0m\u001b[0;34m\u001b[0m\u001b[0;34m\u001b[0m\u001b[0m\n\u001b[1;32m      5\u001b[0m \u001b[0;34m\u001b[0m\u001b[0m\n",
      "\u001b[0;32m/opt/anaconda/lib/python3.7/site-packages/numpy/linalg/linalg.py\u001b[0m in \u001b[0;36msvd\u001b[0;34m(a, full_matrices, compute_uv)\u001b[0m\n\u001b[1;32m   1560\u001b[0m \u001b[0;34m\u001b[0m\u001b[0m\n\u001b[1;32m   1561\u001b[0m         \u001b[0msignature\u001b[0m \u001b[0;34m=\u001b[0m \u001b[0;34m'D->DdD'\u001b[0m \u001b[0;32mif\u001b[0m \u001b[0misComplexType\u001b[0m\u001b[0;34m(\u001b[0m\u001b[0mt\u001b[0m\u001b[0;34m)\u001b[0m \u001b[0;32melse\u001b[0m \u001b[0;34m'd->ddd'\u001b[0m\u001b[0;34m\u001b[0m\u001b[0;34m\u001b[0m\u001b[0m\n\u001b[0;32m-> 1562\u001b[0;31m         \u001b[0mu\u001b[0m\u001b[0;34m,\u001b[0m \u001b[0ms\u001b[0m\u001b[0;34m,\u001b[0m \u001b[0mvh\u001b[0m \u001b[0;34m=\u001b[0m \u001b[0mgufunc\u001b[0m\u001b[0;34m(\u001b[0m\u001b[0ma\u001b[0m\u001b[0;34m,\u001b[0m \u001b[0msignature\u001b[0m\u001b[0;34m=\u001b[0m\u001b[0msignature\u001b[0m\u001b[0;34m,\u001b[0m \u001b[0mextobj\u001b[0m\u001b[0;34m=\u001b[0m\u001b[0mextobj\u001b[0m\u001b[0;34m)\u001b[0m\u001b[0;34m\u001b[0m\u001b[0;34m\u001b[0m\u001b[0m\n\u001b[0m\u001b[1;32m   1563\u001b[0m         \u001b[0mu\u001b[0m \u001b[0;34m=\u001b[0m \u001b[0mu\u001b[0m\u001b[0;34m.\u001b[0m\u001b[0mastype\u001b[0m\u001b[0;34m(\u001b[0m\u001b[0mresult_t\u001b[0m\u001b[0;34m,\u001b[0m \u001b[0mcopy\u001b[0m\u001b[0;34m=\u001b[0m\u001b[0;32mFalse\u001b[0m\u001b[0;34m)\u001b[0m\u001b[0;34m\u001b[0m\u001b[0;34m\u001b[0m\u001b[0m\n\u001b[1;32m   1564\u001b[0m         \u001b[0ms\u001b[0m \u001b[0;34m=\u001b[0m \u001b[0ms\u001b[0m\u001b[0;34m.\u001b[0m\u001b[0mastype\u001b[0m\u001b[0;34m(\u001b[0m\u001b[0m_realType\u001b[0m\u001b[0;34m(\u001b[0m\u001b[0mresult_t\u001b[0m\u001b[0;34m)\u001b[0m\u001b[0;34m,\u001b[0m \u001b[0mcopy\u001b[0m\u001b[0;34m=\u001b[0m\u001b[0;32mFalse\u001b[0m\u001b[0;34m)\u001b[0m\u001b[0;34m\u001b[0m\u001b[0;34m\u001b[0m\u001b[0m\n",
      "\u001b[0;31mKeyboardInterrupt\u001b[0m: "
     ]
    }
   ],
   "source": [
    "current_point = np.copy(original)\n",
    "\n",
    "zeros = np.zeros([n,n])\n",
    "current_point[boolMask] = zeros[boolMask]\n",
    "\n",
    "print(\"step, nuc norm, frob distance, hessian cond\")#, grad mean, grad std, grad min, grad max\")\n",
    "nuc_norms = []\n",
    "frob_norms = []\n",
    "conds = []\n",
    "\n",
    "for step in range(10000):\n",
    "\n",
    "    hessian = comp_hessian(current_point, boolMask, obj_func, n)\n",
    "    grad = comp_grad(current_point, boolMask, obj_func, n)\n",
    "\n",
    "    #descent = -np.dot(np.linalg.inv(hessian), grad)\n",
    "    descent = -np.array(grad)\n",
    "    \n",
    "    descent_matrix = np.zeros([n,n])\n",
    "    count = 0\n",
    "    for i in range(n):\n",
    "        for j in range(n):\n",
    "            if boolMask[i,j]:\n",
    "                descent_matrix[i,j] = descent[count]\n",
    "                count = count + 1\n",
    "    \n",
    "    current_point = current_point + 0.1*descent_matrix\n",
    "    \n",
    "    nuc_norms.append(np.linalg.norm(current_point,'nuc'))\n",
    "    frob_norms.append(np.linalg.norm(current_point-original,'fro'))\n",
    "    conds.append(np.linalg.cond(hessian))\n",
    "    \n",
    "    if step % 20 == 0:\n",
    "        print(step, np.linalg.norm(current_point,'nuc'), np.linalg.norm(current_point-original,'fro'),\n",
    "              np.linalg.cond(hessian))#, np.mean(np.abs(grad)),\n",
    "             # np.std(np.abs(grad)), np.min(np.abs(grad)), np.max(np.abs(grad)))\n",
    "    "
   ]
  },
  {
   "cell_type": "code",
   "execution_count": 5,
   "metadata": {},
   "outputs": [
    {
     "data": {
      "text/plain": [
       "[<matplotlib.lines.Line2D at 0x7f06463bed68>]"
      ]
     },
     "execution_count": 5,
     "metadata": {},
     "output_type": "execute_result"
    },
    {
     "data": {
      "image/png": "[encoded data removed]",
      "text/plain": [
       "<Figure size 432x288 with 1 Axes>"
      ]
     },
     "metadata": {
      "needs_background": "light"
     },
     "output_type": "display_data"
    }
   ],
   "source": [
    "plt.plot(nuc_norms)"
   ]
  },
  {
   "cell_type": "code",
   "execution_count": 6,
   "metadata": {},
   "outputs": [
    {
     "data": {
      "text/plain": [
       "[<matplotlib.lines.Line2D at 0x7f0645a137f0>]"
      ]
     },
     "execution_count": 6,
     "metadata": {},
     "output_type": "execute_result"
    },
    {
     "data": {
      "image/png": "[encoded data removed]",
      "text/plain": [
       "<Figure size 432x288 with 1 Axes>"
      ]
     },
     "metadata": {
      "needs_background": "light"
     },
     "output_type": "display_data"
    }
   ],
   "source": [
    "plt.plot(frob_norms)"
   ]
  },
  {
   "cell_type": "code",
   "execution_count": 7,
   "metadata": {},
   "outputs": [
    {
     "data": {
      "text/plain": [
       "[<matplotlib.lines.Line2D at 0x7f0645b6eb38>]"
      ]
     },
     "execution_count": 7,
     "metadata": {},
     "output_type": "execute_result"
    },
    {
     "data": {
      "image/png": "[encoded data removed]",
      "text/plain": [
       "<Figure size 432x288 with 1 Axes>"
      ]
     },
     "metadata": {
      "needs_background": "light"
     },
     "output_type": "display_data"
    }
   ],
   "source": [
    "plt.plot(conds)"
   ]
  },
  {
   "cell_type": "code",
   "execution_count": 8,
   "metadata": {},
   "outputs": [
    {
     "data": {
      "text/plain": [
       "(array([1.295e+03, 1.100e+01, 3.000e+00, 3.000e+00, 0.000e+00, 0.000e+00,\n",
       "        0.000e+00, 0.000e+00, 1.000e+00, 0.000e+00, 0.000e+00, 0.000e+00,\n",
       "        0.000e+00, 0.000e+00, 0.000e+00, 0.000e+00, 0.000e+00, 0.000e+00,\n",
       "        1.000e+00, 0.000e+00, 0.000e+00, 0.000e+00, 0.000e+00, 0.000e+00,\n",
       "        0.000e+00, 0.000e+00, 0.000e+00, 0.000e+00, 0.000e+00, 1.000e+00,\n",
       "        0.000e+00, 0.000e+00, 0.000e+00, 0.000e+00, 0.000e+00, 0.000e+00,\n",
       "        0.000e+00, 0.000e+00, 0.000e+00, 0.000e+00, 0.000e+00, 0.000e+00,\n",
       "        0.000e+00, 0.000e+00, 0.000e+00, 0.000e+00, 0.000e+00, 0.000e+00,\n",
       "        0.000e+00, 0.000e+00, 0.000e+00, 0.000e+00, 0.000e+00, 0.000e+00,\n",
       "        0.000e+00, 0.000e+00, 0.000e+00, 0.000e+00, 0.000e+00, 0.000e+00,\n",
       "        0.000e+00, 0.000e+00, 0.000e+00, 0.000e+00, 0.000e+00, 0.000e+00,\n",
       "        0.000e+00, 0.000e+00, 0.000e+00, 0.000e+00, 0.000e+00, 0.000e+00,\n",
       "        0.000e+00, 0.000e+00, 0.000e+00, 0.000e+00, 0.000e+00, 0.000e+00,\n",
       "        0.000e+00, 0.000e+00, 0.000e+00, 0.000e+00, 0.000e+00, 0.000e+00,\n",
       "        0.000e+00, 0.000e+00, 0.000e+00, 0.000e+00, 0.000e+00, 0.000e+00,\n",
       "        0.000e+00, 0.000e+00, 0.000e+00, 0.000e+00, 0.000e+00, 0.000e+00,\n",
       "        0.000e+00, 0.000e+00, 0.000e+00, 1.000e+00]),\n",
       " array([1.24543696e+04, 5.13075348e+08, 1.02613824e+09, 1.53920114e+09,\n",
       "        2.05226403e+09, 2.56532692e+09, 3.07838982e+09, 3.59145271e+09,\n",
       "        4.10451560e+09, 4.61757850e+09, 5.13064139e+09, 5.64370428e+09,\n",
       "        6.15676718e+09, 6.66983007e+09, 7.18289297e+09, 7.69595586e+09,\n",
       "        8.20901875e+09, 8.72208165e+09, 9.23514454e+09, 9.74820743e+09,\n",
       "        1.02612703e+10, 1.07743332e+10, 1.12873961e+10, 1.18004590e+10,\n",
       "        1.23135219e+10, 1.28265848e+10, 1.33396477e+10, 1.38527106e+10,\n",
       "        1.43657735e+10, 1.48788364e+10, 1.53918993e+10, 1.59049622e+10,\n",
       "        1.64180251e+10, 1.69310879e+10, 1.74441508e+10, 1.79572137e+10,\n",
       "        1.84702766e+10, 1.89833395e+10, 1.94964024e+10, 2.00094653e+10,\n",
       "        2.05225282e+10, 2.10355911e+10, 2.15486540e+10, 2.20617169e+10,\n",
       "        2.25747798e+10, 2.30878427e+10, 2.36009056e+10, 2.41139685e+10,\n",
       "        2.46270313e+10, 2.51400942e+10, 2.56531571e+10, 2.61662200e+10,\n",
       "        2.66792829e+10, 2.71923458e+10, 2.77054087e+10, 2.82184716e+10,\n",
       "        2.87315345e+10, 2.92445974e+10, 2.97576603e+10, 3.02707232e+10,\n",
       "        3.07837861e+10, 3.12968490e+10, 3.18099119e+10, 3.23229748e+10,\n",
       "        3.28360376e+10, 3.33491005e+10, 3.38621634e+10, 3.43752263e+10,\n",
       "        3.48882892e+10, 3.54013521e+10, 3.59144150e+10, 3.64274779e+10,\n",
       "        3.69405408e+10, 3.74536037e+10, 3.79666666e+10, 3.84797295e+10,\n",
       "        3.89927924e+10, 3.95058553e+10, 4.00189182e+10, 4.05319811e+10,\n",
       "        4.10450439e+10, 4.15581068e+10, 4.20711697e+10, 4.25842326e+10,\n",
       "        4.30972955e+10, 4.36103584e+10, 4.41234213e+10, 4.46364842e+10,\n",
       "        4.51495471e+10, 4.56626100e+10, 4.61756729e+10, 4.66887358e+10,\n",
       "        4.72017987e+10, 4.77148616e+10, 4.82279245e+10, 4.87409873e+10,\n",
       "        4.92540502e+10, 4.97671131e+10, 5.02801760e+10, 5.07932389e+10,\n",
       "        5.13063018e+10]),\n",
       " <a list of 100 Patch objects>)"
      ]
     },
     "execution_count": 8,
     "metadata": {},
     "output_type": "execute_result"
    },
    {
     "data": {
      "image/png": "[encoded data removed]",
      "text/plain": [
       "<Figure size 432x288 with 1 Axes>"
      ]
     },
     "metadata": {
      "needs_background": "light"
     },
     "output_type": "display_data"
    }
   ],
   "source": [
    "plt.hist(conds,100)"
   ]
  },
  {
   "cell_type": "code",
   "execution_count": null,
   "metadata": {},
   "outputs": [],
   "source": []
  }
 ],
 "metadata": {
  "kernelspec": {
   "display_name": "Python 3",
   "language": "python",
   "name": "python3"
  },
  "language_info": {
   "codemirror_mode": {
    "name": "ipython",
    "version": 3
   },
   "file_extension": ".py",
   "mimetype": "text/x-python",
   "name": "python",
   "nbconvert_exporter": "python",
   "pygments_lexer": "ipython3",
   "version": "3.7.1"
  }
 },
 "nbformat": 4,
 "nbformat_minor": 2
}
