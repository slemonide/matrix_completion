{
 "cells": [
  {
   "cell_type": "code",
   "execution_count": 2,
   "metadata": {},
   "outputs": [],
   "source": [
    "import numpy as np\n",
    "import matplotlib.pyplot as plt"
   ]
  },
  {
   "cell_type": "code",
   "execution_count": 14,
   "metadata": {},
   "outputs": [],
   "source": [
    "def obj_func(m, index):\n",
    "    u, s, vh = np.linalg.svd(m)\n",
    "\n",
    "    return s[index]\n",
    "\n",
    "def obj_func_nuc(m, index):\n",
    "    u, s, vh = np.linalg.svd(m)\n",
    "\n",
    "    return np.sum(s)\n",
    "\n",
    "def comp_grad(m, obj_func, index):\n",
    "    \"\"\" Computes gradient that maximizes the objective function \"\"\"\n",
    "    epsilon = 1e-3\n",
    "\n",
    "    # Yes, grad is a vector now\n",
    "    grad = []\n",
    "\n",
    "    for i in range(2):\n",
    "        for j in range(2):\n",
    "            diff = np.zeros([2,2])\n",
    "            diff[i,j] = epsilon\n",
    "            grad.append((obj_func(m + diff, index) - obj_func(m - diff, index))/(2*epsilon))\n",
    "\n",
    "    return grad"
   ]
  },
  {
   "cell_type": "code",
   "execution_count": 17,
   "metadata": {},
   "outputs": [
    {
     "name": "stdout",
     "output_type": "stream",
     "text": [
      "0\n",
      "1\n"
     ]
    },
    {
     "data": {
      "text/plain": [
       "array([[1., 0., 0., 0.],\n",
       "       [0., 0., 0., 0.]])"
      ]
     },
     "execution_count": 17,
     "metadata": {},
     "output_type": "execute_result"
    }
   ],
   "source": [
    "M = np.array([[1, 0],\n",
    "              [0, 0]])\n",
    "\n",
    "vectors = np.zeros([2, 4])\n",
    "\n",
    "for index in range(2):\n",
    "    print(index)\n",
    "    vectors[index,:] = np.array(comp_grad(M, obj_func, index))\n",
    "    \n",
    "vectors"
   ]
  },
  {
   "cell_type": "code",
   "execution_count": 18,
   "metadata": {},
   "outputs": [
    {
     "data": {
      "text/plain": [
       "array([1., 0., 0., 0.])"
      ]
     },
     "execution_count": 18,
     "metadata": {},
     "output_type": "execute_result"
    }
   ],
   "source": [
    "np.array(comp_grad(M, obj_func_nuc, 1))"
   ]
  },
  {
   "cell_type": "markdown",
   "metadata": {},
   "source": [
    "From this, the first order descent cone is $x_{11} \\leq 0$\n",
    "\n",
    "To get second order descent cone, need to compute Hessian:"
   ]
  },
  {
   "cell_type": "code",
   "execution_count": 19,
   "metadata": {},
   "outputs": [],
   "source": [
    "def comp_hessian(m, of):\n",
    "    \"\"\" Computes hessian (only diagonal) \"\"\"\n",
    "    vector = []\n",
    "    \n",
    "    n = 2\n",
    "\n",
    "    for i in range(n):\n",
    "        for j in range(n):\n",
    "            vector.append(m[i,j])\n",
    "\n",
    "    q = len(vector)\n",
    "\n",
    "    epsilon = 1e-3\n",
    "    hessian = np.zeros([q, q])\n",
    "\n",
    "    # fill in the diagonal first\n",
    "    count = 0\n",
    "    for i in range(n):\n",
    "        for j in range(n):\n",
    "            diff = np.zeros([n,n])\n",
    "            diff[i,j] = epsilon\n",
    "            hessian[count,count] = (of(m + diff, index) + of(m - diff, index) - 2*of(m, index))/epsilon**2\n",
    "\n",
    "            count = count + 1\n",
    "                \n",
    "    # now fill in off-diagonals\n",
    "    count1 = 0\n",
    "    for i1 in range(n):\n",
    "        for j1 in range(n):\n",
    "            diff1 = np.zeros([n,n])\n",
    "            diff1[i1,j1] = epsilon\n",
    "\n",
    "            count2 = 0\n",
    "            for i2 in range(n):\n",
    "                for j2 in range(n):\n",
    "                    diff2 = np.zeros([n,n])\n",
    "                    diff2[i2,j2] = epsilon\n",
    "\n",
    "                    if count1 != count2: # doing only off-diagonal ones\n",
    "                        hessian[count1,count2] = (of(m + diff1 + diff2, index) + of(m - diff1 - diff2, index)\n",
    "                                                 - of(m + diff1 - diff2, index) - of(m - diff1 + diff2, index))/(2*epsilon)**2\n",
    "\n",
    "                    count2 = count2 + 1\n",
    "\n",
    "            count1 = count1 + 1\n",
    "\n",
    "    return hessian"
   ]
  },
  {
   "cell_type": "code",
   "execution_count": 26,
   "metadata": {},
   "outputs": [
    {
     "data": {
      "text/plain": [
       "array([[0.0000000e+00, 0.0000000e+00, 0.0000000e+00, 0.0000000e+00],\n",
       "       [0.0000000e+00, 9.9999975e-01, 0.0000000e+00, 0.0000000e+00],\n",
       "       [0.0000000e+00, 0.0000000e+00, 9.9999975e-01, 0.0000000e+00],\n",
       "       [0.0000000e+00, 0.0000000e+00, 0.0000000e+00, 2.0000000e+03]])"
      ]
     },
     "execution_count": 26,
     "metadata": {},
     "output_type": "execute_result"
    }
   ],
   "source": [
    "comp_hessian(M, obj_func_nuc)"
   ]
  },
  {
   "cell_type": "code",
   "execution_count": 29,
   "metadata": {},
   "outputs": [],
   "source": [
    "H = comp_hessian(M, obj_func_nuc)"
   ]
  },
  {
   "cell_type": "code",
   "execution_count": 34,
   "metadata": {},
   "outputs": [
    {
     "data": {
      "text/plain": [
       "array([[1., 0.],\n",
       "       [0., 1.]])"
      ]
     },
     "execution_count": 34,
     "metadata": {},
     "output_type": "execute_result"
    }
   ],
   "source": [
    "np.eye(2)"
   ]
  },
  {
   "cell_type": "code",
   "execution_count": 43,
   "metadata": {},
   "outputs": [
    {
     "data": {
      "text/plain": [
       "array([1.e+100, 0.e+000, 0.e+000, 0.e+000])"
      ]
     },
     "execution_count": 43,
     "metadata": {},
     "output_type": "execute_result"
    }
   ],
   "source": [
    "np.dot(np.linalg.inv(H.T + np.eye(4)*1e-100), np.array(comp_grad(M, obj_func_nuc, 1)))"
   ]
  },
  {
   "cell_type": "code",
   "execution_count": 41,
   "metadata": {
    "scrolled": true
   },
   "outputs": [
    {
     "data": {
      "text/plain": [
       "array([[ 6.29475697e-08],\n",
       "       [-6.17698037e-10],\n",
       "       [-1.27927027e-09],\n",
       "       [-1.09030008e-09],\n",
       "       [ 1.29198931e-10],\n",
       "       [ 5.10877684e-10],\n",
       "       [-8.93228908e-10],\n",
       "       [ 1.43908466e-09],\n",
       "       [-1.04859485e-07],\n",
       "       [ 3.64429137e-09],\n",
       "       [ 4.57487225e-09],\n",
       "       [ 7.67201836e-09],\n",
       "       [ 6.85429021e-09],\n",
       "       [ 5.59110856e-09],\n",
       "       [ 8.44192457e-09],\n",
       "       [ 4.32771671e-08],\n",
       "       [ 6.34018223e-09],\n",
       "       [-6.92655369e-09],\n",
       "       [ 1.21408605e-08],\n",
       "       [ 1.12668353e-08],\n",
       "       [-1.39351855e-09],\n",
       "       [-5.33240989e-09],\n",
       "       [ 9.46808864e-09],\n",
       "       [-1.22368473e-08],\n",
       "       [ 1.25411958e-08],\n",
       "       [ 2.25336488e-08],\n",
       "       [ 5.46391399e-09],\n",
       "       [ 1.22265234e-08],\n",
       "       [ 1.09705775e-08],\n",
       "       [-4.90596384e-09],\n",
       "       [-1.36232316e-08],\n",
       "       [ 1.33015979e-08],\n",
       "       [-2.77316270e-08],\n",
       "       [ 5.49182059e-09],\n",
       "       [-1.32317159e-08],\n",
       "       [ 9.97727115e-09],\n",
       "       [ 9.47068510e-09],\n",
       "       [-1.22228682e-09],\n",
       "       [-4.65072595e-09],\n",
       "       [ 8.09757041e-09],\n",
       "       [-9.27540767e-09],\n",
       "       [ 9.85844688e-09],\n",
       "       [ 1.71036921e-07],\n",
       "       [ 1.77483795e-09],\n",
       "       [ 2.40239282e-09],\n",
       "       [ 3.79011485e-09],\n",
       "       [ 3.38245248e-09],\n",
       "       [-3.86452597e-10],\n",
       "       [-1.50427504e-09],\n",
       "       [ 2.73446980e-09],\n",
       "       [-4.31449266e-09],\n",
       "       [ 4.18391963e-09],\n",
       "       [ 1.33270874e-07],\n",
       "       [ 6.80627886e-09],\n",
       "       [ 2.53895829e-09],\n",
       "       [ 1.38439390e-08],\n",
       "       [-1.48374879e-09],\n",
       "       [-5.69303149e-09],\n",
       "       [ 1.03403899e-08],\n",
       "       [ 1.49053392e-08],\n",
       "       [ 8.57446741e-08],\n",
       "       [ 2.74930006e-09],\n",
       "       [ 3.59247753e-09],\n",
       "       [ 5.81023432e-09],\n",
       "       [ 5.16072996e-09],\n",
       "       [-5.90853470e-10],\n",
       "       [-2.27681033e-09],\n",
       "       [ 4.20647202e-09],\n",
       "       [-6.52012084e-09],\n",
       "       [ 6.40270985e-09],\n",
       "       [ 1.08324112e-07],\n",
       "       [ 6.42438870e-09],\n",
       "       [ 4.56949501e-09],\n",
       "       [ 1.32199682e-08],\n",
       "       [ 1.19528616e-08],\n",
       "       [-1.40120959e-09],\n",
       "       [-5.39256933e-09],\n",
       "       [ 9.81219430e-09],\n",
       "       [-1.47430320e-08],\n",
       "       [ 1.44194335e-08],\n",
       "       [-4.58405027e-08],\n",
       "       [ 7.18589720e-10],\n",
       "       [ 1.01855954e-09],\n",
       "       [ 1.56591543e-09],\n",
       "       [ 1.38160952e-09],\n",
       "       [-1.57727906e-10],\n",
       "       [-6.12477528e-10],\n",
       "       [ 1.12187378e-09],\n",
       "       [-1.79810160e-09]])"
      ]
     },
     "execution_count": 41,
     "metadata": {},
     "output_type": "execute_result"
    }
   ],
   "source": [
    "np.linalg.lstsq(vectors,np.ones([n,1])*1e-20, rcond=None)[0]"
   ]
  },
  {
   "cell_type": "code",
   "execution_count": 64,
   "metadata": {},
   "outputs": [
    {
     "name": "stdout",
     "output_type": "stream",
     "text": [
      "9 9 4.0574382853103845 12.254322925420023\n",
      "9 9 4.111888263105253 12.244443947961294\n",
      "9 9 4.18915978017239 12.235252361394341\n",
      "9 9 4.280631167268991 12.226749715979068\n",
      "9 9 4.381470247884062 12.218937449931204\n",
      "9 9 4.489015355067217 12.21181688822007\n",
      "9 9 4.60169552138152 12.205389241456054\n",
      "9 9 4.718508985444233 12.19965560486992\n",
      "9 9 4.838771448546185 12.194616957385975\n",
      "9 9 4.9619878660797925 12.190274160790874\n",
      "9 9 5.087783042101569 12.186627958999747\n",
      "9 9 5.215861806987011 12.183678977421051\n",
      "9 9 5.3459849334790235 12.18142772242144\n",
      "9 9 5.477953872789553 12.179874580891713\n",
      "9 9 5.611600671354469 12.179019819914707\n",
      "9 9 5.746781060885068 12.178863586535773\n",
      "9 9 5.883369566146594 12.179405907636355\n",
      "9 9 6.021255939264037 12.180646689910859\n",
      "9 9 6.1603424927110755 12.182585719946893\n",
      "9 9 6.300542057891699 12.185222664408727\n",
      "9 9 6.441776390106262 12.188557070323581\n",
      "9 9 6.58397489930466 12.192588365470161\n",
      "9 9 6.727073623580896 12.19731585886872\n",
      "9 9 6.8710143869959035 12.202738741371586\n",
      "9 9 7.0157440998260565 12.208856086353064\n",
      "9 9 7.161214170623562 12.215666850497279\n",
      "9 9 7.307380007337948 12.22316987468245\n",
      "9 9 7.454200590319047 12.231363884959832\n",
      "9 9 7.60163810403499 12.240247493625418\n",
      "9 9 7.749657617272816 12.249819200382333\n",
      "9 9 7.898226803766566 12.260077393591631\n",
      "9 9 8.047315696834843 12.271020351609156\n",
      "9 9 8.196896472857516 12.282646244205855\n",
      "9 9 8.346943259383007 12.29495313406891\n",
      "9 9 8.497431964408428 12.307938978380836\n",
      "9 9 8.648340123966504 12.321601630473623\n",
      "9 9 8.799646765624917 12.3359388415549\n",
      "9 9 8.95133228588309 12.350948262502925\n",
      "9 9 9.10337833975924 12.366627445727222\n",
      "9 9 9.25576774111249 12.382973847091504\n",
      "9 9 9.40848437245283 12.399984827895524\n",
      "9 9 9.56151310316402 12.417657656912386\n",
      "9 9 9.714839715209349 12.43598951247785\n",
      "9 9 9.868450835511364 12.454977484628058\n",
      "9 9 10.022333874299573 12.474618577282166\n",
      "9 9 10.176476968807945 12.494909710466233\n",
      "9 9 10.330868931778333 12.51584772257485\n",
      "9 9 10.485499204290857 12.537429372666846\n",
      "9 9 10.640357812497145 12.559651342791536\n",
      "9 9 10.795435327880847 12.582510240341938\n",
      "9 9 10.950722830711383 12.606002600431387\n",
      "9 9 11.106211876393157 12.630124888290084\n",
      "9 9 11.261894464444682 12.654873501678114\n",
      "9 9 11.417763009869683 12.68024477331151\n",
      "9 9 11.573810316707057 12.706234973298008\n",
      "9 9 11.730029553568214 12.732840311579249\n"
     ]
    },
    {
     "ename": "KeyboardInterrupt",
     "evalue": "",
     "output_type": "error",
     "traceback": [
      "\u001b[0;31m---------------------------------------------------------------------------\u001b[0m",
      "\u001b[0;31mKeyboardInterrupt\u001b[0m                         Traceback (most recent call last)",
      "\u001b[0;32m<ipython-input-64-f6c9f0ec0b62>\u001b[0m in \u001b[0;36m<module>\u001b[0;34m\u001b[0m\n\u001b[1;32m     18\u001b[0m \u001b[0;34m\u001b[0m\u001b[0m\n\u001b[1;32m     19\u001b[0m     \u001b[0;32mfor\u001b[0m \u001b[0mindex\u001b[0m \u001b[0;32min\u001b[0m \u001b[0mrange\u001b[0m\u001b[0;34m(\u001b[0m\u001b[0mn\u001b[0m\u001b[0;34m)\u001b[0m\u001b[0;34m:\u001b[0m\u001b[0;34m\u001b[0m\u001b[0;34m\u001b[0m\u001b[0m\n\u001b[0;32m---> 20\u001b[0;31m         \u001b[0mvectors\u001b[0m\u001b[0;34m[\u001b[0m\u001b[0mindex\u001b[0m\u001b[0;34m,\u001b[0m\u001b[0;34m:\u001b[0m\u001b[0;34m]\u001b[0m \u001b[0;34m=\u001b[0m \u001b[0mnp\u001b[0m\u001b[0;34m.\u001b[0m\u001b[0marray\u001b[0m\u001b[0;34m(\u001b[0m\u001b[0mcomp_grad\u001b[0m\u001b[0;34m(\u001b[0m\u001b[0moriginal\u001b[0m\u001b[0;34m,\u001b[0m \u001b[0mboolMask\u001b[0m\u001b[0;34m,\u001b[0m \u001b[0mobj_func\u001b[0m\u001b[0;34m,\u001b[0m \u001b[0mindex\u001b[0m\u001b[0;34m,\u001b[0m \u001b[0mn\u001b[0m\u001b[0;34m)\u001b[0m\u001b[0;34m)\u001b[0m\u001b[0;34m\u001b[0m\u001b[0;34m\u001b[0m\u001b[0m\n\u001b[0m\u001b[1;32m     21\u001b[0m \u001b[0;34m\u001b[0m\u001b[0m\n\u001b[1;32m     22\u001b[0m     \u001b[0ma\u001b[0m \u001b[0;34m=\u001b[0m \u001b[0mnp\u001b[0m\u001b[0;34m.\u001b[0m\u001b[0mzeros\u001b[0m\u001b[0;34m(\u001b[0m\u001b[0;34m[\u001b[0m\u001b[0mn\u001b[0m\u001b[0;34m,\u001b[0m\u001b[0;36m1\u001b[0m\u001b[0;34m]\u001b[0m\u001b[0;34m)\u001b[0m\u001b[0;34m\u001b[0m\u001b[0;34m\u001b[0m\u001b[0m\n",
      "\u001b[0;32m<ipython-input-3-ed9174d20c6b>\u001b[0m in \u001b[0;36mcomp_grad\u001b[0;34m(m, boolMask, obj_func, index, n)\u001b[0m\n\u001b[1;32m     16\u001b[0m                 \u001b[0mdiff\u001b[0m \u001b[0;34m=\u001b[0m \u001b[0mnp\u001b[0m\u001b[0;34m.\u001b[0m\u001b[0mzeros\u001b[0m\u001b[0;34m(\u001b[0m\u001b[0;34m[\u001b[0m\u001b[0mn\u001b[0m\u001b[0;34m,\u001b[0m\u001b[0mn\u001b[0m\u001b[0;34m]\u001b[0m\u001b[0;34m)\u001b[0m\u001b[0;34m\u001b[0m\u001b[0;34m\u001b[0m\u001b[0m\n\u001b[1;32m     17\u001b[0m                 \u001b[0mdiff\u001b[0m\u001b[0;34m[\u001b[0m\u001b[0mi\u001b[0m\u001b[0;34m,\u001b[0m\u001b[0mj\u001b[0m\u001b[0;34m]\u001b[0m \u001b[0;34m=\u001b[0m \u001b[0mepsilon\u001b[0m\u001b[0;34m\u001b[0m\u001b[0;34m\u001b[0m\u001b[0m\n\u001b[0;32m---> 18\u001b[0;31m                 \u001b[0mgrad\u001b[0m\u001b[0;34m.\u001b[0m\u001b[0mappend\u001b[0m\u001b[0;34m(\u001b[0m\u001b[0;34m(\u001b[0m\u001b[0mobj_func\u001b[0m\u001b[0;34m(\u001b[0m\u001b[0mm\u001b[0m \u001b[0;34m+\u001b[0m \u001b[0mdiff\u001b[0m\u001b[0;34m,\u001b[0m \u001b[0mindex\u001b[0m\u001b[0;34m)\u001b[0m \u001b[0;34m-\u001b[0m \u001b[0mobj_func\u001b[0m\u001b[0;34m(\u001b[0m\u001b[0mm\u001b[0m \u001b[0;34m-\u001b[0m \u001b[0mdiff\u001b[0m\u001b[0;34m,\u001b[0m \u001b[0mindex\u001b[0m\u001b[0;34m)\u001b[0m\u001b[0;34m)\u001b[0m\u001b[0;34m/\u001b[0m\u001b[0;34m(\u001b[0m\u001b[0;36m2\u001b[0m\u001b[0;34m*\u001b[0m\u001b[0mepsilon\u001b[0m\u001b[0;34m)\u001b[0m\u001b[0;34m)\u001b[0m\u001b[0;34m\u001b[0m\u001b[0;34m\u001b[0m\u001b[0m\n\u001b[0m\u001b[1;32m     19\u001b[0m \u001b[0;34m\u001b[0m\u001b[0m\n\u001b[1;32m     20\u001b[0m     \u001b[0;32mreturn\u001b[0m \u001b[0mgrad\u001b[0m\u001b[0;34m\u001b[0m\u001b[0;34m\u001b[0m\u001b[0m\n",
      "\u001b[0;32m<ipython-input-3-ed9174d20c6b>\u001b[0m in \u001b[0;36mobj_func\u001b[0;34m(m, index)\u001b[0m\n\u001b[1;32m      1\u001b[0m \u001b[0;32mdef\u001b[0m \u001b[0mobj_func\u001b[0m\u001b[0;34m(\u001b[0m\u001b[0mm\u001b[0m\u001b[0;34m,\u001b[0m \u001b[0mindex\u001b[0m\u001b[0;34m)\u001b[0m\u001b[0;34m:\u001b[0m\u001b[0;34m\u001b[0m\u001b[0;34m\u001b[0m\u001b[0m\n\u001b[0;32m----> 2\u001b[0;31m     \u001b[0mu\u001b[0m\u001b[0;34m,\u001b[0m \u001b[0ms\u001b[0m\u001b[0;34m,\u001b[0m \u001b[0mvh\u001b[0m \u001b[0;34m=\u001b[0m \u001b[0mnp\u001b[0m\u001b[0;34m.\u001b[0m\u001b[0mlinalg\u001b[0m\u001b[0;34m.\u001b[0m\u001b[0msvd\u001b[0m\u001b[0;34m(\u001b[0m\u001b[0mm\u001b[0m\u001b[0;34m)\u001b[0m\u001b[0;34m\u001b[0m\u001b[0;34m\u001b[0m\u001b[0m\n\u001b[0m\u001b[1;32m      3\u001b[0m \u001b[0;34m\u001b[0m\u001b[0m\n\u001b[1;32m      4\u001b[0m     \u001b[0;32mreturn\u001b[0m \u001b[0ms\u001b[0m\u001b[0;34m[\u001b[0m\u001b[0mindex\u001b[0m\u001b[0;34m]\u001b[0m\u001b[0;34m\u001b[0m\u001b[0;34m\u001b[0m\u001b[0m\n\u001b[1;32m      5\u001b[0m \u001b[0;34m\u001b[0m\u001b[0m\n",
      "\u001b[0;32m/opt/anaconda/lib/python3.7/site-packages/numpy/linalg/linalg.py\u001b[0m in \u001b[0;36msvd\u001b[0;34m(a, full_matrices, compute_uv)\u001b[0m\n\u001b[1;32m   1560\u001b[0m \u001b[0;34m\u001b[0m\u001b[0m\n\u001b[1;32m   1561\u001b[0m         \u001b[0msignature\u001b[0m \u001b[0;34m=\u001b[0m \u001b[0;34m'D->DdD'\u001b[0m \u001b[0;32mif\u001b[0m \u001b[0misComplexType\u001b[0m\u001b[0;34m(\u001b[0m\u001b[0mt\u001b[0m\u001b[0;34m)\u001b[0m \u001b[0;32melse\u001b[0m \u001b[0;34m'd->ddd'\u001b[0m\u001b[0;34m\u001b[0m\u001b[0;34m\u001b[0m\u001b[0m\n\u001b[0;32m-> 1562\u001b[0;31m         \u001b[0mu\u001b[0m\u001b[0;34m,\u001b[0m \u001b[0ms\u001b[0m\u001b[0;34m,\u001b[0m \u001b[0mvh\u001b[0m \u001b[0;34m=\u001b[0m \u001b[0mgufunc\u001b[0m\u001b[0;34m(\u001b[0m\u001b[0ma\u001b[0m\u001b[0;34m,\u001b[0m \u001b[0msignature\u001b[0m\u001b[0;34m=\u001b[0m\u001b[0msignature\u001b[0m\u001b[0;34m,\u001b[0m \u001b[0mextobj\u001b[0m\u001b[0;34m=\u001b[0m\u001b[0mextobj\u001b[0m\u001b[0;34m)\u001b[0m\u001b[0;34m\u001b[0m\u001b[0;34m\u001b[0m\u001b[0m\n\u001b[0m\u001b[1;32m   1563\u001b[0m         \u001b[0mu\u001b[0m \u001b[0;34m=\u001b[0m \u001b[0mu\u001b[0m\u001b[0;34m.\u001b[0m\u001b[0mastype\u001b[0m\u001b[0;34m(\u001b[0m\u001b[0mresult_t\u001b[0m\u001b[0;34m,\u001b[0m \u001b[0mcopy\u001b[0m\u001b[0;34m=\u001b[0m\u001b[0;32mFalse\u001b[0m\u001b[0;34m)\u001b[0m\u001b[0;34m\u001b[0m\u001b[0;34m\u001b[0m\u001b[0m\n\u001b[1;32m   1564\u001b[0m         \u001b[0ms\u001b[0m \u001b[0;34m=\u001b[0m \u001b[0ms\u001b[0m\u001b[0;34m.\u001b[0m\u001b[0mastype\u001b[0m\u001b[0;34m(\u001b[0m\u001b[0m_realType\u001b[0m\u001b[0;34m(\u001b[0m\u001b[0mresult_t\u001b[0m\u001b[0;34m)\u001b[0m\u001b[0;34m,\u001b[0m \u001b[0mcopy\u001b[0m\u001b[0;34m=\u001b[0m\u001b[0;32mFalse\u001b[0m\u001b[0;34m)\u001b[0m\u001b[0;34m\u001b[0m\u001b[0;34m\u001b[0m\u001b[0m\n",
      "\u001b[0;31mKeyboardInterrupt\u001b[0m: "
     ]
    }
   ],
   "source": [
    "starting_point = np.copy(original)\n",
    "\n",
    "boolMask = np.ma.make_mask(np.where(np.array(mask) < 0.5, 1, 0))\n",
    "starting_point[boolMask] = 0\n",
    "\n",
    "prev_norm = np.linalg.norm(starting_point,'nuc')\n",
    "\n",
    "current_point = starting_point\n",
    "\n",
    "sing_val_log = []\n",
    "distances_log = []\n",
    "\n",
    "for i in range(100000):\n",
    "    s_vec, s_val, vh = np.linalg.svd(current_point)\n",
    "    num_s_val = len(s_val)\n",
    "\n",
    "    vectors = np.zeros([n, n*n - np.sum(mask)])\n",
    "\n",
    "    for index in range(n):\n",
    "        vectors[index,:] = np.array(comp_grad(original, boolMask, obj_func, index, n))\n",
    "    \n",
    "    a = np.zeros([n,1])\n",
    "    a[0] = -1e-2\n",
    "    grad = np.linalg.lstsq(vectors,a, rcond=None)[0]\n",
    "    \n",
    "    matrix_grad = np.zeros([n,n])\n",
    "    \n",
    "    count = 0\n",
    "    for i in range(n):\n",
    "        for j in range(n):\n",
    "            if boolMask[i,j]:\n",
    "                matrix_grad[i,j] = grad[count]\n",
    "                count = count + 1\n",
    "\n",
    "\n",
    "    print(i, index, np.sum(s_val), np.linalg.norm(current_point-original,'fro'))\n",
    "    sing_val_log.append(np.sum(s_val))\n",
    "    distances_log.append(np.linalg.norm(current_point-original,'fro'))\n",
    "    current_point = current_point - matrix_grad"
   ]
  },
  {
   "cell_type": "code",
   "execution_count": 65,
   "metadata": {},
   "outputs": [
    {
     "data": {
      "text/plain": [
       "[<matplotlib.lines.Line2D at 0x7fbdb268f2e8>]"
      ]
     },
     "execution_count": 65,
     "metadata": {},
     "output_type": "execute_result"
    },
    {
     "data": {
      "image/png": "[encoded data removed]",
      "text/plain": [
       "<Figure size 432x288 with 1 Axes>"
      ]
     },
     "metadata": {
      "needs_background": "light"
     },
     "output_type": "display_data"
    }
   ],
   "source": [
    "plt.plot(sing_val_log)"
   ]
  },
  {
   "cell_type": "code",
   "execution_count": 66,
   "metadata": {},
   "outputs": [
    {
     "data": {
      "text/plain": [
       "[<matplotlib.lines.Line2D at 0x7fbdb266ae80>]"
      ]
     },
     "execution_count": 66,
     "metadata": {},
     "output_type": "execute_result"
    },
    {
     "data": {
      "image/png": "[encoded data removed]",
      "text/plain": [
       "<Figure size 432x288 with 1 Axes>"
      ]
     },
     "metadata": {
      "needs_background": "light"
     },
     "output_type": "display_data"
    }
   ],
   "source": [
    "plt.plot(distances_log)"
   ]
  },
  {
   "cell_type": "code",
   "execution_count": null,
   "metadata": {},
   "outputs": [],
   "source": []
  }
 ],
 "metadata": {
  "kernelspec": {
   "display_name": "Python 3",
   "language": "python",
   "name": "python3"
  },
  "language_info": {
   "codemirror_mode": {
    "name": "ipython",
    "version": 3
   },
   "file_extension": ".py",
   "mimetype": "text/x-python",
   "name": "python",
   "nbconvert_exporter": "python",
   "pygments_lexer": "ipython3",
   "version": "3.7.1"
  }
 },
 "nbformat": 4,
 "nbformat_minor": 2
}
