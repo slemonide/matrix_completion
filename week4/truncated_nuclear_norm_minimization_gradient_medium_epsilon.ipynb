{
 "cells": [
  {
   "cell_type": "code",
   "execution_count": 1,
   "metadata": {},
   "outputs": [],
   "source": [
    "import numpy as np\n",
    "import matplotlib.pyplot as plt"
   ]
  },
  {
   "cell_type": "code",
   "execution_count": 10,
   "metadata": {},
   "outputs": [],
   "source": [
    "def obj_func(m):\n",
    "    u, s, vh = np.linalg.svd(m)\n",
    "\n",
    "    return np.sum(s[1:])\n",
    "\n",
    "epsilon = 1\n",
    "\n",
    "def comp_grad(m, boolMask, obj_func, n, epsilon=epsilon):\n",
    "    \"\"\" Computes gradient that maximizes the objective function \"\"\"\n",
    "\n",
    "    # Yes, grad is a vector now\n",
    "    grad = []\n",
    "\n",
    "    for i in range(n):\n",
    "        for j in range(n):\n",
    "            if boolMask[i,j]:\n",
    "                diff = np.zeros([n,n])\n",
    "                diff[i,j] = epsilon\n",
    "                grad.append((obj_func(m + diff) - obj_func(m - diff))/(2*epsilon))\n",
    "\n",
    "    return grad\n",
    "\n",
    "def comp_hessian(m, boolMask, of, n, epsilon=epsilon):\n",
    "    \"\"\" Computes hessian (only diagonal) \"\"\"\n",
    "    vector = []\n",
    "\n",
    "    for i in range(n):\n",
    "        for j in range(n):\n",
    "            if boolMask[i,j]:\n",
    "                vector.append(m[i,j])\n",
    "\n",
    "    q = len(vector)\n",
    "    hessian = np.zeros([q, q])\n",
    "\n",
    "    # fill in the diagonal first\n",
    "    count = 0\n",
    "    for i in range(n):\n",
    "        for j in range(n):\n",
    "            if boolMask[i,j]:\n",
    "\n",
    "                diff = np.zeros([n,n])\n",
    "                diff[i,j] = epsilon\n",
    "                hessian[count,count] = (of(m + diff) + of(m - diff) - 2*of(m))/epsilon**2\n",
    "\n",
    "                count = count + 1\n",
    "                \n",
    "    # now fill in off-diagonals\n",
    "    count1 = 0\n",
    "    for i1 in range(n):\n",
    "        for j1 in range(n):\n",
    "            if boolMask[i1,j1]: # found one\n",
    "                diff1 = np.zeros([n,n])\n",
    "                diff1[i1,j1] = epsilon\n",
    "\n",
    "                count2 = 0\n",
    "                for i2 in range(n):\n",
    "                    for j2 in range(n):\n",
    "                        if boolMask[i2,j2]: # found another one\n",
    "                            diff2 = np.zeros([n,n])\n",
    "                            diff2[i2,j2] = epsilon\n",
    "\n",
    "                            if count1 != count2: # doing only off-diagonal ones\n",
    "                                hessian[count1,count2] = (of(m + diff1 + diff2) + of(m - diff1 - diff2)\n",
    "                                                         - of(m + diff1 - diff2) - of(m - diff1 + diff2))/(2*epsilon)**2\n",
    "\n",
    "                            count2 = count2 + 1\n",
    "\n",
    "                count1 = count1 + 1\n",
    "\n",
    "    return hessian"
   ]
  },
  {
   "cell_type": "code",
   "execution_count": 3,
   "metadata": {},
   "outputs": [],
   "source": [
    "n = 10\n",
    "p = 0.5\n",
    "rank = 1\n",
    "\n",
    "U = np.random.randn(n, rank)\n",
    "V = np.random.randn(n, rank)\n",
    "original = np.dot(U, V.T)\n",
    "mask = np.random.choice([0, 1], size=(n,n), p=[1-p, p])\n",
    "\n",
    "boolMask = np.ma.make_mask(np.where(np.array(mask) < 0.5, 1, 0))"
   ]
  },
  {
   "cell_type": "code",
   "execution_count": 4,
   "metadata": {},
   "outputs": [
    {
     "name": "stdout",
     "output_type": "stream",
     "text": [
      "step, nuc norm, frob distance, hessian cond\n",
      "0 8.213680437861013 3.5501656150072254 532.170903291312\n",
      "20 7.023829939678159 2.4159173754168397 6.082482935024602\n",
      "40 6.5286232551098475 1.6599965203222014 3.9874875471446654\n",
      "60 6.338333179737752 1.1971952472400402 2.9259414485144313\n",
      "80 6.275987192870397 0.9408464639684805 2.5842109045964543\n",
      "100 6.272415213327386 0.7696976634186089 2.4345502303205544\n",
      "120 6.274733827315875 0.636580197217209 2.3131354346664685\n",
      "140 6.291434891802409 0.5290999241815958 2.2213500749477837\n",
      "160 6.31374485968753 0.44101800489973375 2.1660041643282866\n",
      "180 6.330369393909753 0.36904437703306403 2.1200401631627055\n",
      "200 6.342150619104563 0.311979110514584 2.091434574889845\n",
      "220 6.351562914789838 0.27002656869988895 2.097848457328045\n",
      "240 6.363077322293875 0.24394976279370734 2.113612005949998\n",
      "260 6.375544857187798 0.2334985775017078 2.1254076200119925\n",
      "280 6.393169810300473 0.23677905960899534 2.1288088876486144\n",
      "300 6.414879933391433 0.2510270185580003 2.1409585817066543\n",
      "320 6.4355422058388285 0.2725035238759445 2.1535903291951604\n",
      "340 6.4547287276792655 0.29821033362706495 2.168530813587874\n",
      "360 6.4725706760365656 0.3261254050485567 2.1876752411050027\n",
      "380 6.489255585554977 0.354982653247999 2.21099113025184\n",
      "400 6.504941262607244 0.383974442509823 2.2367487760560794\n",
      "420 6.519797830941265 0.4126244607578348 2.2631708211556933\n",
      "440 6.534099577841937 0.44065099080307424 2.2904151514377897\n",
      "460 6.548120316449462 0.4678593220579981 2.3181271315171554\n",
      "480 6.561848783365672 0.4941207626004132 2.3446269679726166\n",
      "500 6.575367088101147 0.5193671423672632 2.3697242138524355\n",
      "520 6.589119957527447 0.5435999979494711 2.3970113820815295\n",
      "540 6.603024012094884 0.5668733945913595 2.421963638188349\n"
     ]
    },
    {
     "ename": "KeyboardInterrupt",
     "evalue": "",
     "output_type": "error",
     "traceback": [
      "\u001b[0;31m---------------------------------------------------------------------------\u001b[0m",
      "\u001b[0;31mKeyboardInterrupt\u001b[0m                         Traceback (most recent call last)",
      "\u001b[0;32m<ipython-input-4-98e0ef6f39d8>\u001b[0m in \u001b[0;36m<module>\u001b[0;34m\u001b[0m\n\u001b[1;32m     11\u001b[0m \u001b[0;32mfor\u001b[0m \u001b[0mstep\u001b[0m \u001b[0;32min\u001b[0m \u001b[0mrange\u001b[0m\u001b[0;34m(\u001b[0m\u001b[0;36m10000\u001b[0m\u001b[0;34m)\u001b[0m\u001b[0;34m:\u001b[0m\u001b[0;34m\u001b[0m\u001b[0;34m\u001b[0m\u001b[0m\n\u001b[1;32m     12\u001b[0m \u001b[0;34m\u001b[0m\u001b[0m\n\u001b[0;32m---> 13\u001b[0;31m     \u001b[0mhessian\u001b[0m \u001b[0;34m=\u001b[0m \u001b[0mcomp_hessian\u001b[0m\u001b[0;34m(\u001b[0m\u001b[0mcurrent_point\u001b[0m\u001b[0;34m,\u001b[0m \u001b[0mboolMask\u001b[0m\u001b[0;34m,\u001b[0m \u001b[0mobj_func\u001b[0m\u001b[0;34m,\u001b[0m \u001b[0mn\u001b[0m\u001b[0;34m)\u001b[0m\u001b[0;34m\u001b[0m\u001b[0;34m\u001b[0m\u001b[0m\n\u001b[0m\u001b[1;32m     14\u001b[0m     \u001b[0mgrad\u001b[0m \u001b[0;34m=\u001b[0m \u001b[0mcomp_grad\u001b[0m\u001b[0;34m(\u001b[0m\u001b[0mcurrent_point\u001b[0m\u001b[0;34m,\u001b[0m \u001b[0mboolMask\u001b[0m\u001b[0;34m,\u001b[0m \u001b[0mobj_func\u001b[0m\u001b[0;34m,\u001b[0m \u001b[0mn\u001b[0m\u001b[0;34m)\u001b[0m\u001b[0;34m\u001b[0m\u001b[0;34m\u001b[0m\u001b[0m\n\u001b[1;32m     15\u001b[0m \u001b[0;34m\u001b[0m\u001b[0m\n",
      "\u001b[0;32m<ipython-input-2-44f7d86dc7c5>\u001b[0m in \u001b[0;36mcomp_hessian\u001b[0;34m(m, boolMask, of, n)\u001b[0m\n\u001b[1;32m     62\u001b[0m                             \u001b[0;32mif\u001b[0m \u001b[0mcount1\u001b[0m \u001b[0;34m!=\u001b[0m \u001b[0mcount2\u001b[0m\u001b[0;34m:\u001b[0m \u001b[0;31m# doing only off-diagonal ones\u001b[0m\u001b[0;34m\u001b[0m\u001b[0;34m\u001b[0m\u001b[0m\n\u001b[1;32m     63\u001b[0m                                 hessian[count1,count2] = (of(m + diff1 + diff2) + of(m - diff1 - diff2)\n\u001b[0;32m---> 64\u001b[0;31m                                                          - of(m + diff1 - diff2) - of(m - diff1 + diff2))/(2*epsilon)**2\n\u001b[0m\u001b[1;32m     65\u001b[0m \u001b[0;34m\u001b[0m\u001b[0m\n\u001b[1;32m     66\u001b[0m                             \u001b[0mcount2\u001b[0m \u001b[0;34m=\u001b[0m \u001b[0mcount2\u001b[0m \u001b[0;34m+\u001b[0m \u001b[0;36m1\u001b[0m\u001b[0;34m\u001b[0m\u001b[0;34m\u001b[0m\u001b[0m\n",
      "\u001b[0;31mKeyboardInterrupt\u001b[0m: "
     ]
    }
   ],
   "source": [
    "current_point = np.copy(original)\n",
    "\n",
    "zeros = np.zeros([n,n])\n",
    "current_point[boolMask] = zeros[boolMask]\n",
    "\n",
    "print(\"step, nuc norm, frob distance, hessian cond\")#, grad mean, grad std, grad min, grad max\")\n",
    "nuc_norms = []\n",
    "frob_norms = []\n",
    "conds = []\n",
    "\n",
    "for step in range(10000):\n",
    "\n",
    "    hessian = comp_hessian(current_point, boolMask, obj_func, n)\n",
    "    grad = comp_grad(current_point, boolMask, obj_func, n)\n",
    "\n",
    "    #descent = -np.dot(np.linalg.inv(hessian), grad)\n",
    "    descent = -np.array(grad)\n",
    "    \n",
    "    descent_matrix = np.zeros([n,n])\n",
    "    count = 0\n",
    "    for i in range(n):\n",
    "        for j in range(n):\n",
    "            if boolMask[i,j]:\n",
    "                descent_matrix[i,j] = descent[count]\n",
    "                count = count + 1\n",
    "    \n",
    "    current_point = current_point + 0.1*descent_matrix\n",
    "    \n",
    "    nuc_norms.append(np.linalg.norm(current_point,'nuc'))\n",
    "    frob_norms.append(np.linalg.norm(current_point-original,'fro'))\n",
    "    conds.append(np.linalg.cond(hessian))\n",
    "    \n",
    "    if step % 20 == 0:\n",
    "        print(step, np.linalg.norm(current_point,'nuc'), np.linalg.norm(current_point-original,'fro'),\n",
    "              np.linalg.cond(hessian))#, np.mean(np.abs(grad)),\n",
    "             # np.std(np.abs(grad)), np.min(np.abs(grad)), np.max(np.abs(grad)))\n",
    "    "
   ]
  },
  {
   "cell_type": "code",
   "execution_count": 5,
   "metadata": {},
   "outputs": [
    {
     "data": {
      "text/plain": [
       "[<matplotlib.lines.Line2D at 0x7f41981f2ac8>]"
      ]
     },
     "execution_count": 5,
     "metadata": {},
     "output_type": "execute_result"
    },
    {
     "data": {
      "image/png": "[encoded data removed]",
      "text/plain": [
       "<Figure size 432x288 with 1 Axes>"
      ]
     },
     "metadata": {
      "needs_background": "light"
     },
     "output_type": "display_data"
    }
   ],
   "source": [
    "plt.plot(nuc_norms)"
   ]
  },
  {
   "cell_type": "code",
   "execution_count": 6,
   "metadata": {},
   "outputs": [
    {
     "data": {
      "text/plain": [
       "[<matplotlib.lines.Line2D at 0x7f418cfd4080>]"
      ]
     },
     "execution_count": 6,
     "metadata": {},
     "output_type": "execute_result"
    },
    {
     "data": {
      "image/png": "[encoded data removed]",
      "text/plain": [
       "<Figure size 432x288 with 1 Axes>"
      ]
     },
     "metadata": {
      "needs_background": "light"
     },
     "output_type": "display_data"
    }
   ],
   "source": [
    "plt.plot(frob_norms)"
   ]
  },
  {
   "cell_type": "markdown",
   "metadata": {},
   "source": [
    "So things seem to break. Is it because epsilon is off at this stage?"
   ]
  },
  {
   "cell_type": "code",
   "execution_count": 11,
   "metadata": {},
   "outputs": [
    {
     "name": "stdout",
     "output_type": "stream",
     "text": [
      "1 2.42648805306135\n",
      "0.1 19.039357185684675\n",
      "0.01 40096.85185120677\n",
      "0.001 276780.14104606915\n",
      "0.0001 1442878.3479704105\n",
      "1e-05 1019723.9780562109\n",
      "1e-06 2011765.4783497783\n",
      "1e-07 1077468.7905798627\n",
      "1e-08 2011.0019408955902\n",
      "1e-09 140.14313695349574\n",
      "1e-10 39.02671964877899\n",
      "1e-11 78.14018817608311\n",
      "1e-12 67.90749165776204\n",
      "1e-13 61.85559307582897\n",
      "1e-14 719.7232259453743\n",
      "1e-15 211.09254045423572\n",
      "1e-16 5.955170051771914e+16\n",
      "1e-17 inf\n",
      "1e-18 inf\n",
      "1e-19 inf\n",
      "1e-20 inf\n",
      "1e-21 inf\n",
      "1e-22 inf\n",
      "1e-23 inf\n",
      "1e-24 inf\n",
      "1e-25 inf\n",
      "1e-26 inf\n",
      "1e-27 inf\n",
      "1e-28 inf\n",
      "1e-29 inf\n"
     ]
    }
   ],
   "source": [
    "epsilons = []\n",
    "conds = []\n",
    "\n",
    "for p in range(30):\n",
    "\n",
    "    epsilon = 10**(-p)\n",
    "    hessian = comp_hessian(current_point, boolMask, obj_func, n, epsilon)\n",
    "    cond = np.linalg.cond(hessian)\n",
    "    print(epsilon, cond)\n",
    "    epsilons.append(epsilon)\n",
    "    conds.append(cond)"
   ]
  },
  {
   "cell_type": "code",
   "execution_count": 12,
   "metadata": {},
   "outputs": [
    {
     "name": "stdout",
     "output_type": "stream",
     "text": [
      "1 2.42648805306135\n",
      "2 2.24108940163063\n",
      "3 2.33343592014357\n",
      "4 2.558085964090114\n",
      "5 2.5488584495898507\n",
      "6 2.434837198150068\n",
      "7 2.2476744630092282\n",
      "8 2.0779374743994237\n",
      "9 1.9705446369282533\n",
      "10 1.904406030625881\n",
      "11 1.863495991994038\n",
      "12 1.838402587247122\n",
      "13 1.8230616953502294\n",
      "14 1.813500574648978\n",
      "15 1.8073366300231988\n",
      "16 1.803230162289867\n",
      "17 1.8004133429075209\n",
      "18 1.7984314131637098\n",
      "19 1.7970022014632476\n",
      "20 1.7959475030340735\n",
      "21 1.7951520298627015\n",
      "22 1.7945393738397724\n",
      "23 1.794057819560918\n",
      "24 1.7936717178863453\n",
      "25 1.7933560953557832\n",
      "26 1.7930932037596456\n",
      "27 1.7928702648339943\n",
      "28 1.7926779685818617\n",
      "29 1.7925094568772466\n",
      "30 1.7923596253393563\n"
     ]
    }
   ],
   "source": [
    "epsilons = []\n",
    "conds = []\n",
    "\n",
    "for p in range(30):\n",
    "\n",
    "    epsilon = 1+p#10**(-p)\n",
    "    hessian = comp_hessian(current_point, boolMask, obj_func, n, epsilon)\n",
    "    cond = np.linalg.cond(hessian)\n",
    "    print(epsilon, cond)\n",
    "    epsilons.append(epsilon)\n",
    "    conds.append(cond)"
   ]
  },
  {
   "cell_type": "markdown",
   "metadata": {},
   "source": [
    "Epsilon need to be some small number, but there is also some freedom to choose it so that the hessian is well-conditioned, from above:\n",
    "\n",
    "1e-09 140.14313695349574\n",
    "\n",
    "1e-10 39.02671964877899\n",
    "\n",
    "1e-11 78.14018817608311\n",
    "\n",
    "1e-12 67.90749165776204\n",
    "\n",
    "1e-13 61.85559307582897\n",
    "\n",
    "So, epsilons in the rage 1e-13 to 1e-9 work best"
   ]
  },
  {
   "cell_type": "markdown",
   "metadata": {},
   "source": []
  }
 ],
 "metadata": {
  "kernelspec": {
   "display_name": "Python 3",
   "language": "python",
   "name": "python3"
  },
  "language_info": {
   "codemirror_mode": {
    "name": "ipython",
    "version": 3
   },
   "file_extension": ".py",
   "mimetype": "text/x-python",
   "name": "python",
   "nbconvert_exporter": "python",
   "pygments_lexer": "ipython3",
   "version": "3.7.1"
  }
 },
 "nbformat": 4,
 "nbformat_minor": 2
}
