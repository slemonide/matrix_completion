{
 "cells": [
  {
   "cell_type": "code",
   "execution_count": 73,
   "metadata": {},
   "outputs": [],
   "source": [
    "import numpy as np\n",
    "import matplotlib.pyplot as plt\n",
    "from sympy import *\n",
    "init_printing(use_unicode=True)\n",
    "from mpmath import mp\n",
    "from IPython.display import display"
   ]
  },
  {
   "cell_type": "code",
   "execution_count": 70,
   "metadata": {},
   "outputs": [],
   "source": [
    "def obj_func_nuc(m):\n",
    "    u, s, vh = np.linalg.svd(m)\n",
    "\n",
    "    return np.sum(s)\n",
    "\n",
    "def comp_grad(m, obj_func, epsilon):\n",
    "    \"\"\" Computes gradient that maximizes the objective function \"\"\"\n",
    "\n",
    "    # Yes, grad is a vector now\n",
    "    grad = []\n",
    "\n",
    "    for i in range(2):\n",
    "        for j in range(2):\n",
    "            diff = np.zeros([2,2])\n",
    "            diff[i,j] = epsilon\n",
    "            grad.append((obj_func(m + diff) - obj_func(m - diff))/(2*epsilon))\n",
    "\n",
    "    return grad\n",
    "\n",
    "def comp_hessian(m, of, epsilon):\n",
    "    \"\"\" Computes hessian (only diagonal) \"\"\"\n",
    "    vector = []\n",
    "    \n",
    "    n = 2\n",
    "\n",
    "    for i in range(n):\n",
    "        for j in range(n):\n",
    "            vector.append(m[i,j])\n",
    "\n",
    "    q = len(vector)\n",
    "\n",
    "    hessian = np.zeros([q, q])\n",
    "\n",
    "    # fill in the diagonal first\n",
    "    count = 0\n",
    "    for i in range(n):\n",
    "        for j in range(n):\n",
    "            diff = np.zeros([n,n])\n",
    "            diff[i,j] = epsilon\n",
    "            hessian[count,count] = (of(m + diff) + of(m - diff) - 2*of(m))/epsilon**2\n",
    "\n",
    "            count = count + 1\n",
    "                \n",
    "    # now fill in off-diagonals\n",
    "    count1 = 0\n",
    "    for i1 in range(n):\n",
    "        for j1 in range(n):\n",
    "            diff1 = np.zeros([n,n])\n",
    "            diff1[i1,j1] = epsilon\n",
    "\n",
    "            count2 = 0\n",
    "            for i2 in range(n):\n",
    "                for j2 in range(n):\n",
    "                    diff2 = np.zeros([n,n])\n",
    "                    diff2[i2,j2] = epsilon\n",
    "\n",
    "                    if count1 != count2: # doing only off-diagonal ones\n",
    "                        hessian[count1,count2] = (of(m + diff1 + diff2) + of(m - diff1 - diff2)\n",
    "                                                 - of(m + diff1 - diff2) - of(m - diff1 + diff2))/(2*epsilon)**2\n",
    "\n",
    "                    count2 = count2 + 1\n",
    "\n",
    "            count1 = count1 + 1\n",
    "\n",
    "    return hessian"
   ]
  },
  {
   "cell_type": "code",
   "execution_count": 65,
   "metadata": {},
   "outputs": [],
   "source": [
    "M = np.array([[1, 0],\n",
    "              [0, 0]])\n",
    "\n",
    "dx11, dx12, dx21, dx22 = symbols('dx11 dx12 dx21 dx22')\n",
    "dM = Matrix([dx11, dx12, dx21, dx22])"
   ]
  },
  {
   "cell_type": "code",
   "execution_count": 88,
   "metadata": {
    "scrolled": false
   },
   "outputs": [
    {
     "name": "stdout",
     "output_type": "stream",
     "text": [
      "0.1\n"
     ]
    },
    {
     "data": {
      "image/png": "[encoded data removed]",
      "text/latex": [
       "$$\\left[\\begin{matrix}2.0 dx_{11} + 0.99751242241779 dx_{12}^{2} + 0.99751242241779 dx_{21}^{2} + 20.0 dx_{22}^{2}\\end{matrix}\\right]$$"
      ],
      "text/plain": [
       "⎡                                2                        2            2⎤\n",
       "⎣2.0⋅dx₁₁ + 0.99751242241779⋅dx₁₂  + 0.99751242241779⋅dx₂₁  + 20.0⋅dx₂₂ ⎦"
      ]
     },
     "metadata": {},
     "output_type": "display_data"
    },
    {
     "data": {
      "image/png": "[encoded data removed]",
      "text/latex": [
       "$$\\left[\\begin{matrix}0.0 & 0.0 & 0.0 & 0.0\\\\0.0 & 0.99751242241779 & 0.0 & 0.0\\\\0.0 & 0.0 & 0.99751242241779 & 0.0\\\\0.0 & 0.0 & 0.0 & 20.0\\end{matrix}\\right]$$"
      ],
      "text/plain": [
       "⎡0.0        0.0               0.0         0.0 ⎤\n",
       "⎢                                             ⎥\n",
       "⎢0.0  0.99751242241779        0.0         0.0 ⎥\n",
       "⎢                                             ⎥\n",
       "⎢0.0        0.0         0.99751242241779  0.0 ⎥\n",
       "⎢                                             ⎥\n",
       "⎣0.0        0.0               0.0         20.0⎦"
      ]
     },
     "metadata": {},
     "output_type": "display_data"
    },
    {
     "data": {
      "image/png": "[encoded data removed]",
      "text/latex": [
       "$$\\left[\\begin{matrix}1.0\\\\0.0\\\\0.0\\\\0.0\\end{matrix}\\right]$$"
      ],
      "text/plain": [
       "⎡1.0⎤\n",
       "⎢   ⎥\n",
       "⎢0.0⎥\n",
       "⎢   ⎥\n",
       "⎢0.0⎥\n",
       "⎢   ⎥\n",
       "⎣0.0⎦"
      ]
     },
     "metadata": {},
     "output_type": "display_data"
    },
    {
     "name": "stdout",
     "output_type": "stream",
     "text": [
      "0.01\n"
     ]
    },
    {
     "data": {
      "image/png": "[encoded data removed]",
      "text/latex": [
       "$$\\left[\\begin{matrix}dx_{11} \\left(- 5.55111512312578 \\cdot 10^{-13} dx_{12} - 5.55111512312578 \\cdot 10^{-13} dx_{21}\\right) + 2.0 dx_{11} + dx_{12} \\left(- 5.55111512312578 \\cdot 10^{-13} dx_{11} + 0.999975001247932 dx_{12}\\right) + dx_{21} \\left(- 5.55111512312578 \\cdot 10^{-13} dx_{11} + 0.999975001247932 dx_{21}\\right) + 200.0 dx_{22}^{2}\\end{matrix}\\right]$$"
      ],
      "text/plain": [
       "⎡                                                                             \n",
       "⎣dx₁₁⋅(-5.55111512312578e-13⋅dx₁₂ - 5.55111512312578e-13⋅dx₂₁) + 2.0⋅dx₁₁ + dx\n",
       "\n",
       "                                                                              \n",
       "₁₂⋅(-5.55111512312578e-13⋅dx₁₁ + 0.999975001247932⋅dx₁₂) + dx₂₁⋅(-5.5511151231\n",
       "\n",
       "                                                    2⎤\n",
       "2578e-13⋅dx₁₁ + 0.999975001247932⋅dx₂₁) + 200.0⋅dx₂₂ ⎦"
      ]
     },
     "metadata": {},
     "output_type": "display_data"
    },
    {
     "data": {
      "image/png": "[encoded data removed]",
      "text/latex": [
       "$$\\left[\\begin{matrix}0.0 & -5.55111512312578 \\cdot 10^{-13} & -5.55111512312578 \\cdot 10^{-13} & 0.0\\\\-5.55111512312578 \\cdot 10^{-13} & 0.999975001247932 & 0.0 & 0.0\\\\-5.55111512312578 \\cdot 10^{-13} & 0.0 & 0.999975001247932 & 0.0\\\\0.0 & 0.0 & 0.0 & 200.0\\end{matrix}\\right]$$"
      ],
      "text/plain": [
       "⎡         0.0           -5.55111512312578e-13  -5.55111512312578e-13   0.0 ⎤\n",
       "⎢                                                                          ⎥\n",
       "⎢-5.55111512312578e-13    0.999975001247932             0.0            0.0 ⎥\n",
       "⎢                                                                          ⎥\n",
       "⎢-5.55111512312578e-13           0.0             0.999975001247932     0.0 ⎥\n",
       "⎢                                                                          ⎥\n",
       "⎣         0.0                    0.0                    0.0           200.0⎦"
      ]
     },
     "metadata": {},
     "output_type": "display_data"
    },
    {
     "data": {
      "image/png": "[encoded data removed]",
      "text/latex": [
       "$$\\left[\\begin{matrix}1.0\\\\0.0\\\\0.0\\\\0.0\\end{matrix}\\right]$$"
      ],
      "text/plain": [
       "⎡1.0⎤\n",
       "⎢   ⎥\n",
       "⎢0.0⎥\n",
       "⎢   ⎥\n",
       "⎢0.0⎥\n",
       "⎢   ⎥\n",
       "⎣0.0⎦"
      ]
     },
     "metadata": {},
     "output_type": "display_data"
    },
    {
     "name": "stdout",
     "output_type": "stream",
     "text": [
      "0.001\n"
     ]
    },
    {
     "data": {
      "image/png": "[encoded data removed]",
      "text/latex": [
       "$$\\left[\\begin{matrix}1.99999999999989 dx_{11} + 0.999999750117553 dx_{12}^{2} + 0.999999750117553 dx_{21}^{2} + 1999.99999999978 dx_{22}^{2}\\end{matrix}\\right]$$"
      ],
      "text/plain": [
       "⎡                                              2                         2    \n",
       "⎣1.99999999999989⋅dx₁₁ + 0.999999750117553⋅dx₁₂  + 0.999999750117553⋅dx₂₁  + 1\n",
       "\n",
       "                    2⎤\n",
       "999.99999999978⋅dx₂₂ ⎦"
      ]
     },
     "metadata": {},
     "output_type": "display_data"
    },
    {
     "data": {
      "image/png": "[encoded data removed]",
      "text/latex": [
       "$$\\left[\\begin{matrix}0.0 & 0.0 & 0.0 & 0.0\\\\0.0 & 0.999999750117553 & 0.0 & 0.0\\\\0.0 & 0.0 & 0.999999750117553 & 0.0\\\\0.0 & 0.0 & 0.0 & 1999.99999999978\\end{matrix}\\right]$$"
      ],
      "text/plain": [
       "⎡0.0         0.0                0.0               0.0       ⎤\n",
       "⎢                                                           ⎥\n",
       "⎢0.0  0.999999750117553         0.0               0.0       ⎥\n",
       "⎢                                                           ⎥\n",
       "⎢0.0         0.0         0.999999750117553        0.0       ⎥\n",
       "⎢                                                           ⎥\n",
       "⎣0.0         0.0                0.0         1999.99999999978⎦"
      ]
     },
     "metadata": {},
     "output_type": "display_data"
    },
    {
     "data": {
      "image/png": "[encoded data removed]",
      "text/latex": [
       "$$\\left[\\begin{matrix}0.999999999999945\\\\0.0\\\\0.0\\\\0.0\\end{matrix}\\right]$$"
      ],
      "text/plain": [
       "⎡0.999999999999945⎤\n",
       "⎢                 ⎥\n",
       "⎢       0.0       ⎥\n",
       "⎢                 ⎥\n",
       "⎢       0.0       ⎥\n",
       "⎢                 ⎥\n",
       "⎣       0.0       ⎦"
      ]
     },
     "metadata": {},
     "output_type": "display_data"
    },
    {
     "name": "stdout",
     "output_type": "stream",
     "text": [
      "0.0001\n"
     ]
    },
    {
     "data": {
      "image/png": "[encoded data removed]",
      "text/latex": [
       "$$\\left[\\begin{matrix}dx_{11} \\left(5.55111512312578 \\cdot 10^{-9} dx_{12} + 5.55111512312578 \\cdot 10^{-9} dx_{21}\\right) + 1.99999999999978 dx_{11} + dx_{12} \\left(2.77555756156289 \\cdot 10^{-9} dx_{11} + 0.999999993922529 dx_{12}\\right) + dx_{21} \\left(2.77555756156289 \\cdot 10^{-9} dx_{11} + 0.999999993922529 dx_{21}\\right) + 19999.9999999978 dx_{22}^{2}\\end{matrix}\\right]$$"
      ],
      "text/plain": [
       "⎡                                                                             \n",
       "⎣dx₁₁⋅(5.55111512312578e-9⋅dx₁₂ + 5.55111512312578e-9⋅dx₂₁) + 1.99999999999978\n",
       "\n",
       "                                                                              \n",
       "⋅dx₁₁ + dx₁₂⋅(2.77555756156289e-9⋅dx₁₁ + 0.999999993922529⋅dx₁₂) + dx₂₁⋅(2.775\n",
       "\n",
       "                                                                     2⎤\n",
       "55756156289e-9⋅dx₁₁ + 0.999999993922529⋅dx₂₁) + 19999.9999999978⋅dx₂₂ ⎦"
      ]
     },
     "metadata": {},
     "output_type": "display_data"
    },
    {
     "data": {
      "image/png": "[encoded data removed]",
      "text/latex": [
       "$$\\left[\\begin{matrix}0.0 & 2.77555756156289 \\cdot 10^{-9} & 2.77555756156289 \\cdot 10^{-9} & 0.0\\\\5.55111512312578 \\cdot 10^{-9} & 0.999999993922529 & 0.0 & 0.0\\\\5.55111512312578 \\cdot 10^{-9} & 0.0 & 0.999999993922529 & 0.0\\\\0.0 & 0.0 & 0.0 & 19999.9999999978\\end{matrix}\\right]$$"
      ],
      "text/plain": [
       "⎡        0.0          2.77555756156289e-9  2.77555756156289e-9        0.0     \n",
       "⎢                                                                             \n",
       "⎢5.55111512312578e-9   0.999999993922529           0.0                0.0     \n",
       "⎢                                                                             \n",
       "⎢5.55111512312578e-9          0.0           0.999999993922529         0.0     \n",
       "⎢                                                                             \n",
       "⎣        0.0                  0.0                  0.0          19999.99999999\n",
       "\n",
       "  ⎤\n",
       "  ⎥\n",
       "  ⎥\n",
       "  ⎥\n",
       "  ⎥\n",
       "  ⎥\n",
       "78⎦"
      ]
     },
     "metadata": {},
     "output_type": "display_data"
    },
    {
     "data": {
      "image/png": "[encoded data removed]",
      "text/latex": [
       "$$\\left[\\begin{matrix}0.99999999999989\\\\0.0\\\\0.0\\\\0.0\\end{matrix}\\right]$$"
      ],
      "text/plain": [
       "⎡0.99999999999989⎤\n",
       "⎢                ⎥\n",
       "⎢      0.0       ⎥\n",
       "⎢                ⎥\n",
       "⎢      0.0       ⎥\n",
       "⎢                ⎥\n",
       "⎣      0.0       ⎦"
      ]
     },
     "metadata": {},
     "output_type": "display_data"
    },
    {
     "name": "stdout",
     "output_type": "stream",
     "text": [
      "1e-05\n"
     ]
    },
    {
     "data": {
      "image/png": "[encoded data removed]",
      "text/latex": [
       "$$\\left[\\begin{matrix}dx_{11} \\left(5.55111512312578 \\cdot 10^{-7} dx_{12} + 5.55111512312578 \\cdot 10^{-7} dx_{21}\\right) + 2.000000000002 dx_{11} + dx_{12} \\left(5.55111512312578 \\cdot 10^{-7} dx_{11} + 1.00000008274037 dx_{12}\\right) + dx_{21} \\left(5.55111512312578 \\cdot 10^{-7} dx_{11} + 1.00000008274037 dx_{21}\\right) + 200000.00000131 dx_{22}^{2}\\end{matrix}\\right]$$"
      ],
      "text/plain": [
       "⎡                                                                             \n",
       "⎣dx₁₁⋅(5.55111512312578e-7⋅dx₁₂ + 5.55111512312578e-7⋅dx₂₁) + 2.000000000002⋅d\n",
       "\n",
       "                                                                              \n",
       "x₁₁ + dx₁₂⋅(5.55111512312578e-7⋅dx₁₁ + 1.00000008274037⋅dx₁₂) + dx₂₁⋅(5.551115\n",
       "\n",
       "                                                                2⎤\n",
       "12312578e-7⋅dx₁₁ + 1.00000008274037⋅dx₂₁) + 200000.00000131⋅dx₂₂ ⎦"
      ]
     },
     "metadata": {},
     "output_type": "display_data"
    },
    {
     "data": {
      "image/png": "[encoded data removed]",
      "text/latex": [
       "$$\\left[\\begin{matrix}0.0 & 5.55111512312578 \\cdot 10^{-7} & 5.55111512312578 \\cdot 10^{-7} & 0.0\\\\5.55111512312578 \\cdot 10^{-7} & 1.00000008274037 & 0.0 & 0.0\\\\5.55111512312578 \\cdot 10^{-7} & 0.0 & 1.00000008274037 & 0.0\\\\0.0 & 0.0 & 0.0 & 200000.00000131\\end{matrix}\\right]$$"
      ],
      "text/plain": [
       "⎡        0.0          5.55111512312578e-7  5.55111512312578e-7        0.0     \n",
       "⎢                                                                             \n",
       "⎢5.55111512312578e-7   1.00000008274037            0.0                0.0     \n",
       "⎢                                                                             \n",
       "⎢5.55111512312578e-7          0.0           1.00000008274037          0.0     \n",
       "⎢                                                                             \n",
       "⎣        0.0                  0.0                  0.0          200000.0000013\n",
       "\n",
       " ⎤\n",
       " ⎥\n",
       " ⎥\n",
       " ⎥\n",
       " ⎥\n",
       " ⎥\n",
       "1⎦"
      ]
     },
     "metadata": {},
     "output_type": "display_data"
    },
    {
     "data": {
      "image/png": "[encoded data removed]",
      "text/latex": [
       "$$\\left[\\begin{matrix}1.000000000001\\\\0.0\\\\0.0\\\\0.0\\end{matrix}\\right]$$"
      ],
      "text/plain": [
       "⎡1.000000000001⎤\n",
       "⎢              ⎥\n",
       "⎢     0.0      ⎥\n",
       "⎢              ⎥\n",
       "⎢     0.0      ⎥\n",
       "⎢              ⎥\n",
       "⎣     0.0      ⎦"
      ]
     },
     "metadata": {},
     "output_type": "display_data"
    },
    {
     "name": "stdout",
     "output_type": "stream",
     "text": [
      "1e-06\n"
     ]
    },
    {
     "data": {
      "image/png": "[encoded data removed]",
      "text/latex": [
       "$$\\left[\\begin{matrix}dx_{11} \\left(5.55111512312578 \\cdot 10^{-5} dx_{12} + 5.55111512312578 \\cdot 10^{-5} dx_{21}\\right) + 1.99999999994649 dx_{11} + dx_{12} \\left(2.77555756156289 \\cdot 10^{-5} dx_{11} + 1.00008890058234 dx_{12}\\right) + dx_{21} \\left(2.77555756156289 \\cdot 10^{-5} dx_{11} + 1.00008890058234 dx_{21}\\right) + 1999999.99983547 dx_{22}^{2}\\end{matrix}\\right]$$"
      ],
      "text/plain": [
       "⎡                                                                             \n",
       "⎣dx₁₁⋅(5.55111512312578e-5⋅dx₁₂ + 5.55111512312578e-5⋅dx₂₁) + 1.99999999994649\n",
       "\n",
       "                                                                              \n",
       "⋅dx₁₁ + dx₁₂⋅(2.77555756156289e-5⋅dx₁₁ + 1.00008890058234⋅dx₁₂) + dx₂₁⋅(2.7755\n",
       "\n",
       "                                                                   2⎤\n",
       "5756156289e-5⋅dx₁₁ + 1.00008890058234⋅dx₂₁) + 1999999.99983547⋅dx₂₂ ⎦"
      ]
     },
     "metadata": {},
     "output_type": "display_data"
    },
    {
     "data": {
      "image/png": "[encoded data removed]",
      "text/latex": [
       "$$\\left[\\begin{matrix}0.0 & 2.77555756156289 \\cdot 10^{-5} & 2.77555756156289 \\cdot 10^{-5} & 0.0\\\\5.55111512312578 \\cdot 10^{-5} & 1.00008890058234 & 0.0 & 0.0\\\\5.55111512312578 \\cdot 10^{-5} & 0.0 & 1.00008890058234 & 0.0\\\\0.0 & 0.0 & 0.0 & 1999999.99983547\\end{matrix}\\right]$$"
      ],
      "text/plain": [
       "⎡        0.0          2.77555756156289e-5  2.77555756156289e-5        0.0     \n",
       "⎢                                                                             \n",
       "⎢5.55111512312578e-5   1.00008890058234            0.0                0.0     \n",
       "⎢                                                                             \n",
       "⎢5.55111512312578e-5          0.0           1.00008890058234          0.0     \n",
       "⎢                                                                             \n",
       "⎣        0.0                  0.0                  0.0          1999999.999835\n",
       "\n",
       "  ⎤\n",
       "  ⎥\n",
       "  ⎥\n",
       "  ⎥\n",
       "  ⎥\n",
       "  ⎥\n",
       "47⎦"
      ]
     },
     "metadata": {},
     "output_type": "display_data"
    },
    {
     "data": {
      "image/png": "[encoded data removed]",
      "text/latex": [
       "$$\\left[\\begin{matrix}0.999999999973245\\\\0.0\\\\0.0\\\\0.0\\end{matrix}\\right]$$"
      ],
      "text/plain": [
       "⎡0.999999999973245⎤\n",
       "⎢                 ⎥\n",
       "⎢       0.0       ⎥\n",
       "⎢                 ⎥\n",
       "⎢       0.0       ⎥\n",
       "⎢                 ⎥\n",
       "⎣       0.0       ⎦"
      ]
     },
     "metadata": {},
     "output_type": "display_data"
    },
    {
     "name": "stdout",
     "output_type": "stream",
     "text": [
      "1e-07\n"
     ]
    },
    {
     "data": {
      "image/png": "[encoded data removed]",
      "text/latex": [
       "$$\\left[\\begin{matrix}dx_{11} \\left(- 0.00555111512312578 dx_{12} - 0.00555111512312578 dx_{21}\\right) + 2.00000000005751 dx_{11} + dx_{12} \\left(- 0.00277555756156289 dx_{11} + 0.976996261670138 dx_{12}\\right) + dx_{21} \\left(- 0.00277555756156289 dx_{11} + 0.976996261670138 dx_{21}\\right) + 20000000.0116773 dx_{22}^{2}\\end{matrix}\\right]$$"
      ],
      "text/plain": [
       "⎡                                                                             \n",
       "⎣dx₁₁⋅(-0.00555111512312578⋅dx₁₂ - 0.00555111512312578⋅dx₂₁) + 2.0000000000575\n",
       "\n",
       "                                                                              \n",
       "1⋅dx₁₁ + dx₁₂⋅(-0.00277555756156289⋅dx₁₁ + 0.976996261670138⋅dx₁₂) + dx₂₁⋅(-0.\n",
       "\n",
       "                                                                        2⎤\n",
       "00277555756156289⋅dx₁₁ + 0.976996261670138⋅dx₂₁) + 20000000.0116773⋅dx₂₂ ⎦"
      ]
     },
     "metadata": {},
     "output_type": "display_data"
    },
    {
     "data": {
      "image/png": "[encoded data removed]",
      "text/latex": [
       "$$\\left[\\begin{matrix}0.0 & -0.00277555756156289 & -0.00277555756156289 & 0.0\\\\-0.00555111512312578 & 0.976996261670138 & 0.0 & 0.0\\\\-0.00555111512312578 & 0.0 & 0.976996261670138 & 0.0\\\\0.0 & 0.0 & 0.0 & 20000000.0116773\\end{matrix}\\right]$$"
      ],
      "text/plain": [
       "⎡        0.0           -0.00277555756156289  -0.00277555756156289        0.0  \n",
       "⎢                                                                             \n",
       "⎢-0.00555111512312578   0.976996261670138            0.0                 0.0  \n",
       "⎢                                                                             \n",
       "⎢-0.00555111512312578          0.0            0.976996261670138          0.0  \n",
       "⎢                                                                             \n",
       "⎣        0.0                   0.0                   0.0           20000000.01\n",
       "\n",
       "     ⎤\n",
       "     ⎥\n",
       "     ⎥\n",
       "     ⎥\n",
       "     ⎥\n",
       "     ⎥\n",
       "16773⎦"
      ]
     },
     "metadata": {},
     "output_type": "display_data"
    },
    {
     "data": {
      "image/png": "[encoded data removed]",
      "text/latex": [
       "$$\\left[\\begin{matrix}1.00000000002876\\\\0.0\\\\0.0\\\\0.0\\end{matrix}\\right]$$"
      ],
      "text/plain": [
       "⎡1.00000000002876⎤\n",
       "⎢                ⎥\n",
       "⎢      0.0       ⎥\n",
       "⎢                ⎥\n",
       "⎢      0.0       ⎥\n",
       "⎢                ⎥\n",
       "⎣      0.0       ⎦"
      ]
     },
     "metadata": {},
     "output_type": "display_data"
    },
    {
     "name": "stdout",
     "output_type": "stream",
     "text": [
      "1e-08\n"
     ]
    },
    {
     "data": {
      "image/png": "[encoded data removed]",
      "text/latex": [
       "$$\\left[\\begin{matrix}0.277555756156289 dx_{11} dx_{12} + 0.277555756156289 dx_{11} dx_{21} + 1.99999999894729 dx_{11} + 199999998.784506 dx_{22}^{2}\\end{matrix}\\right]$$"
      ],
      "text/plain": [
       "⎡                                                                             \n",
       "⎣0.277555756156289⋅dx₁₁⋅dx₁₂ + 0.277555756156289⋅dx₁₁⋅dx₂₁ + 1.99999999894729⋅\n",
       "\n",
       "                            2⎤\n",
       "dx₁₁ + 199999998.784506⋅dx₂₂ ⎦"
      ]
     },
     "metadata": {},
     "output_type": "display_data"
    },
    {
     "data": {
      "image/png": "[encoded data removed]",
      "text/latex": [
       "$$\\left[\\begin{matrix}0.0 & 0.277555756156289 & 0.277555756156289 & 0.0\\\\0.0 & 0.0 & 0.0 & 0.0\\\\0.0 & 0.0 & 0.0 & 0.0\\\\0.0 & 0.0 & 0.0 & 199999998.784506\\end{matrix}\\right]$$"
      ],
      "text/plain": [
       "⎡0.0  0.277555756156289  0.277555756156289        0.0       ⎤\n",
       "⎢                                                           ⎥\n",
       "⎢0.0         0.0                0.0               0.0       ⎥\n",
       "⎢                                                           ⎥\n",
       "⎢0.0         0.0                0.0               0.0       ⎥\n",
       "⎢                                                           ⎥\n",
       "⎣0.0         0.0                0.0         199999998.784506⎦"
      ]
     },
     "metadata": {},
     "output_type": "display_data"
    },
    {
     "data": {
      "image/png": "[encoded data removed]",
      "text/latex": [
       "$$\\left[\\begin{matrix}0.999999999473644\\\\0.0\\\\0.0\\\\0.0\\end{matrix}\\right]$$"
      ],
      "text/plain": [
       "⎡0.999999999473644⎤\n",
       "⎢                 ⎥\n",
       "⎢       0.0       ⎥\n",
       "⎢                 ⎥\n",
       "⎢       0.0       ⎥\n",
       "⎢                 ⎥\n",
       "⎣       0.0       ⎦"
      ]
     },
     "metadata": {},
     "output_type": "display_data"
    },
    {
     "name": "stdout",
     "output_type": "stream",
     "text": [
      "1e-09\n"
     ]
    },
    {
     "data": {
      "image/png": "[encoded data removed]",
      "text/latex": [
       "$$\\left[\\begin{matrix}- 27.7555756156289 dx_{11} dx_{12} - 27.7555756156289 dx_{11} dx_{21} + 2.00000005445844 dx_{11} + 2000000165.48074 dx_{22}^{2}\\end{matrix}\\right]$$"
      ],
      "text/plain": [
       "⎡                                                                             \n",
       "⎣-27.7555756156289⋅dx₁₁⋅dx₁₂ - 27.7555756156289⋅dx₁₁⋅dx₂₁ + 2.00000005445844⋅d\n",
       "\n",
       "                           2⎤\n",
       "x₁₁ + 2000000165.48074⋅dx₂₂ ⎦"
      ]
     },
     "metadata": {},
     "output_type": "display_data"
    },
    {
     "data": {
      "image/png": "[encoded data removed]",
      "text/latex": [
       "$$\\left[\\begin{matrix}0.0 & -27.7555756156289 & -27.7555756156289 & 0.0\\\\0.0 & 0.0 & 0.0 & 0.0\\\\0.0 & 0.0 & 0.0 & 0.0\\\\0.0 & 0.0 & 0.0 & 2000000165.48074\\end{matrix}\\right]$$"
      ],
      "text/plain": [
       "⎡0.0  -27.7555756156289  -27.7555756156289        0.0       ⎤\n",
       "⎢                                                           ⎥\n",
       "⎢0.0         0.0                0.0               0.0       ⎥\n",
       "⎢                                                           ⎥\n",
       "⎢0.0         0.0                0.0               0.0       ⎥\n",
       "⎢                                                           ⎥\n",
       "⎣0.0         0.0                0.0         2000000165.48074⎦"
      ]
     },
     "metadata": {},
     "output_type": "display_data"
    },
    {
     "data": {
      "image/png": "[encoded data removed]",
      "text/latex": [
       "$$\\left[\\begin{matrix}1.00000002722922\\\\0.0\\\\0.0\\\\0.0\\end{matrix}\\right]$$"
      ],
      "text/plain": [
       "⎡1.00000002722922⎤\n",
       "⎢                ⎥\n",
       "⎢      0.0       ⎥\n",
       "⎢                ⎥\n",
       "⎢      0.0       ⎥\n",
       "⎢                ⎥\n",
       "⎣      0.0       ⎦"
      ]
     },
     "metadata": {},
     "output_type": "display_data"
    },
    {
     "name": "stdout",
     "output_type": "stream",
     "text": [
      "1e-10\n"
     ]
    },
    {
     "data": {
      "image/png": "[encoded data removed]",
      "text/latex": [
       "$$\\left[\\begin{matrix}2.00000016548074 dx_{11} + 20000001654.8074 dx_{22}^{2}\\end{matrix}\\right]$$"
      ],
      "text/plain": [
       "⎡                                             2⎤\n",
       "⎣2.00000016548074⋅dx₁₁ + 20000001654.8074⋅dx₂₂ ⎦"
      ]
     },
     "metadata": {},
     "output_type": "display_data"
    },
    {
     "data": {
      "image/png": "[encoded data removed]",
      "text/latex": [
       "$$\\left[\\begin{matrix}0.0 & 0.0 & 0.0 & 0.0\\\\0.0 & 0.0 & 0.0 & 0.0\\\\0.0 & 0.0 & 0.0 & 0.0\\\\0.0 & 0.0 & 0.0 & 20000001654.8074\\end{matrix}\\right]$$"
      ],
      "text/plain": [
       "⎡0.0  0.0  0.0        0.0       ⎤\n",
       "⎢                               ⎥\n",
       "⎢0.0  0.0  0.0        0.0       ⎥\n",
       "⎢                               ⎥\n",
       "⎢0.0  0.0  0.0        0.0       ⎥\n",
       "⎢                               ⎥\n",
       "⎣0.0  0.0  0.0  20000001654.8074⎦"
      ]
     },
     "metadata": {},
     "output_type": "display_data"
    },
    {
     "data": {
      "image/png": "[encoded data removed]",
      "text/latex": [
       "$$\\left[\\begin{matrix}1.00000008274037\\\\0.0\\\\0.0\\\\0.0\\end{matrix}\\right]$$"
      ],
      "text/plain": [
       "⎡1.00000008274037⎤\n",
       "⎢                ⎥\n",
       "⎢      0.0       ⎥\n",
       "⎢                ⎥\n",
       "⎢      0.0       ⎥\n",
       "⎢                ⎥\n",
       "⎣      0.0       ⎦"
      ]
     },
     "metadata": {},
     "output_type": "display_data"
    },
    {
     "name": "stdout",
     "output_type": "stream",
     "text": [
      "1e-11\n"
     ]
    },
    {
     "data": {
      "image/png": "[encoded data removed]",
      "text/latex": [
       "$$\\left[\\begin{matrix}2.00000016548074 dx_{11} + 200000016548.074 dx_{22}^{2}\\end{matrix}\\right]$$"
      ],
      "text/plain": [
       "⎡                                             2⎤\n",
       "⎣2.00000016548074⋅dx₁₁ + 200000016548.074⋅dx₂₂ ⎦"
      ]
     },
     "metadata": {},
     "output_type": "display_data"
    },
    {
     "data": {
      "image/png": "[encoded data removed]",
      "text/latex": [
       "$$\\left[\\begin{matrix}0.0 & 0.0 & 0.0 & 0.0\\\\0.0 & 0.0 & 0.0 & 0.0\\\\0.0 & 0.0 & 0.0 & 0.0\\\\0.0 & 0.0 & 0.0 & 200000016548.074\\end{matrix}\\right]$$"
      ],
      "text/plain": [
       "⎡0.0  0.0  0.0        0.0       ⎤\n",
       "⎢                               ⎥\n",
       "⎢0.0  0.0  0.0        0.0       ⎥\n",
       "⎢                               ⎥\n",
       "⎢0.0  0.0  0.0        0.0       ⎥\n",
       "⎢                               ⎥\n",
       "⎣0.0  0.0  0.0  200000016548.074⎦"
      ]
     },
     "metadata": {},
     "output_type": "display_data"
    },
    {
     "data": {
      "image/png": "[encoded data removed]",
      "text/latex": [
       "$$\\left[\\begin{matrix}1.00000008274037\\\\0.0\\\\0.0\\\\0.0\\end{matrix}\\right]$$"
      ],
      "text/plain": [
       "⎡1.00000008274037⎤\n",
       "⎢                ⎥\n",
       "⎢      0.0       ⎥\n",
       "⎢                ⎥\n",
       "⎢      0.0       ⎥\n",
       "⎢                ⎥\n",
       "⎣      0.0       ⎦"
      ]
     },
     "metadata": {},
     "output_type": "display_data"
    },
    {
     "name": "stdout",
     "output_type": "stream",
     "text": [
      "1e-12\n"
     ]
    },
    {
     "data": {
      "image/png": "[encoded data removed]",
      "text/latex": [
       "$$\\left[\\begin{matrix}- 27755575.6156289 dx_{11} dx_{12} - 27755575.6156289 dx_{11} dx_{21} + 2.00006677886222 dx_{11} + 2000177801164.68 dx_{22}^{2}\\end{matrix}\\right]$$"
      ],
      "text/plain": [
       "⎡                                                                             \n",
       "⎣-27755575.6156289⋅dx₁₁⋅dx₁₂ - 27755575.6156289⋅dx₁₁⋅dx₂₁ + 2.00006677886222⋅d\n",
       "\n",
       "                           2⎤\n",
       "x₁₁ + 2000177801164.68⋅dx₂₂ ⎦"
      ]
     },
     "metadata": {},
     "output_type": "display_data"
    },
    {
     "data": {
      "image/png": "[encoded data removed]",
      "text/latex": [
       "$$\\left[\\begin{matrix}0.0 & -27755575.6156289 & -27755575.6156289 & 0.0\\\\0.0 & 0.0 & 0.0 & 0.0\\\\0.0 & 0.0 & 0.0 & 0.0\\\\0.0 & 0.0 & 0.0 & 2000177801164.68\\end{matrix}\\right]$$"
      ],
      "text/plain": [
       "⎡0.0  -27755575.6156289  -27755575.6156289        0.0       ⎤\n",
       "⎢                                                           ⎥\n",
       "⎢0.0         0.0                0.0               0.0       ⎥\n",
       "⎢                                                           ⎥\n",
       "⎢0.0         0.0                0.0               0.0       ⎥\n",
       "⎢                                                           ⎥\n",
       "⎣0.0         0.0                0.0         2000177801164.68⎦"
      ]
     },
     "metadata": {},
     "output_type": "display_data"
    },
    {
     "data": {
      "image/png": "[encoded data removed]",
      "text/latex": [
       "$$\\left[\\begin{matrix}1.00003338943111\\\\0.0\\\\0.0\\\\0.0\\end{matrix}\\right]$$"
      ],
      "text/plain": [
       "⎡1.00003338943111⎤\n",
       "⎢                ⎥\n",
       "⎢      0.0       ⎥\n",
       "⎢                ⎥\n",
       "⎢      0.0       ⎥\n",
       "⎢                ⎥\n",
       "⎣      0.0       ⎦"
      ]
     },
     "metadata": {},
     "output_type": "display_data"
    },
    {
     "name": "stdout",
     "output_type": "stream",
     "text": [
      "1e-13\n"
     ]
    },
    {
     "data": {
      "image/png": "[encoded data removed]",
      "text/latex": [
       "$$\\left[\\begin{matrix}2775557561.56289 dx_{11} dx_{12} + 2775557561.56289 dx_{11} dx_{21} + 1.99951166734991 dx_{11} + 19984014443252.8 dx_{22}^{2}\\end{matrix}\\right]$$"
      ],
      "text/plain": [
       "⎡                                                                             \n",
       "⎣2775557561.56289⋅dx₁₁⋅dx₁₂ + 2775557561.56289⋅dx₁₁⋅dx₂₁ + 1.99951166734991⋅dx\n",
       "\n",
       "                          2⎤\n",
       "₁₁ + 19984014443252.8⋅dx₂₂ ⎦"
      ]
     },
     "metadata": {},
     "output_type": "display_data"
    },
    {
     "data": {
      "image/png": "[encoded data removed]",
      "text/latex": [
       "$$\\left[\\begin{matrix}0.0 & 2775557561.56289 & 2775557561.56289 & 0.0\\\\0.0 & 0.0 & 0.0 & 0.0\\\\0.0 & 0.0 & 0.0 & 0.0\\\\0.0 & 0.0 & 0.0 & 19984014443252.8\\end{matrix}\\right]$$"
      ],
      "text/plain": [
       "⎡0.0  2775557561.56289  2775557561.56289        0.0       ⎤\n",
       "⎢                                                         ⎥\n",
       "⎢0.0        0.0               0.0               0.0       ⎥\n",
       "⎢                                                         ⎥\n",
       "⎢0.0        0.0               0.0               0.0       ⎥\n",
       "⎢                                                         ⎥\n",
       "⎣0.0        0.0               0.0         19984014443252.8⎦"
      ]
     },
     "metadata": {},
     "output_type": "display_data"
    },
    {
     "data": {
      "image/png": "[encoded data removed]",
      "text/latex": [
       "$$\\left[\\begin{matrix}0.999755833674953\\\\0.0\\\\0.0\\\\0.0\\end{matrix}\\right]$$"
      ],
      "text/plain": [
       "⎡0.999755833674953⎤\n",
       "⎢                 ⎥\n",
       "⎢       0.0       ⎥\n",
       "⎢                 ⎥\n",
       "⎢       0.0       ⎥\n",
       "⎢                 ⎥\n",
       "⎣       0.0       ⎦"
      ]
     },
     "metadata": {},
     "output_type": "display_data"
    },
    {
     "name": "stdout",
     "output_type": "stream",
     "text": [
      "1e-14\n"
     ]
    },
    {
     "data": {
      "image/png": "[encoded data removed]",
      "text/latex": [
       "$$\\left[\\begin{matrix}1.99840144432528 dx_{11} + 199840144432528.0 dx_{22}^{2}\\end{matrix}\\right]$$"
      ],
      "text/plain": [
       "⎡                                              2⎤\n",
       "⎣1.99840144432528⋅dx₁₁ + 199840144432528.0⋅dx₂₂ ⎦"
      ]
     },
     "metadata": {},
     "output_type": "display_data"
    },
    {
     "data": {
      "image/png": "[encoded data removed]",
      "text/latex": [
       "$$\\left[\\begin{matrix}0.0 & 0.0 & 0.0 & 0.0\\\\0.0 & 0.0 & 0.0 & 0.0\\\\0.0 & 0.0 & 0.0 & 0.0\\\\0.0 & 0.0 & 0.0 & 199840144432528.0\\end{matrix}\\right]$$"
      ],
      "text/plain": [
       "⎡0.0  0.0  0.0         0.0       ⎤\n",
       "⎢                                ⎥\n",
       "⎢0.0  0.0  0.0         0.0       ⎥\n",
       "⎢                                ⎥\n",
       "⎢0.0  0.0  0.0         0.0       ⎥\n",
       "⎢                                ⎥\n",
       "⎣0.0  0.0  0.0  199840144432528.0⎦"
      ]
     },
     "metadata": {},
     "output_type": "display_data"
    },
    {
     "data": {
      "image/png": "[encoded data removed]",
      "text/latex": [
       "$$\\left[\\begin{matrix}0.999200722162641\\\\0.0\\\\0.0\\\\0.0\\end{matrix}\\right]$$"
      ],
      "text/plain": [
       "⎡0.999200722162641⎤\n",
       "⎢                 ⎥\n",
       "⎢       0.0       ⎥\n",
       "⎢                 ⎥\n",
       "⎢       0.0       ⎥\n",
       "⎢                 ⎥\n",
       "⎣       0.0       ⎦"
      ]
     },
     "metadata": {},
     "output_type": "display_data"
    }
   ],
   "source": [
    "for i in range(1,15):\n",
    "    epsilon = 10**(-i)\n",
    "\n",
    "    grad = Matrix(np.array(comp_grad(M, obj_func_nuc, epsilon)))\n",
    "    hessian = Matrix(comp_hessian(M, obj_func_nuc, epsilon))\n",
    "\n",
    "    print(epsilon)\n",
    "    display((2 * grad.T * dM) + (dM.T * hessian * dM))\n",
    "    display(hessian)\n",
    "    display(grad)"
   ]
  },
  {
   "cell_type": "code",
   "execution_count": 93,
   "metadata": {},
   "outputs": [
    {
     "name": "stdout",
     "output_type": "stream",
     "text": [
      "1e-07\n"
     ]
    },
    {
     "data": {
      "image/png": "[encoded data removed]",
      "text/latex": [
       "$$\\left[\\begin{matrix}dx_{11} \\left(- 0.00555111512312578 dx_{12} - 0.00555111512312578 dx_{21}\\right) + 2.00000000005751 dx_{11} + dx_{12} \\left(- 0.00277555756156289 dx_{11} + 0.976996261670138 dx_{12}\\right) + dx_{21} \\left(- 0.00277555756156289 dx_{11} + 0.976996261670138 dx_{21}\\right) + 20000000.0116773 dx_{22}^{2}\\end{matrix}\\right]$$"
      ],
      "text/plain": [
       "⎡                                                                             \n",
       "⎣dx₁₁⋅(-0.00555111512312578⋅dx₁₂ - 0.00555111512312578⋅dx₂₁) + 2.0000000000575\n",
       "\n",
       "                                                                              \n",
       "1⋅dx₁₁ + dx₁₂⋅(-0.00277555756156289⋅dx₁₁ + 0.976996261670138⋅dx₁₂) + dx₂₁⋅(-0.\n",
       "\n",
       "                                                                        2⎤\n",
       "00277555756156289⋅dx₁₁ + 0.976996261670138⋅dx₂₁) + 20000000.0116773⋅dx₂₂ ⎦"
      ]
     },
     "metadata": {},
     "output_type": "display_data"
    },
    {
     "data": {
      "image/png": "[encoded data removed]",
      "text/latex": [
       "$$\\left[\\begin{matrix}0.0 & -0.00277555756156289 & -0.00277555756156289 & 0.0\\\\-0.00555111512312578 & 0.976996261670138 & 0.0 & 0.0\\\\-0.00555111512312578 & 0.0 & 0.976996261670138 & 0.0\\\\0.0 & 0.0 & 0.0 & 20000000.0116773\\end{matrix}\\right]$$"
      ],
      "text/plain": [
       "⎡        0.0           -0.00277555756156289  -0.00277555756156289        0.0  \n",
       "⎢                                                                             \n",
       "⎢-0.00555111512312578   0.976996261670138            0.0                 0.0  \n",
       "⎢                                                                             \n",
       "⎢-0.00555111512312578          0.0            0.976996261670138          0.0  \n",
       "⎢                                                                             \n",
       "⎣        0.0                   0.0                   0.0           20000000.01\n",
       "\n",
       "     ⎤\n",
       "     ⎥\n",
       "     ⎥\n",
       "     ⎥\n",
       "     ⎥\n",
       "     ⎥\n",
       "16773⎦"
      ]
     },
     "metadata": {},
     "output_type": "display_data"
    },
    {
     "data": {
      "image/png": "[encoded data removed]",
      "text/latex": [
       "$$\\left[\\begin{matrix}1.00000000002876\\\\0.0\\\\0.0\\\\0.0\\end{matrix}\\right]$$"
      ],
      "text/plain": [
       "⎡1.00000000002876⎤\n",
       "⎢                ⎥\n",
       "⎢      0.0       ⎥\n",
       "⎢                ⎥\n",
       "⎢      0.0       ⎥\n",
       "⎢                ⎥\n",
       "⎣      0.0       ⎦"
      ]
     },
     "metadata": {},
     "output_type": "display_data"
    }
   ],
   "source": [
    "epsilon = 1e-7\n",
    "\n",
    "grad = Matrix(np.array(comp_grad(M, obj_func_nuc, epsilon)))\n",
    "hessian = Matrix(comp_hessian(M, obj_func_nuc, epsilon))\n",
    "\n",
    "print(epsilon)\n",
    "display((2 * grad.T * dM) + (dM.T * hessian * dM))\n",
    "display(hessian)\n",
    "display(grad)"
   ]
  },
  {
   "cell_type": "markdown",
   "metadata": {},
   "source": [
    "WHY ISN'T HESSIAN SYMMETRIC????"
   ]
  },
  {
   "cell_type": "code",
   "execution_count": null,
   "metadata": {},
   "outputs": [],
   "source": []
  }
 ],
 "metadata": {
  "kernelspec": {
   "display_name": "Python 3",
   "language": "python",
   "name": "python3"
  },
  "language_info": {
   "codemirror_mode": {
    "name": "ipython",
    "version": 3
   },
   "file_extension": ".py",
   "mimetype": "text/x-python",
   "name": "python",
   "nbconvert_exporter": "python",
   "pygments_lexer": "ipython3",
   "version": "3.7.1"
  }
 },
 "nbformat": 4,
 "nbformat_minor": 2
}
