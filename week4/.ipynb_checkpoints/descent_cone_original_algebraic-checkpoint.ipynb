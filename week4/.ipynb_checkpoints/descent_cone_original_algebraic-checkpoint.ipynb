{
 "cells": [
  {
   "cell_type": "code",
   "execution_count": 1,
   "metadata": {},
   "outputs": [],
   "source": [
    "import numpy as np\n",
    "import matplotlib.pyplot as plt\n",
    "from sympy import *\n",
    "init_printing(use_unicode=True)\n",
    "from mpmath import mp\n",
    "from IPython.display import display"
   ]
  },
  {
   "cell_type": "code",
   "execution_count": 26,
   "metadata": {},
   "outputs": [],
   "source": [
    "x11, x12, x21, x22 = symbols('x11 x12 x21 x22')\n",
    "sigma = symbols('sigma')\n",
    "M = Matrix([[x11, x12], [x21, x22]])\n",
    "\n",
    "# Solve characteristic equation to find squares of singular values:\n",
    "sigma1sq, sigma2sq = solve(det(M*M.T - eye(2)*sigma), sigma)"
   ]
  },
  {
   "cell_type": "code",
   "execution_count": 27,
   "metadata": {},
   "outputs": [
    {
     "data": {
      "image/png": "[encoded data removed]",
      "text/latex": [
       "$$- \\left(x_{11} x_{21} + x_{12} x_{22}\\right)^{2} + \\left(- \\sigma + x_{11}^{2} + x_{12}^{2}\\right) \\left(- \\sigma + x_{21}^{2} + x_{22}^{2}\\right)$$"
      ],
      "text/plain": [
       "                     2   ⎛        2      2⎞ ⎛        2      2⎞\n",
       "- (x₁₁⋅x₂₁ + x₁₂⋅x₂₂)  + ⎝-σ + x₁₁  + x₁₂ ⎠⋅⎝-σ + x₂₁  + x₂₂ ⎠"
      ]
     },
     "execution_count": 27,
     "metadata": {},
     "output_type": "execute_result"
    }
   ],
   "source": [
    "# Characteristic equation:\n",
    "det(M*M.T - eye(2)*sigma)"
   ]
  },
  {
   "cell_type": "code",
   "execution_count": 99,
   "metadata": {},
   "outputs": [
    {
     "data": {
      "image/png": "[encoded data removed]",
      "text/latex": [
       "$$\\sqrt{\\frac{x_{11}^{2}}{2} + \\frac{x_{12}^{2}}{2} + \\frac{x_{21}^{2}}{2} + \\frac{x_{22}^{2}}{2} - \\frac{\\sqrt{\\left(x_{11}^{2} - 2 x_{11} x_{22} + x_{12}^{2} + 2 x_{12} x_{21} + x_{21}^{2} + x_{22}^{2}\\right) \\left(x_{11}^{2} + 2 x_{11} x_{22} + x_{12}^{2} - 2 x_{12} x_{21} + x_{21}^{2} + x_{22}^{2}\\right)}}{2}}$$"
      ],
      "text/plain": [
       "      ________________________________________________________________________\n",
       "     ╱                                ________________________________________\n",
       "    ╱     2      2      2      2     ╱ ⎛   2                  2               \n",
       "   ╱   x₁₁    x₁₂    x₂₁    x₂₂    ╲╱  ⎝x₁₁  - 2⋅x₁₁⋅x₂₂ + x₁₂  + 2⋅x₁₂⋅x₂₁ + \n",
       "  ╱    ──── + ──── + ──── + ──── - ───────────────────────────────────────────\n",
       "╲╱      2      2      2      2                                                \n",
       "\n",
       "__________________________________________________________________\n",
       "_________________________________________________________________ \n",
       "   2      2⎞ ⎛   2                  2                  2      2⎞  \n",
       "x₂₁  + x₂₂ ⎠⋅⎝x₁₁  + 2⋅x₁₁⋅x₂₂ + x₁₂  - 2⋅x₁₂⋅x₂₁ + x₂₁  + x₂₂ ⎠  \n",
       "───────────────────────────────────────────────────────────────── \n",
       "          2                                                       "
      ]
     },
     "execution_count": 99,
     "metadata": {},
     "output_type": "execute_result"
    }
   ],
   "source": [
    "sigma1 = sqrt(sigma1sq)\n",
    "sigma1"
   ]
  },
  {
   "cell_type": "code",
   "execution_count": 30,
   "metadata": {},
   "outputs": [
    {
     "data": {
      "image/png": "[encoded data removed]",
      "text/latex": [
       "$$\\sqrt{\\frac{x_{11}^{2}}{2} + \\frac{x_{12}^{2}}{2} + \\frac{x_{21}^{2}}{2} + \\frac{x_{22}^{2}}{2} + \\frac{\\sqrt{\\left(x_{11}^{2} - 2 x_{11} x_{22} + x_{12}^{2} + 2 x_{12} x_{21} + x_{21}^{2} + x_{22}^{2}\\right) \\left(x_{11}^{2} + 2 x_{11} x_{22} + x_{12}^{2} - 2 x_{12} x_{21} + x_{21}^{2} + x_{22}^{2}\\right)}}{2}}$$"
      ],
      "text/plain": [
       "      ________________________________________________________________________\n",
       "     ╱                                ________________________________________\n",
       "    ╱     2      2      2      2     ╱ ⎛   2                  2               \n",
       "   ╱   x₁₁    x₁₂    x₂₁    x₂₂    ╲╱  ⎝x₁₁  - 2⋅x₁₁⋅x₂₂ + x₁₂  + 2⋅x₁₂⋅x₂₁ + \n",
       "  ╱    ──── + ──── + ──── + ──── + ───────────────────────────────────────────\n",
       "╲╱      2      2      2      2                                                \n",
       "\n",
       "__________________________________________________________________\n",
       "_________________________________________________________________ \n",
       "   2      2⎞ ⎛   2                  2                  2      2⎞  \n",
       "x₂₁  + x₂₂ ⎠⋅⎝x₁₁  + 2⋅x₁₁⋅x₂₂ + x₁₂  - 2⋅x₁₂⋅x₂₁ + x₂₁  + x₂₂ ⎠  \n",
       "───────────────────────────────────────────────────────────────── \n",
       "          2                                                       "
      ]
     },
     "execution_count": 30,
     "metadata": {},
     "output_type": "execute_result"
    }
   ],
   "source": [
    "sigma2 = sqrt(sigma2sq)\n",
    "sigma2"
   ]
  },
  {
   "cell_type": "code",
   "execution_count": 31,
   "metadata": {},
   "outputs": [
    {
     "data": {
      "image/png": "[encoded data removed]",
      "text/latex": [
       "$$\\sqrt{\\frac{x_{11}^{2}}{2} + \\frac{x_{12}^{2}}{2} + \\frac{x_{21}^{2}}{2} + \\frac{x_{22}^{2}}{2} - \\frac{\\sqrt{\\left(x_{11}^{2} - 2 x_{11} x_{22} + x_{12}^{2} + 2 x_{12} x_{21} + x_{21}^{2} + x_{22}^{2}\\right) \\left(x_{11}^{2} + 2 x_{11} x_{22} + x_{12}^{2} - 2 x_{12} x_{21} + x_{21}^{2} + x_{22}^{2}\\right)}}{2}} + \\sqrt{\\frac{x_{11}^{2}}{2} + \\frac{x_{12}^{2}}{2} + \\frac{x_{21}^{2}}{2} + \\frac{x_{22}^{2}}{2} + \\frac{\\sqrt{\\left(x_{11}^{2} - 2 x_{11} x_{22} + x_{12}^{2} + 2 x_{12} x_{21} + x_{21}^{2} + x_{22}^{2}\\right) \\left(x_{11}^{2} + 2 x_{11} x_{22} + x_{12}^{2} - 2 x_{12} x_{21} + x_{21}^{2} + x_{22}^{2}\\right)}}{2}}$$"
      ],
      "text/plain": [
       "      ________________________________________________________________________\n",
       "     ╱                                ________________________________________\n",
       "    ╱     2      2      2      2     ╱ ⎛   2                  2               \n",
       "   ╱   x₁₁    x₁₂    x₂₁    x₂₂    ╲╱  ⎝x₁₁  - 2⋅x₁₁⋅x₂₂ + x₁₂  + 2⋅x₁₂⋅x₂₁ + \n",
       "  ╱    ──── + ──── + ──── + ──── - ───────────────────────────────────────────\n",
       "╲╱      2      2      2      2                                                \n",
       "\n",
       "__________________________________________________________________         ___\n",
       "_________________________________________________________________         ╱   \n",
       "   2      2⎞ ⎛   2                  2                  2      2⎞         ╱    \n",
       "x₂₁  + x₂₂ ⎠⋅⎝x₁₁  + 2⋅x₁₁⋅x₂₂ + x₁₂  - 2⋅x₁₂⋅x₂₁ + x₂₁  + x₂₂ ⎠        ╱   x₁\n",
       "─────────────────────────────────────────────────────────────────  +   ╱    ──\n",
       "          2                                                          ╲╱      2\n",
       "\n",
       "______________________________________________________________________________\n",
       "                             _________________________________________________\n",
       " 2      2      2      2     ╱ ⎛   2                  2                  2     \n",
       "₁    x₁₂    x₂₁    x₂₂    ╲╱  ⎝x₁₁  - 2⋅x₁₁⋅x₂₂ + x₁₂  + 2⋅x₁₂⋅x₂₁ + x₂₁  + x₂\n",
       "── + ──── + ──── + ──── + ────────────────────────────────────────────────────\n",
       "      2      2      2                                                         \n",
       "\n",
       "_________________________________________________________\n",
       "________________________________________________________ \n",
       " 2⎞ ⎛   2                  2                  2      2⎞  \n",
       "₂ ⎠⋅⎝x₁₁  + 2⋅x₁₁⋅x₂₂ + x₁₂  - 2⋅x₁₂⋅x₂₁ + x₂₁  + x₂₂ ⎠  \n",
       "──────────────────────────────────────────────────────── \n",
       " 2                                                       "
      ]
     },
     "execution_count": 31,
     "metadata": {},
     "output_type": "execute_result"
    }
   ],
   "source": [
    "nuc_norm = sigma1 + sigma2\n",
    "nuc_norm"
   ]
  },
  {
   "cell_type": "code",
   "execution_count": 63,
   "metadata": {},
   "outputs": [
    {
     "data": {
      "image/png": "[encoded data removed]",
      "text/latex": [
       "$$\\left[\\begin{matrix}\\mathrm{NaN}\\\\0\\\\0\\\\\\mathrm{NaN}\\end{matrix}\\right]$$"
      ],
      "text/plain": [
       "⎡nan⎤\n",
       "⎢   ⎥\n",
       "⎢ 0 ⎥\n",
       "⎢   ⎥\n",
       "⎢ 0 ⎥\n",
       "⎢   ⎥\n",
       "⎣nan⎦"
      ]
     },
     "execution_count": 63,
     "metadata": {},
     "output_type": "execute_result"
    }
   ],
   "source": [
    "# Exact evaluation of the gradient\n",
    "Matrix([nuc_norm.diff(x11),\n",
    "        nuc_norm.diff(x12),\n",
    "        nuc_norm.diff(x21),\n",
    "        nuc_norm.diff(x22)]).subs([(x11,1),(x12,0),(x21,0),(x22,0)])"
   ]
  },
  {
   "cell_type": "code",
   "execution_count": 64,
   "metadata": {},
   "outputs": [
    {
     "data": {
      "image/png": "[encoded data removed]",
      "text/latex": [
       "$$\\left[\\begin{matrix}1.00000001053671\\\\0\\\\0\\\\0.949062661261099\\end{matrix}\\right]$$"
      ],
      "text/plain": [
       "⎡1.00000001053671 ⎤\n",
       "⎢                 ⎥\n",
       "⎢        0        ⎥\n",
       "⎢                 ⎥\n",
       "⎢        0        ⎥\n",
       "⎢                 ⎥\n",
       "⎣0.949062661261099⎦"
      ]
     },
     "execution_count": 64,
     "metadata": {},
     "output_type": "execute_result"
    }
   ],
   "source": [
    "# Small perturbation\n",
    "Matrix([nuc_norm.diff(x11),\n",
    "        nuc_norm.diff(x12),\n",
    "        nuc_norm.diff(x21),\n",
    "        nuc_norm.diff(x22)]).subs([(x11,1),(x12,0),(x21,0),(x22,1e-8)])"
   ]
  },
  {
   "cell_type": "code",
   "execution_count": 65,
   "metadata": {},
   "outputs": [
    {
     "data": {
      "image/png": "[encoded data removed]",
      "text/latex": [
       "$$\\left[\\begin{matrix}\\mathrm{NaN} & 0 & 0 & \\mathrm{NaN}\\\\0 & \\mathrm{NaN} & \\mathrm{NaN} & 0\\\\0 & \\mathrm{NaN} & \\mathrm{NaN} & 0\\\\\\mathrm{NaN} & 0 & 0 & \\mathrm{NaN}\\end{matrix}\\right]$$"
      ],
      "text/plain": [
       "⎡nan   0    0   nan⎤\n",
       "⎢                  ⎥\n",
       "⎢ 0   nan  nan   0 ⎥\n",
       "⎢                  ⎥\n",
       "⎢ 0   nan  nan   0 ⎥\n",
       "⎢                  ⎥\n",
       "⎣nan   0    0   nan⎦"
      ]
     },
     "execution_count": 65,
     "metadata": {},
     "output_type": "execute_result"
    }
   ],
   "source": [
    "# Exact evaluation of hessian\n",
    "Matrix([[nuc_norm.diff(x11).diff(x11),nuc_norm.diff(x11).diff(x12),\n",
    "         nuc_norm.diff(x11).diff(x21),nuc_norm.diff(x11).diff(x22)],\n",
    "       [nuc_norm.diff(x12).diff(x11),nuc_norm.diff(x12).diff(x12),\n",
    "         nuc_norm.diff(x12).diff(x21),nuc_norm.diff(x12).diff(x22)],\n",
    "       [nuc_norm.diff(x21).diff(x11),nuc_norm.diff(x21).diff(x12),\n",
    "         nuc_norm.diff(x21).diff(x21),nuc_norm.diff(x21).diff(x22)],\n",
    "       [nuc_norm.diff(x22).diff(x11),nuc_norm.diff(x22).diff(x12),\n",
    "         nuc_norm.diff(x22).diff(x21),nuc_norm.diff(x22).diff(x22)]]).subs([(x11,1),(x12,0),(x21,0),(x22,0)])"
   ]
  },
  {
   "cell_type": "code",
   "execution_count": 66,
   "metadata": {},
   "outputs": [
    {
     "data": {
      "image/png": "[encoded data removed]",
      "text/latex": [
       "$$\\left[\\begin{matrix}1.05367123221787 \\cdot 10^{-8} & 0 & 0 & -0.949062655992743\\\\0 & 1.0 & -0.949062646242516 & 0\\\\0 & -0.949062646242516 & 1.0 & 0\\\\-0.949062671797812 & 0 & 0 & 9422300.22008294\\end{matrix}\\right]$$"
      ],
      "text/plain": [
       "⎡1.05367123221787e-8          0                   0           -0.9490626559927\n",
       "⎢                                                                             \n",
       "⎢         0                  1.0          -0.949062646242516          0       \n",
       "⎢                                                                             \n",
       "⎢         0           -0.949062646242516         1.0                  0       \n",
       "⎢                                                                             \n",
       "⎣-0.949062671797812           0                   0            9422300.2200829\n",
       "\n",
       "43⎤\n",
       "  ⎥\n",
       "  ⎥\n",
       "  ⎥\n",
       "  ⎥\n",
       "  ⎥\n",
       "4 ⎦"
      ]
     },
     "execution_count": 66,
     "metadata": {},
     "output_type": "execute_result"
    }
   ],
   "source": [
    "# Small perturbation\n",
    "Matrix([[nuc_norm.diff(x11).diff(x11),nuc_norm.diff(x11).diff(x12),\n",
    "         nuc_norm.diff(x11).diff(x21),nuc_norm.diff(x11).diff(x22)],\n",
    "       [nuc_norm.diff(x12).diff(x11),nuc_norm.diff(x12).diff(x12),\n",
    "         nuc_norm.diff(x12).diff(x21),nuc_norm.diff(x12).diff(x22)],\n",
    "       [nuc_norm.diff(x21).diff(x11),nuc_norm.diff(x21).diff(x12),\n",
    "         nuc_norm.diff(x21).diff(x21),nuc_norm.diff(x21).diff(x22)],\n",
    "       [nuc_norm.diff(x22).diff(x11),nuc_norm.diff(x22).diff(x12),\n",
    "         nuc_norm.diff(x22).diff(x21),nuc_norm.diff(x22).diff(x22)]]).subs([(x11,1),(x12,0),(x21,0),(x22,1e-8)])"
   ]
  },
  {
   "cell_type": "code",
   "execution_count": 69,
   "metadata": {},
   "outputs": [
    {
     "data": {
      "image/png": "[encoded data removed]",
      "text/latex": [
       "$$\\left[\\begin{matrix}4.44086866144615 \\cdot 10^{-11} & 0 & 0 & -1.11022180249094 \\cdot 10^{-6}\\\\0 & 0.999990000113464 & -0.99998968117421 & 0\\\\0 & -0.99998968117421 & 0.999990000113464 & 0\\\\-1.11021649147976 \\cdot 10^{-6} & 0 & 0 & 0.0637855744134868\\end{matrix}\\right]$$"
      ],
      "text/plain": [
       "⎡4.44086866144615e-11          0                  0          -1.11022180249094\n",
       "⎢                                                                             \n",
       "⎢         0            0.999990000113464  -0.99998968117421           0       \n",
       "⎢                                                                             \n",
       "⎢         0            -0.99998968117421  0.999990000113464           0       \n",
       "⎢                                                                             \n",
       "⎣-1.11021649147976e-6          0                  0           0.06378557441348\n",
       "\n",
       "e-6⎤\n",
       "   ⎥\n",
       "   ⎥\n",
       "   ⎥\n",
       "   ⎥\n",
       "   ⎥\n",
       "68 ⎦"
      ]
     },
     "execution_count": 69,
     "metadata": {},
     "output_type": "execute_result"
    }
   ],
   "source": [
    "# Small perturbation\n",
    "Matrix([[nuc_norm.diff(x11).diff(x11),nuc_norm.diff(x11).diff(x12),\n",
    "         nuc_norm.diff(x11).diff(x21),nuc_norm.diff(x11).diff(x22)],\n",
    "       [nuc_norm.diff(x12).diff(x11),nuc_norm.diff(x12).diff(x12),\n",
    "         nuc_norm.diff(x12).diff(x21),nuc_norm.diff(x12).diff(x22)],\n",
    "       [nuc_norm.diff(x21).diff(x11),nuc_norm.diff(x21).diff(x12),\n",
    "         nuc_norm.diff(x21).diff(x21),nuc_norm.diff(x21).diff(x22)],\n",
    "       [nuc_norm.diff(x22).diff(x11),nuc_norm.diff(x22).diff(x12),\n",
    "         nuc_norm.diff(x22).diff(x21),nuc_norm.diff(x22).diff(x22)]]).subs([(x11,1),(x12,0),(x21,0),(x22,1e-5)])"
   ]
  },
  {
   "cell_type": "code",
   "execution_count": 74,
   "metadata": {},
   "outputs": [],
   "source": [
    "# From above, it seems that a good approximation for hessian and gradients are:\n",
    "\n",
    "grad = Matrix([1,0,0,1])\n",
    "hessian = Matrix([\n",
    "    [0,0,0,0],\n",
    "    [0,1,-1,0],\n",
    "    [0,-1,1,0],\n",
    "    [0,0,0,0]])"
   ]
  },
  {
   "cell_type": "code",
   "execution_count": 73,
   "metadata": {},
   "outputs": [
    {
     "data": {
      "image/png": "[encoded data removed]",
      "text/latex": [
       "$$\\left[\\begin{matrix}1\\\\0\\\\0\\\\1\\end{matrix}\\right]$$"
      ],
      "text/plain": [
       "⎡1⎤\n",
       "⎢ ⎥\n",
       "⎢0⎥\n",
       "⎢ ⎥\n",
       "⎢0⎥\n",
       "⎢ ⎥\n",
       "⎣1⎦"
      ]
     },
     "execution_count": 73,
     "metadata": {},
     "output_type": "execute_result"
    }
   ],
   "source": [
    "grad"
   ]
  },
  {
   "cell_type": "code",
   "execution_count": 75,
   "metadata": {},
   "outputs": [
    {
     "data": {
      "image/png": "[encoded data removed]",
      "text/latex": [
       "$$\\left[\\begin{matrix}0 & 0 & 0 & 0\\\\0 & 1 & -1 & 0\\\\0 & -1 & 1 & 0\\\\0 & 0 & 0 & 0\\end{matrix}\\right]$$"
      ],
      "text/plain": [
       "⎡0  0   0   0⎤\n",
       "⎢            ⎥\n",
       "⎢0  1   -1  0⎥\n",
       "⎢            ⎥\n",
       "⎢0  -1  1   0⎥\n",
       "⎢            ⎥\n",
       "⎣0  0   0   0⎦"
      ]
     },
     "execution_count": 75,
     "metadata": {},
     "output_type": "execute_result"
    }
   ],
   "source": [
    "hessian"
   ]
  },
  {
   "cell_type": "code",
   "execution_count": 76,
   "metadata": {},
   "outputs": [],
   "source": [
    "dx11, dx12, dx21, dx22 = symbols('dx11 dx12 dx21 dx22')\n",
    "dM = Matrix([dx11, dx12, dx21, dx22])"
   ]
  },
  {
   "cell_type": "code",
   "execution_count": 77,
   "metadata": {},
   "outputs": [
    {
     "data": {
      "image/png": "[encoded data removed]",
      "text/latex": [
       "$$\\left[\\begin{matrix}dx_{11}\\\\dx_{12}\\\\dx_{21}\\\\dx_{22}\\end{matrix}\\right]$$"
      ],
      "text/plain": [
       "⎡dx₁₁⎤\n",
       "⎢    ⎥\n",
       "⎢dx₁₂⎥\n",
       "⎢    ⎥\n",
       "⎢dx₂₁⎥\n",
       "⎢    ⎥\n",
       "⎣dx₂₂⎦"
      ]
     },
     "execution_count": 77,
     "metadata": {},
     "output_type": "execute_result"
    }
   ],
   "source": [
    "dM"
   ]
  },
  {
   "cell_type": "code",
   "execution_count": 82,
   "metadata": {},
   "outputs": [
    {
     "data": {
      "image/png": "[encoded data removed]",
      "text/latex": [
       "$$\\left[\\begin{matrix}2 dx_{11} + dx_{12} \\left(dx_{12} - dx_{21}\\right) + dx_{21} \\left(- dx_{12} + dx_{21}\\right) + 2 dx_{22}\\end{matrix}\\right]$$"
      ],
      "text/plain": [
       "[2⋅dx₁₁ + dx₁₂⋅(dx₁₂ - dx₂₁) + dx₂₁⋅(-dx₁₂ + dx₂₁) + 2⋅dx₂₂]"
      ]
     },
     "execution_count": 82,
     "metadata": {},
     "output_type": "execute_result"
    }
   ],
   "source": [
    "# So, this is less then zero\n",
    "2*grad.T*dM + dM.T * hessian * dM"
   ]
  },
  {
   "cell_type": "markdown",
   "metadata": {},
   "source": [
    "## Only working with symmetric matrices"
   ]
  },
  {
   "cell_type": "code",
   "execution_count": 83,
   "metadata": {},
   "outputs": [
    {
     "data": {
      "image/png": "[encoded data removed]",
      "text/latex": [
       "$$- x_{12} x_{21} + \\left(- \\sigma + x_{11}\\right) \\left(- \\sigma + x_{22}\\right)$$"
      ],
      "text/plain": [
       "-x₁₂⋅x₂₁ + (-σ + x₁₁)⋅(-σ + x₂₂)"
      ]
     },
     "execution_count": 83,
     "metadata": {},
     "output_type": "execute_result"
    }
   ],
   "source": [
    "# Characteristic equation:\n",
    "det(M - eye(2)*sigma)"
   ]
  },
  {
   "cell_type": "code",
   "execution_count": 85,
   "metadata": {},
   "outputs": [],
   "source": [
    "sigma1, sigma2 = solve(det(M - eye(2)*sigma), sigma)"
   ]
  },
  {
   "cell_type": "code",
   "execution_count": 86,
   "metadata": {},
   "outputs": [
    {
     "data": {
      "image/png": "[encoded data removed]",
      "text/latex": [
       "$$\\frac{x_{11}}{2} + \\frac{x_{22}}{2} - \\frac{\\sqrt{x_{11}^{2} - 2 x_{11} x_{22} + 4 x_{12} x_{21} + x_{22}^{2}}}{2}$$"
      ],
      "text/plain": [
       "               _____________________________________\n",
       "              ╱    2                              2 \n",
       "x₁₁   x₂₂   ╲╱  x₁₁  - 2⋅x₁₁⋅x₂₂ + 4⋅x₁₂⋅x₂₁ + x₂₂  \n",
       "─── + ─── - ────────────────────────────────────────\n",
       " 2     2                       2                    "
      ]
     },
     "execution_count": 86,
     "metadata": {},
     "output_type": "execute_result"
    }
   ],
   "source": [
    "sigma1"
   ]
  },
  {
   "cell_type": "code",
   "execution_count": 87,
   "metadata": {},
   "outputs": [
    {
     "data": {
      "image/png": "[encoded data removed]",
      "text/latex": [
       "$$\\frac{x_{11}}{2} + \\frac{x_{22}}{2} + \\frac{\\sqrt{x_{11}^{2} - 2 x_{11} x_{22} + 4 x_{12} x_{21} + x_{22}^{2}}}{2}$$"
      ],
      "text/plain": [
       "               _____________________________________\n",
       "              ╱    2                              2 \n",
       "x₁₁   x₂₂   ╲╱  x₁₁  - 2⋅x₁₁⋅x₂₂ + 4⋅x₁₂⋅x₂₁ + x₂₂  \n",
       "─── + ─── + ────────────────────────────────────────\n",
       " 2     2                       2                    "
      ]
     },
     "execution_count": 87,
     "metadata": {},
     "output_type": "execute_result"
    }
   ],
   "source": [
    "sigma2"
   ]
  },
  {
   "cell_type": "code",
   "execution_count": 89,
   "metadata": {},
   "outputs": [
    {
     "data": {
      "image/png": "[encoded data removed]",
      "text/latex": [
       "$$x_{11} + x_{22}$$"
      ],
      "text/plain": [
       "x₁₁ + x₂₂"
      ]
     },
     "execution_count": 89,
     "metadata": {},
     "output_type": "execute_result"
    }
   ],
   "source": [
    "nuc_norm = sigma1 + sigma2\n",
    "nuc_norm"
   ]
  },
  {
   "cell_type": "markdown",
   "metadata": {},
   "source": [
    "## Going back"
   ]
  },
  {
   "cell_type": "code",
   "execution_count": 105,
   "metadata": {},
   "outputs": [
    {
     "data": {
      "image/png": "[encoded data removed]",
      "text/latex": [
       "$$\\left[\\begin{matrix}\\frac{\\frac{x_{11}}{2} - \\frac{\\sqrt{\\left(x_{11}^{2} - 2 x_{11} x_{22} + x_{12}^{2} + 2 x_{12} x_{21} + x_{21}^{2} + x_{22}^{2}\\right) \\left(x_{11}^{2} + 2 x_{11} x_{22} + x_{12}^{2} - 2 x_{12} x_{21} + x_{21}^{2} + x_{22}^{2}\\right)} \\left(\\frac{\\left(2 x_{11} - 2 x_{22}\\right) \\left(x_{11}^{2} + 2 x_{11} x_{22} + x_{12}^{2} - 2 x_{12} x_{21} + x_{21}^{2} + x_{22}^{2}\\right)}{2} + \\frac{\\left(2 x_{11} + 2 x_{22}\\right) \\left(x_{11}^{2} - 2 x_{11} x_{22} + x_{12}^{2} + 2 x_{12} x_{21} + x_{21}^{2} + x_{22}^{2}\\right)}{2}\\right)}{4 \\left(x_{11}^{2} - 2 x_{11} x_{22} + x_{12}^{2} + 2 x_{12} x_{21} + x_{21}^{2} + x_{22}^{2}\\right) \\left(x_{11}^{2} + 2 x_{11} x_{22} + x_{12}^{2} - 2 x_{12} x_{21} + x_{21}^{2} + x_{22}^{2}\\right)}}{\\sqrt{\\frac{x_{11}^{2}}{2} + \\frac{x_{12}^{2}}{2} + \\frac{x_{21}^{2}}{2} + \\frac{x_{22}^{2}}{2} - \\frac{\\sqrt{\\left(x_{11}^{2} - 2 x_{11} x_{22} + x_{12}^{2} + 2 x_{12} x_{21} + x_{21}^{2} + x_{22}^{2}\\right) \\left(x_{11}^{2} + 2 x_{11} x_{22} + x_{12}^{2} - 2 x_{12} x_{21} + x_{21}^{2} + x_{22}^{2}\\right)}}{2}}} + \\frac{\\frac{x_{11}}{2} + \\frac{\\sqrt{\\left(x_{11}^{2} - 2 x_{11} x_{22} + x_{12}^{2} + 2 x_{12} x_{21} + x_{21}^{2} + x_{22}^{2}\\right) \\left(x_{11}^{2} + 2 x_{11} x_{22} + x_{12}^{2} - 2 x_{12} x_{21} + x_{21}^{2} + x_{22}^{2}\\right)} \\left(\\frac{\\left(2 x_{11} - 2 x_{22}\\right) \\left(x_{11}^{2} + 2 x_{11} x_{22} + x_{12}^{2} - 2 x_{12} x_{21} + x_{21}^{2} + x_{22}^{2}\\right)}{2} + \\frac{\\left(2 x_{11} + 2 x_{22}\\right) \\left(x_{11}^{2} - 2 x_{11} x_{22} + x_{12}^{2} + 2 x_{12} x_{21} + x_{21}^{2} + x_{22}^{2}\\right)}{2}\\right)}{4 \\left(x_{11}^{2} - 2 x_{11} x_{22} + x_{12}^{2} + 2 x_{12} x_{21} + x_{21}^{2} + x_{22}^{2}\\right) \\left(x_{11}^{2} + 2 x_{11} x_{22} + x_{12}^{2} - 2 x_{12} x_{21} + x_{21}^{2} + x_{22}^{2}\\right)}}{\\sqrt{\\frac{x_{11}^{2}}{2} + \\frac{x_{12}^{2}}{2} + \\frac{x_{21}^{2}}{2} + \\frac{x_{22}^{2}}{2} + \\frac{\\sqrt{\\left(x_{11}^{2} - 2 x_{11} x_{22} + x_{12}^{2} + 2 x_{12} x_{21} + x_{21}^{2} + x_{22}^{2}\\right) \\left(x_{11}^{2} + 2 x_{11} x_{22} + x_{12}^{2} - 2 x_{12} x_{21} + x_{21}^{2} + x_{22}^{2}\\right)}}{2}}}\\\\\\frac{\\frac{x_{12}}{2} - \\frac{\\sqrt{\\left(x_{11}^{2} - 2 x_{11} x_{22} + x_{12}^{2} + 2 x_{12} x_{21} + x_{21}^{2} + x_{22}^{2}\\right) \\left(x_{11}^{2} + 2 x_{11} x_{22} + x_{12}^{2} - 2 x_{12} x_{21} + x_{21}^{2} + x_{22}^{2}\\right)} \\left(\\frac{\\left(2 x_{12} - 2 x_{21}\\right) \\left(x_{11}^{2} - 2 x_{11} x_{22} + x_{12}^{2} + 2 x_{12} x_{21} + x_{21}^{2} + x_{22}^{2}\\right)}{2} + \\frac{\\left(2 x_{12} + 2 x_{21}\\right) \\left(x_{11}^{2} + 2 x_{11} x_{22} + x_{12}^{2} - 2 x_{12} x_{21} + x_{21}^{2} + x_{22}^{2}\\right)}{2}\\right)}{4 \\left(x_{11}^{2} - 2 x_{11} x_{22} + x_{12}^{2} + 2 x_{12} x_{21} + x_{21}^{2} + x_{22}^{2}\\right) \\left(x_{11}^{2} + 2 x_{11} x_{22} + x_{12}^{2} - 2 x_{12} x_{21} + x_{21}^{2} + x_{22}^{2}\\right)}}{\\sqrt{\\frac{x_{11}^{2}}{2} + \\frac{x_{12}^{2}}{2} + \\frac{x_{21}^{2}}{2} + \\frac{x_{22}^{2}}{2} - \\frac{\\sqrt{\\left(x_{11}^{2} - 2 x_{11} x_{22} + x_{12}^{2} + 2 x_{12} x_{21} + x_{21}^{2} + x_{22}^{2}\\right) \\left(x_{11}^{2} + 2 x_{11} x_{22} + x_{12}^{2} - 2 x_{12} x_{21} + x_{21}^{2} + x_{22}^{2}\\right)}}{2}}} + \\frac{\\frac{x_{12}}{2} + \\frac{\\sqrt{\\left(x_{11}^{2} - 2 x_{11} x_{22} + x_{12}^{2} + 2 x_{12} x_{21} + x_{21}^{2} + x_{22}^{2}\\right) \\left(x_{11}^{2} + 2 x_{11} x_{22} + x_{12}^{2} - 2 x_{12} x_{21} + x_{21}^{2} + x_{22}^{2}\\right)} \\left(\\frac{\\left(2 x_{12} - 2 x_{21}\\right) \\left(x_{11}^{2} - 2 x_{11} x_{22} + x_{12}^{2} + 2 x_{12} x_{21} + x_{21}^{2} + x_{22}^{2}\\right)}{2} + \\frac{\\left(2 x_{12} + 2 x_{21}\\right) \\left(x_{11}^{2} + 2 x_{11} x_{22} + x_{12}^{2} - 2 x_{12} x_{21} + x_{21}^{2} + x_{22}^{2}\\right)}{2}\\right)}{4 \\left(x_{11}^{2} - 2 x_{11} x_{22} + x_{12}^{2} + 2 x_{12} x_{21} + x_{21}^{2} + x_{22}^{2}\\right) \\left(x_{11}^{2} + 2 x_{11} x_{22} + x_{12}^{2} - 2 x_{12} x_{21} + x_{21}^{2} + x_{22}^{2}\\right)}}{\\sqrt{\\frac{x_{11}^{2}}{2} + \\frac{x_{12}^{2}}{2} + \\frac{x_{21}^{2}}{2} + \\frac{x_{22}^{2}}{2} + \\frac{\\sqrt{\\left(x_{11}^{2} - 2 x_{11} x_{22} + x_{12}^{2} + 2 x_{12} x_{21} + x_{21}^{2} + x_{22}^{2}\\right) \\left(x_{11}^{2} + 2 x_{11} x_{22} + x_{12}^{2} - 2 x_{12} x_{21} + x_{21}^{2} + x_{22}^{2}\\right)}}{2}}}\\\\\\frac{\\frac{x_{21}}{2} - \\frac{\\sqrt{\\left(x_{11}^{2} - 2 x_{11} x_{22} + x_{12}^{2} + 2 x_{12} x_{21} + x_{21}^{2} + x_{22}^{2}\\right) \\left(x_{11}^{2} + 2 x_{11} x_{22} + x_{12}^{2} - 2 x_{12} x_{21} + x_{21}^{2} + x_{22}^{2}\\right)} \\left(\\frac{\\left(- 2 x_{12} + 2 x_{21}\\right) \\left(x_{11}^{2} - 2 x_{11} x_{22} + x_{12}^{2} + 2 x_{12} x_{21} + x_{21}^{2} + x_{22}^{2}\\right)}{2} + \\frac{\\left(2 x_{12} + 2 x_{21}\\right) \\left(x_{11}^{2} + 2 x_{11} x_{22} + x_{12}^{2} - 2 x_{12} x_{21} + x_{21}^{2} + x_{22}^{2}\\right)}{2}\\right)}{4 \\left(x_{11}^{2} - 2 x_{11} x_{22} + x_{12}^{2} + 2 x_{12} x_{21} + x_{21}^{2} + x_{22}^{2}\\right) \\left(x_{11}^{2} + 2 x_{11} x_{22} + x_{12}^{2} - 2 x_{12} x_{21} + x_{21}^{2} + x_{22}^{2}\\right)}}{\\sqrt{\\frac{x_{11}^{2}}{2} + \\frac{x_{12}^{2}}{2} + \\frac{x_{21}^{2}}{2} + \\frac{x_{22}^{2}}{2} - \\frac{\\sqrt{\\left(x_{11}^{2} - 2 x_{11} x_{22} + x_{12}^{2} + 2 x_{12} x_{21} + x_{21}^{2} + x_{22}^{2}\\right) \\left(x_{11}^{2} + 2 x_{11} x_{22} + x_{12}^{2} - 2 x_{12} x_{21} + x_{21}^{2} + x_{22}^{2}\\right)}}{2}}} + \\frac{\\frac{x_{21}}{2} + \\frac{\\sqrt{\\left(x_{11}^{2} - 2 x_{11} x_{22} + x_{12}^{2} + 2 x_{12} x_{21} + x_{21}^{2} + x_{22}^{2}\\right) \\left(x_{11}^{2} + 2 x_{11} x_{22} + x_{12}^{2} - 2 x_{12} x_{21} + x_{21}^{2} + x_{22}^{2}\\right)} \\left(\\frac{\\left(- 2 x_{12} + 2 x_{21}\\right) \\left(x_{11}^{2} - 2 x_{11} x_{22} + x_{12}^{2} + 2 x_{12} x_{21} + x_{21}^{2} + x_{22}^{2}\\right)}{2} + \\frac{\\left(2 x_{12} + 2 x_{21}\\right) \\left(x_{11}^{2} + 2 x_{11} x_{22} + x_{12}^{2} - 2 x_{12} x_{21} + x_{21}^{2} + x_{22}^{2}\\right)}{2}\\right)}{4 \\left(x_{11}^{2} - 2 x_{11} x_{22} + x_{12}^{2} + 2 x_{12} x_{21} + x_{21}^{2} + x_{22}^{2}\\right) \\left(x_{11}^{2} + 2 x_{11} x_{22} + x_{12}^{2} - 2 x_{12} x_{21} + x_{21}^{2} + x_{22}^{2}\\right)}}{\\sqrt{\\frac{x_{11}^{2}}{2} + \\frac{x_{12}^{2}}{2} + \\frac{x_{21}^{2}}{2} + \\frac{x_{22}^{2}}{2} + \\frac{\\sqrt{\\left(x_{11}^{2} - 2 x_{11} x_{22} + x_{12}^{2} + 2 x_{12} x_{21} + x_{21}^{2} + x_{22}^{2}\\right) \\left(x_{11}^{2} + 2 x_{11} x_{22} + x_{12}^{2} - 2 x_{12} x_{21} + x_{21}^{2} + x_{22}^{2}\\right)}}{2}}}\\\\\\frac{\\frac{x_{22}}{2} - \\frac{\\sqrt{\\left(x_{11}^{2} - 2 x_{11} x_{22} + x_{12}^{2} + 2 x_{12} x_{21} + x_{21}^{2} + x_{22}^{2}\\right) \\left(x_{11}^{2} + 2 x_{11} x_{22} + x_{12}^{2} - 2 x_{12} x_{21} + x_{21}^{2} + x_{22}^{2}\\right)} \\left(\\frac{\\left(- 2 x_{11} + 2 x_{22}\\right) \\left(x_{11}^{2} + 2 x_{11} x_{22} + x_{12}^{2} - 2 x_{12} x_{21} + x_{21}^{2} + x_{22}^{2}\\right)}{2} + \\frac{\\left(2 x_{11} + 2 x_{22}\\right) \\left(x_{11}^{2} - 2 x_{11} x_{22} + x_{12}^{2} + 2 x_{12} x_{21} + x_{21}^{2} + x_{22}^{2}\\right)}{2}\\right)}{4 \\left(x_{11}^{2} - 2 x_{11} x_{22} + x_{12}^{2} + 2 x_{12} x_{21} + x_{21}^{2} + x_{22}^{2}\\right) \\left(x_{11}^{2} + 2 x_{11} x_{22} + x_{12}^{2} - 2 x_{12} x_{21} + x_{21}^{2} + x_{22}^{2}\\right)}}{\\sqrt{\\frac{x_{11}^{2}}{2} + \\frac{x_{12}^{2}}{2} + \\frac{x_{21}^{2}}{2} + \\frac{x_{22}^{2}}{2} - \\frac{\\sqrt{\\left(x_{11}^{2} - 2 x_{11} x_{22} + x_{12}^{2} + 2 x_{12} x_{21} + x_{21}^{2} + x_{22}^{2}\\right) \\left(x_{11}^{2} + 2 x_{11} x_{22} + x_{12}^{2} - 2 x_{12} x_{21} + x_{21}^{2} + x_{22}^{2}\\right)}}{2}}} + \\frac{\\frac{x_{22}}{2} + \\frac{\\sqrt{\\left(x_{11}^{2} - 2 x_{11} x_{22} + x_{12}^{2} + 2 x_{12} x_{21} + x_{21}^{2} + x_{22}^{2}\\right) \\left(x_{11}^{2} + 2 x_{11} x_{22} + x_{12}^{2} - 2 x_{12} x_{21} + x_{21}^{2} + x_{22}^{2}\\right)} \\left(\\frac{\\left(- 2 x_{11} + 2 x_{22}\\right) \\left(x_{11}^{2} + 2 x_{11} x_{22} + x_{12}^{2} - 2 x_{12} x_{21} + x_{21}^{2} + x_{22}^{2}\\right)}{2} + \\frac{\\left(2 x_{11} + 2 x_{22}\\right) \\left(x_{11}^{2} - 2 x_{11} x_{22} + x_{12}^{2} + 2 x_{12} x_{21} + x_{21}^{2} + x_{22}^{2}\\right)}{2}\\right)}{4 \\left(x_{11}^{2} - 2 x_{11} x_{22} + x_{12}^{2} + 2 x_{12} x_{21} + x_{21}^{2} + x_{22}^{2}\\right) \\left(x_{11}^{2} + 2 x_{11} x_{22} + x_{12}^{2} - 2 x_{12} x_{21} + x_{21}^{2} + x_{22}^{2}\\right)}}{\\sqrt{\\frac{x_{11}^{2}}{2} + \\frac{x_{12}^{2}}{2} + \\frac{x_{21}^{2}}{2} + \\frac{x_{22}^{2}}{2} + \\frac{\\sqrt{\\left(x_{11}^{2} - 2 x_{11} x_{22} + x_{12}^{2} + 2 x_{12} x_{21} + x_{21}^{2} + x_{22}^{2}\\right) \\left(x_{11}^{2} + 2 x_{11} x_{22} + x_{12}^{2} - 2 x_{12} x_{21} + x_{21}^{2} + x_{22}^{2}\\right)}}{2}}}\\end{matrix}\\right]$$"
      ],
      "text/plain": [
       "⎡          ___________________________________________________________________\n",
       "⎢         ╱ ⎛   2                  2                  2      2⎞ ⎛   2         \n",
       "⎢       ╲╱  ⎝x₁₁  - 2⋅x₁₁⋅x₂₂ + x₁₂  + 2⋅x₁₂⋅x₂₁ + x₂₁  + x₂₂ ⎠⋅⎝x₁₁  + 2⋅x₁₁⋅\n",
       "⎢ x₁₁                                                                         \n",
       "⎢ ─── - ──────────────────────────────────────────────────────────────────────\n",
       "⎢  2                                                                          \n",
       "⎢                                                                             \n",
       "⎢ ────────────────────────────────────────────────────────────────────────────\n",
       "⎢                                                              _______________\n",
       "⎢                                                             ╱               \n",
       "⎢                                                            ╱     2      2   \n",
       "⎢                                                           ╱   x₁₁    x₁₂    \n",
       "⎢                                                          ╱    ──── + ──── + \n",
       "⎢                                                        ╲╱      2      2     \n",
       "⎢                                                                             \n",
       "⎢          ___________________________________________________________________\n",
       "⎢         ╱ ⎛   2                  2                  2      2⎞ ⎛   2         \n",
       "⎢       ╲╱  ⎝x₁₁  - 2⋅x₁₁⋅x₂₂ + x₁₂  + 2⋅x₁₂⋅x₂₁ + x₂₁  + x₂₂ ⎠⋅⎝x₁₁  + 2⋅x₁₁⋅\n",
       "⎢ x₁₂                                                                         \n",
       "⎢ ─── - ──────────────────────────────────────────────────────────────────────\n",
       "⎢  2                                                                          \n",
       "⎢                                                                             \n",
       "⎢ ────────────────────────────────────────────────────────────────────────────\n",
       "⎢                                                              _______________\n",
       "⎢                                                             ╱               \n",
       "⎢                                                            ╱     2      2   \n",
       "⎢                                                           ╱   x₁₁    x₁₂    \n",
       "⎢                                                          ╱    ──── + ──── + \n",
       "⎢                                                        ╲╱      2      2     \n",
       "⎢                                                                             \n",
       "⎢         ____________________________________________________________________\n",
       "⎢        ╱ ⎛   2                  2                  2      2⎞ ⎛   2          \n",
       "⎢      ╲╱  ⎝x₁₁  - 2⋅x₁₁⋅x₂₂ + x₁₂  + 2⋅x₁₂⋅x₂₁ + x₂₁  + x₂₂ ⎠⋅⎝x₁₁  + 2⋅x₁₁⋅x\n",
       "⎢x₂₁                                                                          \n",
       "⎢─── - ───────────────────────────────────────────────────────────────────────\n",
       "⎢ 2                                                                           \n",
       "⎢                                                                             \n",
       "⎢─────────────────────────────────────────────────────────────────────────────\n",
       "⎢                                                              _______________\n",
       "⎢                                                             ╱               \n",
       "⎢                                                            ╱     2      2   \n",
       "⎢                                                           ╱   x₁₁    x₁₂    \n",
       "⎢                                                          ╱    ──── + ──── + \n",
       "⎢                                                        ╲╱      2      2     \n",
       "⎢                                                                             \n",
       "⎢         ____________________________________________________________________\n",
       "⎢        ╱ ⎛   2                  2                  2      2⎞ ⎛   2          \n",
       "⎢      ╲╱  ⎝x₁₁  - 2⋅x₁₁⋅x₂₂ + x₁₂  + 2⋅x₁₂⋅x₂₁ + x₂₁  + x₂₂ ⎠⋅⎝x₁₁  + 2⋅x₁₁⋅x\n",
       "⎢x₂₂                                                                          \n",
       "⎢─── - ───────────────────────────────────────────────────────────────────────\n",
       "⎢ 2                                                                           \n",
       "⎢                                                                             \n",
       "⎢─────────────────────────────────────────────────────────────────────────────\n",
       "⎢                                                              _______________\n",
       "⎢                                                             ╱               \n",
       "⎢                                                            ╱     2      2   \n",
       "⎢                                                           ╱   x₁₁    x₁₂    \n",
       "⎢                                                          ╱    ──── + ──── + \n",
       "⎣                                                        ╲╱      2      2     \n",
       "\n",
       "______________________________________ ⎛                ⎛   2                 \n",
       "         2                  2      2⎞  ⎜(2⋅x₁₁ - 2⋅x₂₂)⋅⎝x₁₁  + 2⋅x₁₁⋅x₂₂ + x₁\n",
       "x₂₂ + x₁₂  - 2⋅x₁₂⋅x₂₁ + x₂₁  + x₂₂ ⎠ ⋅⎜──────────────────────────────────────\n",
       "                                       ⎝                                 2    \n",
       "──────────────────────────────────────────────────────────────────────────────\n",
       "   ⎛   2                  2                  2      2⎞ ⎛   2                  \n",
       " 4⋅⎝x₁₁  - 2⋅x₁₁⋅x₂₂ + x₁₂  + 2⋅x₁₂⋅x₂₁ + x₂₁  + x₂₂ ⎠⋅⎝x₁₁  + 2⋅x₁₁⋅x₂₂ + x₁₂\n",
       "──────────────────────────────────────────────────────────────────────────────\n",
       "______________________________________________________________________________\n",
       "                 _____________________________________________________________\n",
       "   2      2     ╱ ⎛   2                  2                  2      2⎞ ⎛   2   \n",
       "x₂₁    x₂₂    ╲╱  ⎝x₁₁  - 2⋅x₁₁⋅x₂₂ + x₁₂  + 2⋅x₁₂⋅x₂₁ + x₂₁  + x₂₂ ⎠⋅⎝x₁₁  + \n",
       "──── + ──── - ────────────────────────────────────────────────────────────────\n",
       " 2      2                                                          2          \n",
       "                                                                              \n",
       "______________________________________ ⎛                ⎛   2                 \n",
       "         2                  2      2⎞  ⎜(2⋅x₁₂ - 2⋅x₂₁)⋅⎝x₁₁  - 2⋅x₁₁⋅x₂₂ + x₁\n",
       "x₂₂ + x₁₂  - 2⋅x₁₂⋅x₂₁ + x₂₁  + x₂₂ ⎠ ⋅⎜──────────────────────────────────────\n",
       "                                       ⎝                                 2    \n",
       "──────────────────────────────────────────────────────────────────────────────\n",
       "   ⎛   2                  2                  2      2⎞ ⎛   2                  \n",
       " 4⋅⎝x₁₁  - 2⋅x₁₁⋅x₂₂ + x₁₂  + 2⋅x₁₂⋅x₂₁ + x₂₁  + x₂₂ ⎠⋅⎝x₁₁  + 2⋅x₁₁⋅x₂₂ + x₁₂\n",
       "──────────────────────────────────────────────────────────────────────────────\n",
       "______________________________________________________________________________\n",
       "                 _____________________________________________________________\n",
       "   2      2     ╱ ⎛   2                  2                  2      2⎞ ⎛   2   \n",
       "x₂₁    x₂₂    ╲╱  ⎝x₁₁  - 2⋅x₁₁⋅x₂₂ + x₁₂  + 2⋅x₁₂⋅x₂₁ + x₂₁  + x₂₂ ⎠⋅⎝x₁₁  + \n",
       "──── + ──── - ────────────────────────────────────────────────────────────────\n",
       " 2      2                                                          2          \n",
       "                                                                              \n",
       "_____________________________________ ⎛                 ⎛   2                 \n",
       "        2                  2      2⎞  ⎜(-2⋅x₁₂ + 2⋅x₂₁)⋅⎝x₁₁  - 2⋅x₁₁⋅x₂₂ + x₁\n",
       "₂₂ + x₁₂  - 2⋅x₁₂⋅x₂₁ + x₂₁  + x₂₂ ⎠ ⋅⎜───────────────────────────────────────\n",
       "                                      ⎝                                 2     \n",
       "──────────────────────────────────────────────────────────────────────────────\n",
       "   ⎛   2                  2                  2      2⎞ ⎛   2                  \n",
       " 4⋅⎝x₁₁  - 2⋅x₁₁⋅x₂₂ + x₁₂  + 2⋅x₁₂⋅x₂₁ + x₂₁  + x₂₂ ⎠⋅⎝x₁₁  + 2⋅x₁₁⋅x₂₂ + x₁₂\n",
       "──────────────────────────────────────────────────────────────────────────────\n",
       "______________________________________________________________________________\n",
       "                 _____________________________________________________________\n",
       "   2      2     ╱ ⎛   2                  2                  2      2⎞ ⎛   2   \n",
       "x₂₁    x₂₂    ╲╱  ⎝x₁₁  - 2⋅x₁₁⋅x₂₂ + x₁₂  + 2⋅x₁₂⋅x₂₁ + x₂₁  + x₂₂ ⎠⋅⎝x₁₁  + \n",
       "──── + ──── - ────────────────────────────────────────────────────────────────\n",
       " 2      2                                                          2          \n",
       "                                                                              \n",
       "_____________________________________ ⎛                 ⎛   2                 \n",
       "        2                  2      2⎞  ⎜(-2⋅x₁₁ + 2⋅x₂₂)⋅⎝x₁₁  + 2⋅x₁₁⋅x₂₂ + x₁\n",
       "₂₂ + x₁₂  - 2⋅x₁₂⋅x₂₁ + x₂₁  + x₂₂ ⎠ ⋅⎜───────────────────────────────────────\n",
       "                                      ⎝                                 2     \n",
       "──────────────────────────────────────────────────────────────────────────────\n",
       "   ⎛   2                  2                  2      2⎞ ⎛   2                  \n",
       " 4⋅⎝x₁₁  - 2⋅x₁₁⋅x₂₂ + x₁₂  + 2⋅x₁₂⋅x₂₁ + x₂₁  + x₂₂ ⎠⋅⎝x₁₁  + 2⋅x₁₁⋅x₂₂ + x₁₂\n",
       "──────────────────────────────────────────────────────────────────────────────\n",
       "______________________________________________________________________________\n",
       "                 _____________________________________________________________\n",
       "   2      2     ╱ ⎛   2                  2                  2      2⎞ ⎛   2   \n",
       "x₂₁    x₂₂    ╲╱  ⎝x₁₁  - 2⋅x₁₁⋅x₂₂ + x₁₂  + 2⋅x₁₂⋅x₂₁ + x₂₁  + x₂₂ ⎠⋅⎝x₁₁  + \n",
       "──── + ──── - ────────────────────────────────────────────────────────────────\n",
       " 2      2                                                          2          \n",
       "\n",
       " 2                  2      2⎞                   ⎛   2                  2      \n",
       "₂  - 2⋅x₁₂⋅x₂₁ + x₂₁  + x₂₂ ⎠   (2⋅x₁₁ + 2⋅x₂₂)⋅⎝x₁₁  - 2⋅x₁₁⋅x₂₂ + x₁₂  + 2⋅x\n",
       "───────────────────────────── + ──────────────────────────────────────────────\n",
       "                                                                 2            \n",
       "──────────────────────────────────────────────────────────────────────────────\n",
       "2                  2      2⎞                                                  \n",
       "  - 2⋅x₁₂⋅x₂₁ + x₂₁  + x₂₂ ⎠                                                  \n",
       "──────────────────────────────────────────────────────────────────────────────\n",
       "_____________________________________________                                 \n",
       "____________________________________________                                  \n",
       "               2                  2      2⎞                                   \n",
       "2⋅x₁₁⋅x₂₂ + x₁₂  - 2⋅x₁₂⋅x₂₁ + x₂₁  + x₂₂ ⎠                                   \n",
       "────────────────────────────────────────────                                  \n",
       "                                                                              \n",
       "                                                                              \n",
       " 2                  2      2⎞                   ⎛   2                  2      \n",
       "₂  + 2⋅x₁₂⋅x₂₁ + x₂₁  + x₂₂ ⎠   (2⋅x₁₂ + 2⋅x₂₁)⋅⎝x₁₁  + 2⋅x₁₁⋅x₂₂ + x₁₂  - 2⋅x\n",
       "───────────────────────────── + ──────────────────────────────────────────────\n",
       "                                                                 2            \n",
       "──────────────────────────────────────────────────────────────────────────────\n",
       "2                  2      2⎞                                                  \n",
       "  - 2⋅x₁₂⋅x₂₁ + x₂₁  + x₂₂ ⎠                                                  \n",
       "──────────────────────────────────────────────────────────────────────────────\n",
       "_____________________________________________                                 \n",
       "____________________________________________                                  \n",
       "               2                  2      2⎞                                   \n",
       "2⋅x₁₁⋅x₂₂ + x₁₂  - 2⋅x₁₂⋅x₂₁ + x₂₁  + x₂₂ ⎠                                   \n",
       "────────────────────────────────────────────                                  \n",
       "                                                                              \n",
       "                                                                              \n",
       " 2                  2      2⎞                   ⎛   2                  2      \n",
       "₂  + 2⋅x₁₂⋅x₂₁ + x₂₁  + x₂₂ ⎠   (2⋅x₁₂ + 2⋅x₂₁)⋅⎝x₁₁  + 2⋅x₁₁⋅x₂₂ + x₁₂  - 2⋅x\n",
       "───────────────────────────── + ──────────────────────────────────────────────\n",
       "                                                                 2            \n",
       "──────────────────────────────────────────────────────────────────────────────\n",
       "2                  2      2⎞                                                  \n",
       "  - 2⋅x₁₂⋅x₂₁ + x₂₁  + x₂₂ ⎠                                                  \n",
       "──────────────────────────────────────────────────────────────────────────────\n",
       "_____________________________________________                                 \n",
       "____________________________________________                                  \n",
       "               2                  2      2⎞                                   \n",
       "2⋅x₁₁⋅x₂₂ + x₁₂  - 2⋅x₁₂⋅x₂₁ + x₂₁  + x₂₂ ⎠                                   \n",
       "────────────────────────────────────────────                                  \n",
       "                                                                              \n",
       "                                                                              \n",
       " 2                  2      2⎞                   ⎛   2                  2      \n",
       "₂  - 2⋅x₁₂⋅x₂₁ + x₂₁  + x₂₂ ⎠   (2⋅x₁₁ + 2⋅x₂₂)⋅⎝x₁₁  - 2⋅x₁₁⋅x₂₂ + x₁₂  + 2⋅x\n",
       "───────────────────────────── + ──────────────────────────────────────────────\n",
       "                                                                 2            \n",
       "──────────────────────────────────────────────────────────────────────────────\n",
       "2                  2      2⎞                                                  \n",
       "  - 2⋅x₁₂⋅x₂₁ + x₂₁  + x₂₂ ⎠                                                  \n",
       "──────────────────────────────────────────────────────────────────────────────\n",
       "_____________________________________________                                 \n",
       "____________________________________________                                  \n",
       "               2                  2      2⎞                                   \n",
       "2⋅x₁₁⋅x₂₂ + x₁₂  - 2⋅x₁₂⋅x₂₁ + x₂₁  + x₂₂ ⎠                                   \n",
       "────────────────────────────────────────────                                  \n",
       "                                                                              \n",
       "\n",
       "            2      2⎞⎞            ____________________________________________\n",
       "₁₂⋅x₂₁ + x₂₁  + x₂₂ ⎠⎟           ╱ ⎛   2                  2                  2\n",
       "─────────────────────⎟         ╲╱  ⎝x₁₁  - 2⋅x₁₁⋅x₂₂ + x₁₂  + 2⋅x₁₂⋅x₂₁ + x₂₁ \n",
       "                     ⎠   x₁₁                                                  \n",
       "──────────────────────   ─── + ───────────────────────────────────────────────\n",
       "                          2                                                   \n",
       "                                                                              \n",
       "────────────────────── + ─────────────────────────────────────────────────────\n",
       "                                                                              \n",
       "                                                                              \n",
       "                                                                              \n",
       "                                                                              \n",
       "                                                                              \n",
       "                                                                              \n",
       "                                                                              \n",
       "            2      2⎞⎞            ____________________________________________\n",
       "₁₂⋅x₂₁ + x₂₁  + x₂₂ ⎠⎟           ╱ ⎛   2                  2                  2\n",
       "─────────────────────⎟         ╲╱  ⎝x₁₁  - 2⋅x₁₁⋅x₂₂ + x₁₂  + 2⋅x₁₂⋅x₂₁ + x₂₁ \n",
       "                     ⎠   x₁₂                                                  \n",
       "──────────────────────   ─── + ───────────────────────────────────────────────\n",
       "                          2                                                   \n",
       "                                                                              \n",
       "────────────────────── + ─────────────────────────────────────────────────────\n",
       "                                                                              \n",
       "                                                                              \n",
       "                                                                              \n",
       "                                                                              \n",
       "                                                                              \n",
       "                                                                              \n",
       "                                                                              \n",
       "            2      2⎞⎞            ____________________________________________\n",
       "₁₂⋅x₂₁ + x₂₁  + x₂₂ ⎠⎟           ╱ ⎛   2                  2                  2\n",
       "─────────────────────⎟         ╲╱  ⎝x₁₁  - 2⋅x₁₁⋅x₂₂ + x₁₂  + 2⋅x₁₂⋅x₂₁ + x₂₁ \n",
       "                     ⎠   x₂₁                                                  \n",
       "──────────────────────   ─── + ───────────────────────────────────────────────\n",
       "                          2                                                   \n",
       "                                                                              \n",
       "────────────────────── + ─────────────────────────────────────────────────────\n",
       "                                                                              \n",
       "                                                                              \n",
       "                                                                              \n",
       "                                                                              \n",
       "                                                                              \n",
       "                                                                              \n",
       "                                                                              \n",
       "            2      2⎞⎞            ____________________________________________\n",
       "₁₂⋅x₂₁ + x₂₁  + x₂₂ ⎠⎟           ╱ ⎛   2                  2                  2\n",
       "─────────────────────⎟         ╲╱  ⎝x₁₁  - 2⋅x₁₁⋅x₂₂ + x₁₂  + 2⋅x₁₂⋅x₂₁ + x₂₁ \n",
       "                     ⎠   x₂₂                                                  \n",
       "──────────────────────   ─── + ───────────────────────────────────────────────\n",
       "                          2                                                   \n",
       "                                                                              \n",
       "────────────────────── + ─────────────────────────────────────────────────────\n",
       "                                                                              \n",
       "                                                                              \n",
       "                                                                              \n",
       "                                                                              \n",
       "                                                                              \n",
       "                                                                              \n",
       "\n",
       "_____________________________________________________________ ⎛               \n",
       "      2⎞ ⎛   2                  2                  2      2⎞  ⎜(2⋅x₁₁ - 2⋅x₂₂)\n",
       " + x₂₂ ⎠⋅⎝x₁₁  + 2⋅x₁₁⋅x₂₂ + x₁₂  - 2⋅x₁₂⋅x₂₁ + x₂₁  + x₂₂ ⎠ ⋅⎜───────────────\n",
       "                                                              ⎝               \n",
       "──────────────────────────────────────────────────────────────────────────────\n",
       "                          ⎛   2                  2                  2      2⎞ \n",
       "                        4⋅⎝x₁₁  - 2⋅x₁₁⋅x₂₂ + x₁₂  + 2⋅x₁₂⋅x₂₁ + x₂₁  + x₂₂ ⎠⋅\n",
       "──────────────────────────────────────────────────────────────────────────────\n",
       "        ______________________________________________________________________\n",
       "       ╱                                ______________________________________\n",
       "      ╱     2      2      2      2     ╱ ⎛   2                  2             \n",
       "     ╱   x₁₁    x₁₂    x₂₁    x₂₂    ╲╱  ⎝x₁₁  - 2⋅x₁₁⋅x₂₂ + x₁₂  + 2⋅x₁₂⋅x₂₁ \n",
       "    ╱    ──── + ──── + ──── + ──── + ─────────────────────────────────────────\n",
       "  ╲╱      2      2      2      2                                              \n",
       "                                                                              \n",
       "_____________________________________________________________ ⎛               \n",
       "      2⎞ ⎛   2                  2                  2      2⎞  ⎜(2⋅x₁₂ - 2⋅x₂₁)\n",
       " + x₂₂ ⎠⋅⎝x₁₁  + 2⋅x₁₁⋅x₂₂ + x₁₂  - 2⋅x₁₂⋅x₂₁ + x₂₁  + x₂₂ ⎠ ⋅⎜───────────────\n",
       "                                                              ⎝               \n",
       "──────────────────────────────────────────────────────────────────────────────\n",
       "                          ⎛   2                  2                  2      2⎞ \n",
       "                        4⋅⎝x₁₁  - 2⋅x₁₁⋅x₂₂ + x₁₂  + 2⋅x₁₂⋅x₂₁ + x₂₁  + x₂₂ ⎠⋅\n",
       "──────────────────────────────────────────────────────────────────────────────\n",
       "        ______________________________________________________________________\n",
       "       ╱                                ______________________________________\n",
       "      ╱     2      2      2      2     ╱ ⎛   2                  2             \n",
       "     ╱   x₁₁    x₁₂    x₂₁    x₂₂    ╲╱  ⎝x₁₁  - 2⋅x₁₁⋅x₂₂ + x₁₂  + 2⋅x₁₂⋅x₂₁ \n",
       "    ╱    ──── + ──── + ──── + ──── + ─────────────────────────────────────────\n",
       "  ╲╱      2      2      2      2                                              \n",
       "                                                                              \n",
       "_____________________________________________________________ ⎛               \n",
       "      2⎞ ⎛   2                  2                  2      2⎞  ⎜(-2⋅x₁₂ + 2⋅x₂₁\n",
       " + x₂₂ ⎠⋅⎝x₁₁  + 2⋅x₁₁⋅x₂₂ + x₁₂  - 2⋅x₁₂⋅x₂₁ + x₂₁  + x₂₂ ⎠ ⋅⎜───────────────\n",
       "                                                              ⎝               \n",
       "──────────────────────────────────────────────────────────────────────────────\n",
       "                           ⎛   2                  2                  2      2⎞\n",
       "                         4⋅⎝x₁₁  - 2⋅x₁₁⋅x₂₂ + x₁₂  + 2⋅x₁₂⋅x₂₁ + x₂₁  + x₂₂ ⎠\n",
       "──────────────────────────────────────────────────────────────────────────────\n",
       "         _____________________________________________________________________\n",
       "        ╱                                _____________________________________\n",
       "       ╱     2      2      2      2     ╱ ⎛   2                  2            \n",
       "      ╱   x₁₁    x₁₂    x₂₁    x₂₂    ╲╱  ⎝x₁₁  - 2⋅x₁₁⋅x₂₂ + x₁₂  + 2⋅x₁₂⋅x₂₁\n",
       "     ╱    ──── + ──── + ──── + ──── + ────────────────────────────────────────\n",
       "   ╲╱      2      2      2      2                                             \n",
       "                                                                              \n",
       "_____________________________________________________________ ⎛               \n",
       "      2⎞ ⎛   2                  2                  2      2⎞  ⎜(-2⋅x₁₁ + 2⋅x₂₂\n",
       " + x₂₂ ⎠⋅⎝x₁₁  + 2⋅x₁₁⋅x₂₂ + x₁₂  - 2⋅x₁₂⋅x₂₁ + x₂₁  + x₂₂ ⎠ ⋅⎜───────────────\n",
       "                                                              ⎝               \n",
       "──────────────────────────────────────────────────────────────────────────────\n",
       "                           ⎛   2                  2                  2      2⎞\n",
       "                         4⋅⎝x₁₁  - 2⋅x₁₁⋅x₂₂ + x₁₂  + 2⋅x₁₂⋅x₂₁ + x₂₁  + x₂₂ ⎠\n",
       "──────────────────────────────────────────────────────────────────────────────\n",
       "         _____________________________________________________________________\n",
       "        ╱                                _____________________________________\n",
       "       ╱     2      2      2      2     ╱ ⎛   2                  2            \n",
       "      ╱   x₁₁    x₁₂    x₂₁    x₂₂    ╲╱  ⎝x₁₁  - 2⋅x₁₁⋅x₂₂ + x₁₂  + 2⋅x₁₂⋅x₂₁\n",
       "     ╱    ──── + ──── + ──── + ──── + ────────────────────────────────────────\n",
       "   ╲╱      2      2      2      2                                             \n",
       "\n",
       " ⎛   2                  2                  2      2⎞                   ⎛   2  \n",
       "⋅⎝x₁₁  + 2⋅x₁₁⋅x₂₂ + x₁₂  - 2⋅x₁₂⋅x₂₁ + x₂₁  + x₂₂ ⎠   (2⋅x₁₁ + 2⋅x₂₂)⋅⎝x₁₁  -\n",
       "──────────────────────────────────────────────────── + ───────────────────────\n",
       "                  2                                                           \n",
       "──────────────────────────────────────────────────────────────────────────────\n",
       "⎛   2                  2                  2      2⎞                           \n",
       "⎝x₁₁  + 2⋅x₁₁⋅x₂₂ + x₁₂  - 2⋅x₁₂⋅x₂₁ + x₂₁  + x₂₂ ⎠                           \n",
       "──────────────────────────────────────────────────────────────────────────────\n",
       "____________________________________________________________________          \n",
       "___________________________________________________________________           \n",
       "     2      2⎞ ⎛   2                  2                  2      2⎞            \n",
       "+ x₂₁  + x₂₂ ⎠⋅⎝x₁₁  + 2⋅x₁₁⋅x₂₂ + x₁₂  - 2⋅x₁₂⋅x₂₁ + x₂₁  + x₂₂ ⎠            \n",
       "───────────────────────────────────────────────────────────────────           \n",
       "            2                                                                 \n",
       "                                                                              \n",
       " ⎛   2                  2                  2      2⎞                   ⎛   2  \n",
       "⋅⎝x₁₁  - 2⋅x₁₁⋅x₂₂ + x₁₂  + 2⋅x₁₂⋅x₂₁ + x₂₁  + x₂₂ ⎠   (2⋅x₁₂ + 2⋅x₂₁)⋅⎝x₁₁  +\n",
       "──────────────────────────────────────────────────── + ───────────────────────\n",
       "                  2                                                           \n",
       "──────────────────────────────────────────────────────────────────────────────\n",
       "⎛   2                  2                  2      2⎞                           \n",
       "⎝x₁₁  + 2⋅x₁₁⋅x₂₂ + x₁₂  - 2⋅x₁₂⋅x₂₁ + x₂₁  + x₂₂ ⎠                           \n",
       "──────────────────────────────────────────────────────────────────────────────\n",
       "____________________________________________________________________          \n",
       "___________________________________________________________________           \n",
       "     2      2⎞ ⎛   2                  2                  2      2⎞            \n",
       "+ x₂₁  + x₂₂ ⎠⋅⎝x₁₁  + 2⋅x₁₁⋅x₂₂ + x₁₂  - 2⋅x₁₂⋅x₂₁ + x₂₁  + x₂₂ ⎠            \n",
       "───────────────────────────────────────────────────────────────────           \n",
       "            2                                                                 \n",
       "                                                                              \n",
       "  ⎛   2                  2                  2      2⎞                   ⎛   2 \n",
       ")⋅⎝x₁₁  - 2⋅x₁₁⋅x₂₂ + x₁₂  + 2⋅x₁₂⋅x₂₁ + x₂₁  + x₂₂ ⎠   (2⋅x₁₂ + 2⋅x₂₁)⋅⎝x₁₁  \n",
       "───────────────────────────────────────────────────── + ──────────────────────\n",
       "                  2                                                           \n",
       "──────────────────────────────────────────────────────────────────────────────\n",
       " ⎛   2                  2                  2      2⎞                          \n",
       "⋅⎝x₁₁  + 2⋅x₁₁⋅x₂₂ + x₁₂  - 2⋅x₁₂⋅x₂₁ + x₂₁  + x₂₂ ⎠                          \n",
       "──────────────────────────────────────────────────────────────────────────────\n",
       "_____________________________________________________________________         \n",
       "____________________________________________________________________          \n",
       "      2      2⎞ ⎛   2                  2                  2      2⎞           \n",
       " + x₂₁  + x₂₂ ⎠⋅⎝x₁₁  + 2⋅x₁₁⋅x₂₂ + x₁₂  - 2⋅x₁₂⋅x₂₁ + x₂₁  + x₂₂ ⎠           \n",
       "────────────────────────────────────────────────────────────────────          \n",
       "             2                                                                \n",
       "                                                                              \n",
       "  ⎛   2                  2                  2      2⎞                   ⎛   2 \n",
       ")⋅⎝x₁₁  + 2⋅x₁₁⋅x₂₂ + x₁₂  - 2⋅x₁₂⋅x₂₁ + x₂₁  + x₂₂ ⎠   (2⋅x₁₁ + 2⋅x₂₂)⋅⎝x₁₁  \n",
       "───────────────────────────────────────────────────── + ──────────────────────\n",
       "                  2                                                           \n",
       "──────────────────────────────────────────────────────────────────────────────\n",
       " ⎛   2                  2                  2      2⎞                          \n",
       "⋅⎝x₁₁  + 2⋅x₁₁⋅x₂₂ + x₁₂  - 2⋅x₁₂⋅x₂₁ + x₂₁  + x₂₂ ⎠                          \n",
       "──────────────────────────────────────────────────────────────────────────────\n",
       "_____________________________________________________________________         \n",
       "____________________________________________________________________          \n",
       "      2      2⎞ ⎛   2                  2                  2      2⎞           \n",
       " + x₂₁  + x₂₂ ⎠⋅⎝x₁₁  + 2⋅x₁₁⋅x₂₂ + x₁₂  - 2⋅x₁₂⋅x₂₁ + x₂₁  + x₂₂ ⎠           \n",
       "────────────────────────────────────────────────────────────────────          \n",
       "             2                                                                \n",
       "\n",
       "                2                  2      2⎞⎞ ⎤\n",
       " 2⋅x₁₁⋅x₂₂ + x₁₂  + 2⋅x₁₂⋅x₂₁ + x₂₁  + x₂₂ ⎠⎟ ⎥\n",
       "────────────────────────────────────────────⎟ ⎥\n",
       "          2                                 ⎠ ⎥\n",
       "───────────────────────────────────────────── ⎥\n",
       "                                              ⎥\n",
       "                                              ⎥\n",
       "───────────────────────────────────────────── ⎥\n",
       "                                              ⎥\n",
       "                                              ⎥\n",
       "                                              ⎥\n",
       "                                              ⎥\n",
       "                                              ⎥\n",
       "                                              ⎥\n",
       "                                              ⎥\n",
       "                2                  2      2⎞⎞ ⎥\n",
       " 2⋅x₁₁⋅x₂₂ + x₁₂  - 2⋅x₁₂⋅x₂₁ + x₂₁  + x₂₂ ⎠⎟ ⎥\n",
       "────────────────────────────────────────────⎟ ⎥\n",
       "          2                                 ⎠ ⎥\n",
       "───────────────────────────────────────────── ⎥\n",
       "                                              ⎥\n",
       "                                              ⎥\n",
       "───────────────────────────────────────────── ⎥\n",
       "                                              ⎥\n",
       "                                              ⎥\n",
       "                                              ⎥\n",
       "                                              ⎥\n",
       "                                              ⎥\n",
       "                                              ⎥\n",
       "                                              ⎥\n",
       "                 2                  2      2⎞⎞⎥\n",
       "+ 2⋅x₁₁⋅x₂₂ + x₁₂  - 2⋅x₁₂⋅x₂₁ + x₂₁  + x₂₂ ⎠⎟⎥\n",
       "─────────────────────────────────────────────⎟⎥\n",
       "           2                                 ⎠⎥\n",
       "──────────────────────────────────────────────⎥\n",
       "                                              ⎥\n",
       "                                              ⎥\n",
       "──────────────────────────────────────────────⎥\n",
       "                                              ⎥\n",
       "                                              ⎥\n",
       "                                              ⎥\n",
       "                                              ⎥\n",
       "                                              ⎥\n",
       "                                              ⎥\n",
       "                                              ⎥\n",
       "                 2                  2      2⎞⎞⎥\n",
       "- 2⋅x₁₁⋅x₂₂ + x₁₂  + 2⋅x₁₂⋅x₂₁ + x₂₁  + x₂₂ ⎠⎟⎥\n",
       "─────────────────────────────────────────────⎟⎥\n",
       "           2                                 ⎠⎥\n",
       "──────────────────────────────────────────────⎥\n",
       "                                              ⎥\n",
       "                                              ⎥\n",
       "──────────────────────────────────────────────⎥\n",
       "                                              ⎥\n",
       "                                              ⎥\n",
       "                                              ⎥\n",
       "                                              ⎥\n",
       "                                              ⎥\n",
       "                                              ⎦"
      ]
     },
     "execution_count": 105,
     "metadata": {},
     "output_type": "execute_result"
    }
   ],
   "source": [
    "# Exact evaluation of the gradient\n",
    "Matrix([nuc_norm.diff(x11),\n",
    "        nuc_norm.diff(x12),\n",
    "        nuc_norm.diff(x21),\n",
    "        nuc_norm.diff(x22)])"
   ]
  },
  {
   "cell_type": "code",
   "execution_count": 103,
   "metadata": {},
   "outputs": [
    {
     "data": {
      "image/png": "[encoded data removed]",
      "text/latex": [
       "$$\\left[\\begin{matrix}\\frac{- \\frac{\\sqrt{\\left(x_{22}^{2} - 2 x_{22} + 1\\right) \\left(x_{22}^{2} + 2 x_{22} + 1\\right)} \\left(\\frac{\\left(- 2 x_{22} + 2\\right) \\left(x_{22}^{2} + 2 x_{22} + 1\\right)}{2} + \\frac{\\left(2 x_{22} + 2\\right) \\left(x_{22}^{2} - 2 x_{22} + 1\\right)}{2}\\right)}{4 \\left(x_{22}^{2} - 2 x_{22} + 1\\right) \\left(x_{22}^{2} + 2 x_{22} + 1\\right)} + \\frac{1}{2}}{\\sqrt{\\frac{x_{22}^{2}}{2} - \\frac{\\sqrt{\\left(x_{22}^{2} - 2 x_{22} + 1\\right) \\left(x_{22}^{2} + 2 x_{22} + 1\\right)}}{2} + \\frac{1}{2}}} + \\frac{\\frac{\\sqrt{\\left(x_{22}^{2} - 2 x_{22} + 1\\right) \\left(x_{22}^{2} + 2 x_{22} + 1\\right)} \\left(\\frac{\\left(- 2 x_{22} + 2\\right) \\left(x_{22}^{2} + 2 x_{22} + 1\\right)}{2} + \\frac{\\left(2 x_{22} + 2\\right) \\left(x_{22}^{2} - 2 x_{22} + 1\\right)}{2}\\right)}{4 \\left(x_{22}^{2} - 2 x_{22} + 1\\right) \\left(x_{22}^{2} + 2 x_{22} + 1\\right)} + \\frac{1}{2}}{\\sqrt{\\frac{x_{22}^{2}}{2} + \\frac{\\sqrt{\\left(x_{22}^{2} - 2 x_{22} + 1\\right) \\left(x_{22}^{2} + 2 x_{22} + 1\\right)}}{2} + \\frac{1}{2}}}\\\\0\\\\0\\\\\\frac{\\frac{x_{22}}{2} - \\frac{\\sqrt{\\left(x_{22}^{2} - 2 x_{22} + 1\\right) \\left(x_{22}^{2} + 2 x_{22} + 1\\right)} \\left(\\frac{\\left(2 x_{22} - 2\\right) \\left(x_{22}^{2} + 2 x_{22} + 1\\right)}{2} + \\frac{\\left(2 x_{22} + 2\\right) \\left(x_{22}^{2} - 2 x_{22} + 1\\right)}{2}\\right)}{4 \\left(x_{22}^{2} - 2 x_{22} + 1\\right) \\left(x_{22}^{2} + 2 x_{22} + 1\\right)}}{\\sqrt{\\frac{x_{22}^{2}}{2} - \\frac{\\sqrt{\\left(x_{22}^{2} - 2 x_{22} + 1\\right) \\left(x_{22}^{2} + 2 x_{22} + 1\\right)}}{2} + \\frac{1}{2}}} + \\frac{\\frac{x_{22}}{2} + \\frac{\\sqrt{\\left(x_{22}^{2} - 2 x_{22} + 1\\right) \\left(x_{22}^{2} + 2 x_{22} + 1\\right)} \\left(\\frac{\\left(2 x_{22} - 2\\right) \\left(x_{22}^{2} + 2 x_{22} + 1\\right)}{2} + \\frac{\\left(2 x_{22} + 2\\right) \\left(x_{22}^{2} - 2 x_{22} + 1\\right)}{2}\\right)}{4 \\left(x_{22}^{2} - 2 x_{22} + 1\\right) \\left(x_{22}^{2} + 2 x_{22} + 1\\right)}}{\\sqrt{\\frac{x_{22}^{2}}{2} + \\frac{\\sqrt{\\left(x_{22}^{2} - 2 x_{22} + 1\\right) \\left(x_{22}^{2} + 2 x_{22} + 1\\right)}}{2} + \\frac{1}{2}}}\\end{matrix}\\right]$$"
      ],
      "text/plain": [
       "⎡     _______________________________________ ⎛             ⎛   2            ⎞\n",
       "⎢    ╱ ⎛   2            ⎞ ⎛   2            ⎞  ⎜(-2⋅x₂₂ + 2)⋅⎝x₂₂  + 2⋅x₂₂ + 1⎠\n",
       "⎢  ╲╱  ⎝x₂₂  - 2⋅x₂₂ + 1⎠⋅⎝x₂₂  + 2⋅x₂₂ + 1⎠ ⋅⎜───────────────────────────────\n",
       "⎢                                             ⎝               2               \n",
       "⎢- ───────────────────────────────────────────────────────────────────────────\n",
       "⎢                                       ⎛   2            ⎞ ⎛   2            ⎞ \n",
       "⎢                                     4⋅⎝x₂₂  - 2⋅x₂₂ + 1⎠⋅⎝x₂₂  + 2⋅x₂₂ + 1⎠ \n",
       "⎢─────────────────────────────────────────────────────────────────────────────\n",
       "⎢                                 ____________________________________________\n",
       "⎢                                ╱           _________________________________\n",
       "⎢                               ╱     2     ╱ ⎛   2            ⎞ ⎛   2        \n",
       "⎢                              ╱   x₂₂    ╲╱  ⎝x₂₂  - 2⋅x₂₂ + 1⎠⋅⎝x₂₂  + 2⋅x₂₂\n",
       "⎢                             ╱    ──── - ────────────────────────────────────\n",
       "⎢                           ╲╱      2                         2               \n",
       "⎢                                                                             \n",
       "⎢                                                                             \n",
       "⎢                                                                             \n",
       "⎢                                                                             \n",
       "⎢                                                                             \n",
       "⎢         _______________________________________ ⎛            ⎛   2          \n",
       "⎢        ╱ ⎛   2            ⎞ ⎛   2            ⎞  ⎜(2⋅x₂₂ - 2)⋅⎝x₂₂  + 2⋅x₂₂ +\n",
       "⎢      ╲╱  ⎝x₂₂  - 2⋅x₂₂ + 1⎠⋅⎝x₂₂  + 2⋅x₂₂ + 1⎠ ⋅⎜───────────────────────────\n",
       "⎢x₂₂                                              ⎝              2            \n",
       "⎢─── - ───────────────────────────────────────────────────────────────────────\n",
       "⎢ 2                                        ⎛   2            ⎞ ⎛   2           \n",
       "⎢                                        4⋅⎝x₂₂  - 2⋅x₂₂ + 1⎠⋅⎝x₂₂  + 2⋅x₂₂ + \n",
       "⎢─────────────────────────────────────────────────────────────────────────────\n",
       "⎢                                _____________________________________________\n",
       "⎢                               ╱           __________________________________\n",
       "⎢                              ╱     2     ╱ ⎛   2            ⎞ ⎛   2         \n",
       "⎢                             ╱   x₂₂    ╲╱  ⎝x₂₂  - 2⋅x₂₂ + 1⎠⋅⎝x₂₂  + 2⋅x₂₂ \n",
       "⎢                            ╱    ──── - ─────────────────────────────────────\n",
       "⎣                          ╲╱      2                         2                \n",
       "\n",
       "               ⎛   2            ⎞⎞          __________________________________\n",
       "   (2⋅x₂₂ + 2)⋅⎝x₂₂  - 2⋅x₂₂ + 1⎠⎟         ╱ ⎛   2            ⎞ ⎛   2         \n",
       " + ──────────────────────────────⎟       ╲╱  ⎝x₂₂  - 2⋅x₂₂ + 1⎠⋅⎝x₂₂  + 2⋅x₂₂ \n",
       "                 2               ⎠   1                                        \n",
       "────────────────────────────────── + ─   ─────────────────────────────────────\n",
       "                                     2                                        \n",
       "                                                                            4⋅\n",
       "────────────────────────────────────── + ─────────────────────────────────────\n",
       "___________                                                              _____\n",
       "______                                                                  ╱     \n",
       "    ⎞                                                                  ╱     2\n",
       " + 1⎠    1                                                            ╱   x₂₂ \n",
       "────── + ─                                                           ╱    ────\n",
       "         2                                                         ╲╱      2  \n",
       "                                                                              \n",
       "                                      0                                       \n",
       "                                                                              \n",
       "                                      0                                       \n",
       "                                                                              \n",
       "  ⎞               ⎛   2            ⎞⎞            _____________________________\n",
       " 1⎠   (2⋅x₂₂ + 2)⋅⎝x₂₂  - 2⋅x₂₂ + 1⎠⎟           ╱ ⎛   2            ⎞ ⎛   2    \n",
       "─── + ──────────────────────────────⎟         ╲╱  ⎝x₂₂  - 2⋅x₂₂ + 1⎠⋅⎝x₂₂  + 2\n",
       "                    2               ⎠   x₂₂                                   \n",
       "─────────────────────────────────────   ─── + ────────────────────────────────\n",
       " ⎞                                       2                                    \n",
       "1⎠                                                                            \n",
       "───────────────────────────────────── + ──────────────────────────────────────\n",
       "__________                                                              ______\n",
       "_____                                                                  ╱      \n",
       "   ⎞                                                                  ╱     2 \n",
       "+ 1⎠    1                                                            ╱   x₂₂  \n",
       "───── + ─                                                           ╱    ──── \n",
       "        2                                                         ╲╱      2   \n",
       "\n",
       "_____ ⎛             ⎛   2            ⎞               ⎛   2            ⎞⎞    ⎤\n",
       "   ⎞  ⎜(-2⋅x₂₂ + 2)⋅⎝x₂₂  + 2⋅x₂₂ + 1⎠   (2⋅x₂₂ + 2)⋅⎝x₂₂  - 2⋅x₂₂ + 1⎠⎟    ⎥\n",
       "+ 1⎠ ⋅⎜─────────────────────────────── + ──────────────────────────────⎟    ⎥\n",
       "      ⎝               2                                2               ⎠   1⎥\n",
       "──────────────────────────────────────────────────────────────────────── + ─⎥\n",
       "⎛   2            ⎞ ⎛   2            ⎞                                      2⎥\n",
       "⎝x₂₂  - 2⋅x₂₂ + 1⎠⋅⎝x₂₂  + 2⋅x₂₂ + 1⎠                                       ⎥\n",
       "────────────────────────────────────────────────────────────────────────────⎥\n",
       "__________________________________________________                          ⎥\n",
       "      _______________________________________                               ⎥\n",
       "     ╱ ⎛   2            ⎞ ⎛   2            ⎞                                ⎥\n",
       "   ╲╱  ⎝x₂₂  - 2⋅x₂₂ + 1⎠⋅⎝x₂₂  + 2⋅x₂₂ + 1⎠    1                           ⎥\n",
       " + ────────────────────────────────────────── + ─                           ⎥\n",
       "                       2                        2                           ⎥\n",
       "                                                                            ⎥\n",
       "                                                                            ⎥\n",
       "                                                                            ⎥\n",
       "                                                                            ⎥\n",
       "                                                                            ⎥\n",
       "__________ ⎛            ⎛   2            ⎞               ⎛   2            ⎞⎞⎥\n",
       "        ⎞  ⎜(2⋅x₂₂ - 2)⋅⎝x₂₂  + 2⋅x₂₂ + 1⎠   (2⋅x₂₂ + 2)⋅⎝x₂₂  - 2⋅x₂₂ + 1⎠⎟⎥\n",
       "⋅x₂₂ + 1⎠ ⋅⎜────────────────────────────── + ──────────────────────────────⎟⎥\n",
       "           ⎝              2                                2               ⎠⎥\n",
       "────────────────────────────────────────────────────────────────────────────⎥\n",
       "    ⎛   2            ⎞ ⎛   2            ⎞                                   ⎥\n",
       "  4⋅⎝x₂₂  - 2⋅x₂₂ + 1⎠⋅⎝x₂₂  + 2⋅x₂₂ + 1⎠                                   ⎥\n",
       "────────────────────────────────────────────────────────────────────────────⎥\n",
       "_________________________________________________                           ⎥\n",
       "     _______________________________________                                ⎥\n",
       "    ╱ ⎛   2            ⎞ ⎛   2            ⎞                                 ⎥\n",
       "  ╲╱  ⎝x₂₂  - 2⋅x₂₂ + 1⎠⋅⎝x₂₂  + 2⋅x₂₂ + 1⎠    1                            ⎥\n",
       "+ ────────────────────────────────────────── + ─                            ⎥\n",
       "                      2                        2                            ⎦"
      ]
     },
     "execution_count": 103,
     "metadata": {},
     "output_type": "execute_result"
    }
   ],
   "source": [
    "# Exact evaluation of the gradient\n",
    "Matrix([nuc_norm.diff(x11),\n",
    "        nuc_norm.diff(x12),\n",
    "        nuc_norm.diff(x21),\n",
    "        nuc_norm.diff(x22)]).subs([(x11,1),(x12,0),(x21,0)])"
   ]
  },
  {
   "cell_type": "code",
   "execution_count": 122,
   "metadata": {},
   "outputs": [
    {
     "data": {
      "image/png": "[encoded data removed]",
      "text/latex": [
       "$$\\left[\\begin{matrix}\\frac{- \\frac{\\sqrt{\\left(x_{22}^{2} - 2 x_{22} + 1\\right) \\left(x_{22}^{2} + 2 x_{22} + 1\\right)} \\left(\\frac{\\left(- 2 x_{22} + 2\\right) \\left(x_{22}^{2} + 2 x_{22} + 1\\right)}{2} + \\frac{\\left(2 x_{22} + 2\\right) \\left(x_{22}^{2} - 2 x_{22} + 1\\right)}{2}\\right)}{4 \\left(x_{22}^{2} - 2 x_{22} + 1\\right) \\left(x_{22}^{2} + 2 x_{22} + 1\\right)} + \\frac{1}{2}}{\\sqrt{\\frac{x_{22}^{2}}{2} - \\frac{\\sqrt{\\left(x_{22}^{2} - 2 x_{22} + 1\\right) \\left(x_{22}^{2} + 2 x_{22} + 1\\right)}}{2} + \\frac{1}{2}}} + \\frac{\\frac{\\sqrt{\\left(x_{22}^{2} - 2 x_{22} + 1\\right) \\left(x_{22}^{2} + 2 x_{22} + 1\\right)} \\left(\\frac{\\left(- 2 x_{22} + 2\\right) \\left(x_{22}^{2} + 2 x_{22} + 1\\right)}{2} + \\frac{\\left(2 x_{22} + 2\\right) \\left(x_{22}^{2} - 2 x_{22} + 1\\right)}{2}\\right)}{4 \\left(x_{22}^{2} - 2 x_{22} + 1\\right) \\left(x_{22}^{2} + 2 x_{22} + 1\\right)} + \\frac{1}{2}}{\\sqrt{\\frac{x_{22}^{2}}{2} + \\frac{\\sqrt{\\left(x_{22}^{2} - 2 x_{22} + 1\\right) \\left(x_{22}^{2} + 2 x_{22} + 1\\right)}}{2} + \\frac{1}{2}}}\\\\0\\\\0\\\\\\frac{\\frac{x_{22}}{2} - \\frac{\\sqrt{\\left(x_{22}^{2} - 2 x_{22} + 1\\right) \\left(x_{22}^{2} + 2 x_{22} + 1\\right)} \\left(\\frac{\\left(2 x_{22} - 2\\right) \\left(x_{22}^{2} + 2 x_{22} + 1\\right)}{2} + \\frac{\\left(2 x_{22} + 2\\right) \\left(x_{22}^{2} - 2 x_{22} + 1\\right)}{2}\\right)}{4 \\left(x_{22}^{2} - 2 x_{22} + 1\\right) \\left(x_{22}^{2} + 2 x_{22} + 1\\right)}}{\\sqrt{\\frac{x_{22}^{2}}{2} - \\frac{\\sqrt{\\left(x_{22}^{2} - 2 x_{22} + 1\\right) \\left(x_{22}^{2} + 2 x_{22} + 1\\right)}}{2} + \\frac{1}{2}}} + \\frac{\\frac{x_{22}}{2} + \\frac{\\sqrt{\\left(x_{22}^{2} - 2 x_{22} + 1\\right) \\left(x_{22}^{2} + 2 x_{22} + 1\\right)} \\left(\\frac{\\left(2 x_{22} - 2\\right) \\left(x_{22}^{2} + 2 x_{22} + 1\\right)}{2} + \\frac{\\left(2 x_{22} + 2\\right) \\left(x_{22}^{2} - 2 x_{22} + 1\\right)}{2}\\right)}{4 \\left(x_{22}^{2} - 2 x_{22} + 1\\right) \\left(x_{22}^{2} + 2 x_{22} + 1\\right)}}{\\sqrt{\\frac{x_{22}^{2}}{2} + \\frac{\\sqrt{\\left(x_{22}^{2} - 2 x_{22} + 1\\right) \\left(x_{22}^{2} + 2 x_{22} + 1\\right)}}{2} + \\frac{1}{2}}}\\end{matrix}\\right]$$"
      ],
      "text/plain": [
       "⎡     _______________________________________ ⎛             ⎛   2            ⎞\n",
       "⎢    ╱ ⎛   2            ⎞ ⎛   2            ⎞  ⎜(-2⋅x₂₂ + 2)⋅⎝x₂₂  + 2⋅x₂₂ + 1⎠\n",
       "⎢  ╲╱  ⎝x₂₂  - 2⋅x₂₂ + 1⎠⋅⎝x₂₂  + 2⋅x₂₂ + 1⎠ ⋅⎜───────────────────────────────\n",
       "⎢                                             ⎝               2               \n",
       "⎢- ───────────────────────────────────────────────────────────────────────────\n",
       "⎢                                       ⎛   2            ⎞ ⎛   2            ⎞ \n",
       "⎢                                     4⋅⎝x₂₂  - 2⋅x₂₂ + 1⎠⋅⎝x₂₂  + 2⋅x₂₂ + 1⎠ \n",
       "⎢─────────────────────────────────────────────────────────────────────────────\n",
       "⎢                                 ____________________________________________\n",
       "⎢                                ╱           _________________________________\n",
       "⎢                               ╱     2     ╱ ⎛   2            ⎞ ⎛   2        \n",
       "⎢                              ╱   x₂₂    ╲╱  ⎝x₂₂  - 2⋅x₂₂ + 1⎠⋅⎝x₂₂  + 2⋅x₂₂\n",
       "⎢                             ╱    ──── - ────────────────────────────────────\n",
       "⎢                           ╲╱      2                         2               \n",
       "⎢                                                                             \n",
       "⎢                                                                             \n",
       "⎢                                                                             \n",
       "⎢                                                                             \n",
       "⎢                                                                             \n",
       "⎢         _______________________________________ ⎛            ⎛   2          \n",
       "⎢        ╱ ⎛   2            ⎞ ⎛   2            ⎞  ⎜(2⋅x₂₂ - 2)⋅⎝x₂₂  + 2⋅x₂₂ +\n",
       "⎢      ╲╱  ⎝x₂₂  - 2⋅x₂₂ + 1⎠⋅⎝x₂₂  + 2⋅x₂₂ + 1⎠ ⋅⎜───────────────────────────\n",
       "⎢x₂₂                                              ⎝              2            \n",
       "⎢─── - ───────────────────────────────────────────────────────────────────────\n",
       "⎢ 2                                        ⎛   2            ⎞ ⎛   2           \n",
       "⎢                                        4⋅⎝x₂₂  - 2⋅x₂₂ + 1⎠⋅⎝x₂₂  + 2⋅x₂₂ + \n",
       "⎢─────────────────────────────────────────────────────────────────────────────\n",
       "⎢                                _____________________________________________\n",
       "⎢                               ╱           __________________________________\n",
       "⎢                              ╱     2     ╱ ⎛   2            ⎞ ⎛   2         \n",
       "⎢                             ╱   x₂₂    ╲╱  ⎝x₂₂  - 2⋅x₂₂ + 1⎠⋅⎝x₂₂  + 2⋅x₂₂ \n",
       "⎢                            ╱    ──── - ─────────────────────────────────────\n",
       "⎣                          ╲╱      2                         2                \n",
       "\n",
       "               ⎛   2            ⎞⎞          __________________________________\n",
       "   (2⋅x₂₂ + 2)⋅⎝x₂₂  - 2⋅x₂₂ + 1⎠⎟         ╱ ⎛   2            ⎞ ⎛   2         \n",
       " + ──────────────────────────────⎟       ╲╱  ⎝x₂₂  - 2⋅x₂₂ + 1⎠⋅⎝x₂₂  + 2⋅x₂₂ \n",
       "                 2               ⎠   1                                        \n",
       "────────────────────────────────── + ─   ─────────────────────────────────────\n",
       "                                     2                                        \n",
       "                                                                            4⋅\n",
       "────────────────────────────────────── + ─────────────────────────────────────\n",
       "___________                                                              _____\n",
       "______                                                                  ╱     \n",
       "    ⎞                                                                  ╱     2\n",
       " + 1⎠    1                                                            ╱   x₂₂ \n",
       "────── + ─                                                           ╱    ────\n",
       "         2                                                         ╲╱      2  \n",
       "                                                                              \n",
       "                                      0                                       \n",
       "                                                                              \n",
       "                                      0                                       \n",
       "                                                                              \n",
       "  ⎞               ⎛   2            ⎞⎞            _____________________________\n",
       " 1⎠   (2⋅x₂₂ + 2)⋅⎝x₂₂  - 2⋅x₂₂ + 1⎠⎟           ╱ ⎛   2            ⎞ ⎛   2    \n",
       "─── + ──────────────────────────────⎟         ╲╱  ⎝x₂₂  - 2⋅x₂₂ + 1⎠⋅⎝x₂₂  + 2\n",
       "                    2               ⎠   x₂₂                                   \n",
       "─────────────────────────────────────   ─── + ────────────────────────────────\n",
       " ⎞                                       2                                    \n",
       "1⎠                                                                            \n",
       "───────────────────────────────────── + ──────────────────────────────────────\n",
       "__________                                                              ______\n",
       "_____                                                                  ╱      \n",
       "   ⎞                                                                  ╱     2 \n",
       "+ 1⎠    1                                                            ╱   x₂₂  \n",
       "───── + ─                                                           ╱    ──── \n",
       "        2                                                         ╲╱      2   \n",
       "\n",
       "_____ ⎛             ⎛   2            ⎞               ⎛   2            ⎞⎞    ⎤\n",
       "   ⎞  ⎜(-2⋅x₂₂ + 2)⋅⎝x₂₂  + 2⋅x₂₂ + 1⎠   (2⋅x₂₂ + 2)⋅⎝x₂₂  - 2⋅x₂₂ + 1⎠⎟    ⎥\n",
       "+ 1⎠ ⋅⎜─────────────────────────────── + ──────────────────────────────⎟    ⎥\n",
       "      ⎝               2                                2               ⎠   1⎥\n",
       "──────────────────────────────────────────────────────────────────────── + ─⎥\n",
       "⎛   2            ⎞ ⎛   2            ⎞                                      2⎥\n",
       "⎝x₂₂  - 2⋅x₂₂ + 1⎠⋅⎝x₂₂  + 2⋅x₂₂ + 1⎠                                       ⎥\n",
       "────────────────────────────────────────────────────────────────────────────⎥\n",
       "__________________________________________________                          ⎥\n",
       "      _______________________________________                               ⎥\n",
       "     ╱ ⎛   2            ⎞ ⎛   2            ⎞                                ⎥\n",
       "   ╲╱  ⎝x₂₂  - 2⋅x₂₂ + 1⎠⋅⎝x₂₂  + 2⋅x₂₂ + 1⎠    1                           ⎥\n",
       " + ────────────────────────────────────────── + ─                           ⎥\n",
       "                       2                        2                           ⎥\n",
       "                                                                            ⎥\n",
       "                                                                            ⎥\n",
       "                                                                            ⎥\n",
       "                                                                            ⎥\n",
       "                                                                            ⎥\n",
       "__________ ⎛            ⎛   2            ⎞               ⎛   2            ⎞⎞⎥\n",
       "        ⎞  ⎜(2⋅x₂₂ - 2)⋅⎝x₂₂  + 2⋅x₂₂ + 1⎠   (2⋅x₂₂ + 2)⋅⎝x₂₂  - 2⋅x₂₂ + 1⎠⎟⎥\n",
       "⋅x₂₂ + 1⎠ ⋅⎜────────────────────────────── + ──────────────────────────────⎟⎥\n",
       "           ⎝              2                                2               ⎠⎥\n",
       "────────────────────────────────────────────────────────────────────────────⎥\n",
       "    ⎛   2            ⎞ ⎛   2            ⎞                                   ⎥\n",
       "  4⋅⎝x₂₂  - 2⋅x₂₂ + 1⎠⋅⎝x₂₂  + 2⋅x₂₂ + 1⎠                                   ⎥\n",
       "────────────────────────────────────────────────────────────────────────────⎥\n",
       "_________________________________________________                           ⎥\n",
       "     _______________________________________                                ⎥\n",
       "    ╱ ⎛   2            ⎞ ⎛   2            ⎞                                 ⎥\n",
       "  ╲╱  ⎝x₂₂  - 2⋅x₂₂ + 1⎠⋅⎝x₂₂  + 2⋅x₂₂ + 1⎠    1                            ⎥\n",
       "+ ────────────────────────────────────────── + ─                            ⎥\n",
       "                      2                        2                            ⎦"
      ]
     },
     "execution_count": 122,
     "metadata": {},
     "output_type": "execute_result"
    }
   ],
   "source": [
    "# Exact evaluation of the gradient\n",
    "grad = Matrix([nuc_norm.diff(x11),\n",
    "        nuc_norm.diff(x12),\n",
    "        nuc_norm.diff(x21),\n",
    "        nuc_norm.diff(x22)]).subs([(x21,0), (x12,0), (x11, 1)])\n",
    "grad"
   ]
  },
  {
   "cell_type": "code",
   "execution_count": 150,
   "metadata": {},
   "outputs": [
    {
     "data": {
      "image/png": "[encoded data removed]",
      "text/latex": [
       "$$\\sqrt{\\frac{x_{22}^{2}}{2} - \\frac{\\sqrt{\\left(x_{22}^{2} - 2 x_{22} + 1\\right) \\left(x_{22}^{2} + 2 x_{22} + 1\\right)}}{2} + 0.5}$$"
      ],
      "text/plain": [
       "      _________________________________________________________\n",
       "     ╱           _______________________________________       \n",
       "    ╱     2     ╱ ⎛   2            ⎞ ⎛   2            ⎞        \n",
       "   ╱   x₂₂    ╲╱  ⎝x₂₂  - 2⋅x₂₂ + 1⎠⋅⎝x₂₂  + 2⋅x₂₂ + 1⎠        \n",
       "  ╱    ──── - ────────────────────────────────────────── + 0.5 \n",
       "╲╱      2                         2                            "
      ]
     },
     "execution_count": 150,
     "metadata": {},
     "output_type": "execute_result"
    }
   ],
   "source": [
    "sqrt(x22**2/2 - sqrt((x22**2-2*x22+1)*(x22**2+2*x22+1))/2+1/2)"
   ]
  },
  {
   "cell_type": "code",
   "execution_count": 155,
   "metadata": {},
   "outputs": [
    {
     "data": {
      "image/png": "[encoded data removed]",
      "text/latex": [
       "$$\\left[\\begin{matrix}1.00237310283435 \\cdot 10^{-7}\\\\0\\\\0\\\\9.99999999459271 \\cdot 10^{-8}\\end{matrix}\\right]$$"
      ],
      "text/plain": [
       "⎡1.00237310283435e-7⎤\n",
       "⎢                   ⎥\n",
       "⎢         0         ⎥\n",
       "⎢                   ⎥\n",
       "⎢         0         ⎥\n",
       "⎢                   ⎥\n",
       "⎣9.99999999459271e-8⎦"
      ]
     },
     "execution_count": 155,
     "metadata": {},
     "output_type": "execute_result"
    }
   ],
   "source": [
    "(grad * sqrt(x22**2/2 - sqrt((x22**2-2*x22+1)*(x22**2+2*x22+1))/2+1/2)) .subs([(x22, 1e-7)])"
   ]
  },
  {
   "cell_type": "code",
   "execution_count": 133,
   "metadata": {
    "scrolled": false
   },
   "outputs": [
    {
     "data": {
      "image/png": "[encoded data removed]",
      "text/plain": [
       "<Figure size 432x288 with 1 Axes>"
      ]
     },
     "metadata": {
      "needs_background": "light"
     },
     "output_type": "display_data"
    },
    {
     "data": {
      "text/plain": [
       "<sympy.plotting.plot.Plot at 0x7fe80b4946a0>"
      ]
     },
     "execution_count": 133,
     "metadata": {},
     "output_type": "execute_result"
    }
   ],
   "source": [
    "plot(grad[0], (x22, -1e-5, 1e-5), yscale='log')"
   ]
  },
  {
   "cell_type": "code",
   "execution_count": 148,
   "metadata": {},
   "outputs": [
    {
     "data": {
      "image/png": "[encoded data removed]",
      "text/plain": [
       "<Figure size 432x288 with 1 Axes>"
      ]
     },
     "metadata": {
      "needs_background": "light"
     },
     "output_type": "display_data"
    },
    {
     "data": {
      "text/plain": [
       "<sympy.plotting.plot.Plot at 0x7fe809b49358>"
      ]
     },
     "execution_count": 148,
     "metadata": {},
     "output_type": "execute_result"
    }
   ],
   "source": [
    "plot(grad[3], (x22, 1e-9,0.5e-7), yscale='log')"
   ]
  },
  {
   "cell_type": "code",
   "execution_count": null,
   "metadata": {},
   "outputs": [],
   "source": []
  }
 ],
 "metadata": {
  "kernelspec": {
   "display_name": "Python 3",
   "language": "python",
   "name": "python3"
  },
  "language_info": {
   "codemirror_mode": {
    "name": "ipython",
    "version": 3
   },
   "file_extension": ".py",
   "mimetype": "text/x-python",
   "name": "python",
   "nbconvert_exporter": "python",
   "pygments_lexer": "ipython3",
   "version": "3.7.1"
  }
 },
 "nbformat": 4,
 "nbformat_minor": 2
}
