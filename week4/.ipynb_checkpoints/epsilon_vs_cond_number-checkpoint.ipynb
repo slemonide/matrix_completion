{
 "cells": [
  {
   "cell_type": "code",
   "execution_count": 2,
   "metadata": {},
   "outputs": [],
   "source": [
    "import numpy as np\n",
    "import matplotlib.pyplot as plt"
   ]
  },
  {
   "cell_type": "code",
   "execution_count": 3,
   "metadata": {},
   "outputs": [],
   "source": [
    "def obj_func(m):\n",
    "    u, s, vh = np.linalg.svd(m)\n",
    "\n",
    "    return np.sum(s[1:])\n",
    "\n",
    "epsilon = 1e-6\n",
    "\n",
    "def comp_grad(m, boolMask, obj_func, n, epsilon):\n",
    "    \"\"\" Computes gradient that maximizes the objective function \"\"\"\n",
    "\n",
    "    # Yes, grad is a vector now\n",
    "    grad = []\n",
    "\n",
    "    for i in range(n):\n",
    "        for j in range(n):\n",
    "            if boolMask[i,j]:\n",
    "                diff = np.zeros([n,n])\n",
    "                diff[i,j] = epsilon\n",
    "                grad.append((obj_func(m + diff) - obj_func(m - diff))/(2*epsilon))\n",
    "\n",
    "    return grad\n",
    "\n",
    "def comp_hessian(m, boolMask, of, n, epsilon):\n",
    "    \"\"\" Computes hessian (only diagonal) \"\"\"\n",
    "    vector = []\n",
    "\n",
    "    for i in range(n):\n",
    "        for j in range(n):\n",
    "            if boolMask[i,j]:\n",
    "                vector.append(m[i,j])\n",
    "\n",
    "    q = len(vector)\n",
    "    hessian = np.zeros([q, q])\n",
    "\n",
    "    # fill in the diagonal first\n",
    "    count = 0\n",
    "    for i in range(n):\n",
    "        for j in range(n):\n",
    "            if boolMask[i,j]:\n",
    "\n",
    "                diff = np.zeros([n,n])\n",
    "                diff[i,j] = epsilon\n",
    "                hessian[count,count] = (of(m + diff) + of(m - diff) - 2*of(m))/epsilon**2\n",
    "\n",
    "                count = count + 1\n",
    "                \n",
    "    # now fill in off-diagonals\n",
    "    count1 = 0\n",
    "    for i1 in range(n):\n",
    "        for j1 in range(n):\n",
    "            if boolMask[i1,j1]: # found one\n",
    "                diff1 = np.zeros([n,n])\n",
    "                diff1[i1,j1] = epsilon\n",
    "\n",
    "                count2 = 0\n",
    "                for i2 in range(n):\n",
    "                    for j2 in range(n):\n",
    "                        if boolMask[i2,j2]: # found another one\n",
    "                            diff2 = np.zeros([n,n])\n",
    "                            diff2[i2,j2] = epsilon\n",
    "\n",
    "                            if count1 != count2: # doing only off-diagonal ones\n",
    "                                hessian[count1,count2] = (of(m + diff1 + diff2) + of(m - diff1 - diff2)\n",
    "                                                         - of(m + diff1 - diff2) - of(m - diff1 + diff2))/(2*epsilon)**2\n",
    "\n",
    "                            count2 = count2 + 1\n",
    "\n",
    "                count1 = count1 + 1\n",
    "\n",
    "    return hessian"
   ]
  },
  {
   "cell_type": "code",
   "execution_count": 4,
   "metadata": {},
   "outputs": [],
   "source": [
    "n = 10\n",
    "p = 0.5\n",
    "rank = 1\n",
    "\n",
    "U = np.random.randn(n, rank)\n",
    "V = np.random.randn(n, rank)\n",
    "original = np.dot(U, V.T)\n",
    "mask = np.random.choice([0, 1], size=(n,n), p=[1-p, p])\n",
    "\n",
    "boolMask = np.ma.make_mask(np.where(np.array(mask) < 0.5, 1, 0))"
   ]
  },
  {
   "cell_type": "code",
   "execution_count": 19,
   "metadata": {},
   "outputs": [
    {
     "name": "stdout",
     "output_type": "stream",
     "text": [
      "1 138.755150048024\n",
      "0.1 593.9020678367357\n",
      "0.01 4363.515139352455\n",
      "0.001 153257.68379420054\n",
      "0.0001 299933.06670902687\n",
      "1e-05 381716.38780092064\n",
      "1e-06 21293.75994055113\n",
      "1e-07 415.1290011410645\n",
      "1e-08 173.53886744561342\n",
      "1e-09 46.85863388035139\n",
      "1e-10 144.77538666760557\n",
      "1e-11 3467.6536854964534\n",
      "1e-12 74.16799023597862\n",
      "1e-13 54.13706806380857\n",
      "1e-14 199.50114239502892\n",
      "1e-15 292.3731476236599\n",
      "1e-16 4.301031397824608e+16\n",
      "1e-17 1.9840446740437447e+81\n",
      "1e-18 inf\n",
      "1e-19 inf\n",
      "1e-20 inf\n",
      "1e-21 inf\n",
      "1e-22 inf\n",
      "1e-23 inf\n",
      "1e-24 inf\n",
      "1e-25 inf\n",
      "1e-26 inf\n",
      "1e-27 inf\n",
      "1e-28 inf\n",
      "1e-29 inf\n"
     ]
    }
   ],
   "source": [
    "current_point = np.copy(original)\n",
    "\n",
    "zeros = np.zeros([n,n])\n",
    "current_point[boolMask] = zeros[boolMask]\n",
    "\n",
    "\n",
    "epsilons = []\n",
    "conds = []\n",
    "\n",
    "for p in range(30):\n",
    "\n",
    "    epsilon = 10**(-p)\n",
    "    hessian = comp_hessian(current_point, boolMask, obj_func, n, epsilon)\n",
    "    cond = np.linalg.cond(hessian)\n",
    "    print(epsilon, cond)\n",
    "    epsilons.append(epsilon)\n",
    "    conds.append(cond)\n",
    "    #grad = comp_grad(current_point, boolMask, obj_func, n, epsilon)\n"
   ]
  },
  {
   "cell_type": "code",
   "execution_count": 28,
   "metadata": {},
   "outputs": [
    {
     "data": {
      "text/plain": [
       "(0, 1000000.0)"
      ]
     },
     "execution_count": 28,
     "metadata": {},
     "output_type": "execute_result"
    },
    {
     "data": {
      "image/png": "[encoded data removed]",
      "text/plain": [
       "<Figure size 432x288 with 1 Axes>"
      ]
     },
     "metadata": {
      "needs_background": "light"
     },
     "output_type": "display_data"
    }
   ],
   "source": [
    "plt.plot(np.log(epsilons),conds)\n",
    "plt.ylim(0, 1e6)"
   ]
  },
  {
   "cell_type": "code",
   "execution_count": 23,
   "metadata": {},
   "outputs": [
    {
     "data": {
      "text/plain": [
       "46.85863388035139"
      ]
     },
     "execution_count": 23,
     "metadata": {},
     "output_type": "execute_result"
    }
   ],
   "source": [
    "np.min(conds)"
   ]
  },
  {
   "cell_type": "code",
   "execution_count": 5,
   "metadata": {},
   "outputs": [
    {
     "name": "stderr",
     "output_type": "stream",
     "text": [
      "/home/dplatonov/anaconda3/lib/python3.7/site-packages/ipykernel_launcher.py:43: RuntimeWarning: invalid value encountered in double_scalars\n",
      "/home/dplatonov/anaconda3/lib/python3.7/site-packages/ipykernel_launcher.py:64: RuntimeWarning: invalid value encountered in double_scalars\n"
     ]
    },
    {
     "name": "stdout",
     "output_type": "stream",
     "text": [
      "0 nan\n",
      "1 165.21528221215053\n",
      "2 21.874302898103174\n",
      "3 8.463321923178622\n",
      "4 7.307001024820514\n",
      "5 6.999637702121491\n",
      "6 5.775807920730579\n",
      "7 5.680275571843607\n",
      "8 5.525997218928889\n",
      "9 5.337245510396761\n",
      "10 5.223522662348102\n",
      "11 5.149773977522425\n",
      "12 5.102156348202621\n",
      "13 5.070318632541789\n",
      "14 5.048804296330375\n",
      "15 5.034305433951284\n",
      "16 5.024662507967618\n",
      "17 5.0183753814657655\n",
      "18 5.014210685352689\n",
      "19 5.010880955404508\n",
      "20 5.0077575209284\n",
      "21 5.005242853619097\n",
      "22 5.003498357368047\n",
      "23 5.0024436465039415\n",
      "24 5.001957347759192\n",
      "25 5.00192848058022\n",
      "26 5.002265848005702\n",
      "27 5.002908983890986\n",
      "28 5.003778504461032\n",
      "29 5.004824214310355\n"
     ]
    }
   ],
   "source": [
    "current_point = np.copy(original)\n",
    "\n",
    "zeros = np.zeros([n,n])\n",
    "current_point[boolMask] = zeros[boolMask]\n",
    "\n",
    "\n",
    "epsilons = []\n",
    "conds = []\n",
    "\n",
    "for p in range(30):\n",
    "\n",
    "    epsilon = p#10**(-p)\n",
    "    hessian = comp_hessian(current_point, boolMask, obj_func, n, epsilon)\n",
    "    cond = np.linalg.cond(hessian)\n",
    "    print(epsilon, cond)\n",
    "    epsilons.append(epsilon)\n",
    "    conds.append(cond)\n",
    "    #grad = comp_grad(current_point, boolMask, obj_func, n, epsilon)\n"
   ]
  },
  {
   "cell_type": "code",
   "execution_count": 6,
   "metadata": {},
   "outputs": [
    {
     "data": {
      "text/plain": [
       "[<matplotlib.lines.Line2D at 0x7fc80ee3b470>]"
      ]
     },
     "execution_count": 6,
     "metadata": {},
     "output_type": "execute_result"
    },
    {
     "data": {
      "image/png": "[encoded data removed]",
      "text/plain": [
       "<Figure size 432x288 with 1 Axes>"
      ]
     },
     "metadata": {
      "needs_background": "light"
     },
     "output_type": "display_data"
    }
   ],
   "source": [
    "plt.plot(epsilons, conds)"
   ]
  },
  {
   "cell_type": "markdown",
   "metadata": {},
   "source": [
    "So, it seems that 5 is the best epsilon"
   ]
  },
  {
   "cell_type": "code",
   "execution_count": null,
   "metadata": {},
   "outputs": [],
   "source": []
  }
 ],
 "metadata": {
  "kernelspec": {
   "display_name": "Python 3",
   "language": "python",
   "name": "python3"
  },
  "language_info": {
   "codemirror_mode": {
    "name": "ipython",
    "version": 3
   },
   "file_extension": ".py",
   "mimetype": "text/x-python",
   "name": "python",
   "nbconvert_exporter": "python",
   "pygments_lexer": "ipython3",
   "version": "3.7.3"
  }
 },
 "nbformat": 4,
 "nbformat_minor": 2
}
