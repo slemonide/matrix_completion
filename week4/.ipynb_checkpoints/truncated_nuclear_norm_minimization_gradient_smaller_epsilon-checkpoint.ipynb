{
 "cells": [
  {
   "cell_type": "code",
   "execution_count": 1,
   "metadata": {},
   "outputs": [],
   "source": [
    "import numpy as np\n",
    "import matplotlib.pyplot as plt"
   ]
  },
  {
   "cell_type": "code",
   "execution_count": 2,
   "metadata": {},
   "outputs": [],
   "source": [
    "def obj_func(m):\n",
    "    u, s, vh = np.linalg.svd(m)\n",
    "\n",
    "    return np.sum(s[1:])\n",
    "\n",
    "epsilon = 1e-6\n",
    "\n",
    "def comp_grad(m, boolMask, obj_func, n):\n",
    "    \"\"\" Computes gradient that maximizes the objective function \"\"\"\n",
    "\n",
    "    # Yes, grad is a vector now\n",
    "    grad = []\n",
    "\n",
    "    for i in range(n):\n",
    "        for j in range(n):\n",
    "            if boolMask[i,j]:\n",
    "                diff = np.zeros([n,n])\n",
    "                diff[i,j] = epsilon\n",
    "                grad.append((obj_func(m + diff) - obj_func(m - diff))/(2*epsilon))\n",
    "\n",
    "    return grad\n",
    "\n",
    "def comp_hessian(m, boolMask, of, n):\n",
    "    \"\"\" Computes hessian (only diagonal) \"\"\"\n",
    "    vector = []\n",
    "\n",
    "    for i in range(n):\n",
    "        for j in range(n):\n",
    "            if boolMask[i,j]:\n",
    "                vector.append(m[i,j])\n",
    "\n",
    "    q = len(vector)\n",
    "    hessian = np.zeros([q, q])\n",
    "\n",
    "    # fill in the diagonal first\n",
    "    count = 0\n",
    "    for i in range(n):\n",
    "        for j in range(n):\n",
    "            if boolMask[i,j]:\n",
    "\n",
    "                diff = np.zeros([n,n])\n",
    "                diff[i,j] = epsilon\n",
    "                hessian[count,count] = (of(m + diff) + of(m - diff) - 2*of(m))/epsilon**2\n",
    "\n",
    "                count = count + 1\n",
    "                \n",
    "    # now fill in off-diagonals\n",
    "    count1 = 0\n",
    "    for i1 in range(n):\n",
    "        for j1 in range(n):\n",
    "            if boolMask[i1,j1]: # found one\n",
    "                diff1 = np.zeros([n,n])\n",
    "                diff1[i1,j1] = epsilon\n",
    "\n",
    "                count2 = 0\n",
    "                for i2 in range(n):\n",
    "                    for j2 in range(n):\n",
    "                        if boolMask[i2,j2]: # found another one\n",
    "                            diff2 = np.zeros([n,n])\n",
    "                            diff2[i2,j2] = epsilon\n",
    "\n",
    "                            if count1 != count2: # doing only off-diagonal ones\n",
    "                                hessian[count1,count2] = (of(m + diff1 + diff2) + of(m - diff1 - diff2)\n",
    "                                                         - of(m + diff1 - diff2) - of(m - diff1 + diff2))/(2*epsilon)**2\n",
    "\n",
    "                            count2 = count2 + 1\n",
    "\n",
    "                count1 = count1 + 1\n",
    "\n",
    "    return hessian"
   ]
  },
  {
   "cell_type": "code",
   "execution_count": 3,
   "metadata": {},
   "outputs": [],
   "source": [
    "n = 10\n",
    "p = 0.5\n",
    "rank = 1\n",
    "\n",
    "U = np.random.randn(n, rank)\n",
    "V = np.random.randn(n, rank)\n",
    "original = np.dot(U, V.T)\n",
    "mask = np.random.choice([0, 1], size=(n,n), p=[1-p, p])\n",
    "\n",
    "boolMask = np.ma.make_mask(np.where(np.array(mask) < 0.5, 1, 0))"
   ]
  },
  {
   "cell_type": "code",
   "execution_count": 4,
   "metadata": {},
   "outputs": [
    {
     "name": "stdout",
     "output_type": "stream",
     "text": [
      "step, nuc norm, frob distance, hessian cond\n",
      "0 20.46314425418174 12.48324062178931 26237.827166501436\n",
      "20 18.371716705992185 10.481248837522735 26655.384812529297\n",
      "40 17.45740137264849 8.580114202939102 8876.080973846068\n",
      "60 16.795170342205076 6.81042519665634 11330.206990935541\n",
      "80 16.43100151593427 5.212041004794902 91282.51523442914\n",
      "100 16.197631763829463 3.8405884164094277 21592.33432995296\n",
      "120 16.173792767919814 2.738320994069682 122490.62573017782\n",
      "140 16.17786837186181 1.7810577719314948 143832.28238651674\n",
      "160 16.227187152348698 0.9176668771505474 974621.5578891457\n",
      "180 16.36954137526762 0.2593790423188467 309604.33750241005\n",
      "200 16.428352964803356 0.1840243962246144 337326.5150178834\n",
      "220 16.43919592772514 0.18009647246609733 363125.5544081839\n",
      "240 16.44093865285855 0.17822279981731096 266848.0060382424\n",
      "260 16.44111273381962 0.17691916694669355 824783.6860705642\n",
      "280 16.441146737810126 0.175905345172612 556414.7261228045\n",
      "300 16.44118416889435 0.17506466107478566 124873.88336585609\n",
      "320 16.441211730639893 0.1743376589251719 919472.2215702453\n",
      "340 16.441220854128883 0.17369288347781853 1449475.275885287\n",
      "360 16.441212984295756 0.1731121858392996 4915573.507149151\n",
      "380 16.441192272961626 0.17258407484896549 641856.5070247251\n",
      "400 16.44116235668793 0.17210067638468884 400009.192244416\n",
      "420 16.441125754237532 0.17165622681773252 505450.53289401496\n",
      "440 16.441084081004377 0.1712462727347454 138214.0868461686\n",
      "460 16.441038360558064 0.17086722197975954 3293353.389780771\n",
      "480 16.440989249310054 0.17051607891553797 156341.6079336608\n",
      "500 16.440937183071764 0.17019028254181656 206962.00260944292\n",
      "520 16.440882458803394 0.16988760136735354 222622.2984574661\n",
      "540 16.440825287307 0.16960606439714032 585515.0593390438\n",
      "560 16.440765824370697 0.16934391290340714 242435.19594870158\n",
      "580 16.44070418887365 0.16909956574779755 210781.3651261211\n",
      "600 16.44064047550568 0.1688715936288164 258775.7718695338\n",
      "620 16.440574763428423 0.16865870007804715 2581497.507461702\n",
      "640 16.440507121542606 0.16845970578454433 2134134.051057251\n",
      "660 16.440437610752998 0.16827353568611902 385327.8623138613\n",
      "680 16.44036628686529 0.16809920894619232 132116.15597140352\n",
      "700 16.440293203478152 0.16793583031167503 196317.542943133\n",
      "720 16.440218411168214 0.16778258190940887 113439.05898173127\n",
      "740 16.44014196000008 0.1676387170968317 280707.16453674744\n",
      "760 16.440063899131328 0.16750355425352234 138191.9587585383\n",
      "780 16.439984276759958 0.1673764713113778 914730.100557881\n"
     ]
    },
    {
     "ename": "KeyboardInterrupt",
     "evalue": "",
     "output_type": "error",
     "traceback": [
      "\u001b[0;31m---------------------------------------------------------------------------\u001b[0m",
      "\u001b[0;31mKeyboardInterrupt\u001b[0m                         Traceback (most recent call last)",
      "\u001b[0;32m<ipython-input-4-98e0ef6f39d8>\u001b[0m in \u001b[0;36m<module>\u001b[0;34m\u001b[0m\n\u001b[1;32m     11\u001b[0m \u001b[0;32mfor\u001b[0m \u001b[0mstep\u001b[0m \u001b[0;32min\u001b[0m \u001b[0mrange\u001b[0m\u001b[0;34m(\u001b[0m\u001b[0;36m10000\u001b[0m\u001b[0;34m)\u001b[0m\u001b[0;34m:\u001b[0m\u001b[0;34m\u001b[0m\u001b[0;34m\u001b[0m\u001b[0m\n\u001b[1;32m     12\u001b[0m \u001b[0;34m\u001b[0m\u001b[0m\n\u001b[0;32m---> 13\u001b[0;31m     \u001b[0mhessian\u001b[0m \u001b[0;34m=\u001b[0m \u001b[0mcomp_hessian\u001b[0m\u001b[0;34m(\u001b[0m\u001b[0mcurrent_point\u001b[0m\u001b[0;34m,\u001b[0m \u001b[0mboolMask\u001b[0m\u001b[0;34m,\u001b[0m \u001b[0mobj_func\u001b[0m\u001b[0;34m,\u001b[0m \u001b[0mn\u001b[0m\u001b[0;34m)\u001b[0m\u001b[0;34m\u001b[0m\u001b[0;34m\u001b[0m\u001b[0m\n\u001b[0m\u001b[1;32m     14\u001b[0m     \u001b[0mgrad\u001b[0m \u001b[0;34m=\u001b[0m \u001b[0mcomp_grad\u001b[0m\u001b[0;34m(\u001b[0m\u001b[0mcurrent_point\u001b[0m\u001b[0;34m,\u001b[0m \u001b[0mboolMask\u001b[0m\u001b[0;34m,\u001b[0m \u001b[0mobj_func\u001b[0m\u001b[0;34m,\u001b[0m \u001b[0mn\u001b[0m\u001b[0;34m)\u001b[0m\u001b[0;34m\u001b[0m\u001b[0;34m\u001b[0m\u001b[0m\n\u001b[1;32m     15\u001b[0m \u001b[0;34m\u001b[0m\u001b[0m\n",
      "\u001b[0;32m<ipython-input-2-501440b4b2cf>\u001b[0m in \u001b[0;36mcomp_hessian\u001b[0;34m(m, boolMask, of, n)\u001b[0m\n\u001b[1;32m     62\u001b[0m                             \u001b[0;32mif\u001b[0m \u001b[0mcount1\u001b[0m \u001b[0;34m!=\u001b[0m \u001b[0mcount2\u001b[0m\u001b[0;34m:\u001b[0m \u001b[0;31m# doing only off-diagonal ones\u001b[0m\u001b[0;34m\u001b[0m\u001b[0;34m\u001b[0m\u001b[0m\n\u001b[1;32m     63\u001b[0m                                 hessian[count1,count2] = (of(m + diff1 + diff2) + of(m - diff1 - diff2)\n\u001b[0;32m---> 64\u001b[0;31m                                                          - of(m + diff1 - diff2) - of(m - diff1 + diff2))/(2*epsilon)**2\n\u001b[0m\u001b[1;32m     65\u001b[0m \u001b[0;34m\u001b[0m\u001b[0m\n\u001b[1;32m     66\u001b[0m                             \u001b[0mcount2\u001b[0m \u001b[0;34m=\u001b[0m \u001b[0mcount2\u001b[0m \u001b[0;34m+\u001b[0m \u001b[0;36m1\u001b[0m\u001b[0;34m\u001b[0m\u001b[0;34m\u001b[0m\u001b[0m\n",
      "\u001b[0;32m<ipython-input-2-501440b4b2cf>\u001b[0m in \u001b[0;36mobj_func\u001b[0;34m(m)\u001b[0m\n\u001b[1;32m      1\u001b[0m \u001b[0;32mdef\u001b[0m \u001b[0mobj_func\u001b[0m\u001b[0;34m(\u001b[0m\u001b[0mm\u001b[0m\u001b[0;34m)\u001b[0m\u001b[0;34m:\u001b[0m\u001b[0;34m\u001b[0m\u001b[0;34m\u001b[0m\u001b[0m\n\u001b[0;32m----> 2\u001b[0;31m     \u001b[0mu\u001b[0m\u001b[0;34m,\u001b[0m \u001b[0ms\u001b[0m\u001b[0;34m,\u001b[0m \u001b[0mvh\u001b[0m \u001b[0;34m=\u001b[0m \u001b[0mnp\u001b[0m\u001b[0;34m.\u001b[0m\u001b[0mlinalg\u001b[0m\u001b[0;34m.\u001b[0m\u001b[0msvd\u001b[0m\u001b[0;34m(\u001b[0m\u001b[0mm\u001b[0m\u001b[0;34m)\u001b[0m\u001b[0;34m\u001b[0m\u001b[0;34m\u001b[0m\u001b[0m\n\u001b[0m\u001b[1;32m      3\u001b[0m \u001b[0;34m\u001b[0m\u001b[0m\n\u001b[1;32m      4\u001b[0m     \u001b[0;32mreturn\u001b[0m \u001b[0mnp\u001b[0m\u001b[0;34m.\u001b[0m\u001b[0msum\u001b[0m\u001b[0;34m(\u001b[0m\u001b[0ms\u001b[0m\u001b[0;34m[\u001b[0m\u001b[0;36m1\u001b[0m\u001b[0;34m:\u001b[0m\u001b[0;34m]\u001b[0m\u001b[0;34m)\u001b[0m\u001b[0;34m\u001b[0m\u001b[0;34m\u001b[0m\u001b[0m\n\u001b[1;32m      5\u001b[0m \u001b[0;34m\u001b[0m\u001b[0m\n",
      "\u001b[0;32m/opt/anaconda/lib/python3.7/site-packages/numpy/linalg/linalg.py\u001b[0m in \u001b[0;36msvd\u001b[0;34m(a, full_matrices, compute_uv)\u001b[0m\n\u001b[1;32m   1542\u001b[0m     \u001b[0m_assertNoEmpty2d\u001b[0m\u001b[0;34m(\u001b[0m\u001b[0ma\u001b[0m\u001b[0;34m)\u001b[0m\u001b[0;34m\u001b[0m\u001b[0;34m\u001b[0m\u001b[0m\n\u001b[1;32m   1543\u001b[0m     \u001b[0m_assertRankAtLeast2\u001b[0m\u001b[0;34m(\u001b[0m\u001b[0ma\u001b[0m\u001b[0;34m)\u001b[0m\u001b[0;34m\u001b[0m\u001b[0;34m\u001b[0m\u001b[0m\n\u001b[0;32m-> 1544\u001b[0;31m     \u001b[0mt\u001b[0m\u001b[0;34m,\u001b[0m \u001b[0mresult_t\u001b[0m \u001b[0;34m=\u001b[0m \u001b[0m_commonType\u001b[0m\u001b[0;34m(\u001b[0m\u001b[0ma\u001b[0m\u001b[0;34m)\u001b[0m\u001b[0;34m\u001b[0m\u001b[0;34m\u001b[0m\u001b[0m\n\u001b[0m\u001b[1;32m   1545\u001b[0m \u001b[0;34m\u001b[0m\u001b[0m\n\u001b[1;32m   1546\u001b[0m     \u001b[0mextobj\u001b[0m \u001b[0;34m=\u001b[0m \u001b[0mget_linalg_error_extobj\u001b[0m\u001b[0;34m(\u001b[0m\u001b[0m_raise_linalgerror_svd_nonconvergence\u001b[0m\u001b[0;34m)\u001b[0m\u001b[0;34m\u001b[0m\u001b[0;34m\u001b[0m\u001b[0m\n",
      "\u001b[0;32m/opt/anaconda/lib/python3.7/site-packages/numpy/linalg/linalg.py\u001b[0m in \u001b[0;36m_commonType\u001b[0;34m(*arrays)\u001b[0m\n\u001b[1;32m    144\u001b[0m     \u001b[0mis_complex\u001b[0m \u001b[0;34m=\u001b[0m \u001b[0;32mFalse\u001b[0m\u001b[0;34m\u001b[0m\u001b[0;34m\u001b[0m\u001b[0m\n\u001b[1;32m    145\u001b[0m     \u001b[0;32mfor\u001b[0m \u001b[0ma\u001b[0m \u001b[0;32min\u001b[0m \u001b[0marrays\u001b[0m\u001b[0;34m:\u001b[0m\u001b[0;34m\u001b[0m\u001b[0;34m\u001b[0m\u001b[0m\n\u001b[0;32m--> 146\u001b[0;31m         \u001b[0;32mif\u001b[0m \u001b[0missubclass\u001b[0m\u001b[0;34m(\u001b[0m\u001b[0ma\u001b[0m\u001b[0;34m.\u001b[0m\u001b[0mdtype\u001b[0m\u001b[0;34m.\u001b[0m\u001b[0mtype\u001b[0m\u001b[0;34m,\u001b[0m \u001b[0minexact\u001b[0m\u001b[0;34m)\u001b[0m\u001b[0;34m:\u001b[0m\u001b[0;34m\u001b[0m\u001b[0;34m\u001b[0m\u001b[0m\n\u001b[0m\u001b[1;32m    147\u001b[0m             \u001b[0;32mif\u001b[0m \u001b[0misComplexType\u001b[0m\u001b[0;34m(\u001b[0m\u001b[0ma\u001b[0m\u001b[0;34m.\u001b[0m\u001b[0mdtype\u001b[0m\u001b[0;34m.\u001b[0m\u001b[0mtype\u001b[0m\u001b[0;34m)\u001b[0m\u001b[0;34m:\u001b[0m\u001b[0;34m\u001b[0m\u001b[0;34m\u001b[0m\u001b[0m\n\u001b[1;32m    148\u001b[0m                 \u001b[0mis_complex\u001b[0m \u001b[0;34m=\u001b[0m \u001b[0;32mTrue\u001b[0m\u001b[0;34m\u001b[0m\u001b[0;34m\u001b[0m\u001b[0m\n",
      "\u001b[0;31mKeyboardInterrupt\u001b[0m: "
     ]
    }
   ],
   "source": [
    "current_point = np.copy(original)\n",
    "\n",
    "zeros = np.zeros([n,n])\n",
    "current_point[boolMask] = zeros[boolMask]\n",
    "\n",
    "print(\"step, nuc norm, frob distance, hessian cond\")#, grad mean, grad std, grad min, grad max\")\n",
    "nuc_norms = []\n",
    "frob_norms = []\n",
    "conds = []\n",
    "\n",
    "for step in range(10000):\n",
    "\n",
    "    hessian = comp_hessian(current_point, boolMask, obj_func, n)\n",
    "    grad = comp_grad(current_point, boolMask, obj_func, n)\n",
    "\n",
    "    #descent = -np.dot(np.linalg.inv(hessian), grad)\n",
    "    descent = -np.array(grad)\n",
    "    \n",
    "    descent_matrix = np.zeros([n,n])\n",
    "    count = 0\n",
    "    for i in range(n):\n",
    "        for j in range(n):\n",
    "            if boolMask[i,j]:\n",
    "                descent_matrix[i,j] = descent[count]\n",
    "                count = count + 1\n",
    "    \n",
    "    current_point = current_point + 0.1*descent_matrix\n",
    "    \n",
    "    nuc_norms.append(np.linalg.norm(current_point,'nuc'))\n",
    "    frob_norms.append(np.linalg.norm(current_point-original,'fro'))\n",
    "    conds.append(np.linalg.cond(hessian))\n",
    "    \n",
    "    if step % 20 == 0:\n",
    "        print(step, np.linalg.norm(current_point,'nuc'), np.linalg.norm(current_point-original,'fro'),\n",
    "              np.linalg.cond(hessian))#, np.mean(np.abs(grad)),\n",
    "             # np.std(np.abs(grad)), np.min(np.abs(grad)), np.max(np.abs(grad)))\n",
    "    "
   ]
  },
  {
   "cell_type": "code",
   "execution_count": 5,
   "metadata": {},
   "outputs": [
    {
     "data": {
      "text/plain": [
       "[<matplotlib.lines.Line2D at 0x7f1dfaf33b38>]"
      ]
     },
     "execution_count": 5,
     "metadata": {},
     "output_type": "execute_result"
    },
    {
     "data": {
      "image/png": "[encoded data removed]",
      "text/plain": [
       "<Figure size 432x288 with 1 Axes>"
      ]
     },
     "metadata": {
      "needs_background": "light"
     },
     "output_type": "display_data"
    }
   ],
   "source": [
    "plt.plot(nuc_norms)"
   ]
  },
  {
   "cell_type": "code",
   "execution_count": 6,
   "metadata": {},
   "outputs": [
    {
     "data": {
      "text/plain": [
       "[<matplotlib.lines.Line2D at 0x7f1dfae5eb38>]"
      ]
     },
     "execution_count": 6,
     "metadata": {},
     "output_type": "execute_result"
    },
    {
     "data": {
      "image/png": "[encoded data removed]",
      "text/plain": [
       "<Figure size 432x288 with 1 Axes>"
      ]
     },
     "metadata": {
      "needs_background": "light"
     },
     "output_type": "display_data"
    }
   ],
   "source": [
    "plt.plot(frob_norms)"
   ]
  },
  {
   "cell_type": "code",
   "execution_count": 7,
   "metadata": {},
   "outputs": [
    {
     "data": {
      "text/plain": [
       "[<matplotlib.lines.Line2D at 0x7f1dfb0dd080>]"
      ]
     },
     "execution_count": 7,
     "metadata": {},
     "output_type": "execute_result"
    },
    {
     "data": {
      "image/png": "[encoded data removed]",
      "text/plain": [
       "<Figure size 432x288 with 1 Axes>"
      ]
     },
     "metadata": {
      "needs_background": "light"
     },
     "output_type": "display_data"
    }
   ],
   "source": [
    "plt.plot(conds)"
   ]
  },
  {
   "cell_type": "code",
   "execution_count": 10,
   "metadata": {},
   "outputs": [
    {
     "data": {
      "text/plain": [
       "(array([607.,  90.,  20.,  16.,  10.,   9.,   5.,   3.,   2.,   5.,   4.,\n",
       "          1.,   3.,   1.,   2.,   0.,   1.,   0.,   1.,   0.,   0.,   0.,\n",
       "          0.,   0.,   0.,   0.,   0.,   0.,   0.,   0.,   0.,   0.,   0.,\n",
       "          1.,   0.,   0.,   0.,   0.,   0.,   0.,   0.,   0.,   0.,   0.,\n",
       "          0.,   0.,   0.,   0.,   0.,   1.,   1.,   0.,   0.,   0.,   1.,\n",
       "          0.,   0.,   0.,   0.,   1.,   0.,   0.,   0.,   0.,   0.,   0.,\n",
       "          1.,   0.,   0.,   0.,   0.,   0.,   0.,   0.,   0.,   0.,   0.,\n",
       "          0.,   0.,   0.,   0.,   0.,   0.,   0.,   0.,   0.,   0.,   0.,\n",
       "          0.,   0.,   0.,   0.,   0.,   0.,   0.,   0.,   0.,   0.,   0.,\n",
       "          1.]),\n",
       " array([2.57306628e+03, 6.37837831e+05, 1.27310259e+06, 1.90836736e+06,\n",
       "        2.54363212e+06, 3.17889689e+06, 3.81416165e+06, 4.44942642e+06,\n",
       "        5.08469118e+06, 5.71995594e+06, 6.35522071e+06, 6.99048547e+06,\n",
       "        7.62575024e+06, 8.26101500e+06, 8.89627977e+06, 9.53154453e+06,\n",
       "        1.01668093e+07, 1.08020741e+07, 1.14373388e+07, 1.20726036e+07,\n",
       "        1.27078684e+07, 1.33431331e+07, 1.39783979e+07, 1.46136626e+07,\n",
       "        1.52489274e+07, 1.58841922e+07, 1.65194569e+07, 1.71547217e+07,\n",
       "        1.77899865e+07, 1.84252512e+07, 1.90605160e+07, 1.96957808e+07,\n",
       "        2.03310455e+07, 2.09663103e+07, 2.16015751e+07, 2.22368398e+07,\n",
       "        2.28721046e+07, 2.35073693e+07, 2.41426341e+07, 2.47778989e+07,\n",
       "        2.54131636e+07, 2.60484284e+07, 2.66836932e+07, 2.73189579e+07,\n",
       "        2.79542227e+07, 2.85894875e+07, 2.92247522e+07, 2.98600170e+07,\n",
       "        3.04952817e+07, 3.11305465e+07, 3.17658113e+07, 3.24010760e+07,\n",
       "        3.30363408e+07, 3.36716056e+07, 3.43068703e+07, 3.49421351e+07,\n",
       "        3.55773999e+07, 3.62126646e+07, 3.68479294e+07, 3.74831942e+07,\n",
       "        3.81184589e+07, 3.87537237e+07, 3.93889884e+07, 4.00242532e+07,\n",
       "        4.06595180e+07, 4.12947827e+07, 4.19300475e+07, 4.25653123e+07,\n",
       "        4.32005770e+07, 4.38358418e+07, 4.44711066e+07, 4.51063713e+07,\n",
       "        4.57416361e+07, 4.63769009e+07, 4.70121656e+07, 4.76474304e+07,\n",
       "        4.82826951e+07, 4.89179599e+07, 4.95532247e+07, 5.01884894e+07,\n",
       "        5.08237542e+07, 5.14590190e+07, 5.20942837e+07, 5.27295485e+07,\n",
       "        5.33648133e+07, 5.40000780e+07, 5.46353428e+07, 5.52706076e+07,\n",
       "        5.59058723e+07, 5.65411371e+07, 5.71764018e+07, 5.78116666e+07,\n",
       "        5.84469314e+07, 5.90821961e+07, 5.97174609e+07, 6.03527257e+07,\n",
       "        6.09879904e+07, 6.16232552e+07, 6.22585200e+07, 6.28937847e+07,\n",
       "        6.35290495e+07]),\n",
       " <a list of 100 Patch objects>)"
      ]
     },
     "execution_count": 10,
     "metadata": {},
     "output_type": "execute_result"
    },
    {
     "data": {
      "image/png": "[encoded data removed]",
      "text/plain": [
       "<Figure size 432x288 with 1 Axes>"
      ]
     },
     "metadata": {
      "needs_background": "light"
     },
     "output_type": "display_data"
    }
   ],
   "source": [
    "plt.hist(conds,100)"
   ]
  },
  {
   "cell_type": "code",
   "execution_count": null,
   "metadata": {},
   "outputs": [],
   "source": []
  }
 ],
 "metadata": {
  "kernelspec": {
   "display_name": "Python 3",
   "language": "python",
   "name": "python3"
  },
  "language_info": {
   "codemirror_mode": {
    "name": "ipython",
    "version": 3
   },
   "file_extension": ".py",
   "mimetype": "text/x-python",
   "name": "python",
   "nbconvert_exporter": "python",
   "pygments_lexer": "ipython3",
   "version": "3.7.1"
  }
 },
 "nbformat": 4,
 "nbformat_minor": 2
}
