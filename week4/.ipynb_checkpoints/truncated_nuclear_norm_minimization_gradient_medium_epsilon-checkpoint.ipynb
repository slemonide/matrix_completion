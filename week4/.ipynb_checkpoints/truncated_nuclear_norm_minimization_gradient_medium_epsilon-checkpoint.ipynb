{
 "cells": [
  {
   "cell_type": "code",
   "execution_count": 1,
   "metadata": {},
   "outputs": [],
   "source": [
    "import numpy as np\n",
    "import matplotlib.pyplot as plt"
   ]
  },
  {
   "cell_type": "code",
   "execution_count": 2,
   "metadata": {},
   "outputs": [],
   "source": [
    "def obj_func(m):\n",
    "    u, s, vh = np.linalg.svd(m)\n",
    "\n",
    "    return np.sum(s[1:])\n",
    "\n",
    "epsilon = 5\n",
    "\n",
    "def comp_grad(m, boolMask, obj_func, n):\n",
    "    \"\"\" Computes gradient that maximizes the objective function \"\"\"\n",
    "\n",
    "    # Yes, grad is a vector now\n",
    "    grad = []\n",
    "\n",
    "    for i in range(n):\n",
    "        for j in range(n):\n",
    "            if boolMask[i,j]:\n",
    "                diff = np.zeros([n,n])\n",
    "                diff[i,j] = epsilon\n",
    "                grad.append((obj_func(m + diff) - obj_func(m - diff))/(2*epsilon))\n",
    "\n",
    "    return grad\n",
    "\n",
    "def comp_hessian(m, boolMask, of, n):\n",
    "    \"\"\" Computes hessian (only diagonal) \"\"\"\n",
    "    vector = []\n",
    "\n",
    "    for i in range(n):\n",
    "        for j in range(n):\n",
    "            if boolMask[i,j]:\n",
    "                vector.append(m[i,j])\n",
    "\n",
    "    q = len(vector)\n",
    "    hessian = np.zeros([q, q])\n",
    "\n",
    "    # fill in the diagonal first\n",
    "    count = 0\n",
    "    for i in range(n):\n",
    "        for j in range(n):\n",
    "            if boolMask[i,j]:\n",
    "\n",
    "                diff = np.zeros([n,n])\n",
    "                diff[i,j] = epsilon\n",
    "                hessian[count,count] = (of(m + diff) + of(m - diff) - 2*of(m))/epsilon**2\n",
    "\n",
    "                count = count + 1\n",
    "                \n",
    "    # now fill in off-diagonals\n",
    "    count1 = 0\n",
    "    for i1 in range(n):\n",
    "        for j1 in range(n):\n",
    "            if boolMask[i1,j1]: # found one\n",
    "                diff1 = np.zeros([n,n])\n",
    "                diff1[i1,j1] = epsilon\n",
    "\n",
    "                count2 = 0\n",
    "                for i2 in range(n):\n",
    "                    for j2 in range(n):\n",
    "                        if boolMask[i2,j2]: # found another one\n",
    "                            diff2 = np.zeros([n,n])\n",
    "                            diff2[i2,j2] = epsilon\n",
    "\n",
    "                            if count1 != count2: # doing only off-diagonal ones\n",
    "                                hessian[count1,count2] = (of(m + diff1 + diff2) + of(m - diff1 - diff2)\n",
    "                                                         - of(m + diff1 - diff2) - of(m - diff1 + diff2))/(2*epsilon)**2\n",
    "\n",
    "                            count2 = count2 + 1\n",
    "\n",
    "                count1 = count1 + 1\n",
    "\n",
    "    return hessian"
   ]
  },
  {
   "cell_type": "code",
   "execution_count": 3,
   "metadata": {},
   "outputs": [],
   "source": [
    "n = 10\n",
    "p = 0.5\n",
    "rank = 1\n",
    "\n",
    "U = np.random.randn(n, rank)\n",
    "V = np.random.randn(n, rank)\n",
    "original = np.dot(U, V.T)\n",
    "mask = np.random.choice([0, 1], size=(n,n), p=[1-p, p])\n",
    "\n",
    "boolMask = np.ma.make_mask(np.where(np.array(mask) < 0.5, 1, 0))"
   ]
  },
  {
   "cell_type": "code",
   "execution_count": 4,
   "metadata": {},
   "outputs": [
    {
     "name": "stdout",
     "output_type": "stream",
     "text": [
      "step, nuc norm, frob distance, hessian cond\n",
      "0 7.859948696231952 3.2630715611580485 5.245392201659415\n",
      "20 7.036362705723458 2.749345957786925 3.970307035805428\n",
      "40 6.812008108176057 2.2271664440270422 3.245514615980562\n",
      "60 7.363111426740913 1.8056647752877089 2.7700099875448587\n",
      "80 8.024851915335624 1.6489707178346926 2.492072381251468\n",
      "100 8.850010358021292 1.763031284320389 2.457353692837302\n",
      "120 9.751250229476199 2.016645315025698 2.689284217724137\n",
      "140 10.484361582368377 2.3008197934086496 2.96097389986745\n",
      "160 11.047009054898723 2.573620516590914 3.246175706413856\n"
     ]
    },
    {
     "ename": "KeyboardInterrupt",
     "evalue": "",
     "output_type": "error",
     "traceback": [
      "\u001b[0;31m---------------------------------------------------------------------------\u001b[0m",
      "\u001b[0;31mKeyboardInterrupt\u001b[0m                         Traceback (most recent call last)",
      "\u001b[0;32m<ipython-input-4-98e0ef6f39d8>\u001b[0m in \u001b[0;36m<module>\u001b[0;34m\u001b[0m\n\u001b[1;32m     11\u001b[0m \u001b[0;32mfor\u001b[0m \u001b[0mstep\u001b[0m \u001b[0;32min\u001b[0m \u001b[0mrange\u001b[0m\u001b[0;34m(\u001b[0m\u001b[0;36m10000\u001b[0m\u001b[0;34m)\u001b[0m\u001b[0;34m:\u001b[0m\u001b[0;34m\u001b[0m\u001b[0;34m\u001b[0m\u001b[0m\n\u001b[1;32m     12\u001b[0m \u001b[0;34m\u001b[0m\u001b[0m\n\u001b[0;32m---> 13\u001b[0;31m     \u001b[0mhessian\u001b[0m \u001b[0;34m=\u001b[0m \u001b[0mcomp_hessian\u001b[0m\u001b[0;34m(\u001b[0m\u001b[0mcurrent_point\u001b[0m\u001b[0;34m,\u001b[0m \u001b[0mboolMask\u001b[0m\u001b[0;34m,\u001b[0m \u001b[0mobj_func\u001b[0m\u001b[0;34m,\u001b[0m \u001b[0mn\u001b[0m\u001b[0;34m)\u001b[0m\u001b[0;34m\u001b[0m\u001b[0;34m\u001b[0m\u001b[0m\n\u001b[0m\u001b[1;32m     14\u001b[0m     \u001b[0mgrad\u001b[0m \u001b[0;34m=\u001b[0m \u001b[0mcomp_grad\u001b[0m\u001b[0;34m(\u001b[0m\u001b[0mcurrent_point\u001b[0m\u001b[0;34m,\u001b[0m \u001b[0mboolMask\u001b[0m\u001b[0;34m,\u001b[0m \u001b[0mobj_func\u001b[0m\u001b[0;34m,\u001b[0m \u001b[0mn\u001b[0m\u001b[0;34m)\u001b[0m\u001b[0;34m\u001b[0m\u001b[0;34m\u001b[0m\u001b[0m\n\u001b[1;32m     15\u001b[0m \u001b[0;34m\u001b[0m\u001b[0m\n",
      "\u001b[0;32m<ipython-input-2-654cd4b03303>\u001b[0m in \u001b[0;36mcomp_hessian\u001b[0;34m(m, boolMask, of, n)\u001b[0m\n\u001b[1;32m     62\u001b[0m                             \u001b[0;32mif\u001b[0m \u001b[0mcount1\u001b[0m \u001b[0;34m!=\u001b[0m \u001b[0mcount2\u001b[0m\u001b[0;34m:\u001b[0m \u001b[0;31m# doing only off-diagonal ones\u001b[0m\u001b[0;34m\u001b[0m\u001b[0;34m\u001b[0m\u001b[0m\n\u001b[1;32m     63\u001b[0m                                 hessian[count1,count2] = (of(m + diff1 + diff2) + of(m - diff1 - diff2)\n\u001b[0;32m---> 64\u001b[0;31m                                                          - of(m + diff1 - diff2) - of(m - diff1 + diff2))/(2*epsilon)**2\n\u001b[0m\u001b[1;32m     65\u001b[0m \u001b[0;34m\u001b[0m\u001b[0m\n\u001b[1;32m     66\u001b[0m                             \u001b[0mcount2\u001b[0m \u001b[0;34m=\u001b[0m \u001b[0mcount2\u001b[0m \u001b[0;34m+\u001b[0m \u001b[0;36m1\u001b[0m\u001b[0;34m\u001b[0m\u001b[0;34m\u001b[0m\u001b[0m\n",
      "\u001b[0;32m<ipython-input-2-654cd4b03303>\u001b[0m in \u001b[0;36mobj_func\u001b[0;34m(m)\u001b[0m\n\u001b[1;32m      2\u001b[0m     \u001b[0mu\u001b[0m\u001b[0;34m,\u001b[0m \u001b[0ms\u001b[0m\u001b[0;34m,\u001b[0m \u001b[0mvh\u001b[0m \u001b[0;34m=\u001b[0m \u001b[0mnp\u001b[0m\u001b[0;34m.\u001b[0m\u001b[0mlinalg\u001b[0m\u001b[0;34m.\u001b[0m\u001b[0msvd\u001b[0m\u001b[0;34m(\u001b[0m\u001b[0mm\u001b[0m\u001b[0;34m)\u001b[0m\u001b[0;34m\u001b[0m\u001b[0;34m\u001b[0m\u001b[0m\n\u001b[1;32m      3\u001b[0m \u001b[0;34m\u001b[0m\u001b[0m\n\u001b[0;32m----> 4\u001b[0;31m     \u001b[0;32mreturn\u001b[0m \u001b[0mnp\u001b[0m\u001b[0;34m.\u001b[0m\u001b[0msum\u001b[0m\u001b[0;34m(\u001b[0m\u001b[0ms\u001b[0m\u001b[0;34m[\u001b[0m\u001b[0;36m1\u001b[0m\u001b[0;34m:\u001b[0m\u001b[0;34m]\u001b[0m\u001b[0;34m)\u001b[0m\u001b[0;34m\u001b[0m\u001b[0;34m\u001b[0m\u001b[0m\n\u001b[0m\u001b[1;32m      5\u001b[0m \u001b[0;34m\u001b[0m\u001b[0m\n\u001b[1;32m      6\u001b[0m \u001b[0mepsilon\u001b[0m \u001b[0;34m=\u001b[0m \u001b[0;36m5\u001b[0m\u001b[0;34m\u001b[0m\u001b[0;34m\u001b[0m\u001b[0m\n",
      "\u001b[0;32m/opt/anaconda/lib/python3.7/site-packages/numpy/core/fromnumeric.py\u001b[0m in \u001b[0;36msum\u001b[0;34m(a, axis, dtype, out, keepdims, initial)\u001b[0m\n\u001b[1;32m   1928\u001b[0m \u001b[0;34m\u001b[0m\u001b[0m\n\u001b[1;32m   1929\u001b[0m     return _wrapreduction(a, np.add, 'sum', axis, dtype, out, keepdims=keepdims,\n\u001b[0;32m-> 1930\u001b[0;31m                           initial=initial)\n\u001b[0m\u001b[1;32m   1931\u001b[0m \u001b[0;34m\u001b[0m\u001b[0m\n\u001b[1;32m   1932\u001b[0m \u001b[0;34m\u001b[0m\u001b[0m\n",
      "\u001b[0;32m/opt/anaconda/lib/python3.7/site-packages/numpy/core/fromnumeric.py\u001b[0m in \u001b[0;36m_wrapreduction\u001b[0;34m(obj, ufunc, method, axis, dtype, out, **kwargs)\u001b[0m\n\u001b[1;32m     68\u001b[0m             \u001b[0mpasskwargs\u001b[0m\u001b[0;34m[\u001b[0m\u001b[0mk\u001b[0m\u001b[0;34m]\u001b[0m \u001b[0;34m=\u001b[0m \u001b[0mv\u001b[0m\u001b[0;34m\u001b[0m\u001b[0;34m\u001b[0m\u001b[0m\n\u001b[1;32m     69\u001b[0m \u001b[0;34m\u001b[0m\u001b[0m\n\u001b[0;32m---> 70\u001b[0;31m     \u001b[0;32mif\u001b[0m \u001b[0mtype\u001b[0m\u001b[0;34m(\u001b[0m\u001b[0mobj\u001b[0m\u001b[0;34m)\u001b[0m \u001b[0;32mis\u001b[0m \u001b[0;32mnot\u001b[0m \u001b[0mmu\u001b[0m\u001b[0;34m.\u001b[0m\u001b[0mndarray\u001b[0m\u001b[0;34m:\u001b[0m\u001b[0;34m\u001b[0m\u001b[0;34m\u001b[0m\u001b[0m\n\u001b[0m\u001b[1;32m     71\u001b[0m         \u001b[0;32mtry\u001b[0m\u001b[0;34m:\u001b[0m\u001b[0;34m\u001b[0m\u001b[0;34m\u001b[0m\u001b[0m\n\u001b[1;32m     72\u001b[0m             \u001b[0mreduction\u001b[0m \u001b[0;34m=\u001b[0m \u001b[0mgetattr\u001b[0m\u001b[0;34m(\u001b[0m\u001b[0mobj\u001b[0m\u001b[0;34m,\u001b[0m \u001b[0mmethod\u001b[0m\u001b[0;34m)\u001b[0m\u001b[0;34m\u001b[0m\u001b[0;34m\u001b[0m\u001b[0m\n",
      "\u001b[0;31mKeyboardInterrupt\u001b[0m: "
     ]
    }
   ],
   "source": [
    "current_point = np.copy(original)\n",
    "\n",
    "zeros = np.zeros([n,n])\n",
    "current_point[boolMask] = zeros[boolMask]\n",
    "\n",
    "print(\"step, nuc norm, frob distance, hessian cond\")#, grad mean, grad std, grad min, grad max\")\n",
    "nuc_norms = []\n",
    "frob_norms = []\n",
    "conds = []\n",
    "\n",
    "for step in range(10000):\n",
    "\n",
    "    hessian = comp_hessian(current_point, boolMask, obj_func, n)\n",
    "    grad = comp_grad(current_point, boolMask, obj_func, n)\n",
    "\n",
    "    #descent = -np.dot(np.linalg.inv(hessian), grad)\n",
    "    descent = -np.array(grad)\n",
    "    \n",
    "    descent_matrix = np.zeros([n,n])\n",
    "    count = 0\n",
    "    for i in range(n):\n",
    "        for j in range(n):\n",
    "            if boolMask[i,j]:\n",
    "                descent_matrix[i,j] = descent[count]\n",
    "                count = count + 1\n",
    "    \n",
    "    current_point = current_point + 0.1*descent_matrix\n",
    "    \n",
    "    nuc_norms.append(np.linalg.norm(current_point,'nuc'))\n",
    "    frob_norms.append(np.linalg.norm(current_point-original,'fro'))\n",
    "    conds.append(np.linalg.cond(hessian))\n",
    "    \n",
    "    if step % 20 == 0:\n",
    "        print(step, np.linalg.norm(current_point,'nuc'), np.linalg.norm(current_point-original,'fro'),\n",
    "              np.linalg.cond(hessian))#, np.mean(np.abs(grad)),\n",
    "             # np.std(np.abs(grad)), np.min(np.abs(grad)), np.max(np.abs(grad)))\n",
    "    "
   ]
  },
  {
   "cell_type": "code",
   "execution_count": 5,
   "metadata": {},
   "outputs": [
    {
     "data": {
      "text/plain": [
       "[<matplotlib.lines.Line2D at 0x7f3cc4456240>]"
      ]
     },
     "execution_count": 5,
     "metadata": {},
     "output_type": "execute_result"
    },
    {
     "data": {
      "image/png": "[encoded data removed]",
      "text/plain": [
       "<Figure size 432x288 with 1 Axes>"
      ]
     },
     "metadata": {
      "needs_background": "light"
     },
     "output_type": "display_data"
    }
   ],
   "source": [
    "plt.plot(nuc_norms)"
   ]
  },
  {
   "cell_type": "code",
   "execution_count": 6,
   "metadata": {},
   "outputs": [
    {
     "data": {
      "text/plain": [
       "[<matplotlib.lines.Line2D at 0x7f3cc4474588>]"
      ]
     },
     "execution_count": 6,
     "metadata": {},
     "output_type": "execute_result"
    },
    {
     "data": {
      "image/png": "[encoded data removed]",
      "text/plain": [
       "<Figure size 432x288 with 1 Axes>"
      ]
     },
     "metadata": {
      "needs_background": "light"
     },
     "output_type": "display_data"
    }
   ],
   "source": [
    "plt.plot(frob_norms)"
   ]
  },
  {
   "cell_type": "code",
   "execution_count": 7,
   "metadata": {},
   "outputs": [
    {
     "data": {
      "text/plain": [
       "[<matplotlib.lines.Line2D at 0x7f3cb8b36cc0>]"
      ]
     },
     "execution_count": 7,
     "metadata": {},
     "output_type": "execute_result"
    },
    {
     "data": {
      "image/png": "[encoded data removed]",
      "text/plain": [
       "<Figure size 432x288 with 1 Axes>"
      ]
     },
     "metadata": {
      "needs_background": "light"
     },
     "output_type": "display_data"
    }
   ],
   "source": [
    "plt.plot(conds)"
   ]
  },
  {
   "cell_type": "code",
   "execution_count": 8,
   "metadata": {},
   "outputs": [
    {
     "data": {
      "text/plain": [
       "(array([17.,  6.,  5.,  6.,  4.,  5.,  4.,  4.,  4.,  5.,  3.,  4.,  3.,\n",
       "         3.,  4.,  3.,  3.,  3.,  3.,  4.,  3.,  3.,  3.,  3.,  3.,  3.,\n",
       "         3.,  4.,  3.,  3.,  3.,  4.,  1.,  0.,  1.,  1.,  1.,  0.,  1.,\n",
       "         1.,  1.,  0.,  1.,  1.,  0.,  1.,  1.,  0.,  1.,  1.,  0.,  1.,\n",
       "         1.,  0.,  1.,  0.,  1.,  0.,  1.,  1.,  0.,  1.,  0.,  1.,  0.,\n",
       "         1.,  0.,  1.,  0.,  0.,  1.,  0.,  1.,  0.,  1.,  0.,  1.,  0.,\n",
       "         0.,  1.,  0.,  1.,  0.,  0.,  1.,  0.,  1.,  0.,  0.,  1.,  0.,\n",
       "         1.,  0.,  0.,  1.,  0.,  0.,  1.,  0.,  1.]),\n",
       " array([2.43499085, 2.46309486, 2.49119888, 2.51930289, 2.5474069 ,\n",
       "        2.57551092, 2.60361493, 2.63171894, 2.65982296, 2.68792697,\n",
       "        2.71603098, 2.744135  , 2.77223901, 2.80034302, 2.82844704,\n",
       "        2.85655105, 2.88465507, 2.91275908, 2.94086309, 2.96896711,\n",
       "        2.99707112, 3.02517513, 3.05327915, 3.08138316, 3.10948717,\n",
       "        3.13759119, 3.1656952 , 3.19379921, 3.22190323, 3.25000724,\n",
       "        3.27811125, 3.30621527, 3.33431928, 3.3624233 , 3.39052731,\n",
       "        3.41863132, 3.44673534, 3.47483935, 3.50294336, 3.53104738,\n",
       "        3.55915139, 3.5872554 , 3.61535942, 3.64346343, 3.67156744,\n",
       "        3.69967146, 3.72777547, 3.75587948, 3.7839835 , 3.81208751,\n",
       "        3.84019153, 3.86829554, 3.89639955, 3.92450357, 3.95260758,\n",
       "        3.98071159, 4.00881561, 4.03691962, 4.06502363, 4.09312765,\n",
       "        4.12123166, 4.14933567, 4.17743969, 4.2055437 , 4.23364771,\n",
       "        4.26175173, 4.28985574, 4.31795976, 4.34606377, 4.37416778,\n",
       "        4.4022718 , 4.43037581, 4.45847982, 4.48658384, 4.51468785,\n",
       "        4.54279186, 4.57089588, 4.59899989, 4.6271039 , 4.65520792,\n",
       "        4.68331193, 4.71141594, 4.73951996, 4.76762397, 4.79572799,\n",
       "        4.823832  , 4.85193601, 4.88004003, 4.90814404, 4.93624805,\n",
       "        4.96435207, 4.99245608, 5.02056009, 5.04866411, 5.07676812,\n",
       "        5.10487213, 5.13297615, 5.16108016, 5.18918417, 5.21728819,\n",
       "        5.2453922 ]),\n",
       " <a list of 100 Patch objects>)"
      ]
     },
     "execution_count": 8,
     "metadata": {},
     "output_type": "execute_result"
    },
    {
     "data": {
      "image/png": "[encoded data removed]",
      "text/plain": [
       "<Figure size 432x288 with 1 Axes>"
      ]
     },
     "metadata": {
      "needs_background": "light"
     },
     "output_type": "display_data"
    }
   ],
   "source": [
    "plt.hist(conds,100)"
   ]
  },
  {
   "cell_type": "code",
   "execution_count": null,
   "metadata": {},
   "outputs": [],
   "source": []
  }
 ],
 "metadata": {
  "kernelspec": {
   "display_name": "Python 3",
   "language": "python",
   "name": "python3"
  },
  "language_info": {
   "codemirror_mode": {
    "name": "ipython",
    "version": 3
   },
   "file_extension": ".py",
   "mimetype": "text/x-python",
   "name": "python",
   "nbconvert_exporter": "python",
   "pygments_lexer": "ipython3",
   "version": "3.7.1"
  }
 },
 "nbformat": 4,
 "nbformat_minor": 2
}
